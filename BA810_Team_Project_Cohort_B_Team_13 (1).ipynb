{
  "nbformat": 4,
  "nbformat_minor": 0,
  "metadata": {
    "colab": {
      "provenance": [],
      "collapsed_sections": [
        "yY5LKhE1YBRE"
      ]
    },
    "kernelspec": {
      "name": "python3",
      "display_name": "Python 3"
    },
    "language_info": {
      "name": "python"
    }
  },
  "cells": [
    {
      "cell_type": "markdown",
      "source": [
        "#**Business Process Improvement: SBA Loan Charge-Off Analysis**\n",
        "BA810: Supervised Machine Learning\n",
        "<br>\n",
        "Professor Nachiketa Sahoo\n",
        "<br>\n",
        "Cohort B Team 13\n",
        "<br>\n",
        "Team Members: Boyuan (Daniel) Zhang, Yutao Luo, Yen-Chun (Albert) Chen, Xinyuan (Klaus) Xu\n",
        "***"
      ],
      "metadata": {
        "id": "LOO1EP7bZz1s"
      }
    },
    {
      "cell_type": "markdown",
      "source": [
        "##**1. Problem Definition**"
      ],
      "metadata": {
        "id": "2Ltq0mMQvehW"
      }
    },
    {
      "cell_type": "markdown",
      "source": [
        "###**1.1 Background Information**\n",
        "\n",
        "According to the annual report from the United States Census Bureau, **Small Business Administration (SBA)** classifies small businesses as entities with annual revenue ranging from \\$1 million to \\$40 million, and a number of hired employees ranging from 100 to over 1,500. Additionally, there are 32.5 million small businesses in the US, and the number is quickly growing in the nowadays post-pandemic time. Based on the public information on SBA official website, small business owners apply for loans through banks or credit unions (lending partners) to advance their business, and the lending partners then apply to SBA for a loan guarantee. Therefore, in case of loans defaulting for various reasons, the SBA will pay back their partners instead of letting them be exposed to such defaulting risk."
      ],
      "metadata": {
        "id": "YVempUH5vfJs"
      }
    },
    {
      "cell_type": "markdown",
      "source": [
        "###**1.2 Project Goal**\n",
        "Based on a survey done by the Federal Reserve Bank, 54% of US small businesses applied for a loan or a line of credit in 2018. According to Kevin Voigt and Caren Weiner Campbell's article on nerdwallet, 17.4% of SBA-guaranteed loans from 2006 to 2015 went to default. Therefore, in our project, we aim at improving the process of loan lending from SBA's perspective. We try to build predictive models using variables that a lending partners might need to provide to the SBA about the businesses themselves. **Our goal is to predict whether a SBA-backed loan to a US small business will be paid in full or charged-off using selected data, compare prediction results across different models, and make recommendations to the SBA about updating their existing model on choosing which loans to guarantee on.**\n"
      ],
      "metadata": {
        "id": "ZWchUNfczA7b"
      }
    },
    {
      "cell_type": "markdown",
      "source": [
        "###**1.3 Intended Audience**\n",
        "The audience who place the most significant value on this analysis should be the SBA. Although we are aware that SBA probably have certain predictive models that detect whether an outgoing loan is going to default, we are trying to build models that could potentially be used in **both government entities and commerical banks**, or any entity that has a lending process with data gathering capabilities.\n",
        "***"
      ],
      "metadata": {
        "id": "NHXUOzVv26su"
      }
    },
    {
      "cell_type": "markdown",
      "source": [
        "##**2. Data Preparation**"
      ],
      "metadata": {
        "id": "j_bpfrVq4mOZ"
      }
    },
    {
      "cell_type": "markdown",
      "source": [
        "###**2.1 Data Source**\n",
        "**Raw Data:**\n",
        "<br>\n",
        "The raw data is from U.S. Small Business Administration Open Data (public): \n",
        "<br>\n",
        "__[U.S. Small Business Administration (SBA) | Open Data Statistics](https://data.sba.gov/dataset/sba-public-datasets)__\n",
        "\n",
        "**Modified Data:**\n",
        "<br>\n",
        "The data we analyzed in this project was modified by Mirbek Toktogaraev, a Junior Data Analyst at Ubiqum Code Academy (Madrid, Spain.) The processed data is accessable on Kaggle.com. \n",
        "<br>\n",
        "__[Should This Loan be Approved or Denied? -by Mirbek Toktogaraev](https://www.kaggle.com/datasets/mirbektoktogaraev/should-this-loan-be-approved-or-denied?datasetId=558648&sortBy=voteCount)__\n"
      ],
      "metadata": {
        "id": "_tArvLxl4tU4"
      }
    },
    {
      "cell_type": "markdown",
      "source": [
        "###**2.2 Data Loading**"
      ],
      "metadata": {
        "id": "D4D_MkEdaHy6"
      }
    },
    {
      "cell_type": "code",
      "execution_count": null,
      "metadata": {
        "id": "mRFMaYpT1zlB",
        "colab": {
          "base_uri": "https://localhost:8080/"
        },
        "outputId": "3f19ec96-1b3a-48c0-f604-f91c2d21c2fd"
      },
      "outputs": [
        {
          "output_type": "stream",
          "name": "stdout",
          "text": [
            "Mounted at /content/drive\n"
          ]
        }
      ],
      "source": [
        "# Mount Google Drive.\n",
        "from google.colab import drive\n",
        "drive.mount('/content/drive')"
      ]
    },
    {
      "cell_type": "code",
      "source": [
        "# Load data from Google Drive as raw data.\n",
        "import pandas as pd\n",
        "raw_data = pd.read_csv('/content/drive/My Drive/BA810/Project/SBAnational.csv')\n",
        "\n",
        "# Show the first 10 rows of raw data\n",
        "pd.set_option('display.max_columns', None) # Showing all columns.\n",
        "raw_data.head()"
      ],
      "metadata": {
        "id": "V041dPnQ13FY",
        "colab": {
          "base_uri": "https://localhost:8080/",
          "height": 549
        },
        "outputId": "f48f5c4c-0005-41d5-e45d-94c9026a0c21"
      },
      "execution_count": null,
      "outputs": [
        {
          "output_type": "stream",
          "name": "stderr",
          "text": [
            "/usr/local/lib/python3.8/dist-packages/IPython/core/interactiveshell.py:3326: DtypeWarning: Columns (9) have mixed types.Specify dtype option on import or set low_memory=False.\n",
            "  exec(code_obj, self.user_global_ns, self.user_ns)\n"
          ]
        },
        {
          "output_type": "execute_result",
          "data": {
            "text/plain": [
              "   LoanNr_ChkDgt                           Name          City State    Zip  \\\n",
              "0     1000014003                 ABC HOBBYCRAFT    EVANSVILLE    IN  47711   \n",
              "1     1000024006    LANDMARK BAR & GRILLE (THE)     NEW PARIS    IN  46526   \n",
              "2     1000034009          WHITLOCK DDS, TODD M.   BLOOMINGTON    IN  47401   \n",
              "3     1000044001  BIG BUCKS PAWN & JEWELRY, LLC  BROKEN ARROW    OK  74012   \n",
              "4     1000054004    ANASTASIA CONFECTIONS, INC.       ORLANDO    FL  32801   \n",
              "\n",
              "                            Bank BankState   NAICS ApprovalDate ApprovalFY  \\\n",
              "0               FIFTH THIRD BANK        OH  451120    28-Feb-97       1997   \n",
              "1                1ST SOURCE BANK        IN  722410    28-Feb-97       1997   \n",
              "2        GRANT COUNTY STATE BANK        IN  621210    28-Feb-97       1997   \n",
              "3  1ST NATL BK & TR CO OF BROKEN        OK       0    28-Feb-97       1997   \n",
              "4        FLORIDA BUS. DEVEL CORP        FL       0    28-Feb-97       1997   \n",
              "\n",
              "   Term  NoEmp  NewExist  CreateJob  RetainedJob  FranchiseCode  UrbanRural  \\\n",
              "0    84      4       2.0          0            0              1           0   \n",
              "1    60      2       2.0          0            0              1           0   \n",
              "2   180      7       1.0          0            0              1           0   \n",
              "3    60      2       1.0          0            0              1           0   \n",
              "4   240     14       1.0          7            7              1           0   \n",
              "\n",
              "  RevLineCr LowDoc ChgOffDate DisbursementDate DisbursementGross BalanceGross  \\\n",
              "0         N      Y        NaN        28-Feb-99       $60,000.00        $0.00    \n",
              "1         N      Y        NaN        31-May-97       $40,000.00        $0.00    \n",
              "2         N      N        NaN        31-Dec-97      $287,000.00        $0.00    \n",
              "3         N      Y        NaN        30-Jun-97       $35,000.00        $0.00    \n",
              "4         N      N        NaN        14-May-97      $229,000.00        $0.00    \n",
              "\n",
              "  MIS_Status ChgOffPrinGr        GrAppv      SBA_Appv  \n",
              "0      P I F       $0.00    $60,000.00    $48,000.00   \n",
              "1      P I F       $0.00    $40,000.00    $32,000.00   \n",
              "2      P I F       $0.00   $287,000.00   $215,250.00   \n",
              "3      P I F       $0.00    $35,000.00    $28,000.00   \n",
              "4      P I F       $0.00   $229,000.00   $229,000.00   "
            ],
            "text/html": [
              "\n",
              "  <div id=\"df-4dc302db-8d53-45c2-9991-26439ec23720\">\n",
              "    <div class=\"colab-df-container\">\n",
              "      <div>\n",
              "<style scoped>\n",
              "    .dataframe tbody tr th:only-of-type {\n",
              "        vertical-align: middle;\n",
              "    }\n",
              "\n",
              "    .dataframe tbody tr th {\n",
              "        vertical-align: top;\n",
              "    }\n",
              "\n",
              "    .dataframe thead th {\n",
              "        text-align: right;\n",
              "    }\n",
              "</style>\n",
              "<table border=\"1\" class=\"dataframe\">\n",
              "  <thead>\n",
              "    <tr style=\"text-align: right;\">\n",
              "      <th></th>\n",
              "      <th>LoanNr_ChkDgt</th>\n",
              "      <th>Name</th>\n",
              "      <th>City</th>\n",
              "      <th>State</th>\n",
              "      <th>Zip</th>\n",
              "      <th>Bank</th>\n",
              "      <th>BankState</th>\n",
              "      <th>NAICS</th>\n",
              "      <th>ApprovalDate</th>\n",
              "      <th>ApprovalFY</th>\n",
              "      <th>Term</th>\n",
              "      <th>NoEmp</th>\n",
              "      <th>NewExist</th>\n",
              "      <th>CreateJob</th>\n",
              "      <th>RetainedJob</th>\n",
              "      <th>FranchiseCode</th>\n",
              "      <th>UrbanRural</th>\n",
              "      <th>RevLineCr</th>\n",
              "      <th>LowDoc</th>\n",
              "      <th>ChgOffDate</th>\n",
              "      <th>DisbursementDate</th>\n",
              "      <th>DisbursementGross</th>\n",
              "      <th>BalanceGross</th>\n",
              "      <th>MIS_Status</th>\n",
              "      <th>ChgOffPrinGr</th>\n",
              "      <th>GrAppv</th>\n",
              "      <th>SBA_Appv</th>\n",
              "    </tr>\n",
              "  </thead>\n",
              "  <tbody>\n",
              "    <tr>\n",
              "      <th>0</th>\n",
              "      <td>1000014003</td>\n",
              "      <td>ABC HOBBYCRAFT</td>\n",
              "      <td>EVANSVILLE</td>\n",
              "      <td>IN</td>\n",
              "      <td>47711</td>\n",
              "      <td>FIFTH THIRD BANK</td>\n",
              "      <td>OH</td>\n",
              "      <td>451120</td>\n",
              "      <td>28-Feb-97</td>\n",
              "      <td>1997</td>\n",
              "      <td>84</td>\n",
              "      <td>4</td>\n",
              "      <td>2.0</td>\n",
              "      <td>0</td>\n",
              "      <td>0</td>\n",
              "      <td>1</td>\n",
              "      <td>0</td>\n",
              "      <td>N</td>\n",
              "      <td>Y</td>\n",
              "      <td>NaN</td>\n",
              "      <td>28-Feb-99</td>\n",
              "      <td>$60,000.00</td>\n",
              "      <td>$0.00</td>\n",
              "      <td>P I F</td>\n",
              "      <td>$0.00</td>\n",
              "      <td>$60,000.00</td>\n",
              "      <td>$48,000.00</td>\n",
              "    </tr>\n",
              "    <tr>\n",
              "      <th>1</th>\n",
              "      <td>1000024006</td>\n",
              "      <td>LANDMARK BAR &amp; GRILLE (THE)</td>\n",
              "      <td>NEW PARIS</td>\n",
              "      <td>IN</td>\n",
              "      <td>46526</td>\n",
              "      <td>1ST SOURCE BANK</td>\n",
              "      <td>IN</td>\n",
              "      <td>722410</td>\n",
              "      <td>28-Feb-97</td>\n",
              "      <td>1997</td>\n",
              "      <td>60</td>\n",
              "      <td>2</td>\n",
              "      <td>2.0</td>\n",
              "      <td>0</td>\n",
              "      <td>0</td>\n",
              "      <td>1</td>\n",
              "      <td>0</td>\n",
              "      <td>N</td>\n",
              "      <td>Y</td>\n",
              "      <td>NaN</td>\n",
              "      <td>31-May-97</td>\n",
              "      <td>$40,000.00</td>\n",
              "      <td>$0.00</td>\n",
              "      <td>P I F</td>\n",
              "      <td>$0.00</td>\n",
              "      <td>$40,000.00</td>\n",
              "      <td>$32,000.00</td>\n",
              "    </tr>\n",
              "    <tr>\n",
              "      <th>2</th>\n",
              "      <td>1000034009</td>\n",
              "      <td>WHITLOCK DDS, TODD M.</td>\n",
              "      <td>BLOOMINGTON</td>\n",
              "      <td>IN</td>\n",
              "      <td>47401</td>\n",
              "      <td>GRANT COUNTY STATE BANK</td>\n",
              "      <td>IN</td>\n",
              "      <td>621210</td>\n",
              "      <td>28-Feb-97</td>\n",
              "      <td>1997</td>\n",
              "      <td>180</td>\n",
              "      <td>7</td>\n",
              "      <td>1.0</td>\n",
              "      <td>0</td>\n",
              "      <td>0</td>\n",
              "      <td>1</td>\n",
              "      <td>0</td>\n",
              "      <td>N</td>\n",
              "      <td>N</td>\n",
              "      <td>NaN</td>\n",
              "      <td>31-Dec-97</td>\n",
              "      <td>$287,000.00</td>\n",
              "      <td>$0.00</td>\n",
              "      <td>P I F</td>\n",
              "      <td>$0.00</td>\n",
              "      <td>$287,000.00</td>\n",
              "      <td>$215,250.00</td>\n",
              "    </tr>\n",
              "    <tr>\n",
              "      <th>3</th>\n",
              "      <td>1000044001</td>\n",
              "      <td>BIG BUCKS PAWN &amp; JEWELRY, LLC</td>\n",
              "      <td>BROKEN ARROW</td>\n",
              "      <td>OK</td>\n",
              "      <td>74012</td>\n",
              "      <td>1ST NATL BK &amp; TR CO OF BROKEN</td>\n",
              "      <td>OK</td>\n",
              "      <td>0</td>\n",
              "      <td>28-Feb-97</td>\n",
              "      <td>1997</td>\n",
              "      <td>60</td>\n",
              "      <td>2</td>\n",
              "      <td>1.0</td>\n",
              "      <td>0</td>\n",
              "      <td>0</td>\n",
              "      <td>1</td>\n",
              "      <td>0</td>\n",
              "      <td>N</td>\n",
              "      <td>Y</td>\n",
              "      <td>NaN</td>\n",
              "      <td>30-Jun-97</td>\n",
              "      <td>$35,000.00</td>\n",
              "      <td>$0.00</td>\n",
              "      <td>P I F</td>\n",
              "      <td>$0.00</td>\n",
              "      <td>$35,000.00</td>\n",
              "      <td>$28,000.00</td>\n",
              "    </tr>\n",
              "    <tr>\n",
              "      <th>4</th>\n",
              "      <td>1000054004</td>\n",
              "      <td>ANASTASIA CONFECTIONS, INC.</td>\n",
              "      <td>ORLANDO</td>\n",
              "      <td>FL</td>\n",
              "      <td>32801</td>\n",
              "      <td>FLORIDA BUS. DEVEL CORP</td>\n",
              "      <td>FL</td>\n",
              "      <td>0</td>\n",
              "      <td>28-Feb-97</td>\n",
              "      <td>1997</td>\n",
              "      <td>240</td>\n",
              "      <td>14</td>\n",
              "      <td>1.0</td>\n",
              "      <td>7</td>\n",
              "      <td>7</td>\n",
              "      <td>1</td>\n",
              "      <td>0</td>\n",
              "      <td>N</td>\n",
              "      <td>N</td>\n",
              "      <td>NaN</td>\n",
              "      <td>14-May-97</td>\n",
              "      <td>$229,000.00</td>\n",
              "      <td>$0.00</td>\n",
              "      <td>P I F</td>\n",
              "      <td>$0.00</td>\n",
              "      <td>$229,000.00</td>\n",
              "      <td>$229,000.00</td>\n",
              "    </tr>\n",
              "  </tbody>\n",
              "</table>\n",
              "</div>\n",
              "      <button class=\"colab-df-convert\" onclick=\"convertToInteractive('df-4dc302db-8d53-45c2-9991-26439ec23720')\"\n",
              "              title=\"Convert this dataframe to an interactive table.\"\n",
              "              style=\"display:none;\">\n",
              "        \n",
              "  <svg xmlns=\"http://www.w3.org/2000/svg\" height=\"24px\"viewBox=\"0 0 24 24\"\n",
              "       width=\"24px\">\n",
              "    <path d=\"M0 0h24v24H0V0z\" fill=\"none\"/>\n",
              "    <path d=\"M18.56 5.44l.94 2.06.94-2.06 2.06-.94-2.06-.94-.94-2.06-.94 2.06-2.06.94zm-11 1L8.5 8.5l.94-2.06 2.06-.94-2.06-.94L8.5 2.5l-.94 2.06-2.06.94zm10 10l.94 2.06.94-2.06 2.06-.94-2.06-.94-.94-2.06-.94 2.06-2.06.94z\"/><path d=\"M17.41 7.96l-1.37-1.37c-.4-.4-.92-.59-1.43-.59-.52 0-1.04.2-1.43.59L10.3 9.45l-7.72 7.72c-.78.78-.78 2.05 0 2.83L4 21.41c.39.39.9.59 1.41.59.51 0 1.02-.2 1.41-.59l7.78-7.78 2.81-2.81c.8-.78.8-2.07 0-2.86zM5.41 20L4 18.59l7.72-7.72 1.47 1.35L5.41 20z\"/>\n",
              "  </svg>\n",
              "      </button>\n",
              "      \n",
              "  <style>\n",
              "    .colab-df-container {\n",
              "      display:flex;\n",
              "      flex-wrap:wrap;\n",
              "      gap: 12px;\n",
              "    }\n",
              "\n",
              "    .colab-df-convert {\n",
              "      background-color: #E8F0FE;\n",
              "      border: none;\n",
              "      border-radius: 50%;\n",
              "      cursor: pointer;\n",
              "      display: none;\n",
              "      fill: #1967D2;\n",
              "      height: 32px;\n",
              "      padding: 0 0 0 0;\n",
              "      width: 32px;\n",
              "    }\n",
              "\n",
              "    .colab-df-convert:hover {\n",
              "      background-color: #E2EBFA;\n",
              "      box-shadow: 0px 1px 2px rgba(60, 64, 67, 0.3), 0px 1px 3px 1px rgba(60, 64, 67, 0.15);\n",
              "      fill: #174EA6;\n",
              "    }\n",
              "\n",
              "    [theme=dark] .colab-df-convert {\n",
              "      background-color: #3B4455;\n",
              "      fill: #D2E3FC;\n",
              "    }\n",
              "\n",
              "    [theme=dark] .colab-df-convert:hover {\n",
              "      background-color: #434B5C;\n",
              "      box-shadow: 0px 1px 3px 1px rgba(0, 0, 0, 0.15);\n",
              "      filter: drop-shadow(0px 1px 2px rgba(0, 0, 0, 0.3));\n",
              "      fill: #FFFFFF;\n",
              "    }\n",
              "  </style>\n",
              "\n",
              "      <script>\n",
              "        const buttonEl =\n",
              "          document.querySelector('#df-4dc302db-8d53-45c2-9991-26439ec23720 button.colab-df-convert');\n",
              "        buttonEl.style.display =\n",
              "          google.colab.kernel.accessAllowed ? 'block' : 'none';\n",
              "\n",
              "        async function convertToInteractive(key) {\n",
              "          const element = document.querySelector('#df-4dc302db-8d53-45c2-9991-26439ec23720');\n",
              "          const dataTable =\n",
              "            await google.colab.kernel.invokeFunction('convertToInteractive',\n",
              "                                                     [key], {});\n",
              "          if (!dataTable) return;\n",
              "\n",
              "          const docLinkHtml = 'Like what you see? Visit the ' +\n",
              "            '<a target=\"_blank\" href=https://colab.research.google.com/notebooks/data_table.ipynb>data table notebook</a>'\n",
              "            + ' to learn more about interactive tables.';\n",
              "          element.innerHTML = '';\n",
              "          dataTable['output_type'] = 'display_data';\n",
              "          await google.colab.output.renderOutput(dataTable, element);\n",
              "          const docLink = document.createElement('div');\n",
              "          docLink.innerHTML = docLinkHtml;\n",
              "          element.appendChild(docLink);\n",
              "        }\n",
              "      </script>\n",
              "    </div>\n",
              "  </div>\n",
              "  "
            ]
          },
          "metadata": {},
          "execution_count": 2
        }
      ]
    },
    {
      "cell_type": "code",
      "source": [
        "# Display the raw data information.\n",
        "raw_data.info()"
      ],
      "metadata": {
        "id": "bnAjzcxU2CLe",
        "colab": {
          "base_uri": "https://localhost:8080/"
        },
        "outputId": "4b00a861-e7c7-47b1-8c81-6fff36fbe311"
      },
      "execution_count": null,
      "outputs": [
        {
          "output_type": "stream",
          "name": "stdout",
          "text": [
            "<class 'pandas.core.frame.DataFrame'>\n",
            "RangeIndex: 899164 entries, 0 to 899163\n",
            "Data columns (total 27 columns):\n",
            " #   Column             Non-Null Count   Dtype  \n",
            "---  ------             --------------   -----  \n",
            " 0   LoanNr_ChkDgt      899164 non-null  int64  \n",
            " 1   Name               899150 non-null  object \n",
            " 2   City               899134 non-null  object \n",
            " 3   State              899150 non-null  object \n",
            " 4   Zip                899164 non-null  int64  \n",
            " 5   Bank               897605 non-null  object \n",
            " 6   BankState          897598 non-null  object \n",
            " 7   NAICS              899164 non-null  int64  \n",
            " 8   ApprovalDate       899164 non-null  object \n",
            " 9   ApprovalFY         899164 non-null  object \n",
            " 10  Term               899164 non-null  int64  \n",
            " 11  NoEmp              899164 non-null  int64  \n",
            " 12  NewExist           899028 non-null  float64\n",
            " 13  CreateJob          899164 non-null  int64  \n",
            " 14  RetainedJob        899164 non-null  int64  \n",
            " 15  FranchiseCode      899164 non-null  int64  \n",
            " 16  UrbanRural         899164 non-null  int64  \n",
            " 17  RevLineCr          894636 non-null  object \n",
            " 18  LowDoc             896582 non-null  object \n",
            " 19  ChgOffDate         162699 non-null  object \n",
            " 20  DisbursementDate   896796 non-null  object \n",
            " 21  DisbursementGross  899164 non-null  object \n",
            " 22  BalanceGross       899164 non-null  object \n",
            " 23  MIS_Status         897167 non-null  object \n",
            " 24  ChgOffPrinGr       899164 non-null  object \n",
            " 25  GrAppv             899164 non-null  object \n",
            " 26  SBA_Appv           899164 non-null  object \n",
            "dtypes: float64(1), int64(9), object(17)\n",
            "memory usage: 185.2+ MB\n"
          ]
        }
      ]
    },
    {
      "cell_type": "markdown",
      "source": [
        "###**2.3 Data Cleaning**"
      ],
      "metadata": {
        "id": "_fD1no_scEM9"
      }
    },
    {
      "cell_type": "code",
      "source": [
        "# Start by dropping borrower & bank's basic information(\"Name\", \"City\", \"Zip\", etc) since our analysis consider them to be less relevant.\n",
        "data = raw_data.drop(['LoanNr_ChkDgt', 'Name', 'City', 'Zip', 'Bank'], axis = 1) \n",
        "# Leavning \"State\" and \"BankState\" to check if borrower went to a bank in the state of their business.\n",
        "\n",
        "# Checking all null values in the remaining columns. \n",
        "data.isnull().sum()\n",
        "# Notice there are a large number of null values in \"ChgOffDate\", suggesting not all loans were charged-off. "
      ],
      "metadata": {
        "id": "TpDumG9j2E4L",
        "colab": {
          "base_uri": "https://localhost:8080/"
        },
        "outputId": "568cb3bc-bc5e-4f5f-cf18-87a957e6cce9"
      },
      "execution_count": null,
      "outputs": [
        {
          "output_type": "execute_result",
          "data": {
            "text/plain": [
              "State                    14\n",
              "BankState              1566\n",
              "NAICS                     0\n",
              "ApprovalDate              0\n",
              "ApprovalFY                0\n",
              "Term                      0\n",
              "NoEmp                     0\n",
              "NewExist                136\n",
              "CreateJob                 0\n",
              "RetainedJob               0\n",
              "FranchiseCode             0\n",
              "UrbanRural                0\n",
              "RevLineCr              4528\n",
              "LowDoc                 2582\n",
              "ChgOffDate           736465\n",
              "DisbursementDate       2368\n",
              "DisbursementGross         0\n",
              "BalanceGross              0\n",
              "MIS_Status             1997\n",
              "ChgOffPrinGr              0\n",
              "GrAppv                    0\n",
              "SBA_Appv                  0\n",
              "dtype: int64"
            ]
          },
          "metadata": {},
          "execution_count": 4
        }
      ]
    },
    {
      "cell_type": "code",
      "source": [
        "# Drop the null values in selected columns. \n",
        "data.dropna(subset = ['State', 'BankState', 'NewExist', 'RevLineCr', 'LowDoc', 'DisbursementDate', 'MIS_Status'], inplace = True) \n",
        "# Note: drop null values in \"DisbursementDate\" since we can not analyze loans that were never disbursed.\n",
        "\n",
        "# Drop \"ChgOffDate\" and \"ChgOffPrinGr\" since once we use these columns, \n",
        "# they would definitely have an one-on-one effect on predicting \"MIS_Status\".\n",
        "# This is very important for later analysis to function. \n",
        "data.drop(columns = [\"ChgOffDate\", \"ChgOffPrinGr\"], inplace = True) \n",
        "\n",
        "# Re-check for null values.\n",
        "data.isnull().sum()"
      ],
      "metadata": {
        "id": "HjDZIPEZ2JU1",
        "colab": {
          "base_uri": "https://localhost:8080/"
        },
        "outputId": "c24f1be4-2840-4bd5-fd39-06c683528aec"
      },
      "execution_count": null,
      "outputs": [
        {
          "output_type": "execute_result",
          "data": {
            "text/plain": [
              "State                0\n",
              "BankState            0\n",
              "NAICS                0\n",
              "ApprovalDate         0\n",
              "ApprovalFY           0\n",
              "Term                 0\n",
              "NoEmp                0\n",
              "NewExist             0\n",
              "CreateJob            0\n",
              "RetainedJob          0\n",
              "FranchiseCode        0\n",
              "UrbanRural           0\n",
              "RevLineCr            0\n",
              "LowDoc               0\n",
              "DisbursementDate     0\n",
              "DisbursementGross    0\n",
              "BalanceGross         0\n",
              "MIS_Status           0\n",
              "GrAppv               0\n",
              "SBA_Appv             0\n",
              "dtype: int64"
            ]
          },
          "metadata": {},
          "execution_count": 5
        }
      ]
    },
    {
      "cell_type": "code",
      "source": [
        "# Drop the \"ApprovalDate\" and \"'DisbursementDate\" columns since they have become obselete now. \n",
        "data.drop(columns = ['ApprovalDate', 'DisbursementDate'], inplace = True)"
      ],
      "metadata": {
        "id": "ayUvU8SK_8Im"
      },
      "execution_count": null,
      "outputs": []
    },
    {
      "cell_type": "code",
      "source": [
        "# Remove of the \"$\" sign in numerical variables and change the data type.\n",
        "data['DisbursementGross'] = data['DisbursementGross'].str.replace('$', '').str.replace(',', '').astype(float)\n",
        "data['BalanceGross'] = data['BalanceGross'].str.replace('$', '').str.replace(',', '').astype(float)\n",
        "data['GrAppv'] = data['GrAppv'].str.replace('$', '').str.replace(',', '').astype(float)\n",
        "data['SBA_Appv'] = data['SBA_Appv'].str.replace('$', '').str.replace(',', '').astype(float)"
      ],
      "metadata": {
        "id": "GqrXKqEa2S39",
        "colab": {
          "base_uri": "https://localhost:8080/"
        },
        "outputId": "ad0cda54-9a94-4ff6-f106-c012b3a36394"
      },
      "execution_count": null,
      "outputs": [
        {
          "output_type": "stream",
          "name": "stderr",
          "text": [
            "<ipython-input-7-ce91fb644fe3>:2: FutureWarning: The default value of regex will change from True to False in a future version. In addition, single character regular expressions will *not* be treated as literal strings when regex=True.\n",
            "  data['DisbursementGross'] = data['DisbursementGross'].str.replace('$', '').str.replace(',', '').astype(float)\n",
            "<ipython-input-7-ce91fb644fe3>:3: FutureWarning: The default value of regex will change from True to False in a future version. In addition, single character regular expressions will *not* be treated as literal strings when regex=True.\n",
            "  data['BalanceGross'] = data['BalanceGross'].str.replace('$', '').str.replace(',', '').astype(float)\n",
            "<ipython-input-7-ce91fb644fe3>:4: FutureWarning: The default value of regex will change from True to False in a future version. In addition, single character regular expressions will *not* be treated as literal strings when regex=True.\n",
            "  data['GrAppv'] = data['GrAppv'].str.replace('$', '').str.replace(',', '').astype(float)\n",
            "<ipython-input-7-ce91fb644fe3>:5: FutureWarning: The default value of regex will change from True to False in a future version. In addition, single character regular expressions will *not* be treated as literal strings when regex=True.\n",
            "  data['SBA_Appv'] = data['SBA_Appv'].str.replace('$', '').str.replace(',', '').astype(float)\n"
          ]
        }
      ]
    },
    {
      "cell_type": "code",
      "source": [
        "# Clean up the \"ApprovalFY\" column.\n",
        "def clean_str(x):\n",
        "    if isinstance(x, str):\n",
        "        return x.replace('A', '')\n",
        "    return x\n",
        "data['ApprovalFY'] = data['ApprovalFY'].apply(clean_str).astype('int64')"
      ],
      "metadata": {
        "id": "Q7fvy-0A2Vwk"
      },
      "execution_count": null,
      "outputs": []
    },
    {
      "cell_type": "code",
      "source": [
        "# Check the categorical variables and add new columns showing their values as 0 and 1.\n",
        "\n",
        "# Check unique values in \"NewExist\" column.\n",
        "import numpy as np\n",
        "data['NewExist'].unique()\n",
        "# Since new businesses have a value of 2 and existing with 1, \n",
        "#drop the 0 values in \"NewExist\" column since it does not make sense. \n",
        "data = data[data['NewExist'] >= 1] \n",
        "# Create a new column \"NewOrExist\" based on \"NewExist\" with values of 1 and 0. \n",
        "data['NewOrExist'] = np.where(data['NewExist'] == 2, 1, 0)\n",
        "\n",
        "# Create a new column \"StateSame\" to check if the borrower's state matches the issuer's (partner's) state \n",
        "data['StateSame'] = np.where(data['State'] == data['BankState'], 1, 0)\n",
        "\n",
        "# Create a new column \"FullDisbursed\" to check if the amount disbursed equals to the amount approved by the bank.\n",
        "data['FullDisbursed'] = np.where(data['DisbursementGross'] == data['GrAppv'], 1, 0)\n",
        "\n",
        "# Check the \"FranchiseCode\" column.\n",
        "data['FranchiseCode'].unique()\n",
        "# Change values larger or equal to 1 into Franchised.\n",
        "data['Franchised'] = np.where(data['FranchiseCode'] == 0, 0, 1)\n",
        "\n",
        "# Check the \"RevLineCr\" column. \n",
        "data['RevLineCr'].unique()\n",
        "# Leave only values of Yes and No.\n",
        "data = data[(data['RevLineCr'] == 'Y' ) | (data['RevLineCr'] == 'N')]\n",
        "data['RevLineCredit'] = np.where(data['RevLineCr'] == 'Y', 1, 0)\n",
        "\n",
        "# Check the \"LowDoc\" column.\n",
        "data['LowDoc'].unique()\n",
        "# Leave only values of Yes and No.\n",
        "data = data[(data['LowDoc'] == 'Y' ) | (data['LowDoc'] == 'N')]\n",
        "data['LowDocP'] = np.where(data['LowDoc'] == 'Y', 1, 0)\n",
        "\n",
        "# Check the unique values in \"MIS_Status\".\n",
        "data['MIS_Status'].unique()\n",
        "# Change the values of MIS_Status into 1 and 0, label its column: \"MIS\"\n",
        "data['MIS'] = np.where(data['MIS_Status'] == 'CHGOFF', 1, 0)"
      ],
      "metadata": {
        "id": "bXfv5MVv2Y7n",
        "colab": {
          "base_uri": "https://localhost:8080/"
        },
        "outputId": "e2aedda5-19a5-4198-c4c5-641c58e82da6"
      },
      "execution_count": null,
      "outputs": [
        {
          "output_type": "stream",
          "name": "stderr",
          "text": [
            "<ipython-input-9-3e3eb9c8a2df>:10: SettingWithCopyWarning: \n",
            "A value is trying to be set on a copy of a slice from a DataFrame.\n",
            "Try using .loc[row_indexer,col_indexer] = value instead\n",
            "\n",
            "See the caveats in the documentation: https://pandas.pydata.org/pandas-docs/stable/user_guide/indexing.html#returning-a-view-versus-a-copy\n",
            "  data['NewOrExist'] = np.where(data['NewExist'] == 2, 1, 0)\n",
            "<ipython-input-9-3e3eb9c8a2df>:27: SettingWithCopyWarning: \n",
            "A value is trying to be set on a copy of a slice from a DataFrame.\n",
            "Try using .loc[row_indexer,col_indexer] = value instead\n",
            "\n",
            "See the caveats in the documentation: https://pandas.pydata.org/pandas-docs/stable/user_guide/indexing.html#returning-a-view-versus-a-copy\n",
            "  data['RevLineCredit'] = np.where(data['RevLineCr'] == 'Y', 1, 0)\n"
          ]
        }
      ]
    },
    {
      "cell_type": "code",
      "source": [
        "# Check the values in \"BalanceGross\" column\n",
        "print(data['BalanceGross'].value_counts())\n",
        "\n",
        "# Check the distribution in \"BalanceGross\" column\n",
        "import seaborn as sns\n",
        "sns.kdeplot(data = data, x = \"BalanceGross\", bw_adjust = 100, cut = 0)"
      ],
      "metadata": {
        "id": "Eu92hz0y2jJL",
        "colab": {
          "base_uri": "https://localhost:8080/",
          "height": 469
        },
        "outputId": "91eb607e-cbef-4a11-bb97-382444873c09"
      },
      "execution_count": null,
      "outputs": [
        {
          "output_type": "stream",
          "name": "stdout",
          "text": [
            "0.0         610217\n",
            "827875.0         1\n",
            "25000.0          1\n",
            "37100.0          1\n",
            "43127.0          1\n",
            "84617.0          1\n",
            "1760.0           1\n",
            "996262.0         1\n",
            "Name: BalanceGross, dtype: int64\n"
          ]
        },
        {
          "output_type": "execute_result",
          "data": {
            "text/plain": [
              "<matplotlib.axes._subplots.AxesSubplot at 0x7fb9f81a69d0>"
            ]
          },
          "metadata": {},
          "execution_count": 10
        },
        {
          "output_type": "display_data",
          "data": {
            "text/plain": [
              "<Figure size 432x288 with 1 Axes>"
            ],
            "image/png": "[encoded data removed]"
          },
          "metadata": {
            "needs_background": "light"
          }
        }
      ]
    },
    {
      "cell_type": "code",
      "source": [
        "# There are too many values of 0, and the distribution appears to be skewed to the very left, so we decide to drop the column. \n",
        "data.drop(columns = 'BalanceGross', inplace = True)\n",
        "\n",
        "# Drop the columns that were used to process, now they have just become duplicates.\n",
        "data.drop(columns = ['State', 'BankState','NewExist', 'DisbursementGross', 'GrAppv', 'FranchiseCode', \n",
        "                     'RevLineCr', 'LowDoc', 'MIS_Status'], inplace = True)"
      ],
      "metadata": {
        "id": "3XOoVx48-7pS"
      },
      "execution_count": null,
      "outputs": []
    },
    {
      "cell_type": "code",
      "source": [
        "# Re-check the head of the data.\n",
        "data.head()"
      ],
      "metadata": {
        "id": "xg1UmpSg2tHD",
        "colab": {
          "base_uri": "https://localhost:8080/",
          "height": 270
        },
        "outputId": "389c3516-0a04-4b76-e687-f1e73db1e188"
      },
      "execution_count": null,
      "outputs": [
        {
          "output_type": "execute_result",
          "data": {
            "text/plain": [
              "    NAICS  ApprovalFY  Term  NoEmp  CreateJob  RetainedJob  UrbanRural  \\\n",
              "0  451120        1997    84      4          0            0           0   \n",
              "1  722410        1997    60      2          0            0           0   \n",
              "2  621210        1997   180      7          0            0           0   \n",
              "3       0        1997    60      2          0            0           0   \n",
              "4       0        1997   240     14          7            7           0   \n",
              "\n",
              "   SBA_Appv  NewOrExist  StateSame  FullDisbursed  Franchised  RevLineCredit  \\\n",
              "0   48000.0           1          0              1           1              0   \n",
              "1   32000.0           1          1              1           1              0   \n",
              "2  215250.0           0          1              1           1              0   \n",
              "3   28000.0           0          1              1           1              0   \n",
              "4  229000.0           0          1              1           1              0   \n",
              "\n",
              "   LowDocP  MIS  \n",
              "0        1    0  \n",
              "1        1    0  \n",
              "2        0    0  \n",
              "3        1    0  \n",
              "4        0    0  "
            ],
            "text/html": [
              "\n",
              "  <div id=\"df-30c0cacd-ad2c-479f-810c-1aace6fa5558\">\n",
              "    <div class=\"colab-df-container\">\n",
              "      <div>\n",
              "<style scoped>\n",
              "    .dataframe tbody tr th:only-of-type {\n",
              "        vertical-align: middle;\n",
              "    }\n",
              "\n",
              "    .dataframe tbody tr th {\n",
              "        vertical-align: top;\n",
              "    }\n",
              "\n",
              "    .dataframe thead th {\n",
              "        text-align: right;\n",
              "    }\n",
              "</style>\n",
              "<table border=\"1\" class=\"dataframe\">\n",
              "  <thead>\n",
              "    <tr style=\"text-align: right;\">\n",
              "      <th></th>\n",
              "      <th>NAICS</th>\n",
              "      <th>ApprovalFY</th>\n",
              "      <th>Term</th>\n",
              "      <th>NoEmp</th>\n",
              "      <th>CreateJob</th>\n",
              "      <th>RetainedJob</th>\n",
              "      <th>UrbanRural</th>\n",
              "      <th>SBA_Appv</th>\n",
              "      <th>NewOrExist</th>\n",
              "      <th>StateSame</th>\n",
              "      <th>FullDisbursed</th>\n",
              "      <th>Franchised</th>\n",
              "      <th>RevLineCredit</th>\n",
              "      <th>LowDocP</th>\n",
              "      <th>MIS</th>\n",
              "    </tr>\n",
              "  </thead>\n",
              "  <tbody>\n",
              "    <tr>\n",
              "      <th>0</th>\n",
              "      <td>451120</td>\n",
              "      <td>1997</td>\n",
              "      <td>84</td>\n",
              "      <td>4</td>\n",
              "      <td>0</td>\n",
              "      <td>0</td>\n",
              "      <td>0</td>\n",
              "      <td>48000.0</td>\n",
              "      <td>1</td>\n",
              "      <td>0</td>\n",
              "      <td>1</td>\n",
              "      <td>1</td>\n",
              "      <td>0</td>\n",
              "      <td>1</td>\n",
              "      <td>0</td>\n",
              "    </tr>\n",
              "    <tr>\n",
              "      <th>1</th>\n",
              "      <td>722410</td>\n",
              "      <td>1997</td>\n",
              "      <td>60</td>\n",
              "      <td>2</td>\n",
              "      <td>0</td>\n",
              "      <td>0</td>\n",
              "      <td>0</td>\n",
              "      <td>32000.0</td>\n",
              "      <td>1</td>\n",
              "      <td>1</td>\n",
              "      <td>1</td>\n",
              "      <td>1</td>\n",
              "      <td>0</td>\n",
              "      <td>1</td>\n",
              "      <td>0</td>\n",
              "    </tr>\n",
              "    <tr>\n",
              "      <th>2</th>\n",
              "      <td>621210</td>\n",
              "      <td>1997</td>\n",
              "      <td>180</td>\n",
              "      <td>7</td>\n",
              "      <td>0</td>\n",
              "      <td>0</td>\n",
              "      <td>0</td>\n",
              "      <td>215250.0</td>\n",
              "      <td>0</td>\n",
              "      <td>1</td>\n",
              "      <td>1</td>\n",
              "      <td>1</td>\n",
              "      <td>0</td>\n",
              "      <td>0</td>\n",
              "      <td>0</td>\n",
              "    </tr>\n",
              "    <tr>\n",
              "      <th>3</th>\n",
              "      <td>0</td>\n",
              "      <td>1997</td>\n",
              "      <td>60</td>\n",
              "      <td>2</td>\n",
              "      <td>0</td>\n",
              "      <td>0</td>\n",
              "      <td>0</td>\n",
              "      <td>28000.0</td>\n",
              "      <td>0</td>\n",
              "      <td>1</td>\n",
              "      <td>1</td>\n",
              "      <td>1</td>\n",
              "      <td>0</td>\n",
              "      <td>1</td>\n",
              "      <td>0</td>\n",
              "    </tr>\n",
              "    <tr>\n",
              "      <th>4</th>\n",
              "      <td>0</td>\n",
              "      <td>1997</td>\n",
              "      <td>240</td>\n",
              "      <td>14</td>\n",
              "      <td>7</td>\n",
              "      <td>7</td>\n",
              "      <td>0</td>\n",
              "      <td>229000.0</td>\n",
              "      <td>0</td>\n",
              "      <td>1</td>\n",
              "      <td>1</td>\n",
              "      <td>1</td>\n",
              "      <td>0</td>\n",
              "      <td>0</td>\n",
              "      <td>0</td>\n",
              "    </tr>\n",
              "  </tbody>\n",
              "</table>\n",
              "</div>\n",
              "      <button class=\"colab-df-convert\" onclick=\"convertToInteractive('df-30c0cacd-ad2c-479f-810c-1aace6fa5558')\"\n",
              "              title=\"Convert this dataframe to an interactive table.\"\n",
              "              style=\"display:none;\">\n",
              "        \n",
              "  <svg xmlns=\"http://www.w3.org/2000/svg\" height=\"24px\"viewBox=\"0 0 24 24\"\n",
              "       width=\"24px\">\n",
              "    <path d=\"M0 0h24v24H0V0z\" fill=\"none\"/>\n",
              "    <path d=\"M18.56 5.44l.94 2.06.94-2.06 2.06-.94-2.06-.94-.94-2.06-.94 2.06-2.06.94zm-11 1L8.5 8.5l.94-2.06 2.06-.94-2.06-.94L8.5 2.5l-.94 2.06-2.06.94zm10 10l.94 2.06.94-2.06 2.06-.94-2.06-.94-.94-2.06-.94 2.06-2.06.94z\"/><path d=\"M17.41 7.96l-1.37-1.37c-.4-.4-.92-.59-1.43-.59-.52 0-1.04.2-1.43.59L10.3 9.45l-7.72 7.72c-.78.78-.78 2.05 0 2.83L4 21.41c.39.39.9.59 1.41.59.51 0 1.02-.2 1.41-.59l7.78-7.78 2.81-2.81c.8-.78.8-2.07 0-2.86zM5.41 20L4 18.59l7.72-7.72 1.47 1.35L5.41 20z\"/>\n",
              "  </svg>\n",
              "      </button>\n",
              "      \n",
              "  <style>\n",
              "    .colab-df-container {\n",
              "      display:flex;\n",
              "      flex-wrap:wrap;\n",
              "      gap: 12px;\n",
              "    }\n",
              "\n",
              "    .colab-df-convert {\n",
              "      background-color: #E8F0FE;\n",
              "      border: none;\n",
              "      border-radius: 50%;\n",
              "      cursor: pointer;\n",
              "      display: none;\n",
              "      fill: #1967D2;\n",
              "      height: 32px;\n",
              "      padding: 0 0 0 0;\n",
              "      width: 32px;\n",
              "    }\n",
              "\n",
              "    .colab-df-convert:hover {\n",
              "      background-color: #E2EBFA;\n",
              "      box-shadow: 0px 1px 2px rgba(60, 64, 67, 0.3), 0px 1px 3px 1px rgba(60, 64, 67, 0.15);\n",
              "      fill: #174EA6;\n",
              "    }\n",
              "\n",
              "    [theme=dark] .colab-df-convert {\n",
              "      background-color: #3B4455;\n",
              "      fill: #D2E3FC;\n",
              "    }\n",
              "\n",
              "    [theme=dark] .colab-df-convert:hover {\n",
              "      background-color: #434B5C;\n",
              "      box-shadow: 0px 1px 3px 1px rgba(0, 0, 0, 0.15);\n",
              "      filter: drop-shadow(0px 1px 2px rgba(0, 0, 0, 0.3));\n",
              "      fill: #FFFFFF;\n",
              "    }\n",
              "  </style>\n",
              "\n",
              "      <script>\n",
              "        const buttonEl =\n",
              "          document.querySelector('#df-30c0cacd-ad2c-479f-810c-1aace6fa5558 button.colab-df-convert');\n",
              "        buttonEl.style.display =\n",
              "          google.colab.kernel.accessAllowed ? 'block' : 'none';\n",
              "\n",
              "        async function convertToInteractive(key) {\n",
              "          const element = document.querySelector('#df-30c0cacd-ad2c-479f-810c-1aace6fa5558');\n",
              "          const dataTable =\n",
              "            await google.colab.kernel.invokeFunction('convertToInteractive',\n",
              "                                                     [key], {});\n",
              "          if (!dataTable) return;\n",
              "\n",
              "          const docLinkHtml = 'Like what you see? Visit the ' +\n",
              "            '<a target=\"_blank\" href=https://colab.research.google.com/notebooks/data_table.ipynb>data table notebook</a>'\n",
              "            + ' to learn more about interactive tables.';\n",
              "          element.innerHTML = '';\n",
              "          dataTable['output_type'] = 'display_data';\n",
              "          await google.colab.output.renderOutput(dataTable, element);\n",
              "          const docLink = document.createElement('div');\n",
              "          docLink.innerHTML = docLinkHtml;\n",
              "          element.appendChild(docLink);\n",
              "        }\n",
              "      </script>\n",
              "    </div>\n",
              "  </div>\n",
              "  "
            ]
          },
          "metadata": {},
          "execution_count": 12
        }
      ]
    },
    {
      "cell_type": "markdown",
      "source": [
        "##**3. Exploring Features**"
      ],
      "metadata": {
        "id": "4IoMrowuy-us"
      }
    },
    {
      "cell_type": "markdown",
      "source": [
        "###**3.1 Correlation Heatmap**"
      ],
      "metadata": {
        "id": "J9lFT0bDzQVX"
      }
    },
    {
      "cell_type": "code",
      "source": [
        "# Build a correlation heatmap \n",
        "import matplotlib.pyplot as plt\n",
        "import seaborn as sns\n",
        "\n",
        "# Set plot size and mask for upper triangle\n",
        "corr = data.corr()\n",
        "f, ax = plt.subplots(figsize = (20, 12))\n",
        "mask = np.triu(np.ones_like(corr, dtype = int))\n",
        "\n",
        "# Build the colormap\n",
        "cmap = sns.diverging_palette(230, 20, as_cmap = True)\n",
        "# Draw the heatmap\n",
        "sns.heatmap(corr, annot = True, mask = mask, cmap = cmap)"
      ],
      "metadata": {
        "colab": {
          "base_uri": "https://localhost:8080/",
          "height": 777
        },
        "id": "lmWm-9ra0Vwf",
        "outputId": "99baf0fd-bdca-4dee-ec25-fb2d308dc735"
      },
      "execution_count": null,
      "outputs": [
        {
          "output_type": "execute_result",
          "data": {
            "text/plain": [
              "<matplotlib.axes._subplots.AxesSubplot at 0x7fb9f790bb80>"
            ]
          },
          "metadata": {},
          "execution_count": 13
        },
        {
          "output_type": "display_data",
          "data": {
            "text/plain": [
              "<Figure size 1440x864 with 2 Axes>"
            ],
            "image/png": "[encoded data removed]"
          },
          "metadata": {
            "needs_background": "light"
          }
        }
      ]
    },
    {
      "cell_type": "code",
      "source": [
        "# 3.1 Finding\n",
        "#a. `RetainedJob` seem to be very strongly correlated with `CreateJob`, we could keep only one for the purpose of this analysis.\n",
        "#b. `UrbanRural` seem to be positively and strongly correlating with `ApprovalFY`, we can later develop a graph to further analyze it.\n",
        "#c. `SBA_Appv` seem to be mildly and positively correlated with `Term`, which suggests the amount approved by SBA could be based on the term of loans.\n",
        "#d. No column seem to be strongly correlating with `MIS`."
      ],
      "metadata": {
        "id": "OkgwThnzNYgJ"
      },
      "execution_count": null,
      "outputs": []
    },
    {
      "cell_type": "markdown",
      "source": [
        "###**3.2 Approval Year and Amount for Urban/Rural Loans**"
      ],
      "metadata": {
        "id": "qhn1yYCO5KqX"
      }
    },
    {
      "cell_type": "code",
      "source": [
        "# Construct the distribution of approved loans by each year.\n",
        "graph = sns.FacetGrid(data, hue = 'UrbanRural', height = 6, aspect = 2)\n",
        "\n",
        "# Map using a kdeplot \n",
        "graph.map(sns.kdeplot, 'ApprovalFY')\n",
        "\n",
        "# Construct legend and title\n",
        "plt.legend()\n",
        "plt.title('Term of Charged-off / Paid-in-full Loan')\n",
        "plt.legend(labels = ['Paid-in-Full', 'Charged-off'])\n",
        "plt.show()"
      ],
      "metadata": {
        "colab": {
          "base_uri": "https://localhost:8080/",
          "height": 457
        },
        "id": "CD6_q8SX8AfA",
        "outputId": "7e7ca49d-8a9c-4c1d-e020-48683d1852cc"
      },
      "execution_count": null,
      "outputs": [
        {
          "output_type": "display_data",
          "data": {
            "text/plain": [
              "<Figure size 864x432 with 1 Axes>"
            ],
            "image/png": "[encoded data removed]"
          },
          "metadata": {
            "needs_background": "light"
          }
        }
      ]
    },
    {
      "cell_type": "code",
      "source": [
        "# Suppress the data where SBA does not know whether it was a urban loan or a rural loan, they seem to be all approved before 2000.\n",
        "data_select = data[data['UrbanRural'] !=  0]\n",
        "graph = sns.FacetGrid(data_select, hue = 'UrbanRural', height = 6, aspect = 2)\n",
        "\n",
        "# Map using a kdeplot \n",
        "graph.map(sns.kdeplot, 'ApprovalFY')\n",
        "\n",
        "# Construct legend and title\n",
        "plt.legend()\n",
        "plt.title('Term of Charged-off / Paid-in-full Loan')\n",
        "plt.legend(labels = ['Paid-in-Full', 'Charged-off'])\n",
        "plt.show()"
      ],
      "metadata": {
        "colab": {
          "base_uri": "https://localhost:8080/",
          "height": 457
        },
        "id": "DeVYczFC5XP0",
        "outputId": "e6b66f0a-fbb1-42ca-e903-11201e6ecd00"
      },
      "execution_count": null,
      "outputs": [
        {
          "output_type": "display_data",
          "data": {
            "text/plain": [
              "<Figure size 864x432 with 1 Axes>"
            ],
            "image/png": "[encoded data removed]"
          },
          "metadata": {
            "needs_background": "light"
          }
        }
      ]
    },
    {
      "cell_type": "code",
      "source": [
        "#3.2 Finding\n",
        "#There has been consistently more loans paid off than charged off before the great financial crisis in 2008. \n",
        "#It seems like small business took a hit around 2007 to 2012 as less loans are approved, \n",
        "#and more loans are charged off compared to the ones being paid-off. "
      ],
      "metadata": {
        "id": "ufx4f393NmQ1"
      },
      "execution_count": null,
      "outputs": []
    },
    {
      "cell_type": "markdown",
      "source": [
        "###**3.3 Totals Loan Charge-Off of New/Existing Business**"
      ],
      "metadata": {
        "id": "ZD1DQqMh_J3R"
      }
    },
    {
      "cell_type": "code",
      "source": [
        "# Set up figure size.\n",
        "plt.figure(figsize=(12, 6))\n",
        "\n",
        "# Construct countplot. \n",
        "sns.countplot(x=\"NewOrExist\", hue = \"MIS\", data = data)\n",
        "plt.legend(labels = ['Paid-in-Full', 'Charged-off'])\n",
        "plt.title('Number of Loans Charged-off in New/Existing Business')\n",
        "plt.show()"
      ],
      "metadata": {
        "colab": {
          "base_uri": "https://localhost:8080/",
          "height": 404
        },
        "id": "FNymFkdK_h2m",
        "outputId": "e3751049-e639-4db4-ca9a-9959b80c3cac"
      },
      "execution_count": null,
      "outputs": [
        {
          "output_type": "display_data",
          "data": {
            "text/plain": [
              "<Figure size 864x432 with 1 Axes>"
            ],
            "image/png": "[encoded data removed]"
          },
          "metadata": {
            "needs_background": "light"
          }
        }
      ]
    },
    {
      "cell_type": "code",
      "source": [
        "#3.3 Finding\n",
        "#Apparently there are more existing businesses, respectively, there are more loans getting charged-off. \n",
        "#The percentage of loan getting charged-off in each type of businesses seem roughly the same. "
      ],
      "metadata": {
        "id": "X6G-9dDCNuCB"
      },
      "execution_count": null,
      "outputs": []
    },
    {
      "cell_type": "markdown",
      "source": [
        "###**3.3 Terms of Charged-off/Paid-in-Full Loans**"
      ],
      "metadata": {
        "id": "s2g-DNIA3Aj1"
      }
    },
    {
      "cell_type": "code",
      "source": [
        "# Set up FacetGrid\n",
        "graph = sns.FacetGrid(data, hue = 'MIS', height = 6, aspect = 2)\n",
        "\n",
        "# Map using a kdeplot \n",
        "graph.map(sns.kdeplot, 'Term')\n",
        "\n",
        "# Construct legend and title\n",
        "plt.legend(labels = ['Paid-in-Full', 'Charged-off'])\n",
        "plt.title('Term of Charged-off / Paid-in-full Loan')\n",
        "plt.show()"
      ],
      "metadata": {
        "colab": {
          "base_uri": "https://localhost:8080/",
          "height": 457
        },
        "id": "TKG9-opP3ThZ",
        "outputId": "21e4f437-ebfc-4dd8-d8e7-9798fcefd5bc"
      },
      "execution_count": null,
      "outputs": [
        {
          "output_type": "display_data",
          "data": {
            "text/plain": [
              "<Figure size 864x432 with 1 Axes>"
            ],
            "image/png": "[encoded data removed]"
          },
          "metadata": {
            "needs_background": "light"
          }
        }
      ]
    },
    {
      "cell_type": "code",
      "source": [
        "#3.4 Finding\n",
        "#According to the graph, shorter termed loans tend to be charged-off while longer loans are paid in full."
      ],
      "metadata": {
        "id": "k4EQFY57N0yz"
      },
      "execution_count": null,
      "outputs": []
    },
    {
      "cell_type": "markdown",
      "source": [
        "###**3.5** Term Factor vs. Retained Job in Charged-Off Loans"
      ],
      "metadata": {
        "id": "NURIpqhnL_F1"
      }
    },
    {
      "cell_type": "code",
      "source": [
        "plt.figure(figsize = (12, 6))\n",
        "sns.scatterplot(data = data, x = 'RetainedJob', y = 'Term', hue = \"MIS\", legend = True)\n",
        "plt.legend(labels = ['Paid-in-Full', 'Charged-off'])\n",
        "plt.title('Term vs. Retained Job in Loan Paid-in-Full or Charged-Off')\n",
        "plt.show()"
      ],
      "metadata": {
        "colab": {
          "base_uri": "https://localhost:8080/",
          "height": 404
        },
        "id": "rtj0ZmwvMK34",
        "outputId": "7af8ddf3-c89e-4e4f-a597-7a60c47e6dd1"
      },
      "execution_count": null,
      "outputs": [
        {
          "output_type": "display_data",
          "data": {
            "text/plain": [
              "<Figure size 864x432 with 1 Axes>"
            ],
            "image/png": "[encoded data removed]"
          },
          "metadata": {
            "needs_background": "light"
          }
        }
      ]
    },
    {
      "cell_type": "code",
      "source": [
        "#3.5 Finding\n",
        "#From the graph, we could directly tell that businesses that have retained more jobs have largely had their loans charged-off, while businesses \n",
        "#with few retained job have to pay back in full. The reason for this vary, it could be since the government have beneficial programs that allow \n",
        "#buiness that retain jobs to carry less loan paymnents. "
      ],
      "metadata": {
        "id": "_yBtcX56N5u6"
      },
      "execution_count": null,
      "outputs": []
    },
    {
      "cell_type": "markdown",
      "source": [
        "##**4. Pre-Processing Pipeline**"
      ],
      "metadata": {
        "id": "rMpHYBIqfspH"
      }
    },
    {
      "cell_type": "markdown",
      "source": [
        "###**4.1 Sample Data Selection**"
      ],
      "metadata": {
        "id": "Ya-q21ExKzk_"
      }
    },
    {
      "cell_type": "code",
      "source": [
        "# Based on our feature exploration, we add a new column \"FinanCrisis\" to detect if the loan was approved during the 2008 financial crisis. \n",
        "data['FinanCrisis'] = np.where(data['ApprovalFY'] == 2008, 1, 0)\n",
        "data.head()"
      ],
      "metadata": {
        "colab": {
          "base_uri": "https://localhost:8080/",
          "height": 270
        },
        "id": "RiQncDkkQxnR",
        "outputId": "df0eed48-815c-4049-cc09-4b13916522b0"
      },
      "execution_count": null,
      "outputs": [
        {
          "output_type": "execute_result",
          "data": {
            "text/plain": [
              "    NAICS  ApprovalFY  Term  NoEmp  CreateJob  RetainedJob  UrbanRural  \\\n",
              "0  451120        1997    84      4          0            0           0   \n",
              "1  722410        1997    60      2          0            0           0   \n",
              "2  621210        1997   180      7          0            0           0   \n",
              "3       0        1997    60      2          0            0           0   \n",
              "4       0        1997   240     14          7            7           0   \n",
              "\n",
              "   SBA_Appv  NewOrExist  StateSame  FullDisbursed  Franchised  RevLineCredit  \\\n",
              "0   48000.0           1          0              1           1              0   \n",
              "1   32000.0           1          1              1           1              0   \n",
              "2  215250.0           0          1              1           1              0   \n",
              "3   28000.0           0          1              1           1              0   \n",
              "4  229000.0           0          1              1           1              0   \n",
              "\n",
              "   LowDocP  MIS  FinanCrisis  \n",
              "0        1    0            0  \n",
              "1        1    0            0  \n",
              "2        0    0            0  \n",
              "3        1    0            0  \n",
              "4        0    0            0  "
            ],
            "text/html": [
              "\n",
              "  <div id=\"df-746a750f-8061-42e4-b074-7baaa2134e22\">\n",
              "    <div class=\"colab-df-container\">\n",
              "      <div>\n",
              "<style scoped>\n",
              "    .dataframe tbody tr th:only-of-type {\n",
              "        vertical-align: middle;\n",
              "    }\n",
              "\n",
              "    .dataframe tbody tr th {\n",
              "        vertical-align: top;\n",
              "    }\n",
              "\n",
              "    .dataframe thead th {\n",
              "        text-align: right;\n",
              "    }\n",
              "</style>\n",
              "<table border=\"1\" class=\"dataframe\">\n",
              "  <thead>\n",
              "    <tr style=\"text-align: right;\">\n",
              "      <th></th>\n",
              "      <th>NAICS</th>\n",
              "      <th>ApprovalFY</th>\n",
              "      <th>Term</th>\n",
              "      <th>NoEmp</th>\n",
              "      <th>CreateJob</th>\n",
              "      <th>RetainedJob</th>\n",
              "      <th>UrbanRural</th>\n",
              "      <th>SBA_Appv</th>\n",
              "      <th>NewOrExist</th>\n",
              "      <th>StateSame</th>\n",
              "      <th>FullDisbursed</th>\n",
              "      <th>Franchised</th>\n",
              "      <th>RevLineCredit</th>\n",
              "      <th>LowDocP</th>\n",
              "      <th>MIS</th>\n",
              "      <th>FinanCrisis</th>\n",
              "    </tr>\n",
              "  </thead>\n",
              "  <tbody>\n",
              "    <tr>\n",
              "      <th>0</th>\n",
              "      <td>451120</td>\n",
              "      <td>1997</td>\n",
              "      <td>84</td>\n",
              "      <td>4</td>\n",
              "      <td>0</td>\n",
              "      <td>0</td>\n",
              "      <td>0</td>\n",
              "      <td>48000.0</td>\n",
              "      <td>1</td>\n",
              "      <td>0</td>\n",
              "      <td>1</td>\n",
              "      <td>1</td>\n",
              "      <td>0</td>\n",
              "      <td>1</td>\n",
              "      <td>0</td>\n",
              "      <td>0</td>\n",
              "    </tr>\n",
              "    <tr>\n",
              "      <th>1</th>\n",
              "      <td>722410</td>\n",
              "      <td>1997</td>\n",
              "      <td>60</td>\n",
              "      <td>2</td>\n",
              "      <td>0</td>\n",
              "      <td>0</td>\n",
              "      <td>0</td>\n",
              "      <td>32000.0</td>\n",
              "      <td>1</td>\n",
              "      <td>1</td>\n",
              "      <td>1</td>\n",
              "      <td>1</td>\n",
              "      <td>0</td>\n",
              "      <td>1</td>\n",
              "      <td>0</td>\n",
              "      <td>0</td>\n",
              "    </tr>\n",
              "    <tr>\n",
              "      <th>2</th>\n",
              "      <td>621210</td>\n",
              "      <td>1997</td>\n",
              "      <td>180</td>\n",
              "      <td>7</td>\n",
              "      <td>0</td>\n",
              "      <td>0</td>\n",
              "      <td>0</td>\n",
              "      <td>215250.0</td>\n",
              "      <td>0</td>\n",
              "      <td>1</td>\n",
              "      <td>1</td>\n",
              "      <td>1</td>\n",
              "      <td>0</td>\n",
              "      <td>0</td>\n",
              "      <td>0</td>\n",
              "      <td>0</td>\n",
              "    </tr>\n",
              "    <tr>\n",
              "      <th>3</th>\n",
              "      <td>0</td>\n",
              "      <td>1997</td>\n",
              "      <td>60</td>\n",
              "      <td>2</td>\n",
              "      <td>0</td>\n",
              "      <td>0</td>\n",
              "      <td>0</td>\n",
              "      <td>28000.0</td>\n",
              "      <td>0</td>\n",
              "      <td>1</td>\n",
              "      <td>1</td>\n",
              "      <td>1</td>\n",
              "      <td>0</td>\n",
              "      <td>1</td>\n",
              "      <td>0</td>\n",
              "      <td>0</td>\n",
              "    </tr>\n",
              "    <tr>\n",
              "      <th>4</th>\n",
              "      <td>0</td>\n",
              "      <td>1997</td>\n",
              "      <td>240</td>\n",
              "      <td>14</td>\n",
              "      <td>7</td>\n",
              "      <td>7</td>\n",
              "      <td>0</td>\n",
              "      <td>229000.0</td>\n",
              "      <td>0</td>\n",
              "      <td>1</td>\n",
              "      <td>1</td>\n",
              "      <td>1</td>\n",
              "      <td>0</td>\n",
              "      <td>0</td>\n",
              "      <td>0</td>\n",
              "      <td>0</td>\n",
              "    </tr>\n",
              "  </tbody>\n",
              "</table>\n",
              "</div>\n",
              "      <button class=\"colab-df-convert\" onclick=\"convertToInteractive('df-746a750f-8061-42e4-b074-7baaa2134e22')\"\n",
              "              title=\"Convert this dataframe to an interactive table.\"\n",
              "              style=\"display:none;\">\n",
              "        \n",
              "  <svg xmlns=\"http://www.w3.org/2000/svg\" height=\"24px\"viewBox=\"0 0 24 24\"\n",
              "       width=\"24px\">\n",
              "    <path d=\"M0 0h24v24H0V0z\" fill=\"none\"/>\n",
              "    <path d=\"M18.56 5.44l.94 2.06.94-2.06 2.06-.94-2.06-.94-.94-2.06-.94 2.06-2.06.94zm-11 1L8.5 8.5l.94-2.06 2.06-.94-2.06-.94L8.5 2.5l-.94 2.06-2.06.94zm10 10l.94 2.06.94-2.06 2.06-.94-2.06-.94-.94-2.06-.94 2.06-2.06.94z\"/><path d=\"M17.41 7.96l-1.37-1.37c-.4-.4-.92-.59-1.43-.59-.52 0-1.04.2-1.43.59L10.3 9.45l-7.72 7.72c-.78.78-.78 2.05 0 2.83L4 21.41c.39.39.9.59 1.41.59.51 0 1.02-.2 1.41-.59l7.78-7.78 2.81-2.81c.8-.78.8-2.07 0-2.86zM5.41 20L4 18.59l7.72-7.72 1.47 1.35L5.41 20z\"/>\n",
              "  </svg>\n",
              "      </button>\n",
              "      \n",
              "  <style>\n",
              "    .colab-df-container {\n",
              "      display:flex;\n",
              "      flex-wrap:wrap;\n",
              "      gap: 12px;\n",
              "    }\n",
              "\n",
              "    .colab-df-convert {\n",
              "      background-color: #E8F0FE;\n",
              "      border: none;\n",
              "      border-radius: 50%;\n",
              "      cursor: pointer;\n",
              "      display: none;\n",
              "      fill: #1967D2;\n",
              "      height: 32px;\n",
              "      padding: 0 0 0 0;\n",
              "      width: 32px;\n",
              "    }\n",
              "\n",
              "    .colab-df-convert:hover {\n",
              "      background-color: #E2EBFA;\n",
              "      box-shadow: 0px 1px 2px rgba(60, 64, 67, 0.3), 0px 1px 3px 1px rgba(60, 64, 67, 0.15);\n",
              "      fill: #174EA6;\n",
              "    }\n",
              "\n",
              "    [theme=dark] .colab-df-convert {\n",
              "      background-color: #3B4455;\n",
              "      fill: #D2E3FC;\n",
              "    }\n",
              "\n",
              "    [theme=dark] .colab-df-convert:hover {\n",
              "      background-color: #434B5C;\n",
              "      box-shadow: 0px 1px 3px 1px rgba(0, 0, 0, 0.15);\n",
              "      filter: drop-shadow(0px 1px 2px rgba(0, 0, 0, 0.3));\n",
              "      fill: #FFFFFF;\n",
              "    }\n",
              "  </style>\n",
              "\n",
              "      <script>\n",
              "        const buttonEl =\n",
              "          document.querySelector('#df-746a750f-8061-42e4-b074-7baaa2134e22 button.colab-df-convert');\n",
              "        buttonEl.style.display =\n",
              "          google.colab.kernel.accessAllowed ? 'block' : 'none';\n",
              "\n",
              "        async function convertToInteractive(key) {\n",
              "          const element = document.querySelector('#df-746a750f-8061-42e4-b074-7baaa2134e22');\n",
              "          const dataTable =\n",
              "            await google.colab.kernel.invokeFunction('convertToInteractive',\n",
              "                                                     [key], {});\n",
              "          if (!dataTable) return;\n",
              "\n",
              "          const docLinkHtml = 'Like what you see? Visit the ' +\n",
              "            '<a target=\"_blank\" href=https://colab.research.google.com/notebooks/data_table.ipynb>data table notebook</a>'\n",
              "            + ' to learn more about interactive tables.';\n",
              "          element.innerHTML = '';\n",
              "          dataTable['output_type'] = 'display_data';\n",
              "          await google.colab.output.renderOutput(dataTable, element);\n",
              "          const docLink = document.createElement('div');\n",
              "          docLink.innerHTML = docLinkHtml;\n",
              "          element.appendChild(docLink);\n",
              "        }\n",
              "      </script>\n",
              "    </div>\n",
              "  </div>\n",
              "  "
            ]
          },
          "metadata": {},
          "execution_count": 24
        }
      ]
    },
    {
      "cell_type": "code",
      "source": [
        "# Select the columns into a new dataframe to build models.\n",
        "# Note here that we drop \"CreateJob\" column for its correlation of 1 with \"RetainedJob\".\n",
        "df = data[['Term', 'NoEmp', 'RetainedJob', 'UrbanRural',\n",
        "           'SBA_Appv', 'NewOrExist',\t'StateSame', 'FinanCrisis',\n",
        "           'FullDisbursed', 'Franchised',\t'RevLineCredit', 'LowDocP',\t'MIS']]\n",
        "\n",
        "# Check the shape of the model. \n",
        "print(df.shape)\n",
        "# Check for null values.\n",
        "print(df.isnull().sum())"
      ],
      "metadata": {
        "id": "e5-NheXI2v4D",
        "colab": {
          "base_uri": "https://localhost:8080/"
        },
        "outputId": "ac73784a-ec42-4609-a697-6a58726ce5af"
      },
      "execution_count": null,
      "outputs": [
        {
          "output_type": "stream",
          "name": "stdout",
          "text": [
            "(610224, 13)\n",
            "Term             0\n",
            "NoEmp            0\n",
            "RetainedJob      0\n",
            "UrbanRural       0\n",
            "SBA_Appv         0\n",
            "NewOrExist       0\n",
            "StateSame        0\n",
            "FinanCrisis      0\n",
            "FullDisbursed    0\n",
            "Franchised       0\n",
            "RevLineCredit    0\n",
            "LowDocP          0\n",
            "MIS              0\n",
            "dtype: int64\n"
          ]
        }
      ]
    },
    {
      "cell_type": "code",
      "source": [
        "# Randomly select a fracture of the dataframe. \n",
        "np.random.seed(810)\n",
        "\n",
        "# We think a sample size between 10,000 to 13,000 should function the best. \n",
        "df_sample = df.sample(n = np.random.randint(10000, 13000), random_state = 11)\n",
        "\n",
        "# Check the head of the new dataframe \n",
        "df_sample.head()\n",
        "print(df_sample.shape)"
      ],
      "metadata": {
        "id": "D8RNA-Z_MR0y",
        "colab": {
          "base_uri": "https://localhost:8080/"
        },
        "outputId": "58364c56-3ee9-429b-f209-bae3acfd290f"
      },
      "execution_count": null,
      "outputs": [
        {
          "output_type": "stream",
          "name": "stdout",
          "text": [
            "(12965, 13)\n"
          ]
        }
      ]
    },
    {
      "cell_type": "code",
      "source": [
        "# Check the shape of the new dataframe. \n",
        "print('There are', df_sample.shape[0],'rows in the sample dataframe and', df_sample.shape[1], 'columns', end = '.')"
      ],
      "metadata": {
        "colab": {
          "base_uri": "https://localhost:8080/"
        },
        "id": "0Ggk7TnfF-BD",
        "outputId": "b3bd9133-14b1-40e3-faa2-3246f25c9710"
      },
      "execution_count": null,
      "outputs": [
        {
          "output_type": "stream",
          "name": "stdout",
          "text": [
            "There are 12965 rows in the sample dataframe and 13 columns."
          ]
        }
      ]
    },
    {
      "cell_type": "markdown",
      "source": [
        "###**4.2 Numerical vs. Categorical Variables**"
      ],
      "metadata": {
        "id": "8rM9eEx3LLnw"
      }
    },
    {
      "cell_type": "markdown",
      "source": [
        "###**4.3 Numerical Variable Pipeline**"
      ],
      "metadata": {
        "id": "iwM3Z-ZEjhzA"
      }
    },
    {
      "cell_type": "code",
      "source": [
        "from sklearn.pipeline import Pipeline\n",
        "from sklearn.impute import SimpleImputer\n",
        "from sklearn.preprocessing import StandardScaler\n",
        "from sklearn import set_config\n",
        "\n",
        "# Shows the pipeline structure.\n",
        "set_config(display = 'diagram') \n",
        "\n",
        "# Building the numerical feature pipeline. \n",
        "num_pipeline = Pipeline([\n",
        "        (\"Imputer\", SimpleImputer(strategy = \"median\")),\n",
        "        (\"Scaler\", StandardScaler())\n",
        "    ])\n",
        "\n",
        "# Display pipeline.\n",
        "num_pipeline"
      ],
      "metadata": {
        "id": "GJ45nCfL3I7I",
        "colab": {
          "base_uri": "https://localhost:8080/",
          "height": 126
        },
        "outputId": "7bb85ae9-272e-450c-f32c-6d0015fa4229"
      },
      "execution_count": null,
      "outputs": [
        {
          "output_type": "execute_result",
          "data": {
            "text/plain": [
              "Pipeline(steps=[('Imputer', SimpleImputer(strategy='median')),\n",
              "                ('Scaler', StandardScaler())])"
            ],
            "text/html": [
              "<style>#sk-ae685970-500a-4229-bffa-16d903b75768 {color: black;background-color: white;}#sk-ae685970-500a-4229-bffa-16d903b75768 pre{padding: 0;}#sk-ae685970-500a-4229-bffa-16d903b75768 div.sk-toggleable {background-color: white;}#sk-ae685970-500a-4229-bffa-16d903b75768 label.sk-toggleable__label {cursor: pointer;display: block;width: 100%;margin-bottom: 0;padding: 0.3em;box-sizing: border-box;text-align: center;}#sk-ae685970-500a-4229-bffa-16d903b75768 label.sk-toggleable__label-arrow:before {content: \"▸\";float: left;margin-right: 0.25em;color: #696969;}#sk-ae685970-500a-4229-bffa-16d903b75768 label.sk-toggleable__label-arrow:hover:before {color: black;}#sk-ae685970-500a-4229-bffa-16d903b75768 div.sk-estimator:hover label.sk-toggleable__label-arrow:before {color: black;}#sk-ae685970-500a-4229-bffa-16d903b75768 div.sk-toggleable__content {max-height: 0;max-width: 0;overflow: hidden;text-align: left;background-color: #f0f8ff;}#sk-ae685970-500a-4229-bffa-16d903b75768 div.sk-toggleable__content pre {margin: 0.2em;color: black;border-radius: 0.25em;background-color: #f0f8ff;}#sk-ae685970-500a-4229-bffa-16d903b75768 input.sk-toggleable__control:checked~div.sk-toggleable__content {max-height: 200px;max-width: 100%;overflow: auto;}#sk-ae685970-500a-4229-bffa-16d903b75768 input.sk-toggleable__control:checked~label.sk-toggleable__label-arrow:before {content: \"▾\";}#sk-ae685970-500a-4229-bffa-16d903b75768 div.sk-estimator input.sk-toggleable__control:checked~label.sk-toggleable__label {background-color: #d4ebff;}#sk-ae685970-500a-4229-bffa-16d903b75768 div.sk-label input.sk-toggleable__control:checked~label.sk-toggleable__label {background-color: #d4ebff;}#sk-ae685970-500a-4229-bffa-16d903b75768 input.sk-hidden--visually {border: 0;clip: rect(1px 1px 1px 1px);clip: rect(1px, 1px, 1px, 1px);height: 1px;margin: -1px;overflow: hidden;padding: 0;position: absolute;width: 1px;}#sk-ae685970-500a-4229-bffa-16d903b75768 div.sk-estimator {font-family: monospace;background-color: #f0f8ff;border: 1px dotted black;border-radius: 0.25em;box-sizing: border-box;margin-bottom: 0.5em;}#sk-ae685970-500a-4229-bffa-16d903b75768 div.sk-estimator:hover {background-color: #d4ebff;}#sk-ae685970-500a-4229-bffa-16d903b75768 div.sk-parallel-item::after {content: \"\";width: 100%;border-bottom: 1px solid gray;flex-grow: 1;}#sk-ae685970-500a-4229-bffa-16d903b75768 div.sk-label:hover label.sk-toggleable__label {background-color: #d4ebff;}#sk-ae685970-500a-4229-bffa-16d903b75768 div.sk-serial::before {content: \"\";position: absolute;border-left: 1px solid gray;box-sizing: border-box;top: 2em;bottom: 0;left: 50%;}#sk-ae685970-500a-4229-bffa-16d903b75768 div.sk-serial {display: flex;flex-direction: column;align-items: center;background-color: white;padding-right: 0.2em;padding-left: 0.2em;}#sk-ae685970-500a-4229-bffa-16d903b75768 div.sk-item {z-index: 1;}#sk-ae685970-500a-4229-bffa-16d903b75768 div.sk-parallel {display: flex;align-items: stretch;justify-content: center;background-color: white;}#sk-ae685970-500a-4229-bffa-16d903b75768 div.sk-parallel::before {content: \"\";position: absolute;border-left: 1px solid gray;box-sizing: border-box;top: 2em;bottom: 0;left: 50%;}#sk-ae685970-500a-4229-bffa-16d903b75768 div.sk-parallel-item {display: flex;flex-direction: column;position: relative;background-color: white;}#sk-ae685970-500a-4229-bffa-16d903b75768 div.sk-parallel-item:first-child::after {align-self: flex-end;width: 50%;}#sk-ae685970-500a-4229-bffa-16d903b75768 div.sk-parallel-item:last-child::after {align-self: flex-start;width: 50%;}#sk-ae685970-500a-4229-bffa-16d903b75768 div.sk-parallel-item:only-child::after {width: 0;}#sk-ae685970-500a-4229-bffa-16d903b75768 div.sk-dashed-wrapped {border: 1px dashed gray;margin: 0 0.4em 0.5em 0.4em;box-sizing: border-box;padding-bottom: 0.4em;background-color: white;position: relative;}#sk-ae685970-500a-4229-bffa-16d903b75768 div.sk-label label {font-family: monospace;font-weight: bold;background-color: white;display: inline-block;line-height: 1.2em;}#sk-ae685970-500a-4229-bffa-16d903b75768 div.sk-label-container {position: relative;z-index: 2;text-align: center;}#sk-ae685970-500a-4229-bffa-16d903b75768 div.sk-container {/* jupyter's `normalize.less` sets `[hidden] { display: none; }` but bootstrap.min.css set `[hidden] { display: none !important; }` so we also need the `!important` here to be able to override the default hidden behavior on the sphinx rendered scikit-learn.org. See: https://github.com/scikit-learn/scikit-learn/issues/21755 */display: inline-block !important;position: relative;}#sk-ae685970-500a-4229-bffa-16d903b75768 div.sk-text-repr-fallback {display: none;}</style><div id=\"sk-ae685970-500a-4229-bffa-16d903b75768\" class=\"sk-top-container\"><div class=\"sk-text-repr-fallback\"><pre>Pipeline(steps=[(&#x27;Imputer&#x27;, SimpleImputer(strategy=&#x27;median&#x27;)),\n",
              "                (&#x27;Scaler&#x27;, StandardScaler())])</pre><b>Please rerun this cell to show the HTML repr or trust the notebook.</b></div><div class=\"sk-container\" hidden><div class=\"sk-item sk-dashed-wrapped\"><div class=\"sk-label-container\"><div class=\"sk-label sk-toggleable\"><input class=\"sk-toggleable__control sk-hidden--visually\" id=\"b4347516-8a60-4ad1-a61b-c1422ca0103e\" type=\"checkbox\" ><label for=\"b4347516-8a60-4ad1-a61b-c1422ca0103e\" class=\"sk-toggleable__label sk-toggleable__label-arrow\">Pipeline</label><div class=\"sk-toggleable__content\"><pre>Pipeline(steps=[(&#x27;Imputer&#x27;, SimpleImputer(strategy=&#x27;median&#x27;)),\n",
              "                (&#x27;Scaler&#x27;, StandardScaler())])</pre></div></div></div><div class=\"sk-serial\"><div class=\"sk-item\"><div class=\"sk-estimator sk-toggleable\"><input class=\"sk-toggleable__control sk-hidden--visually\" id=\"211aaf94-15f2-4852-b19a-424653af8ed4\" type=\"checkbox\" ><label for=\"211aaf94-15f2-4852-b19a-424653af8ed4\" class=\"sk-toggleable__label sk-toggleable__label-arrow\">SimpleImputer</label><div class=\"sk-toggleable__content\"><pre>SimpleImputer(strategy=&#x27;median&#x27;)</pre></div></div></div><div class=\"sk-item\"><div class=\"sk-estimator sk-toggleable\"><input class=\"sk-toggleable__control sk-hidden--visually\" id=\"d595c53d-d463-47f4-9606-a4a4725860c8\" type=\"checkbox\" ><label for=\"d595c53d-d463-47f4-9606-a4a4725860c8\" class=\"sk-toggleable__label sk-toggleable__label-arrow\">StandardScaler</label><div class=\"sk-toggleable__content\"><pre>StandardScaler()</pre></div></div></div></div></div></div></div>"
            ]
          },
          "metadata": {},
          "execution_count": 28
        }
      ]
    },
    {
      "cell_type": "markdown",
      "source": [
        "###**4.4 Categorical Variable Pipeline**"
      ],
      "metadata": {
        "id": "I6xTyglqjmQh"
      }
    },
    {
      "cell_type": "code",
      "source": [
        "from sklearn.preprocessing import OneHotEncoder\n",
        "\n",
        "# Building hte categorical feature pipeline. \n",
        "cat_pipeline = Pipeline([\n",
        "        (\"Imputer\", SimpleImputer(strategy = \"most_frequent\")),\n",
        "        (\"Cat_Encoder\", OneHotEncoder(sparse = False, drop = \"first\"))\n",
        "    ])\n",
        "\n",
        "cat_pipeline"
      ],
      "metadata": {
        "id": "hUd20D9s3Tgf",
        "colab": {
          "base_uri": "https://localhost:8080/",
          "height": 126
        },
        "outputId": "b2e993ca-be01-43d6-dcc4-c5e9abff70bd"
      },
      "execution_count": null,
      "outputs": [
        {
          "output_type": "execute_result",
          "data": {
            "text/plain": [
              "Pipeline(steps=[('Imputer', SimpleImputer(strategy='most_frequent')),\n",
              "                ('Cat_Encoder', OneHotEncoder(drop='first', sparse=False))])"
            ],
            "text/html": [
              "<style>#sk-8926b76c-bd4c-4aa7-81cb-346da864009e {color: black;background-color: white;}#sk-8926b76c-bd4c-4aa7-81cb-346da864009e pre{padding: 0;}#sk-8926b76c-bd4c-4aa7-81cb-346da864009e div.sk-toggleable {background-color: white;}#sk-8926b76c-bd4c-4aa7-81cb-346da864009e label.sk-toggleable__label {cursor: pointer;display: block;width: 100%;margin-bottom: 0;padding: 0.3em;box-sizing: border-box;text-align: center;}#sk-8926b76c-bd4c-4aa7-81cb-346da864009e label.sk-toggleable__label-arrow:before {content: \"▸\";float: left;margin-right: 0.25em;color: #696969;}#sk-8926b76c-bd4c-4aa7-81cb-346da864009e label.sk-toggleable__label-arrow:hover:before {color: black;}#sk-8926b76c-bd4c-4aa7-81cb-346da864009e div.sk-estimator:hover label.sk-toggleable__label-arrow:before {color: black;}#sk-8926b76c-bd4c-4aa7-81cb-346da864009e div.sk-toggleable__content {max-height: 0;max-width: 0;overflow: hidden;text-align: left;background-color: #f0f8ff;}#sk-8926b76c-bd4c-4aa7-81cb-346da864009e div.sk-toggleable__content pre {margin: 0.2em;color: black;border-radius: 0.25em;background-color: #f0f8ff;}#sk-8926b76c-bd4c-4aa7-81cb-346da864009e input.sk-toggleable__control:checked~div.sk-toggleable__content {max-height: 200px;max-width: 100%;overflow: auto;}#sk-8926b76c-bd4c-4aa7-81cb-346da864009e input.sk-toggleable__control:checked~label.sk-toggleable__label-arrow:before {content: \"▾\";}#sk-8926b76c-bd4c-4aa7-81cb-346da864009e div.sk-estimator input.sk-toggleable__control:checked~label.sk-toggleable__label {background-color: #d4ebff;}#sk-8926b76c-bd4c-4aa7-81cb-346da864009e div.sk-label input.sk-toggleable__control:checked~label.sk-toggleable__label {background-color: #d4ebff;}#sk-8926b76c-bd4c-4aa7-81cb-346da864009e input.sk-hidden--visually {border: 0;clip: rect(1px 1px 1px 1px);clip: rect(1px, 1px, 1px, 1px);height: 1px;margin: -1px;overflow: hidden;padding: 0;position: absolute;width: 1px;}#sk-8926b76c-bd4c-4aa7-81cb-346da864009e div.sk-estimator {font-family: monospace;background-color: #f0f8ff;border: 1px dotted black;border-radius: 0.25em;box-sizing: border-box;margin-bottom: 0.5em;}#sk-8926b76c-bd4c-4aa7-81cb-346da864009e div.sk-estimator:hover {background-color: #d4ebff;}#sk-8926b76c-bd4c-4aa7-81cb-346da864009e div.sk-parallel-item::after {content: \"\";width: 100%;border-bottom: 1px solid gray;flex-grow: 1;}#sk-8926b76c-bd4c-4aa7-81cb-346da864009e div.sk-label:hover label.sk-toggleable__label {background-color: #d4ebff;}#sk-8926b76c-bd4c-4aa7-81cb-346da864009e div.sk-serial::before {content: \"\";position: absolute;border-left: 1px solid gray;box-sizing: border-box;top: 2em;bottom: 0;left: 50%;}#sk-8926b76c-bd4c-4aa7-81cb-346da864009e div.sk-serial {display: flex;flex-direction: column;align-items: center;background-color: white;padding-right: 0.2em;padding-left: 0.2em;}#sk-8926b76c-bd4c-4aa7-81cb-346da864009e div.sk-item {z-index: 1;}#sk-8926b76c-bd4c-4aa7-81cb-346da864009e div.sk-parallel {display: flex;align-items: stretch;justify-content: center;background-color: white;}#sk-8926b76c-bd4c-4aa7-81cb-346da864009e div.sk-parallel::before {content: \"\";position: absolute;border-left: 1px solid gray;box-sizing: border-box;top: 2em;bottom: 0;left: 50%;}#sk-8926b76c-bd4c-4aa7-81cb-346da864009e div.sk-parallel-item {display: flex;flex-direction: column;position: relative;background-color: white;}#sk-8926b76c-bd4c-4aa7-81cb-346da864009e div.sk-parallel-item:first-child::after {align-self: flex-end;width: 50%;}#sk-8926b76c-bd4c-4aa7-81cb-346da864009e div.sk-parallel-item:last-child::after {align-self: flex-start;width: 50%;}#sk-8926b76c-bd4c-4aa7-81cb-346da864009e div.sk-parallel-item:only-child::after {width: 0;}#sk-8926b76c-bd4c-4aa7-81cb-346da864009e div.sk-dashed-wrapped {border: 1px dashed gray;margin: 0 0.4em 0.5em 0.4em;box-sizing: border-box;padding-bottom: 0.4em;background-color: white;position: relative;}#sk-8926b76c-bd4c-4aa7-81cb-346da864009e div.sk-label label {font-family: monospace;font-weight: bold;background-color: white;display: inline-block;line-height: 1.2em;}#sk-8926b76c-bd4c-4aa7-81cb-346da864009e div.sk-label-container {position: relative;z-index: 2;text-align: center;}#sk-8926b76c-bd4c-4aa7-81cb-346da864009e div.sk-container {/* jupyter's `normalize.less` sets `[hidden] { display: none; }` but bootstrap.min.css set `[hidden] { display: none !important; }` so we also need the `!important` here to be able to override the default hidden behavior on the sphinx rendered scikit-learn.org. See: https://github.com/scikit-learn/scikit-learn/issues/21755 */display: inline-block !important;position: relative;}#sk-8926b76c-bd4c-4aa7-81cb-346da864009e div.sk-text-repr-fallback {display: none;}</style><div id=\"sk-8926b76c-bd4c-4aa7-81cb-346da864009e\" class=\"sk-top-container\"><div class=\"sk-text-repr-fallback\"><pre>Pipeline(steps=[(&#x27;Imputer&#x27;, SimpleImputer(strategy=&#x27;most_frequent&#x27;)),\n",
              "                (&#x27;Cat_Encoder&#x27;, OneHotEncoder(drop=&#x27;first&#x27;, sparse=False))])</pre><b>Please rerun this cell to show the HTML repr or trust the notebook.</b></div><div class=\"sk-container\" hidden><div class=\"sk-item sk-dashed-wrapped\"><div class=\"sk-label-container\"><div class=\"sk-label sk-toggleable\"><input class=\"sk-toggleable__control sk-hidden--visually\" id=\"9eb41fe9-73c5-4e7c-96fd-23d77440b9d5\" type=\"checkbox\" ><label for=\"9eb41fe9-73c5-4e7c-96fd-23d77440b9d5\" class=\"sk-toggleable__label sk-toggleable__label-arrow\">Pipeline</label><div class=\"sk-toggleable__content\"><pre>Pipeline(steps=[(&#x27;Imputer&#x27;, SimpleImputer(strategy=&#x27;most_frequent&#x27;)),\n",
              "                (&#x27;Cat_Encoder&#x27;, OneHotEncoder(drop=&#x27;first&#x27;, sparse=False))])</pre></div></div></div><div class=\"sk-serial\"><div class=\"sk-item\"><div class=\"sk-estimator sk-toggleable\"><input class=\"sk-toggleable__control sk-hidden--visually\" id=\"139aba6d-c249-4341-a86b-4be9e1e172ed\" type=\"checkbox\" ><label for=\"139aba6d-c249-4341-a86b-4be9e1e172ed\" class=\"sk-toggleable__label sk-toggleable__label-arrow\">SimpleImputer</label><div class=\"sk-toggleable__content\"><pre>SimpleImputer(strategy=&#x27;most_frequent&#x27;)</pre></div></div></div><div class=\"sk-item\"><div class=\"sk-estimator sk-toggleable\"><input class=\"sk-toggleable__control sk-hidden--visually\" id=\"c7af3225-829d-4306-8a67-e874a77cf129\" type=\"checkbox\" ><label for=\"c7af3225-829d-4306-8a67-e874a77cf129\" class=\"sk-toggleable__label sk-toggleable__label-arrow\">OneHotEncoder</label><div class=\"sk-toggleable__content\"><pre>OneHotEncoder(drop=&#x27;first&#x27;, sparse=False)</pre></div></div></div></div></div></div></div>"
            ]
          },
          "metadata": {},
          "execution_count": 29
        }
      ]
    },
    {
      "cell_type": "markdown",
      "source": [
        "###**4.5 Pre-Processing Pipeline**"
      ],
      "metadata": {
        "id": "8UY83Wcbjuzh"
      }
    },
    {
      "cell_type": "code",
      "source": [
        "from sklearn.compose import ColumnTransformer\n",
        "from sklearn.pipeline import make_pipeline\n",
        "from sklearn.feature_selection import SequentialFeatureSelector\n",
        "from sklearn.linear_model import LinearRegression\n",
        "\n",
        "\n",
        "# Define the numerical and categorical variables.\n",
        "num_variables = ['Term', 'NoEmp', 'RetainedJob', 'SBA_Appv']\n",
        "cat_variables = ['UrbanRural', 'NewOrExist', 'Franchised', 'StateSame', 'FinanCrisis', \n",
        "                 'FullDisbursed',\t'RevLineCredit', 'LowDocP']\n",
        "\n",
        "# Build pre-processing pipeline. \n",
        "preprocessing = ColumnTransformer([ (\"Numerical\", num_pipeline, num_variables), (\"Categorical\", cat_pipeline, cat_variables )])\n",
        "\n",
        "preprocess_pipeline = Pipeline([ ('Preprocessing', preprocessing),\n",
        "                                      ('Select', SequentialFeatureSelector(LinearRegression(), n_features_to_select= 1))])\n",
        "\n",
        "preprocess_pipeline"
      ],
      "metadata": {
        "id": "n3H5UdU03VX7",
        "colab": {
          "base_uri": "https://localhost:8080/",
          "height": 268
        },
        "outputId": "6afa583f-b3ad-4ce4-be53-e9156ac7ec10"
      },
      "execution_count": null,
      "outputs": [
        {
          "output_type": "execute_result",
          "data": {
            "text/plain": [
              "Pipeline(steps=[('Preprocessing',\n",
              "                 ColumnTransformer(transformers=[('Numerical',\n",
              "                                                  Pipeline(steps=[('Imputer',\n",
              "                                                                   SimpleImputer(strategy='median')),\n",
              "                                                                  ('Scaler',\n",
              "                                                                   StandardScaler())]),\n",
              "                                                  ['Term', 'NoEmp',\n",
              "                                                   'RetainedJob', 'SBA_Appv']),\n",
              "                                                 ('Categorical',\n",
              "                                                  Pipeline(steps=[('Imputer',\n",
              "                                                                   SimpleImputer(strategy='most_frequent')),\n",
              "                                                                  ('Cat_Encoder',\n",
              "                                                                   OneHotEncoder(drop='first',\n",
              "                                                                                 sparse=False))]),\n",
              "                                                  ['UrbanRural', 'NewOrExist',\n",
              "                                                   'Franchised', 'StateSame',\n",
              "                                                   'FinanCrisis',\n",
              "                                                   'FullDisbursed',\n",
              "                                                   'RevLineCredit',\n",
              "                                                   'LowDocP'])])),\n",
              "                ('Select',\n",
              "                 SequentialFeatureSelector(estimator=LinearRegression(),\n",
              "                                           n_features_to_select=1))])"
            ],
            "text/html": [
              "<style>#sk-e0c43fa2-a596-4d8e-bf60-3214e715d18f {color: black;background-color: white;}#sk-e0c43fa2-a596-4d8e-bf60-3214e715d18f pre{padding: 0;}#sk-e0c43fa2-a596-4d8e-bf60-3214e715d18f div.sk-toggleable {background-color: white;}#sk-e0c43fa2-a596-4d8e-bf60-3214e715d18f label.sk-toggleable__label {cursor: pointer;display: block;width: 100%;margin-bottom: 0;padding: 0.3em;box-sizing: border-box;text-align: center;}#sk-e0c43fa2-a596-4d8e-bf60-3214e715d18f label.sk-toggleable__label-arrow:before {content: \"▸\";float: left;margin-right: 0.25em;color: #696969;}#sk-e0c43fa2-a596-4d8e-bf60-3214e715d18f label.sk-toggleable__label-arrow:hover:before {color: black;}#sk-e0c43fa2-a596-4d8e-bf60-3214e715d18f div.sk-estimator:hover label.sk-toggleable__label-arrow:before {color: black;}#sk-e0c43fa2-a596-4d8e-bf60-3214e715d18f div.sk-toggleable__content {max-height: 0;max-width: 0;overflow: hidden;text-align: left;background-color: #f0f8ff;}#sk-e0c43fa2-a596-4d8e-bf60-3214e715d18f div.sk-toggleable__content pre {margin: 0.2em;color: black;border-radius: 0.25em;background-color: #f0f8ff;}#sk-e0c43fa2-a596-4d8e-bf60-3214e715d18f input.sk-toggleable__control:checked~div.sk-toggleable__content {max-height: 200px;max-width: 100%;overflow: auto;}#sk-e0c43fa2-a596-4d8e-bf60-3214e715d18f input.sk-toggleable__control:checked~label.sk-toggleable__label-arrow:before {content: \"▾\";}#sk-e0c43fa2-a596-4d8e-bf60-3214e715d18f div.sk-estimator input.sk-toggleable__control:checked~label.sk-toggleable__label {background-color: #d4ebff;}#sk-e0c43fa2-a596-4d8e-bf60-3214e715d18f div.sk-label input.sk-toggleable__control:checked~label.sk-toggleable__label {background-color: #d4ebff;}#sk-e0c43fa2-a596-4d8e-bf60-3214e715d18f input.sk-hidden--visually {border: 0;clip: rect(1px 1px 1px 1px);clip: rect(1px, 1px, 1px, 1px);height: 1px;margin: -1px;overflow: hidden;padding: 0;position: absolute;width: 1px;}#sk-e0c43fa2-a596-4d8e-bf60-3214e715d18f div.sk-estimator {font-family: monospace;background-color: #f0f8ff;border: 1px dotted black;border-radius: 0.25em;box-sizing: border-box;margin-bottom: 0.5em;}#sk-e0c43fa2-a596-4d8e-bf60-3214e715d18f div.sk-estimator:hover {background-color: #d4ebff;}#sk-e0c43fa2-a596-4d8e-bf60-3214e715d18f div.sk-parallel-item::after {content: \"\";width: 100%;border-bottom: 1px solid gray;flex-grow: 1;}#sk-e0c43fa2-a596-4d8e-bf60-3214e715d18f div.sk-label:hover label.sk-toggleable__label {background-color: #d4ebff;}#sk-e0c43fa2-a596-4d8e-bf60-3214e715d18f div.sk-serial::before {content: \"\";position: absolute;border-left: 1px solid gray;box-sizing: border-box;top: 2em;bottom: 0;left: 50%;}#sk-e0c43fa2-a596-4d8e-bf60-3214e715d18f div.sk-serial {display: flex;flex-direction: column;align-items: center;background-color: white;padding-right: 0.2em;padding-left: 0.2em;}#sk-e0c43fa2-a596-4d8e-bf60-3214e715d18f div.sk-item {z-index: 1;}#sk-e0c43fa2-a596-4d8e-bf60-3214e715d18f div.sk-parallel {display: flex;align-items: stretch;justify-content: center;background-color: white;}#sk-e0c43fa2-a596-4d8e-bf60-3214e715d18f div.sk-parallel::before {content: \"\";position: absolute;border-left: 1px solid gray;box-sizing: border-box;top: 2em;bottom: 0;left: 50%;}#sk-e0c43fa2-a596-4d8e-bf60-3214e715d18f div.sk-parallel-item {display: flex;flex-direction: column;position: relative;background-color: white;}#sk-e0c43fa2-a596-4d8e-bf60-3214e715d18f div.sk-parallel-item:first-child::after {align-self: flex-end;width: 50%;}#sk-e0c43fa2-a596-4d8e-bf60-3214e715d18f div.sk-parallel-item:last-child::after {align-self: flex-start;width: 50%;}#sk-e0c43fa2-a596-4d8e-bf60-3214e715d18f div.sk-parallel-item:only-child::after {width: 0;}#sk-e0c43fa2-a596-4d8e-bf60-3214e715d18f div.sk-dashed-wrapped {border: 1px dashed gray;margin: 0 0.4em 0.5em 0.4em;box-sizing: border-box;padding-bottom: 0.4em;background-color: white;position: relative;}#sk-e0c43fa2-a596-4d8e-bf60-3214e715d18f div.sk-label label {font-family: monospace;font-weight: bold;background-color: white;display: inline-block;line-height: 1.2em;}#sk-e0c43fa2-a596-4d8e-bf60-3214e715d18f div.sk-label-container {position: relative;z-index: 2;text-align: center;}#sk-e0c43fa2-a596-4d8e-bf60-3214e715d18f div.sk-container {/* jupyter's `normalize.less` sets `[hidden] { display: none; }` but bootstrap.min.css set `[hidden] { display: none !important; }` so we also need the `!important` here to be able to override the default hidden behavior on the sphinx rendered scikit-learn.org. See: https://github.com/scikit-learn/scikit-learn/issues/21755 */display: inline-block !important;position: relative;}#sk-e0c43fa2-a596-4d8e-bf60-3214e715d18f div.sk-text-repr-fallback {display: none;}</style><div id=\"sk-e0c43fa2-a596-4d8e-bf60-3214e715d18f\" class=\"sk-top-container\"><div class=\"sk-text-repr-fallback\"><pre>Pipeline(steps=[(&#x27;Preprocessing&#x27;,\n",
              "                 ColumnTransformer(transformers=[(&#x27;Numerical&#x27;,\n",
              "                                                  Pipeline(steps=[(&#x27;Imputer&#x27;,\n",
              "                                                                   SimpleImputer(strategy=&#x27;median&#x27;)),\n",
              "                                                                  (&#x27;Scaler&#x27;,\n",
              "                                                                   StandardScaler())]),\n",
              "                                                  [&#x27;Term&#x27;, &#x27;NoEmp&#x27;,\n",
              "                                                   &#x27;RetainedJob&#x27;, &#x27;SBA_Appv&#x27;]),\n",
              "                                                 (&#x27;Categorical&#x27;,\n",
              "                                                  Pipeline(steps=[(&#x27;Imputer&#x27;,\n",
              "                                                                   SimpleImputer(strategy=&#x27;most_frequent&#x27;)),\n",
              "                                                                  (&#x27;Cat_Encoder&#x27;,\n",
              "                                                                   OneHotEncoder(drop=&#x27;first&#x27;,\n",
              "                                                                                 sparse=False))]),\n",
              "                                                  [&#x27;UrbanRural&#x27;, &#x27;NewOrExist&#x27;,\n",
              "                                                   &#x27;Franchised&#x27;, &#x27;StateSame&#x27;,\n",
              "                                                   &#x27;FinanCrisis&#x27;,\n",
              "                                                   &#x27;FullDisbursed&#x27;,\n",
              "                                                   &#x27;RevLineCredit&#x27;,\n",
              "                                                   &#x27;LowDocP&#x27;])])),\n",
              "                (&#x27;Select&#x27;,\n",
              "                 SequentialFeatureSelector(estimator=LinearRegression(),\n",
              "                                           n_features_to_select=1))])</pre><b>Please rerun this cell to show the HTML repr or trust the notebook.</b></div><div class=\"sk-container\" hidden><div class=\"sk-item sk-dashed-wrapped\"><div class=\"sk-label-container\"><div class=\"sk-label sk-toggleable\"><input class=\"sk-toggleable__control sk-hidden--visually\" id=\"70ea9289-f2c0-4b28-b508-76a7d0260723\" type=\"checkbox\" ><label for=\"70ea9289-f2c0-4b28-b508-76a7d0260723\" class=\"sk-toggleable__label sk-toggleable__label-arrow\">Pipeline</label><div class=\"sk-toggleable__content\"><pre>Pipeline(steps=[(&#x27;Preprocessing&#x27;,\n",
              "                 ColumnTransformer(transformers=[(&#x27;Numerical&#x27;,\n",
              "                                                  Pipeline(steps=[(&#x27;Imputer&#x27;,\n",
              "                                                                   SimpleImputer(strategy=&#x27;median&#x27;)),\n",
              "                                                                  (&#x27;Scaler&#x27;,\n",
              "                                                                   StandardScaler())]),\n",
              "                                                  [&#x27;Term&#x27;, &#x27;NoEmp&#x27;,\n",
              "                                                   &#x27;RetainedJob&#x27;, &#x27;SBA_Appv&#x27;]),\n",
              "                                                 (&#x27;Categorical&#x27;,\n",
              "                                                  Pipeline(steps=[(&#x27;Imputer&#x27;,\n",
              "                                                                   SimpleImputer(strategy=&#x27;most_frequent&#x27;)),\n",
              "                                                                  (&#x27;Cat_Encoder&#x27;,\n",
              "                                                                   OneHotEncoder(drop=&#x27;first&#x27;,\n",
              "                                                                                 sparse=False))]),\n",
              "                                                  [&#x27;UrbanRural&#x27;, &#x27;NewOrExist&#x27;,\n",
              "                                                   &#x27;Franchised&#x27;, &#x27;StateSame&#x27;,\n",
              "                                                   &#x27;FinanCrisis&#x27;,\n",
              "                                                   &#x27;FullDisbursed&#x27;,\n",
              "                                                   &#x27;RevLineCredit&#x27;,\n",
              "                                                   &#x27;LowDocP&#x27;])])),\n",
              "                (&#x27;Select&#x27;,\n",
              "                 SequentialFeatureSelector(estimator=LinearRegression(),\n",
              "                                           n_features_to_select=1))])</pre></div></div></div><div class=\"sk-serial\"><div class=\"sk-item sk-dashed-wrapped\"><div class=\"sk-label-container\"><div class=\"sk-label sk-toggleable\"><input class=\"sk-toggleable__control sk-hidden--visually\" id=\"973ede49-f545-4191-80e7-9e3d7a492188\" type=\"checkbox\" ><label for=\"973ede49-f545-4191-80e7-9e3d7a492188\" class=\"sk-toggleable__label sk-toggleable__label-arrow\">Preprocessing: ColumnTransformer</label><div class=\"sk-toggleable__content\"><pre>ColumnTransformer(transformers=[(&#x27;Numerical&#x27;,\n",
              "                                 Pipeline(steps=[(&#x27;Imputer&#x27;,\n",
              "                                                  SimpleImputer(strategy=&#x27;median&#x27;)),\n",
              "                                                 (&#x27;Scaler&#x27;, StandardScaler())]),\n",
              "                                 [&#x27;Term&#x27;, &#x27;NoEmp&#x27;, &#x27;RetainedJob&#x27;, &#x27;SBA_Appv&#x27;]),\n",
              "                                (&#x27;Categorical&#x27;,\n",
              "                                 Pipeline(steps=[(&#x27;Imputer&#x27;,\n",
              "                                                  SimpleImputer(strategy=&#x27;most_frequent&#x27;)),\n",
              "                                                 (&#x27;Cat_Encoder&#x27;,\n",
              "                                                  OneHotEncoder(drop=&#x27;first&#x27;,\n",
              "                                                                sparse=False))]),\n",
              "                                 [&#x27;UrbanRural&#x27;, &#x27;NewOrExist&#x27;, &#x27;Franchised&#x27;,\n",
              "                                  &#x27;StateSame&#x27;, &#x27;FinanCrisis&#x27;, &#x27;FullDisbursed&#x27;,\n",
              "                                  &#x27;RevLineCredit&#x27;, &#x27;LowDocP&#x27;])])</pre></div></div></div><div class=\"sk-parallel\"><div class=\"sk-parallel-item\"><div class=\"sk-item\"><div class=\"sk-label-container\"><div class=\"sk-label sk-toggleable\"><input class=\"sk-toggleable__control sk-hidden--visually\" id=\"1bb9946d-4e1a-4094-8e8f-254d80c41df3\" type=\"checkbox\" ><label for=\"1bb9946d-4e1a-4094-8e8f-254d80c41df3\" class=\"sk-toggleable__label sk-toggleable__label-arrow\">Numerical</label><div class=\"sk-toggleable__content\"><pre>[&#x27;Term&#x27;, &#x27;NoEmp&#x27;, &#x27;RetainedJob&#x27;, &#x27;SBA_Appv&#x27;]</pre></div></div></div><div class=\"sk-serial\"><div class=\"sk-item\"><div class=\"sk-serial\"><div class=\"sk-item\"><div class=\"sk-estimator sk-toggleable\"><input class=\"sk-toggleable__control sk-hidden--visually\" id=\"973e369a-9bad-4171-b193-00dc3c9f1378\" type=\"checkbox\" ><label for=\"973e369a-9bad-4171-b193-00dc3c9f1378\" class=\"sk-toggleable__label sk-toggleable__label-arrow\">SimpleImputer</label><div class=\"sk-toggleable__content\"><pre>SimpleImputer(strategy=&#x27;median&#x27;)</pre></div></div></div><div class=\"sk-item\"><div class=\"sk-estimator sk-toggleable\"><input class=\"sk-toggleable__control sk-hidden--visually\" id=\"e64e776c-0d8a-4da7-9112-0a3608a6bbde\" type=\"checkbox\" ><label for=\"e64e776c-0d8a-4da7-9112-0a3608a6bbde\" class=\"sk-toggleable__label sk-toggleable__label-arrow\">StandardScaler</label><div class=\"sk-toggleable__content\"><pre>StandardScaler()</pre></div></div></div></div></div></div></div></div><div class=\"sk-parallel-item\"><div class=\"sk-item\"><div class=\"sk-label-container\"><div class=\"sk-label sk-toggleable\"><input class=\"sk-toggleable__control sk-hidden--visually\" id=\"eb0a9808-a60a-403c-823f-02c3cd490b6d\" type=\"checkbox\" ><label for=\"eb0a9808-a60a-403c-823f-02c3cd490b6d\" class=\"sk-toggleable__label sk-toggleable__label-arrow\">Categorical</label><div class=\"sk-toggleable__content\"><pre>[&#x27;UrbanRural&#x27;, &#x27;NewOrExist&#x27;, &#x27;Franchised&#x27;, &#x27;StateSame&#x27;, &#x27;FinanCrisis&#x27;, &#x27;FullDisbursed&#x27;, &#x27;RevLineCredit&#x27;, &#x27;LowDocP&#x27;]</pre></div></div></div><div class=\"sk-serial\"><div class=\"sk-item\"><div class=\"sk-serial\"><div class=\"sk-item\"><div class=\"sk-estimator sk-toggleable\"><input class=\"sk-toggleable__control sk-hidden--visually\" id=\"0b8cff58-bb9e-46cb-88a9-f9363130a719\" type=\"checkbox\" ><label for=\"0b8cff58-bb9e-46cb-88a9-f9363130a719\" class=\"sk-toggleable__label sk-toggleable__label-arrow\">SimpleImputer</label><div class=\"sk-toggleable__content\"><pre>SimpleImputer(strategy=&#x27;most_frequent&#x27;)</pre></div></div></div><div class=\"sk-item\"><div class=\"sk-estimator sk-toggleable\"><input class=\"sk-toggleable__control sk-hidden--visually\" id=\"2bddf7df-3edd-4746-bcaa-5106d99a1976\" type=\"checkbox\" ><label for=\"2bddf7df-3edd-4746-bcaa-5106d99a1976\" class=\"sk-toggleable__label sk-toggleable__label-arrow\">OneHotEncoder</label><div class=\"sk-toggleable__content\"><pre>OneHotEncoder(drop=&#x27;first&#x27;, sparse=False)</pre></div></div></div></div></div></div></div></div></div></div><div class=\"sk-item sk-dashed-wrapped\"><div class=\"sk-label-container\"><div class=\"sk-label sk-toggleable\"><input class=\"sk-toggleable__control sk-hidden--visually\" id=\"cdbb71be-8e45-4542-8cd6-8a13eac3caed\" type=\"checkbox\" ><label for=\"cdbb71be-8e45-4542-8cd6-8a13eac3caed\" class=\"sk-toggleable__label sk-toggleable__label-arrow\">Select: SequentialFeatureSelector</label><div class=\"sk-toggleable__content\"><pre>SequentialFeatureSelector(estimator=LinearRegression(), n_features_to_select=1)</pre></div></div></div><div class=\"sk-parallel\"><div class=\"sk-parallel-item\"><div class=\"sk-item\"><div class=\"sk-serial\"><div class=\"sk-item\"><div class=\"sk-estimator sk-toggleable\"><input class=\"sk-toggleable__control sk-hidden--visually\" id=\"298826a5-c8dc-41e3-8e0c-f4f06d8e7c7c\" type=\"checkbox\" ><label for=\"298826a5-c8dc-41e3-8e0c-f4f06d8e7c7c\" class=\"sk-toggleable__label sk-toggleable__label-arrow\">LinearRegression</label><div class=\"sk-toggleable__content\"><pre>LinearRegression()</pre></div></div></div></div></div></div></div></div></div></div></div></div>"
            ]
          },
          "metadata": {},
          "execution_count": 30
        }
      ]
    },
    {
      "cell_type": "markdown",
      "source": [
        "##**5. Predictive Models**"
      ],
      "metadata": {
        "id": "MP_xuSsFNzYI"
      }
    },
    {
      "cell_type": "markdown",
      "source": [
        "###**5.1 Train-Test Spliting**"
      ],
      "metadata": {
        "id": "jcDLFmnkj24A"
      }
    },
    {
      "cell_type": "code",
      "source": [
        "# Split the train-test data. \n",
        "from sklearn.model_selection import train_test_split\n",
        "train_data, test_data = train_test_split(df_sample, test_size = .25, random_state = 11)\n",
        "\n",
        "# Display shape of train and test dataset.\n",
        "train_data.shape, test_data.shape"
      ],
      "metadata": {
        "id": "CeDEg96p4XhV",
        "colab": {
          "base_uri": "https://localhost:8080/"
        },
        "outputId": "bc8eb495-d5c0-4276-f68f-f78056d59783"
      },
      "execution_count": null,
      "outputs": [
        {
          "output_type": "execute_result",
          "data": {
            "text/plain": [
              "((9723, 13), (3242, 13))"
            ]
          },
          "metadata": {},
          "execution_count": 31
        }
      ]
    },
    {
      "cell_type": "markdown",
      "source": [
        "###**5.2 Data Preparation**\n",
        "Fitting data into Pre-Processing Pipelines. "
      ],
      "metadata": {
        "id": "qhq_hORgoCKm"
      }
    },
    {
      "cell_type": "code",
      "source": [
        "# Define X and y variables from the training dataset. \n",
        "df_X = train_data.drop(\"MIS\", axis = 1)\n",
        "df_y = train_data[\"MIS\"]\n",
        "\n",
        "# Fit data into preprocessing pipeline. \n",
        "X_train = preprocess_pipeline.fit_transform(df_X, df_y) # Feature selection requires df_y to be put here. \n",
        "y_train = df_y.values\n",
        "\n",
        "# Define X and y variables from the testing dataset. \n",
        "X = test_data.drop(\"MIS\", axis = 1)\n",
        "y = test_data[\"MIS\"]\n",
        "\n",
        "# Fit data into preprocessing pipeline. \n",
        "X_test = preprocess_pipeline.fit_transform(X, y) # Feature selection requires y to be put here. \n",
        "y_test = y.values"
      ],
      "metadata": {
        "id": "K23OXRfHoBTg"
      },
      "execution_count": null,
      "outputs": []
    },
    {
      "cell_type": "markdown",
      "source": [
        "###**5.3 Logistic Regression**"
      ],
      "metadata": {
        "id": "KCuLXOmWj_56"
      }
    },
    {
      "cell_type": "code",
      "source": [
        "from sklearn.linear_model import LogisticRegression\n",
        "\n",
        "# Fit a Logistic Regression model on the training dataset. \n",
        "logistic = LogisticRegression(random_state = 11)\n",
        "logistic.fit(X_train, y_train)"
      ],
      "metadata": {
        "id": "g9CobEHS5AZU",
        "colab": {
          "base_uri": "https://localhost:8080/",
          "height": 75
        },
        "outputId": "ea895701-b751-46d5-9584-be89c51ecb7c"
      },
      "execution_count": null,
      "outputs": [
        {
          "output_type": "execute_result",
          "data": {
            "text/plain": [
              "LogisticRegression(random_state=11)"
            ],
            "text/html": [
              "<style>#sk-90f560dc-f4b3-4f94-a1d4-0fbf3802f529 {color: black;background-color: white;}#sk-90f560dc-f4b3-4f94-a1d4-0fbf3802f529 pre{padding: 0;}#sk-90f560dc-f4b3-4f94-a1d4-0fbf3802f529 div.sk-toggleable {background-color: white;}#sk-90f560dc-f4b3-4f94-a1d4-0fbf3802f529 label.sk-toggleable__label {cursor: pointer;display: block;width: 100%;margin-bottom: 0;padding: 0.3em;box-sizing: border-box;text-align: center;}#sk-90f560dc-f4b3-4f94-a1d4-0fbf3802f529 label.sk-toggleable__label-arrow:before {content: \"▸\";float: left;margin-right: 0.25em;color: #696969;}#sk-90f560dc-f4b3-4f94-a1d4-0fbf3802f529 label.sk-toggleable__label-arrow:hover:before {color: black;}#sk-90f560dc-f4b3-4f94-a1d4-0fbf3802f529 div.sk-estimator:hover label.sk-toggleable__label-arrow:before {color: black;}#sk-90f560dc-f4b3-4f94-a1d4-0fbf3802f529 div.sk-toggleable__content {max-height: 0;max-width: 0;overflow: hidden;text-align: left;background-color: #f0f8ff;}#sk-90f560dc-f4b3-4f94-a1d4-0fbf3802f529 div.sk-toggleable__content pre {margin: 0.2em;color: black;border-radius: 0.25em;background-color: #f0f8ff;}#sk-90f560dc-f4b3-4f94-a1d4-0fbf3802f529 input.sk-toggleable__control:checked~div.sk-toggleable__content {max-height: 200px;max-width: 100%;overflow: auto;}#sk-90f560dc-f4b3-4f94-a1d4-0fbf3802f529 input.sk-toggleable__control:checked~label.sk-toggleable__label-arrow:before {content: \"▾\";}#sk-90f560dc-f4b3-4f94-a1d4-0fbf3802f529 div.sk-estimator input.sk-toggleable__control:checked~label.sk-toggleable__label {background-color: #d4ebff;}#sk-90f560dc-f4b3-4f94-a1d4-0fbf3802f529 div.sk-label input.sk-toggleable__control:checked~label.sk-toggleable__label {background-color: #d4ebff;}#sk-90f560dc-f4b3-4f94-a1d4-0fbf3802f529 input.sk-hidden--visually {border: 0;clip: rect(1px 1px 1px 1px);clip: rect(1px, 1px, 1px, 1px);height: 1px;margin: -1px;overflow: hidden;padding: 0;position: absolute;width: 1px;}#sk-90f560dc-f4b3-4f94-a1d4-0fbf3802f529 div.sk-estimator {font-family: monospace;background-color: #f0f8ff;border: 1px dotted black;border-radius: 0.25em;box-sizing: border-box;margin-bottom: 0.5em;}#sk-90f560dc-f4b3-4f94-a1d4-0fbf3802f529 div.sk-estimator:hover {background-color: #d4ebff;}#sk-90f560dc-f4b3-4f94-a1d4-0fbf3802f529 div.sk-parallel-item::after {content: \"\";width: 100%;border-bottom: 1px solid gray;flex-grow: 1;}#sk-90f560dc-f4b3-4f94-a1d4-0fbf3802f529 div.sk-label:hover label.sk-toggleable__label {background-color: #d4ebff;}#sk-90f560dc-f4b3-4f94-a1d4-0fbf3802f529 div.sk-serial::before {content: \"\";position: absolute;border-left: 1px solid gray;box-sizing: border-box;top: 2em;bottom: 0;left: 50%;}#sk-90f560dc-f4b3-4f94-a1d4-0fbf3802f529 div.sk-serial {display: flex;flex-direction: column;align-items: center;background-color: white;padding-right: 0.2em;padding-left: 0.2em;}#sk-90f560dc-f4b3-4f94-a1d4-0fbf3802f529 div.sk-item {z-index: 1;}#sk-90f560dc-f4b3-4f94-a1d4-0fbf3802f529 div.sk-parallel {display: flex;align-items: stretch;justify-content: center;background-color: white;}#sk-90f560dc-f4b3-4f94-a1d4-0fbf3802f529 div.sk-parallel::before {content: \"\";position: absolute;border-left: 1px solid gray;box-sizing: border-box;top: 2em;bottom: 0;left: 50%;}#sk-90f560dc-f4b3-4f94-a1d4-0fbf3802f529 div.sk-parallel-item {display: flex;flex-direction: column;position: relative;background-color: white;}#sk-90f560dc-f4b3-4f94-a1d4-0fbf3802f529 div.sk-parallel-item:first-child::after {align-self: flex-end;width: 50%;}#sk-90f560dc-f4b3-4f94-a1d4-0fbf3802f529 div.sk-parallel-item:last-child::after {align-self: flex-start;width: 50%;}#sk-90f560dc-f4b3-4f94-a1d4-0fbf3802f529 div.sk-parallel-item:only-child::after {width: 0;}#sk-90f560dc-f4b3-4f94-a1d4-0fbf3802f529 div.sk-dashed-wrapped {border: 1px dashed gray;margin: 0 0.4em 0.5em 0.4em;box-sizing: border-box;padding-bottom: 0.4em;background-color: white;position: relative;}#sk-90f560dc-f4b3-4f94-a1d4-0fbf3802f529 div.sk-label label {font-family: monospace;font-weight: bold;background-color: white;display: inline-block;line-height: 1.2em;}#sk-90f560dc-f4b3-4f94-a1d4-0fbf3802f529 div.sk-label-container {position: relative;z-index: 2;text-align: center;}#sk-90f560dc-f4b3-4f94-a1d4-0fbf3802f529 div.sk-container {/* jupyter's `normalize.less` sets `[hidden] { display: none; }` but bootstrap.min.css set `[hidden] { display: none !important; }` so we also need the `!important` here to be able to override the default hidden behavior on the sphinx rendered scikit-learn.org. See: https://github.com/scikit-learn/scikit-learn/issues/21755 */display: inline-block !important;position: relative;}#sk-90f560dc-f4b3-4f94-a1d4-0fbf3802f529 div.sk-text-repr-fallback {display: none;}</style><div id=\"sk-90f560dc-f4b3-4f94-a1d4-0fbf3802f529\" class=\"sk-top-container\"><div class=\"sk-text-repr-fallback\"><pre>LogisticRegression(random_state=11)</pre><b>Please rerun this cell to show the HTML repr or trust the notebook.</b></div><div class=\"sk-container\" hidden><div class=\"sk-item\"><div class=\"sk-estimator sk-toggleable\"><input class=\"sk-toggleable__control sk-hidden--visually\" id=\"63f63645-1f27-4b0c-aa27-f6f7bbd29810\" type=\"checkbox\" checked><label for=\"63f63645-1f27-4b0c-aa27-f6f7bbd29810\" class=\"sk-toggleable__label sk-toggleable__label-arrow\">LogisticRegression</label><div class=\"sk-toggleable__content\"><pre>LogisticRegression(random_state=11)</pre></div></div></div></div></div>"
            ]
          },
          "metadata": {},
          "execution_count": 33
        }
      ]
    },
    {
      "cell_type": "code",
      "source": [
        "from sklearn.metrics import accuracy_score, balanced_accuracy_score\n",
        "\n",
        "# Prediciting using a Logistic Regression model. \n",
        "y_pred = logistic.predict(X_test)\n",
        "\n",
        "# Checking for accuracy.\n",
        "accuracy_score(y_test, y_pred)"
      ],
      "metadata": {
        "id": "FABmbrB6_ihI",
        "colab": {
          "base_uri": "https://localhost:8080/"
        },
        "outputId": "99eee848-4fc0-4feb-b68d-a6c138310ef5"
      },
      "execution_count": null,
      "outputs": [
        {
          "output_type": "execute_result",
          "data": {
            "text/plain": [
              "0.811844540407156"
            ]
          },
          "metadata": {},
          "execution_count": 34
        }
      ]
    },
    {
      "cell_type": "code",
      "source": [
        "from sklearn.model_selection import cross_val_score\n",
        "\n",
        "# Check for balanced accuracy score with cross validation. \n",
        "logistic_scores = cross_val_score(logistic, X_test, y_test, cv = 10, scoring = 'balanced_accuracy')\n",
        "logistic_scores.mean().round(3)"
      ],
      "metadata": {
        "id": "df2mtlVOlBCx",
        "colab": {
          "base_uri": "https://localhost:8080/"
        },
        "outputId": "b2cc0724-50cf-413a-a275-9987f2b13fe1"
      },
      "execution_count": null,
      "outputs": [
        {
          "output_type": "execute_result",
          "data": {
            "text/plain": [
              "0.542"
            ]
          },
          "metadata": {},
          "execution_count": 35
        }
      ]
    },
    {
      "cell_type": "code",
      "source": [
        "# Check for RMSE score.\n",
        "logistic_rmses = -cross_val_score(logistic, X_test, y_test, cv = 10, scoring = \"neg_root_mean_squared_error\")\n",
        "logistic_rmses.mean().round(3)"
      ],
      "metadata": {
        "colab": {
          "base_uri": "https://localhost:8080/"
        },
        "id": "eeflsAbyw1Ym",
        "outputId": "a1abdc93-5482-4bea-c03a-85a4156c4aee"
      },
      "execution_count": null,
      "outputs": [
        {
          "output_type": "execute_result",
          "data": {
            "text/plain": [
              "0.437"
            ]
          },
          "metadata": {},
          "execution_count": 36
        }
      ]
    },
    {
      "cell_type": "markdown",
      "source": [
        "###**5.4 Support Vector Classifier (SVC)**"
      ],
      "metadata": {
        "id": "DsdlAsMilz-k"
      }
    },
    {
      "cell_type": "markdown",
      "source": [
        "####**5.4.1 SCV(kernel = linear)**"
      ],
      "metadata": {
        "id": "u8ZieCzMEwc8"
      }
    },
    {
      "cell_type": "code",
      "source": [
        "from sklearn.svm import SVC\n",
        "\n",
        "#Fit a SVC model on the training dataset with \"linear\" as its kernel.\n",
        "svc_linear = SVC(kernel = 'linear', gamma = \"auto\")\n",
        "svc_linear.fit(X_train, y_train)"
      ],
      "metadata": {
        "id": "hPryRYUqE1Ej",
        "colab": {
          "base_uri": "https://localhost:8080/",
          "height": 75
        },
        "outputId": "ade6773f-e25e-4329-fd39-450efc2fa673"
      },
      "execution_count": null,
      "outputs": [
        {
          "output_type": "execute_result",
          "data": {
            "text/plain": [
              "SVC(gamma='auto', kernel='linear')"
            ],
            "text/html": [
              "<style>#sk-a26a948b-ca1a-4b6a-9d64-38da4f5ad664 {color: black;background-color: white;}#sk-a26a948b-ca1a-4b6a-9d64-38da4f5ad664 pre{padding: 0;}#sk-a26a948b-ca1a-4b6a-9d64-38da4f5ad664 div.sk-toggleable {background-color: white;}#sk-a26a948b-ca1a-4b6a-9d64-38da4f5ad664 label.sk-toggleable__label {cursor: pointer;display: block;width: 100%;margin-bottom: 0;padding: 0.3em;box-sizing: border-box;text-align: center;}#sk-a26a948b-ca1a-4b6a-9d64-38da4f5ad664 label.sk-toggleable__label-arrow:before {content: \"▸\";float: left;margin-right: 0.25em;color: #696969;}#sk-a26a948b-ca1a-4b6a-9d64-38da4f5ad664 label.sk-toggleable__label-arrow:hover:before {color: black;}#sk-a26a948b-ca1a-4b6a-9d64-38da4f5ad664 div.sk-estimator:hover label.sk-toggleable__label-arrow:before {color: black;}#sk-a26a948b-ca1a-4b6a-9d64-38da4f5ad664 div.sk-toggleable__content {max-height: 0;max-width: 0;overflow: hidden;text-align: left;background-color: #f0f8ff;}#sk-a26a948b-ca1a-4b6a-9d64-38da4f5ad664 div.sk-toggleable__content pre {margin: 0.2em;color: black;border-radius: 0.25em;background-color: #f0f8ff;}#sk-a26a948b-ca1a-4b6a-9d64-38da4f5ad664 input.sk-toggleable__control:checked~div.sk-toggleable__content {max-height: 200px;max-width: 100%;overflow: auto;}#sk-a26a948b-ca1a-4b6a-9d64-38da4f5ad664 input.sk-toggleable__control:checked~label.sk-toggleable__label-arrow:before {content: \"▾\";}#sk-a26a948b-ca1a-4b6a-9d64-38da4f5ad664 div.sk-estimator input.sk-toggleable__control:checked~label.sk-toggleable__label {background-color: #d4ebff;}#sk-a26a948b-ca1a-4b6a-9d64-38da4f5ad664 div.sk-label input.sk-toggleable__control:checked~label.sk-toggleable__label {background-color: #d4ebff;}#sk-a26a948b-ca1a-4b6a-9d64-38da4f5ad664 input.sk-hidden--visually {border: 0;clip: rect(1px 1px 1px 1px);clip: rect(1px, 1px, 1px, 1px);height: 1px;margin: -1px;overflow: hidden;padding: 0;position: absolute;width: 1px;}#sk-a26a948b-ca1a-4b6a-9d64-38da4f5ad664 div.sk-estimator {font-family: monospace;background-color: #f0f8ff;border: 1px dotted black;border-radius: 0.25em;box-sizing: border-box;margin-bottom: 0.5em;}#sk-a26a948b-ca1a-4b6a-9d64-38da4f5ad664 div.sk-estimator:hover {background-color: #d4ebff;}#sk-a26a948b-ca1a-4b6a-9d64-38da4f5ad664 div.sk-parallel-item::after {content: \"\";width: 100%;border-bottom: 1px solid gray;flex-grow: 1;}#sk-a26a948b-ca1a-4b6a-9d64-38da4f5ad664 div.sk-label:hover label.sk-toggleable__label {background-color: #d4ebff;}#sk-a26a948b-ca1a-4b6a-9d64-38da4f5ad664 div.sk-serial::before {content: \"\";position: absolute;border-left: 1px solid gray;box-sizing: border-box;top: 2em;bottom: 0;left: 50%;}#sk-a26a948b-ca1a-4b6a-9d64-38da4f5ad664 div.sk-serial {display: flex;flex-direction: column;align-items: center;background-color: white;padding-right: 0.2em;padding-left: 0.2em;}#sk-a26a948b-ca1a-4b6a-9d64-38da4f5ad664 div.sk-item {z-index: 1;}#sk-a26a948b-ca1a-4b6a-9d64-38da4f5ad664 div.sk-parallel {display: flex;align-items: stretch;justify-content: center;background-color: white;}#sk-a26a948b-ca1a-4b6a-9d64-38da4f5ad664 div.sk-parallel::before {content: \"\";position: absolute;border-left: 1px solid gray;box-sizing: border-box;top: 2em;bottom: 0;left: 50%;}#sk-a26a948b-ca1a-4b6a-9d64-38da4f5ad664 div.sk-parallel-item {display: flex;flex-direction: column;position: relative;background-color: white;}#sk-a26a948b-ca1a-4b6a-9d64-38da4f5ad664 div.sk-parallel-item:first-child::after {align-self: flex-end;width: 50%;}#sk-a26a948b-ca1a-4b6a-9d64-38da4f5ad664 div.sk-parallel-item:last-child::after {align-self: flex-start;width: 50%;}#sk-a26a948b-ca1a-4b6a-9d64-38da4f5ad664 div.sk-parallel-item:only-child::after {width: 0;}#sk-a26a948b-ca1a-4b6a-9d64-38da4f5ad664 div.sk-dashed-wrapped {border: 1px dashed gray;margin: 0 0.4em 0.5em 0.4em;box-sizing: border-box;padding-bottom: 0.4em;background-color: white;position: relative;}#sk-a26a948b-ca1a-4b6a-9d64-38da4f5ad664 div.sk-label label {font-family: monospace;font-weight: bold;background-color: white;display: inline-block;line-height: 1.2em;}#sk-a26a948b-ca1a-4b6a-9d64-38da4f5ad664 div.sk-label-container {position: relative;z-index: 2;text-align: center;}#sk-a26a948b-ca1a-4b6a-9d64-38da4f5ad664 div.sk-container {/* jupyter's `normalize.less` sets `[hidden] { display: none; }` but bootstrap.min.css set `[hidden] { display: none !important; }` so we also need the `!important` here to be able to override the default hidden behavior on the sphinx rendered scikit-learn.org. See: https://github.com/scikit-learn/scikit-learn/issues/21755 */display: inline-block !important;position: relative;}#sk-a26a948b-ca1a-4b6a-9d64-38da4f5ad664 div.sk-text-repr-fallback {display: none;}</style><div id=\"sk-a26a948b-ca1a-4b6a-9d64-38da4f5ad664\" class=\"sk-top-container\"><div class=\"sk-text-repr-fallback\"><pre>SVC(gamma=&#x27;auto&#x27;, kernel=&#x27;linear&#x27;)</pre><b>Please rerun this cell to show the HTML repr or trust the notebook.</b></div><div class=\"sk-container\" hidden><div class=\"sk-item\"><div class=\"sk-estimator sk-toggleable\"><input class=\"sk-toggleable__control sk-hidden--visually\" id=\"74cda6e4-6918-472d-aec7-814f1b66b94f\" type=\"checkbox\" checked><label for=\"74cda6e4-6918-472d-aec7-814f1b66b94f\" class=\"sk-toggleable__label sk-toggleable__label-arrow\">SVC</label><div class=\"sk-toggleable__content\"><pre>SVC(gamma=&#x27;auto&#x27;, kernel=&#x27;linear&#x27;)</pre></div></div></div></div></div>"
            ]
          },
          "metadata": {},
          "execution_count": 37
        }
      ]
    },
    {
      "cell_type": "code",
      "source": [
        "# Check for balanced accuracy score with cross validation. \n",
        "# svc_linear_scores = cross_val_score(svc_linear, X_test, y_test, cv = 10, scoring = 'balanced_accuracy')\n",
        "# svc_linear_scores.mean().round(3)\n",
        "\n",
        "# It takes more than 10 minutes to run this model, so we decided to skip it for this project.\n",
        "# We would surely run it after the semester is over."
      ],
      "metadata": {
        "id": "52UqwBCtmjJR"
      },
      "execution_count": null,
      "outputs": []
    },
    {
      "cell_type": "markdown",
      "source": [
        "####**5.4.2 SCV(kernel = poly)**"
      ],
      "metadata": {
        "id": "xwvp8y0cE5-4"
      }
    },
    {
      "cell_type": "code",
      "source": [
        "# Fit a SVC model on the training dataset with \"poly\" as its kernel.\n",
        "svc_poly = SVC(kernel = 'poly', gamma = \"auto\")\n",
        "svc_poly.fit(X_train, y_train)"
      ],
      "metadata": {
        "id": "5VEdDbvRE5Vg",
        "colab": {
          "base_uri": "https://localhost:8080/",
          "height": 75
        },
        "outputId": "d7d30a8a-d786-44fb-be3a-488f50a63900"
      },
      "execution_count": null,
      "outputs": [
        {
          "output_type": "execute_result",
          "data": {
            "text/plain": [
              "SVC(gamma='auto', kernel='poly')"
            ],
            "text/html": [
              "<style>#sk-94b91b70-4b2e-478a-a553-aa16c3b8d504 {color: black;background-color: white;}#sk-94b91b70-4b2e-478a-a553-aa16c3b8d504 pre{padding: 0;}#sk-94b91b70-4b2e-478a-a553-aa16c3b8d504 div.sk-toggleable {background-color: white;}#sk-94b91b70-4b2e-478a-a553-aa16c3b8d504 label.sk-toggleable__label {cursor: pointer;display: block;width: 100%;margin-bottom: 0;padding: 0.3em;box-sizing: border-box;text-align: center;}#sk-94b91b70-4b2e-478a-a553-aa16c3b8d504 label.sk-toggleable__label-arrow:before {content: \"▸\";float: left;margin-right: 0.25em;color: #696969;}#sk-94b91b70-4b2e-478a-a553-aa16c3b8d504 label.sk-toggleable__label-arrow:hover:before {color: black;}#sk-94b91b70-4b2e-478a-a553-aa16c3b8d504 div.sk-estimator:hover label.sk-toggleable__label-arrow:before {color: black;}#sk-94b91b70-4b2e-478a-a553-aa16c3b8d504 div.sk-toggleable__content {max-height: 0;max-width: 0;overflow: hidden;text-align: left;background-color: #f0f8ff;}#sk-94b91b70-4b2e-478a-a553-aa16c3b8d504 div.sk-toggleable__content pre {margin: 0.2em;color: black;border-radius: 0.25em;background-color: #f0f8ff;}#sk-94b91b70-4b2e-478a-a553-aa16c3b8d504 input.sk-toggleable__control:checked~div.sk-toggleable__content {max-height: 200px;max-width: 100%;overflow: auto;}#sk-94b91b70-4b2e-478a-a553-aa16c3b8d504 input.sk-toggleable__control:checked~label.sk-toggleable__label-arrow:before {content: \"▾\";}#sk-94b91b70-4b2e-478a-a553-aa16c3b8d504 div.sk-estimator input.sk-toggleable__control:checked~label.sk-toggleable__label {background-color: #d4ebff;}#sk-94b91b70-4b2e-478a-a553-aa16c3b8d504 div.sk-label input.sk-toggleable__control:checked~label.sk-toggleable__label {background-color: #d4ebff;}#sk-94b91b70-4b2e-478a-a553-aa16c3b8d504 input.sk-hidden--visually {border: 0;clip: rect(1px 1px 1px 1px);clip: rect(1px, 1px, 1px, 1px);height: 1px;margin: -1px;overflow: hidden;padding: 0;position: absolute;width: 1px;}#sk-94b91b70-4b2e-478a-a553-aa16c3b8d504 div.sk-estimator {font-family: monospace;background-color: #f0f8ff;border: 1px dotted black;border-radius: 0.25em;box-sizing: border-box;margin-bottom: 0.5em;}#sk-94b91b70-4b2e-478a-a553-aa16c3b8d504 div.sk-estimator:hover {background-color: #d4ebff;}#sk-94b91b70-4b2e-478a-a553-aa16c3b8d504 div.sk-parallel-item::after {content: \"\";width: 100%;border-bottom: 1px solid gray;flex-grow: 1;}#sk-94b91b70-4b2e-478a-a553-aa16c3b8d504 div.sk-label:hover label.sk-toggleable__label {background-color: #d4ebff;}#sk-94b91b70-4b2e-478a-a553-aa16c3b8d504 div.sk-serial::before {content: \"\";position: absolute;border-left: 1px solid gray;box-sizing: border-box;top: 2em;bottom: 0;left: 50%;}#sk-94b91b70-4b2e-478a-a553-aa16c3b8d504 div.sk-serial {display: flex;flex-direction: column;align-items: center;background-color: white;padding-right: 0.2em;padding-left: 0.2em;}#sk-94b91b70-4b2e-478a-a553-aa16c3b8d504 div.sk-item {z-index: 1;}#sk-94b91b70-4b2e-478a-a553-aa16c3b8d504 div.sk-parallel {display: flex;align-items: stretch;justify-content: center;background-color: white;}#sk-94b91b70-4b2e-478a-a553-aa16c3b8d504 div.sk-parallel::before {content: \"\";position: absolute;border-left: 1px solid gray;box-sizing: border-box;top: 2em;bottom: 0;left: 50%;}#sk-94b91b70-4b2e-478a-a553-aa16c3b8d504 div.sk-parallel-item {display: flex;flex-direction: column;position: relative;background-color: white;}#sk-94b91b70-4b2e-478a-a553-aa16c3b8d504 div.sk-parallel-item:first-child::after {align-self: flex-end;width: 50%;}#sk-94b91b70-4b2e-478a-a553-aa16c3b8d504 div.sk-parallel-item:last-child::after {align-self: flex-start;width: 50%;}#sk-94b91b70-4b2e-478a-a553-aa16c3b8d504 div.sk-parallel-item:only-child::after {width: 0;}#sk-94b91b70-4b2e-478a-a553-aa16c3b8d504 div.sk-dashed-wrapped {border: 1px dashed gray;margin: 0 0.4em 0.5em 0.4em;box-sizing: border-box;padding-bottom: 0.4em;background-color: white;position: relative;}#sk-94b91b70-4b2e-478a-a553-aa16c3b8d504 div.sk-label label {font-family: monospace;font-weight: bold;background-color: white;display: inline-block;line-height: 1.2em;}#sk-94b91b70-4b2e-478a-a553-aa16c3b8d504 div.sk-label-container {position: relative;z-index: 2;text-align: center;}#sk-94b91b70-4b2e-478a-a553-aa16c3b8d504 div.sk-container {/* jupyter's `normalize.less` sets `[hidden] { display: none; }` but bootstrap.min.css set `[hidden] { display: none !important; }` so we also need the `!important` here to be able to override the default hidden behavior on the sphinx rendered scikit-learn.org. See: https://github.com/scikit-learn/scikit-learn/issues/21755 */display: inline-block !important;position: relative;}#sk-94b91b70-4b2e-478a-a553-aa16c3b8d504 div.sk-text-repr-fallback {display: none;}</style><div id=\"sk-94b91b70-4b2e-478a-a553-aa16c3b8d504\" class=\"sk-top-container\"><div class=\"sk-text-repr-fallback\"><pre>SVC(gamma=&#x27;auto&#x27;, kernel=&#x27;poly&#x27;)</pre><b>Please rerun this cell to show the HTML repr or trust the notebook.</b></div><div class=\"sk-container\" hidden><div class=\"sk-item\"><div class=\"sk-estimator sk-toggleable\"><input class=\"sk-toggleable__control sk-hidden--visually\" id=\"b76f5a29-edfe-41c1-90c0-a11b4fe9277f\" type=\"checkbox\" checked><label for=\"b76f5a29-edfe-41c1-90c0-a11b4fe9277f\" class=\"sk-toggleable__label sk-toggleable__label-arrow\">SVC</label><div class=\"sk-toggleable__content\"><pre>SVC(gamma=&#x27;auto&#x27;, kernel=&#x27;poly&#x27;)</pre></div></div></div></div></div>"
            ]
          },
          "metadata": {},
          "execution_count": 39
        }
      ]
    },
    {
      "cell_type": "code",
      "source": [
        "# Check for balanced accuracy score with cross validation. \n",
        "#svc_poly_scores = cross_val_score(svc_poly, X_test, y_test, cv = 10, scoring = 'balanced_accuracy')\n",
        "#svc_poly_scores.mean().round(3)\n",
        "\n",
        "# This one also takes more than 10 minutes to run this model, so we decided to skip it for this project.\n",
        "# We would surely run it after the semester is over."
      ],
      "metadata": {
        "id": "xtD_1tL8FQGn"
      },
      "execution_count": null,
      "outputs": []
    },
    {
      "cell_type": "markdown",
      "source": [
        "####**5.4.3 SVC (kernel = rbf)**"
      ],
      "metadata": {
        "id": "HC_31hqYFX1I"
      }
    },
    {
      "cell_type": "code",
      "source": [
        "# Fit a SVC model on the training dataset with \"rbf\" as its kernel.\n",
        "svc_rbf = SVC(kernel = 'rbf', gamma = \"auto\")\n",
        "svc_rbf.fit(X_train, y_train)"
      ],
      "metadata": {
        "id": "YHRZqZ0DFf9H",
        "colab": {
          "base_uri": "https://localhost:8080/",
          "height": 75
        },
        "outputId": "e572094e-7025-470b-85b0-3646be1b8a86"
      },
      "execution_count": null,
      "outputs": [
        {
          "output_type": "execute_result",
          "data": {
            "text/plain": [
              "SVC(gamma='auto')"
            ],
            "text/html": [
              "<style>#sk-3b640449-51fb-4663-990b-06401683ff93 {color: black;background-color: white;}#sk-3b640449-51fb-4663-990b-06401683ff93 pre{padding: 0;}#sk-3b640449-51fb-4663-990b-06401683ff93 div.sk-toggleable {background-color: white;}#sk-3b640449-51fb-4663-990b-06401683ff93 label.sk-toggleable__label {cursor: pointer;display: block;width: 100%;margin-bottom: 0;padding: 0.3em;box-sizing: border-box;text-align: center;}#sk-3b640449-51fb-4663-990b-06401683ff93 label.sk-toggleable__label-arrow:before {content: \"▸\";float: left;margin-right: 0.25em;color: #696969;}#sk-3b640449-51fb-4663-990b-06401683ff93 label.sk-toggleable__label-arrow:hover:before {color: black;}#sk-3b640449-51fb-4663-990b-06401683ff93 div.sk-estimator:hover label.sk-toggleable__label-arrow:before {color: black;}#sk-3b640449-51fb-4663-990b-06401683ff93 div.sk-toggleable__content {max-height: 0;max-width: 0;overflow: hidden;text-align: left;background-color: #f0f8ff;}#sk-3b640449-51fb-4663-990b-06401683ff93 div.sk-toggleable__content pre {margin: 0.2em;color: black;border-radius: 0.25em;background-color: #f0f8ff;}#sk-3b640449-51fb-4663-990b-06401683ff93 input.sk-toggleable__control:checked~div.sk-toggleable__content {max-height: 200px;max-width: 100%;overflow: auto;}#sk-3b640449-51fb-4663-990b-06401683ff93 input.sk-toggleable__control:checked~label.sk-toggleable__label-arrow:before {content: \"▾\";}#sk-3b640449-51fb-4663-990b-06401683ff93 div.sk-estimator input.sk-toggleable__control:checked~label.sk-toggleable__label {background-color: #d4ebff;}#sk-3b640449-51fb-4663-990b-06401683ff93 div.sk-label input.sk-toggleable__control:checked~label.sk-toggleable__label {background-color: #d4ebff;}#sk-3b640449-51fb-4663-990b-06401683ff93 input.sk-hidden--visually {border: 0;clip: rect(1px 1px 1px 1px);clip: rect(1px, 1px, 1px, 1px);height: 1px;margin: -1px;overflow: hidden;padding: 0;position: absolute;width: 1px;}#sk-3b640449-51fb-4663-990b-06401683ff93 div.sk-estimator {font-family: monospace;background-color: #f0f8ff;border: 1px dotted black;border-radius: 0.25em;box-sizing: border-box;margin-bottom: 0.5em;}#sk-3b640449-51fb-4663-990b-06401683ff93 div.sk-estimator:hover {background-color: #d4ebff;}#sk-3b640449-51fb-4663-990b-06401683ff93 div.sk-parallel-item::after {content: \"\";width: 100%;border-bottom: 1px solid gray;flex-grow: 1;}#sk-3b640449-51fb-4663-990b-06401683ff93 div.sk-label:hover label.sk-toggleable__label {background-color: #d4ebff;}#sk-3b640449-51fb-4663-990b-06401683ff93 div.sk-serial::before {content: \"\";position: absolute;border-left: 1px solid gray;box-sizing: border-box;top: 2em;bottom: 0;left: 50%;}#sk-3b640449-51fb-4663-990b-06401683ff93 div.sk-serial {display: flex;flex-direction: column;align-items: center;background-color: white;padding-right: 0.2em;padding-left: 0.2em;}#sk-3b640449-51fb-4663-990b-06401683ff93 div.sk-item {z-index: 1;}#sk-3b640449-51fb-4663-990b-06401683ff93 div.sk-parallel {display: flex;align-items: stretch;justify-content: center;background-color: white;}#sk-3b640449-51fb-4663-990b-06401683ff93 div.sk-parallel::before {content: \"\";position: absolute;border-left: 1px solid gray;box-sizing: border-box;top: 2em;bottom: 0;left: 50%;}#sk-3b640449-51fb-4663-990b-06401683ff93 div.sk-parallel-item {display: flex;flex-direction: column;position: relative;background-color: white;}#sk-3b640449-51fb-4663-990b-06401683ff93 div.sk-parallel-item:first-child::after {align-self: flex-end;width: 50%;}#sk-3b640449-51fb-4663-990b-06401683ff93 div.sk-parallel-item:last-child::after {align-self: flex-start;width: 50%;}#sk-3b640449-51fb-4663-990b-06401683ff93 div.sk-parallel-item:only-child::after {width: 0;}#sk-3b640449-51fb-4663-990b-06401683ff93 div.sk-dashed-wrapped {border: 1px dashed gray;margin: 0 0.4em 0.5em 0.4em;box-sizing: border-box;padding-bottom: 0.4em;background-color: white;position: relative;}#sk-3b640449-51fb-4663-990b-06401683ff93 div.sk-label label {font-family: monospace;font-weight: bold;background-color: white;display: inline-block;line-height: 1.2em;}#sk-3b640449-51fb-4663-990b-06401683ff93 div.sk-label-container {position: relative;z-index: 2;text-align: center;}#sk-3b640449-51fb-4663-990b-06401683ff93 div.sk-container {/* jupyter's `normalize.less` sets `[hidden] { display: none; }` but bootstrap.min.css set `[hidden] { display: none !important; }` so we also need the `!important` here to be able to override the default hidden behavior on the sphinx rendered scikit-learn.org. See: https://github.com/scikit-learn/scikit-learn/issues/21755 */display: inline-block !important;position: relative;}#sk-3b640449-51fb-4663-990b-06401683ff93 div.sk-text-repr-fallback {display: none;}</style><div id=\"sk-3b640449-51fb-4663-990b-06401683ff93\" class=\"sk-top-container\"><div class=\"sk-text-repr-fallback\"><pre>SVC(gamma=&#x27;auto&#x27;)</pre><b>Please rerun this cell to show the HTML repr or trust the notebook.</b></div><div class=\"sk-container\" hidden><div class=\"sk-item\"><div class=\"sk-estimator sk-toggleable\"><input class=\"sk-toggleable__control sk-hidden--visually\" id=\"77621b59-0126-412a-a2de-d4fab7361684\" type=\"checkbox\" checked><label for=\"77621b59-0126-412a-a2de-d4fab7361684\" class=\"sk-toggleable__label sk-toggleable__label-arrow\">SVC</label><div class=\"sk-toggleable__content\"><pre>SVC(gamma=&#x27;auto&#x27;)</pre></div></div></div></div></div>"
            ]
          },
          "metadata": {},
          "execution_count": 41
        }
      ]
    },
    {
      "cell_type": "code",
      "source": [
        "# Check for balanced accuracy score with cross validation. \n",
        "svc_rbf_scores = cross_val_score(svc_rbf, X_test, y_test, cv = 10, scoring = 'balanced_accuracy')\n",
        "svc_rbf_scores.mean().round(3)"
      ],
      "metadata": {
        "id": "SOpbOtYyFpeh",
        "colab": {
          "base_uri": "https://localhost:8080/"
        },
        "outputId": "4689e82d-8463-4471-8be9-1bbc1ab3d6c8"
      },
      "execution_count": null,
      "outputs": [
        {
          "output_type": "execute_result",
          "data": {
            "text/plain": [
              "0.505"
            ]
          },
          "metadata": {},
          "execution_count": 42
        }
      ]
    },
    {
      "cell_type": "code",
      "source": [
        "# Check for RMSE score.\n",
        "svc_rbf_rmses = -cross_val_score(svc_rbf, X_test, y_test, cv = 10, scoring = \"neg_root_mean_squared_error\")\n",
        "svc_rbf_rmses.mean().round(3)"
      ],
      "metadata": {
        "colab": {
          "base_uri": "https://localhost:8080/"
        },
        "id": "G5rNxKFbxSDv",
        "outputId": "b2c2ae07-0d27-4e68-b437-701d8a95b996"
      },
      "execution_count": null,
      "outputs": [
        {
          "output_type": "execute_result",
          "data": {
            "text/plain": [
              "0.43"
            ]
          },
          "metadata": {},
          "execution_count": 43
        }
      ]
    },
    {
      "cell_type": "markdown",
      "source": [
        "###**5.5 K-Nearest-Neighbors Classifier**"
      ],
      "metadata": {
        "id": "uk3vgru_ntg2"
      }
    },
    {
      "cell_type": "code",
      "source": [
        "from sklearn.neighbors import KNeighborsClassifier\n",
        "\n",
        "# Fit a kNN model on the training dataset. \n",
        "knn = KNeighborsClassifier( )\n",
        "knn.fit(X_train, y_train)"
      ],
      "metadata": {
        "id": "xAUTY5vKAww2",
        "colab": {
          "base_uri": "https://localhost:8080/",
          "height": 75
        },
        "outputId": "de1a4d6b-5137-41bc-8228-3944c2373a61"
      },
      "execution_count": null,
      "outputs": [
        {
          "output_type": "execute_result",
          "data": {
            "text/plain": [
              "KNeighborsClassifier()"
            ],
            "text/html": [
              "<style>#sk-0b11c5c0-b81d-4e4f-a8fb-36da66df2b01 {color: black;background-color: white;}#sk-0b11c5c0-b81d-4e4f-a8fb-36da66df2b01 pre{padding: 0;}#sk-0b11c5c0-b81d-4e4f-a8fb-36da66df2b01 div.sk-toggleable {background-color: white;}#sk-0b11c5c0-b81d-4e4f-a8fb-36da66df2b01 label.sk-toggleable__label {cursor: pointer;display: block;width: 100%;margin-bottom: 0;padding: 0.3em;box-sizing: border-box;text-align: center;}#sk-0b11c5c0-b81d-4e4f-a8fb-36da66df2b01 label.sk-toggleable__label-arrow:before {content: \"▸\";float: left;margin-right: 0.25em;color: #696969;}#sk-0b11c5c0-b81d-4e4f-a8fb-36da66df2b01 label.sk-toggleable__label-arrow:hover:before {color: black;}#sk-0b11c5c0-b81d-4e4f-a8fb-36da66df2b01 div.sk-estimator:hover label.sk-toggleable__label-arrow:before {color: black;}#sk-0b11c5c0-b81d-4e4f-a8fb-36da66df2b01 div.sk-toggleable__content {max-height: 0;max-width: 0;overflow: hidden;text-align: left;background-color: #f0f8ff;}#sk-0b11c5c0-b81d-4e4f-a8fb-36da66df2b01 div.sk-toggleable__content pre {margin: 0.2em;color: black;border-radius: 0.25em;background-color: #f0f8ff;}#sk-0b11c5c0-b81d-4e4f-a8fb-36da66df2b01 input.sk-toggleable__control:checked~div.sk-toggleable__content {max-height: 200px;max-width: 100%;overflow: auto;}#sk-0b11c5c0-b81d-4e4f-a8fb-36da66df2b01 input.sk-toggleable__control:checked~label.sk-toggleable__label-arrow:before {content: \"▾\";}#sk-0b11c5c0-b81d-4e4f-a8fb-36da66df2b01 div.sk-estimator input.sk-toggleable__control:checked~label.sk-toggleable__label {background-color: #d4ebff;}#sk-0b11c5c0-b81d-4e4f-a8fb-36da66df2b01 div.sk-label input.sk-toggleable__control:checked~label.sk-toggleable__label {background-color: #d4ebff;}#sk-0b11c5c0-b81d-4e4f-a8fb-36da66df2b01 input.sk-hidden--visually {border: 0;clip: rect(1px 1px 1px 1px);clip: rect(1px, 1px, 1px, 1px);height: 1px;margin: -1px;overflow: hidden;padding: 0;position: absolute;width: 1px;}#sk-0b11c5c0-b81d-4e4f-a8fb-36da66df2b01 div.sk-estimator {font-family: monospace;background-color: #f0f8ff;border: 1px dotted black;border-radius: 0.25em;box-sizing: border-box;margin-bottom: 0.5em;}#sk-0b11c5c0-b81d-4e4f-a8fb-36da66df2b01 div.sk-estimator:hover {background-color: #d4ebff;}#sk-0b11c5c0-b81d-4e4f-a8fb-36da66df2b01 div.sk-parallel-item::after {content: \"\";width: 100%;border-bottom: 1px solid gray;flex-grow: 1;}#sk-0b11c5c0-b81d-4e4f-a8fb-36da66df2b01 div.sk-label:hover label.sk-toggleable__label {background-color: #d4ebff;}#sk-0b11c5c0-b81d-4e4f-a8fb-36da66df2b01 div.sk-serial::before {content: \"\";position: absolute;border-left: 1px solid gray;box-sizing: border-box;top: 2em;bottom: 0;left: 50%;}#sk-0b11c5c0-b81d-4e4f-a8fb-36da66df2b01 div.sk-serial {display: flex;flex-direction: column;align-items: center;background-color: white;padding-right: 0.2em;padding-left: 0.2em;}#sk-0b11c5c0-b81d-4e4f-a8fb-36da66df2b01 div.sk-item {z-index: 1;}#sk-0b11c5c0-b81d-4e4f-a8fb-36da66df2b01 div.sk-parallel {display: flex;align-items: stretch;justify-content: center;background-color: white;}#sk-0b11c5c0-b81d-4e4f-a8fb-36da66df2b01 div.sk-parallel::before {content: \"\";position: absolute;border-left: 1px solid gray;box-sizing: border-box;top: 2em;bottom: 0;left: 50%;}#sk-0b11c5c0-b81d-4e4f-a8fb-36da66df2b01 div.sk-parallel-item {display: flex;flex-direction: column;position: relative;background-color: white;}#sk-0b11c5c0-b81d-4e4f-a8fb-36da66df2b01 div.sk-parallel-item:first-child::after {align-self: flex-end;width: 50%;}#sk-0b11c5c0-b81d-4e4f-a8fb-36da66df2b01 div.sk-parallel-item:last-child::after {align-self: flex-start;width: 50%;}#sk-0b11c5c0-b81d-4e4f-a8fb-36da66df2b01 div.sk-parallel-item:only-child::after {width: 0;}#sk-0b11c5c0-b81d-4e4f-a8fb-36da66df2b01 div.sk-dashed-wrapped {border: 1px dashed gray;margin: 0 0.4em 0.5em 0.4em;box-sizing: border-box;padding-bottom: 0.4em;background-color: white;position: relative;}#sk-0b11c5c0-b81d-4e4f-a8fb-36da66df2b01 div.sk-label label {font-family: monospace;font-weight: bold;background-color: white;display: inline-block;line-height: 1.2em;}#sk-0b11c5c0-b81d-4e4f-a8fb-36da66df2b01 div.sk-label-container {position: relative;z-index: 2;text-align: center;}#sk-0b11c5c0-b81d-4e4f-a8fb-36da66df2b01 div.sk-container {/* jupyter's `normalize.less` sets `[hidden] { display: none; }` but bootstrap.min.css set `[hidden] { display: none !important; }` so we also need the `!important` here to be able to override the default hidden behavior on the sphinx rendered scikit-learn.org. See: https://github.com/scikit-learn/scikit-learn/issues/21755 */display: inline-block !important;position: relative;}#sk-0b11c5c0-b81d-4e4f-a8fb-36da66df2b01 div.sk-text-repr-fallback {display: none;}</style><div id=\"sk-0b11c5c0-b81d-4e4f-a8fb-36da66df2b01\" class=\"sk-top-container\"><div class=\"sk-text-repr-fallback\"><pre>KNeighborsClassifier()</pre><b>Please rerun this cell to show the HTML repr or trust the notebook.</b></div><div class=\"sk-container\" hidden><div class=\"sk-item\"><div class=\"sk-estimator sk-toggleable\"><input class=\"sk-toggleable__control sk-hidden--visually\" id=\"e974eb0a-87b2-49b1-b894-70c1006bca82\" type=\"checkbox\" checked><label for=\"e974eb0a-87b2-49b1-b894-70c1006bca82\" class=\"sk-toggleable__label sk-toggleable__label-arrow\">KNeighborsClassifier</label><div class=\"sk-toggleable__content\"><pre>KNeighborsClassifier()</pre></div></div></div></div></div>"
            ]
          },
          "metadata": {},
          "execution_count": 44
        }
      ]
    },
    {
      "cell_type": "code",
      "source": [
        "# Check for balanced accuracy score with cross validation.\n",
        "knn_scores = cross_val_score(knn, X_test, y_test, cv = 10, scoring = 'balanced_accuracy')\n",
        "knn_scores.mean().round(3)"
      ],
      "metadata": {
        "id": "Ms-dyM4dBNKT",
        "colab": {
          "base_uri": "https://localhost:8080/"
        },
        "outputId": "b8f8695a-a5ce-4866-e5fc-657cd0f18aa3"
      },
      "execution_count": null,
      "outputs": [
        {
          "output_type": "execute_result",
          "data": {
            "text/plain": [
              "0.842"
            ]
          },
          "metadata": {},
          "execution_count": 45
        }
      ]
    },
    {
      "cell_type": "code",
      "source": [
        "# Check for RMSE score.\n",
        "knn_rmses = -cross_val_score(knn, X_test, y_test, cv = 10, scoring = \"neg_root_mean_squared_error\")\n",
        "knn_rmses.mean().round(3)"
      ],
      "metadata": {
        "colab": {
          "base_uri": "https://localhost:8080/"
        },
        "id": "BMJMUg_XxY3J",
        "outputId": "630b997e-2ee1-4ab2-fa2c-ccaba42ad5db"
      },
      "execution_count": null,
      "outputs": [
        {
          "output_type": "execute_result",
          "data": {
            "text/plain": [
              "0.299"
            ]
          },
          "metadata": {},
          "execution_count": 46
        }
      ]
    },
    {
      "cell_type": "markdown",
      "source": [
        "###**5.6 Decision Tree Classifier**"
      ],
      "metadata": {
        "id": "OdjKQO78mpS6"
      }
    },
    {
      "cell_type": "code",
      "source": [
        "from sklearn.tree import DecisionTreeClassifier\n",
        "\n",
        "# Fit a Decision Tree Classifier on the training dataset.\n",
        "tree = DecisionTreeClassifier(random_state = 11)\n",
        "tree.fit(X_train, y_train)"
      ],
      "metadata": {
        "colab": {
          "base_uri": "https://localhost:8080/",
          "height": 75
        },
        "id": "QtpEfa8kmoPS",
        "outputId": "5c8f79b7-5650-4316-984c-06d7a3518106"
      },
      "execution_count": null,
      "outputs": [
        {
          "output_type": "execute_result",
          "data": {
            "text/plain": [
              "DecisionTreeClassifier(random_state=11)"
            ],
            "text/html": [
              "<style>#sk-0dd06134-b1a0-476c-9295-63b01034ce5b {color: black;background-color: white;}#sk-0dd06134-b1a0-476c-9295-63b01034ce5b pre{padding: 0;}#sk-0dd06134-b1a0-476c-9295-63b01034ce5b div.sk-toggleable {background-color: white;}#sk-0dd06134-b1a0-476c-9295-63b01034ce5b label.sk-toggleable__label {cursor: pointer;display: block;width: 100%;margin-bottom: 0;padding: 0.3em;box-sizing: border-box;text-align: center;}#sk-0dd06134-b1a0-476c-9295-63b01034ce5b label.sk-toggleable__label-arrow:before {content: \"▸\";float: left;margin-right: 0.25em;color: #696969;}#sk-0dd06134-b1a0-476c-9295-63b01034ce5b label.sk-toggleable__label-arrow:hover:before {color: black;}#sk-0dd06134-b1a0-476c-9295-63b01034ce5b div.sk-estimator:hover label.sk-toggleable__label-arrow:before {color: black;}#sk-0dd06134-b1a0-476c-9295-63b01034ce5b div.sk-toggleable__content {max-height: 0;max-width: 0;overflow: hidden;text-align: left;background-color: #f0f8ff;}#sk-0dd06134-b1a0-476c-9295-63b01034ce5b div.sk-toggleable__content pre {margin: 0.2em;color: black;border-radius: 0.25em;background-color: #f0f8ff;}#sk-0dd06134-b1a0-476c-9295-63b01034ce5b input.sk-toggleable__control:checked~div.sk-toggleable__content {max-height: 200px;max-width: 100%;overflow: auto;}#sk-0dd06134-b1a0-476c-9295-63b01034ce5b input.sk-toggleable__control:checked~label.sk-toggleable__label-arrow:before {content: \"▾\";}#sk-0dd06134-b1a0-476c-9295-63b01034ce5b div.sk-estimator input.sk-toggleable__control:checked~label.sk-toggleable__label {background-color: #d4ebff;}#sk-0dd06134-b1a0-476c-9295-63b01034ce5b div.sk-label input.sk-toggleable__control:checked~label.sk-toggleable__label {background-color: #d4ebff;}#sk-0dd06134-b1a0-476c-9295-63b01034ce5b input.sk-hidden--visually {border: 0;clip: rect(1px 1px 1px 1px);clip: rect(1px, 1px, 1px, 1px);height: 1px;margin: -1px;overflow: hidden;padding: 0;position: absolute;width: 1px;}#sk-0dd06134-b1a0-476c-9295-63b01034ce5b div.sk-estimator {font-family: monospace;background-color: #f0f8ff;border: 1px dotted black;border-radius: 0.25em;box-sizing: border-box;margin-bottom: 0.5em;}#sk-0dd06134-b1a0-476c-9295-63b01034ce5b div.sk-estimator:hover {background-color: #d4ebff;}#sk-0dd06134-b1a0-476c-9295-63b01034ce5b div.sk-parallel-item::after {content: \"\";width: 100%;border-bottom: 1px solid gray;flex-grow: 1;}#sk-0dd06134-b1a0-476c-9295-63b01034ce5b div.sk-label:hover label.sk-toggleable__label {background-color: #d4ebff;}#sk-0dd06134-b1a0-476c-9295-63b01034ce5b div.sk-serial::before {content: \"\";position: absolute;border-left: 1px solid gray;box-sizing: border-box;top: 2em;bottom: 0;left: 50%;}#sk-0dd06134-b1a0-476c-9295-63b01034ce5b div.sk-serial {display: flex;flex-direction: column;align-items: center;background-color: white;padding-right: 0.2em;padding-left: 0.2em;}#sk-0dd06134-b1a0-476c-9295-63b01034ce5b div.sk-item {z-index: 1;}#sk-0dd06134-b1a0-476c-9295-63b01034ce5b div.sk-parallel {display: flex;align-items: stretch;justify-content: center;background-color: white;}#sk-0dd06134-b1a0-476c-9295-63b01034ce5b div.sk-parallel::before {content: \"\";position: absolute;border-left: 1px solid gray;box-sizing: border-box;top: 2em;bottom: 0;left: 50%;}#sk-0dd06134-b1a0-476c-9295-63b01034ce5b div.sk-parallel-item {display: flex;flex-direction: column;position: relative;background-color: white;}#sk-0dd06134-b1a0-476c-9295-63b01034ce5b div.sk-parallel-item:first-child::after {align-self: flex-end;width: 50%;}#sk-0dd06134-b1a0-476c-9295-63b01034ce5b div.sk-parallel-item:last-child::after {align-self: flex-start;width: 50%;}#sk-0dd06134-b1a0-476c-9295-63b01034ce5b div.sk-parallel-item:only-child::after {width: 0;}#sk-0dd06134-b1a0-476c-9295-63b01034ce5b div.sk-dashed-wrapped {border: 1px dashed gray;margin: 0 0.4em 0.5em 0.4em;box-sizing: border-box;padding-bottom: 0.4em;background-color: white;position: relative;}#sk-0dd06134-b1a0-476c-9295-63b01034ce5b div.sk-label label {font-family: monospace;font-weight: bold;background-color: white;display: inline-block;line-height: 1.2em;}#sk-0dd06134-b1a0-476c-9295-63b01034ce5b div.sk-label-container {position: relative;z-index: 2;text-align: center;}#sk-0dd06134-b1a0-476c-9295-63b01034ce5b div.sk-container {/* jupyter's `normalize.less` sets `[hidden] { display: none; }` but bootstrap.min.css set `[hidden] { display: none !important; }` so we also need the `!important` here to be able to override the default hidden behavior on the sphinx rendered scikit-learn.org. See: https://github.com/scikit-learn/scikit-learn/issues/21755 */display: inline-block !important;position: relative;}#sk-0dd06134-b1a0-476c-9295-63b01034ce5b div.sk-text-repr-fallback {display: none;}</style><div id=\"sk-0dd06134-b1a0-476c-9295-63b01034ce5b\" class=\"sk-top-container\"><div class=\"sk-text-repr-fallback\"><pre>DecisionTreeClassifier(random_state=11)</pre><b>Please rerun this cell to show the HTML repr or trust the notebook.</b></div><div class=\"sk-container\" hidden><div class=\"sk-item\"><div class=\"sk-estimator sk-toggleable\"><input class=\"sk-toggleable__control sk-hidden--visually\" id=\"2807f1b9-5b16-477a-88c3-4ef8bff6fce5\" type=\"checkbox\" checked><label for=\"2807f1b9-5b16-477a-88c3-4ef8bff6fce5\" class=\"sk-toggleable__label sk-toggleable__label-arrow\">DecisionTreeClassifier</label><div class=\"sk-toggleable__content\"><pre>DecisionTreeClassifier(random_state=11)</pre></div></div></div></div></div>"
            ]
          },
          "metadata": {},
          "execution_count": 47
        }
      ]
    },
    {
      "cell_type": "code",
      "source": [
        "# Check for balanced accuracy score with cross validation.\n",
        "tree_scores = cross_val_score(tree, X_test, y_test, cv = 10, scoring = 'balanced_accuracy')\n",
        "tree_scores.mean().round(3)"
      ],
      "metadata": {
        "colab": {
          "base_uri": "https://localhost:8080/"
        },
        "id": "4VhFW7MenJ2X",
        "outputId": "b2219114-bea0-4025-d539-755226bd5eb4"
      },
      "execution_count": null,
      "outputs": [
        {
          "output_type": "execute_result",
          "data": {
            "text/plain": [
              "0.868"
            ]
          },
          "metadata": {},
          "execution_count": 48
        }
      ]
    },
    {
      "cell_type": "code",
      "source": [
        "# Check for RMSE score.\n",
        "tree_rmses = -cross_val_score(tree, X_test, y_test, cv = 10, scoring = \"neg_root_mean_squared_error\")\n",
        "tree_rmses.mean().round(3)"
      ],
      "metadata": {
        "colab": {
          "base_uri": "https://localhost:8080/"
        },
        "id": "YyWjc81pxmn8",
        "outputId": "58275fc1-34dd-47c6-f8c4-90a631854f56"
      },
      "execution_count": null,
      "outputs": [
        {
          "output_type": "execute_result",
          "data": {
            "text/plain": [
              "0.279"
            ]
          },
          "metadata": {},
          "execution_count": 49
        }
      ]
    },
    {
      "cell_type": "markdown",
      "source": [
        "###**5.7 Random Forest Classifier**"
      ],
      "metadata": {
        "id": "gYl3EGLPpPlW"
      }
    },
    {
      "cell_type": "code",
      "source": [
        "from sklearn.ensemble import RandomForestClassifier\n",
        "\n",
        "# Fit a Randome Forest Classifier model on the training dataset. \n",
        "forest_clf = RandomForestClassifier(n_estimators = 100, random_state = 11)\n",
        "forest_clf.fit(X_train, y_train)"
      ],
      "metadata": {
        "id": "wWK0DpmG5NZQ",
        "colab": {
          "base_uri": "https://localhost:8080/",
          "height": 75
        },
        "outputId": "91363e13-1a57-4881-8749-a6770dfafbb3"
      },
      "execution_count": null,
      "outputs": [
        {
          "output_type": "execute_result",
          "data": {
            "text/plain": [
              "RandomForestClassifier(random_state=11)"
            ],
            "text/html": [
              "<style>#sk-805c2d5d-6243-4c2a-975c-04f3c3ee6457 {color: black;background-color: white;}#sk-805c2d5d-6243-4c2a-975c-04f3c3ee6457 pre{padding: 0;}#sk-805c2d5d-6243-4c2a-975c-04f3c3ee6457 div.sk-toggleable {background-color: white;}#sk-805c2d5d-6243-4c2a-975c-04f3c3ee6457 label.sk-toggleable__label {cursor: pointer;display: block;width: 100%;margin-bottom: 0;padding: 0.3em;box-sizing: border-box;text-align: center;}#sk-805c2d5d-6243-4c2a-975c-04f3c3ee6457 label.sk-toggleable__label-arrow:before {content: \"▸\";float: left;margin-right: 0.25em;color: #696969;}#sk-805c2d5d-6243-4c2a-975c-04f3c3ee6457 label.sk-toggleable__label-arrow:hover:before {color: black;}#sk-805c2d5d-6243-4c2a-975c-04f3c3ee6457 div.sk-estimator:hover label.sk-toggleable__label-arrow:before {color: black;}#sk-805c2d5d-6243-4c2a-975c-04f3c3ee6457 div.sk-toggleable__content {max-height: 0;max-width: 0;overflow: hidden;text-align: left;background-color: #f0f8ff;}#sk-805c2d5d-6243-4c2a-975c-04f3c3ee6457 div.sk-toggleable__content pre {margin: 0.2em;color: black;border-radius: 0.25em;background-color: #f0f8ff;}#sk-805c2d5d-6243-4c2a-975c-04f3c3ee6457 input.sk-toggleable__control:checked~div.sk-toggleable__content {max-height: 200px;max-width: 100%;overflow: auto;}#sk-805c2d5d-6243-4c2a-975c-04f3c3ee6457 input.sk-toggleable__control:checked~label.sk-toggleable__label-arrow:before {content: \"▾\";}#sk-805c2d5d-6243-4c2a-975c-04f3c3ee6457 div.sk-estimator input.sk-toggleable__control:checked~label.sk-toggleable__label {background-color: #d4ebff;}#sk-805c2d5d-6243-4c2a-975c-04f3c3ee6457 div.sk-label input.sk-toggleable__control:checked~label.sk-toggleable__label {background-color: #d4ebff;}#sk-805c2d5d-6243-4c2a-975c-04f3c3ee6457 input.sk-hidden--visually {border: 0;clip: rect(1px 1px 1px 1px);clip: rect(1px, 1px, 1px, 1px);height: 1px;margin: -1px;overflow: hidden;padding: 0;position: absolute;width: 1px;}#sk-805c2d5d-6243-4c2a-975c-04f3c3ee6457 div.sk-estimator {font-family: monospace;background-color: #f0f8ff;border: 1px dotted black;border-radius: 0.25em;box-sizing: border-box;margin-bottom: 0.5em;}#sk-805c2d5d-6243-4c2a-975c-04f3c3ee6457 div.sk-estimator:hover {background-color: #d4ebff;}#sk-805c2d5d-6243-4c2a-975c-04f3c3ee6457 div.sk-parallel-item::after {content: \"\";width: 100%;border-bottom: 1px solid gray;flex-grow: 1;}#sk-805c2d5d-6243-4c2a-975c-04f3c3ee6457 div.sk-label:hover label.sk-toggleable__label {background-color: #d4ebff;}#sk-805c2d5d-6243-4c2a-975c-04f3c3ee6457 div.sk-serial::before {content: \"\";position: absolute;border-left: 1px solid gray;box-sizing: border-box;top: 2em;bottom: 0;left: 50%;}#sk-805c2d5d-6243-4c2a-975c-04f3c3ee6457 div.sk-serial {display: flex;flex-direction: column;align-items: center;background-color: white;padding-right: 0.2em;padding-left: 0.2em;}#sk-805c2d5d-6243-4c2a-975c-04f3c3ee6457 div.sk-item {z-index: 1;}#sk-805c2d5d-6243-4c2a-975c-04f3c3ee6457 div.sk-parallel {display: flex;align-items: stretch;justify-content: center;background-color: white;}#sk-805c2d5d-6243-4c2a-975c-04f3c3ee6457 div.sk-parallel::before {content: \"\";position: absolute;border-left: 1px solid gray;box-sizing: border-box;top: 2em;bottom: 0;left: 50%;}#sk-805c2d5d-6243-4c2a-975c-04f3c3ee6457 div.sk-parallel-item {display: flex;flex-direction: column;position: relative;background-color: white;}#sk-805c2d5d-6243-4c2a-975c-04f3c3ee6457 div.sk-parallel-item:first-child::after {align-self: flex-end;width: 50%;}#sk-805c2d5d-6243-4c2a-975c-04f3c3ee6457 div.sk-parallel-item:last-child::after {align-self: flex-start;width: 50%;}#sk-805c2d5d-6243-4c2a-975c-04f3c3ee6457 div.sk-parallel-item:only-child::after {width: 0;}#sk-805c2d5d-6243-4c2a-975c-04f3c3ee6457 div.sk-dashed-wrapped {border: 1px dashed gray;margin: 0 0.4em 0.5em 0.4em;box-sizing: border-box;padding-bottom: 0.4em;background-color: white;position: relative;}#sk-805c2d5d-6243-4c2a-975c-04f3c3ee6457 div.sk-label label {font-family: monospace;font-weight: bold;background-color: white;display: inline-block;line-height: 1.2em;}#sk-805c2d5d-6243-4c2a-975c-04f3c3ee6457 div.sk-label-container {position: relative;z-index: 2;text-align: center;}#sk-805c2d5d-6243-4c2a-975c-04f3c3ee6457 div.sk-container {/* jupyter's `normalize.less` sets `[hidden] { display: none; }` but bootstrap.min.css set `[hidden] { display: none !important; }` so we also need the `!important` here to be able to override the default hidden behavior on the sphinx rendered scikit-learn.org. See: https://github.com/scikit-learn/scikit-learn/issues/21755 */display: inline-block !important;position: relative;}#sk-805c2d5d-6243-4c2a-975c-04f3c3ee6457 div.sk-text-repr-fallback {display: none;}</style><div id=\"sk-805c2d5d-6243-4c2a-975c-04f3c3ee6457\" class=\"sk-top-container\"><div class=\"sk-text-repr-fallback\"><pre>RandomForestClassifier(random_state=11)</pre><b>Please rerun this cell to show the HTML repr or trust the notebook.</b></div><div class=\"sk-container\" hidden><div class=\"sk-item\"><div class=\"sk-estimator sk-toggleable\"><input class=\"sk-toggleable__control sk-hidden--visually\" id=\"7c6fe075-f4f8-4ebb-b629-c06b522954af\" type=\"checkbox\" checked><label for=\"7c6fe075-f4f8-4ebb-b629-c06b522954af\" class=\"sk-toggleable__label sk-toggleable__label-arrow\">RandomForestClassifier</label><div class=\"sk-toggleable__content\"><pre>RandomForestClassifier(random_state=11)</pre></div></div></div></div></div>"
            ]
          },
          "metadata": {},
          "execution_count": 50
        }
      ]
    },
    {
      "cell_type": "code",
      "source": [
        "# Check for balanced accuracy score with cross validation.\n",
        "forest_scores = cross_val_score(forest_clf, X_test, y_test, cv = 10, scoring = 'balanced_accuracy')\n",
        "forest_scores.mean().round(3)"
      ],
      "metadata": {
        "id": "ttskvsY15nNQ",
        "colab": {
          "base_uri": "https://localhost:8080/"
        },
        "outputId": "2c87e5ac-a756-4b0a-c784-20ce9cd37f03"
      },
      "execution_count": null,
      "outputs": [
        {
          "output_type": "execute_result",
          "data": {
            "text/plain": [
              "0.87"
            ]
          },
          "metadata": {},
          "execution_count": 51
        }
      ]
    },
    {
      "cell_type": "code",
      "source": [
        "# Check for RMSE score.\n",
        "forest_rmses = -cross_val_score(forest_clf, X_test, y_test, cv = 10, scoring = \"neg_root_mean_squared_error\")\n",
        "forest_rmses.mean()"
      ],
      "metadata": {
        "colab": {
          "base_uri": "https://localhost:8080/"
        },
        "id": "A6ZITif6dnp8",
        "outputId": "1128e25e-1b0e-4b3a-b75e-1e0ae0ddc5d5"
      },
      "execution_count": null,
      "outputs": [
        {
          "output_type": "execute_result",
          "data": {
            "text/plain": [
              "0.28076231614614733"
            ]
          },
          "metadata": {},
          "execution_count": 52
        }
      ]
    },
    {
      "cell_type": "markdown",
      "source": [
        "###**5.8 XGBoost Classifier**"
      ],
      "metadata": {
        "id": "rv_Fa_MgvcE5"
      }
    },
    {
      "cell_type": "code",
      "source": [
        "from xgboost import XGBClassifier\n",
        "\n",
        "# Fit a Xgboost model on the training dataset. \n",
        "xgb = XGBClassifier(n_estimators = 100, random_state = 11)\n",
        "xgb.fit(X_train, y_train)"
      ],
      "metadata": {
        "id": "mTwyMSb_vfFP",
        "colab": {
          "base_uri": "https://localhost:8080/",
          "height": 75
        },
        "outputId": "22d0923f-0bcf-4b0b-9d40-6ac84da03bbf"
      },
      "execution_count": null,
      "outputs": [
        {
          "output_type": "execute_result",
          "data": {
            "text/plain": [
              "XGBClassifier(random_state=11)"
            ],
            "text/html": [
              "<style>#sk-d2a31245-d1e5-4f62-af8e-429db8f31573 {color: black;background-color: white;}#sk-d2a31245-d1e5-4f62-af8e-429db8f31573 pre{padding: 0;}#sk-d2a31245-d1e5-4f62-af8e-429db8f31573 div.sk-toggleable {background-color: white;}#sk-d2a31245-d1e5-4f62-af8e-429db8f31573 label.sk-toggleable__label {cursor: pointer;display: block;width: 100%;margin-bottom: 0;padding: 0.3em;box-sizing: border-box;text-align: center;}#sk-d2a31245-d1e5-4f62-af8e-429db8f31573 label.sk-toggleable__label-arrow:before {content: \"▸\";float: left;margin-right: 0.25em;color: #696969;}#sk-d2a31245-d1e5-4f62-af8e-429db8f31573 label.sk-toggleable__label-arrow:hover:before {color: black;}#sk-d2a31245-d1e5-4f62-af8e-429db8f31573 div.sk-estimator:hover label.sk-toggleable__label-arrow:before {color: black;}#sk-d2a31245-d1e5-4f62-af8e-429db8f31573 div.sk-toggleable__content {max-height: 0;max-width: 0;overflow: hidden;text-align: left;background-color: #f0f8ff;}#sk-d2a31245-d1e5-4f62-af8e-429db8f31573 div.sk-toggleable__content pre {margin: 0.2em;color: black;border-radius: 0.25em;background-color: #f0f8ff;}#sk-d2a31245-d1e5-4f62-af8e-429db8f31573 input.sk-toggleable__control:checked~div.sk-toggleable__content {max-height: 200px;max-width: 100%;overflow: auto;}#sk-d2a31245-d1e5-4f62-af8e-429db8f31573 input.sk-toggleable__control:checked~label.sk-toggleable__label-arrow:before {content: \"▾\";}#sk-d2a31245-d1e5-4f62-af8e-429db8f31573 div.sk-estimator input.sk-toggleable__control:checked~label.sk-toggleable__label {background-color: #d4ebff;}#sk-d2a31245-d1e5-4f62-af8e-429db8f31573 div.sk-label input.sk-toggleable__control:checked~label.sk-toggleable__label {background-color: #d4ebff;}#sk-d2a31245-d1e5-4f62-af8e-429db8f31573 input.sk-hidden--visually {border: 0;clip: rect(1px 1px 1px 1px);clip: rect(1px, 1px, 1px, 1px);height: 1px;margin: -1px;overflow: hidden;padding: 0;position: absolute;width: 1px;}#sk-d2a31245-d1e5-4f62-af8e-429db8f31573 div.sk-estimator {font-family: monospace;background-color: #f0f8ff;border: 1px dotted black;border-radius: 0.25em;box-sizing: border-box;margin-bottom: 0.5em;}#sk-d2a31245-d1e5-4f62-af8e-429db8f31573 div.sk-estimator:hover {background-color: #d4ebff;}#sk-d2a31245-d1e5-4f62-af8e-429db8f31573 div.sk-parallel-item::after {content: \"\";width: 100%;border-bottom: 1px solid gray;flex-grow: 1;}#sk-d2a31245-d1e5-4f62-af8e-429db8f31573 div.sk-label:hover label.sk-toggleable__label {background-color: #d4ebff;}#sk-d2a31245-d1e5-4f62-af8e-429db8f31573 div.sk-serial::before {content: \"\";position: absolute;border-left: 1px solid gray;box-sizing: border-box;top: 2em;bottom: 0;left: 50%;}#sk-d2a31245-d1e5-4f62-af8e-429db8f31573 div.sk-serial {display: flex;flex-direction: column;align-items: center;background-color: white;padding-right: 0.2em;padding-left: 0.2em;}#sk-d2a31245-d1e5-4f62-af8e-429db8f31573 div.sk-item {z-index: 1;}#sk-d2a31245-d1e5-4f62-af8e-429db8f31573 div.sk-parallel {display: flex;align-items: stretch;justify-content: center;background-color: white;}#sk-d2a31245-d1e5-4f62-af8e-429db8f31573 div.sk-parallel::before {content: \"\";position: absolute;border-left: 1px solid gray;box-sizing: border-box;top: 2em;bottom: 0;left: 50%;}#sk-d2a31245-d1e5-4f62-af8e-429db8f31573 div.sk-parallel-item {display: flex;flex-direction: column;position: relative;background-color: white;}#sk-d2a31245-d1e5-4f62-af8e-429db8f31573 div.sk-parallel-item:first-child::after {align-self: flex-end;width: 50%;}#sk-d2a31245-d1e5-4f62-af8e-429db8f31573 div.sk-parallel-item:last-child::after {align-self: flex-start;width: 50%;}#sk-d2a31245-d1e5-4f62-af8e-429db8f31573 div.sk-parallel-item:only-child::after {width: 0;}#sk-d2a31245-d1e5-4f62-af8e-429db8f31573 div.sk-dashed-wrapped {border: 1px dashed gray;margin: 0 0.4em 0.5em 0.4em;box-sizing: border-box;padding-bottom: 0.4em;background-color: white;position: relative;}#sk-d2a31245-d1e5-4f62-af8e-429db8f31573 div.sk-label label {font-family: monospace;font-weight: bold;background-color: white;display: inline-block;line-height: 1.2em;}#sk-d2a31245-d1e5-4f62-af8e-429db8f31573 div.sk-label-container {position: relative;z-index: 2;text-align: center;}#sk-d2a31245-d1e5-4f62-af8e-429db8f31573 div.sk-container {/* jupyter's `normalize.less` sets `[hidden] { display: none; }` but bootstrap.min.css set `[hidden] { display: none !important; }` so we also need the `!important` here to be able to override the default hidden behavior on the sphinx rendered scikit-learn.org. See: https://github.com/scikit-learn/scikit-learn/issues/21755 */display: inline-block !important;position: relative;}#sk-d2a31245-d1e5-4f62-af8e-429db8f31573 div.sk-text-repr-fallback {display: none;}</style><div id=\"sk-d2a31245-d1e5-4f62-af8e-429db8f31573\" class=\"sk-top-container\"><div class=\"sk-text-repr-fallback\"><pre>XGBClassifier(random_state=11)</pre><b>Please rerun this cell to show the HTML repr or trust the notebook.</b></div><div class=\"sk-container\" hidden><div class=\"sk-item\"><div class=\"sk-estimator sk-toggleable\"><input class=\"sk-toggleable__control sk-hidden--visually\" id=\"dd3e4810-32cc-4ed9-823c-3b1423d30a51\" type=\"checkbox\" checked><label for=\"dd3e4810-32cc-4ed9-823c-3b1423d30a51\" class=\"sk-toggleable__label sk-toggleable__label-arrow\">XGBClassifier</label><div class=\"sk-toggleable__content\"><pre>XGBClassifier(random_state=11)</pre></div></div></div></div></div>"
            ]
          },
          "metadata": {},
          "execution_count": 53
        }
      ]
    },
    {
      "cell_type": "code",
      "source": [
        "# Check for balanced accuracy score with cross validation.\n",
        "xgb_scores = cross_val_score(xgb, X_test, y_test, cv = 10, scoring = 'balanced_accuracy')\n",
        "xgb_scores.mean().round(3)"
      ],
      "metadata": {
        "id": "8uw_cvcBv2zS",
        "colab": {
          "base_uri": "https://localhost:8080/"
        },
        "outputId": "49f6cf5a-8133-4155-a173-53f7cb010814"
      },
      "execution_count": null,
      "outputs": [
        {
          "output_type": "execute_result",
          "data": {
            "text/plain": [
              "0.854"
            ]
          },
          "metadata": {},
          "execution_count": 54
        }
      ]
    },
    {
      "cell_type": "code",
      "source": [
        "# Check for RMSE score.\n",
        "xgboost_rmses = -cross_val_score(xgb, X_test, y_test, cv = 10, scoring = \"neg_root_mean_squared_error\")\n",
        "xgboost_rmses.mean().round(3)"
      ],
      "metadata": {
        "colab": {
          "base_uri": "https://localhost:8080/"
        },
        "id": "vmQd5IS_eOB6",
        "outputId": "4724f043-38f4-486b-f29b-7bc26d677520"
      },
      "execution_count": null,
      "outputs": [
        {
          "output_type": "execute_result",
          "data": {
            "text/plain": [
              "0.291"
            ]
          },
          "metadata": {},
          "execution_count": 55
        }
      ]
    },
    {
      "cell_type": "markdown",
      "source": [
        "###**5.9 Voting Classifier**"
      ],
      "metadata": {
        "id": "xUAkxrOreRO0"
      }
    },
    {
      "cell_type": "code",
      "source": [
        "from sklearn.ensemble import VotingClassifier\n",
        "\n",
        "voting_clf = VotingClassifier(\n",
        "    estimators=[\n",
        "        ('Decision_tree', DecisionTreeClassifier(random_state = 11)),\n",
        "        ('Random_forest', RandomForestClassifier(n_estimators = 100, random_state = 11)),\n",
        "        ('Xgboost', XGBClassifier(n_estimators = 100, random_state = 11))])\n",
        "\n",
        "voting_clf.fit(X_train, y_train)"
      ],
      "metadata": {
        "colab": {
          "base_uri": "https://localhost:8080/",
          "height": 110
        },
        "id": "8D3YRCyQ8h3v",
        "outputId": "3b7a50ca-4b3a-44fc-d5eb-36a4b01d6a72"
      },
      "execution_count": null,
      "outputs": [
        {
          "output_type": "execute_result",
          "data": {
            "text/plain": [
              "VotingClassifier(estimators=[('Decision_tree',\n",
              "                              DecisionTreeClassifier(random_state=11)),\n",
              "                             ('Random_forest',\n",
              "                              RandomForestClassifier(random_state=11)),\n",
              "                             ('Xgboost', XGBClassifier(random_state=11))])"
            ],
            "text/html": [
              "<style>#sk-822b2a94-e003-4f71-84ec-d858f9de7314 {color: black;background-color: white;}#sk-822b2a94-e003-4f71-84ec-d858f9de7314 pre{padding: 0;}#sk-822b2a94-e003-4f71-84ec-d858f9de7314 div.sk-toggleable {background-color: white;}#sk-822b2a94-e003-4f71-84ec-d858f9de7314 label.sk-toggleable__label {cursor: pointer;display: block;width: 100%;margin-bottom: 0;padding: 0.3em;box-sizing: border-box;text-align: center;}#sk-822b2a94-e003-4f71-84ec-d858f9de7314 label.sk-toggleable__label-arrow:before {content: \"▸\";float: left;margin-right: 0.25em;color: #696969;}#sk-822b2a94-e003-4f71-84ec-d858f9de7314 label.sk-toggleable__label-arrow:hover:before {color: black;}#sk-822b2a94-e003-4f71-84ec-d858f9de7314 div.sk-estimator:hover label.sk-toggleable__label-arrow:before {color: black;}#sk-822b2a94-e003-4f71-84ec-d858f9de7314 div.sk-toggleable__content {max-height: 0;max-width: 0;overflow: hidden;text-align: left;background-color: #f0f8ff;}#sk-822b2a94-e003-4f71-84ec-d858f9de7314 div.sk-toggleable__content pre {margin: 0.2em;color: black;border-radius: 0.25em;background-color: #f0f8ff;}#sk-822b2a94-e003-4f71-84ec-d858f9de7314 input.sk-toggleable__control:checked~div.sk-toggleable__content {max-height: 200px;max-width: 100%;overflow: auto;}#sk-822b2a94-e003-4f71-84ec-d858f9de7314 input.sk-toggleable__control:checked~label.sk-toggleable__label-arrow:before {content: \"▾\";}#sk-822b2a94-e003-4f71-84ec-d858f9de7314 div.sk-estimator input.sk-toggleable__control:checked~label.sk-toggleable__label {background-color: #d4ebff;}#sk-822b2a94-e003-4f71-84ec-d858f9de7314 div.sk-label input.sk-toggleable__control:checked~label.sk-toggleable__label {background-color: #d4ebff;}#sk-822b2a94-e003-4f71-84ec-d858f9de7314 input.sk-hidden--visually {border: 0;clip: rect(1px 1px 1px 1px);clip: rect(1px, 1px, 1px, 1px);height: 1px;margin: -1px;overflow: hidden;padding: 0;position: absolute;width: 1px;}#sk-822b2a94-e003-4f71-84ec-d858f9de7314 div.sk-estimator {font-family: monospace;background-color: #f0f8ff;border: 1px dotted black;border-radius: 0.25em;box-sizing: border-box;margin-bottom: 0.5em;}#sk-822b2a94-e003-4f71-84ec-d858f9de7314 div.sk-estimator:hover {background-color: #d4ebff;}#sk-822b2a94-e003-4f71-84ec-d858f9de7314 div.sk-parallel-item::after {content: \"\";width: 100%;border-bottom: 1px solid gray;flex-grow: 1;}#sk-822b2a94-e003-4f71-84ec-d858f9de7314 div.sk-label:hover label.sk-toggleable__label {background-color: #d4ebff;}#sk-822b2a94-e003-4f71-84ec-d858f9de7314 div.sk-serial::before {content: \"\";position: absolute;border-left: 1px solid gray;box-sizing: border-box;top: 2em;bottom: 0;left: 50%;}#sk-822b2a94-e003-4f71-84ec-d858f9de7314 div.sk-serial {display: flex;flex-direction: column;align-items: center;background-color: white;padding-right: 0.2em;padding-left: 0.2em;}#sk-822b2a94-e003-4f71-84ec-d858f9de7314 div.sk-item {z-index: 1;}#sk-822b2a94-e003-4f71-84ec-d858f9de7314 div.sk-parallel {display: flex;align-items: stretch;justify-content: center;background-color: white;}#sk-822b2a94-e003-4f71-84ec-d858f9de7314 div.sk-parallel::before {content: \"\";position: absolute;border-left: 1px solid gray;box-sizing: border-box;top: 2em;bottom: 0;left: 50%;}#sk-822b2a94-e003-4f71-84ec-d858f9de7314 div.sk-parallel-item {display: flex;flex-direction: column;position: relative;background-color: white;}#sk-822b2a94-e003-4f71-84ec-d858f9de7314 div.sk-parallel-item:first-child::after {align-self: flex-end;width: 50%;}#sk-822b2a94-e003-4f71-84ec-d858f9de7314 div.sk-parallel-item:last-child::after {align-self: flex-start;width: 50%;}#sk-822b2a94-e003-4f71-84ec-d858f9de7314 div.sk-parallel-item:only-child::after {width: 0;}#sk-822b2a94-e003-4f71-84ec-d858f9de7314 div.sk-dashed-wrapped {border: 1px dashed gray;margin: 0 0.4em 0.5em 0.4em;box-sizing: border-box;padding-bottom: 0.4em;background-color: white;position: relative;}#sk-822b2a94-e003-4f71-84ec-d858f9de7314 div.sk-label label {font-family: monospace;font-weight: bold;background-color: white;display: inline-block;line-height: 1.2em;}#sk-822b2a94-e003-4f71-84ec-d858f9de7314 div.sk-label-container {position: relative;z-index: 2;text-align: center;}#sk-822b2a94-e003-4f71-84ec-d858f9de7314 div.sk-container {/* jupyter's `normalize.less` sets `[hidden] { display: none; }` but bootstrap.min.css set `[hidden] { display: none !important; }` so we also need the `!important` here to be able to override the default hidden behavior on the sphinx rendered scikit-learn.org. See: https://github.com/scikit-learn/scikit-learn/issues/21755 */display: inline-block !important;position: relative;}#sk-822b2a94-e003-4f71-84ec-d858f9de7314 div.sk-text-repr-fallback {display: none;}</style><div id=\"sk-822b2a94-e003-4f71-84ec-d858f9de7314\" class=\"sk-top-container\"><div class=\"sk-text-repr-fallback\"><pre>VotingClassifier(estimators=[(&#x27;Decision_tree&#x27;,\n",
              "                              DecisionTreeClassifier(random_state=11)),\n",
              "                             (&#x27;Random_forest&#x27;,\n",
              "                              RandomForestClassifier(random_state=11)),\n",
              "                             (&#x27;Xgboost&#x27;, XGBClassifier(random_state=11))])</pre><b>Please rerun this cell to show the HTML repr or trust the notebook.</b></div><div class=\"sk-container\" hidden><div class=\"sk-item sk-dashed-wrapped\"><div class=\"sk-label-container\"><div class=\"sk-label sk-toggleable\"><input class=\"sk-toggleable__control sk-hidden--visually\" id=\"566e3b7d-2315-4220-a673-11841e1d14c3\" type=\"checkbox\" ><label for=\"566e3b7d-2315-4220-a673-11841e1d14c3\" class=\"sk-toggleable__label sk-toggleable__label-arrow\">VotingClassifier</label><div class=\"sk-toggleable__content\"><pre>VotingClassifier(estimators=[(&#x27;Decision_tree&#x27;,\n",
              "                              DecisionTreeClassifier(random_state=11)),\n",
              "                             (&#x27;Random_forest&#x27;,\n",
              "                              RandomForestClassifier(random_state=11)),\n",
              "                             (&#x27;Xgboost&#x27;, XGBClassifier(random_state=11))])</pre></div></div></div><div class=\"sk-parallel\"><div class=\"sk-parallel-item\"><div class=\"sk-item\"><div class=\"sk-label-container\"><div class=\"sk-label sk-toggleable\"><label>Decision_tree</label></div></div><div class=\"sk-serial\"><div class=\"sk-item\"><div class=\"sk-estimator sk-toggleable\"><input class=\"sk-toggleable__control sk-hidden--visually\" id=\"e7b2ef43-ca3c-4338-93e3-959b9117c14c\" type=\"checkbox\" ><label for=\"e7b2ef43-ca3c-4338-93e3-959b9117c14c\" class=\"sk-toggleable__label sk-toggleable__label-arrow\">DecisionTreeClassifier</label><div class=\"sk-toggleable__content\"><pre>DecisionTreeClassifier(random_state=11)</pre></div></div></div></div></div></div><div class=\"sk-parallel-item\"><div class=\"sk-item\"><div class=\"sk-label-container\"><div class=\"sk-label sk-toggleable\"><label>Random_forest</label></div></div><div class=\"sk-serial\"><div class=\"sk-item\"><div class=\"sk-estimator sk-toggleable\"><input class=\"sk-toggleable__control sk-hidden--visually\" id=\"79ee6ee4-f368-4442-8fad-745917bbfb69\" type=\"checkbox\" ><label for=\"79ee6ee4-f368-4442-8fad-745917bbfb69\" class=\"sk-toggleable__label sk-toggleable__label-arrow\">RandomForestClassifier</label><div class=\"sk-toggleable__content\"><pre>RandomForestClassifier(random_state=11)</pre></div></div></div></div></div></div><div class=\"sk-parallel-item\"><div class=\"sk-item\"><div class=\"sk-label-container\"><div class=\"sk-label sk-toggleable\"><label>Xgboost</label></div></div><div class=\"sk-serial\"><div class=\"sk-item\"><div class=\"sk-estimator sk-toggleable\"><input class=\"sk-toggleable__control sk-hidden--visually\" id=\"0f154293-9d69-469b-a3b9-27c269a15bc6\" type=\"checkbox\" ><label for=\"0f154293-9d69-469b-a3b9-27c269a15bc6\" class=\"sk-toggleable__label sk-toggleable__label-arrow\">XGBClassifier</label><div class=\"sk-toggleable__content\"><pre>XGBClassifier(random_state=11)</pre></div></div></div></div></div></div></div></div></div></div>"
            ]
          },
          "metadata": {},
          "execution_count": 56
        }
      ]
    },
    {
      "cell_type": "code",
      "source": [
        "voting_scores = cross_val_score(voting_clf, X_test, y_test, cv = 10, scoring = 'balanced_accuracy')\n",
        "voting_scores.mean().round(3)"
      ],
      "metadata": {
        "colab": {
          "base_uri": "https://localhost:8080/"
        },
        "id": "qOPIz8sz-8Aj",
        "outputId": "3e53c601-4560-4619-9504-a4f3a65be492"
      },
      "execution_count": null,
      "outputs": [
        {
          "output_type": "execute_result",
          "data": {
            "text/plain": [
              "0.868"
            ]
          },
          "metadata": {},
          "execution_count": 57
        }
      ]
    },
    {
      "cell_type": "code",
      "source": [
        "# Check for RMSE score.\n",
        "voting_rmses = -cross_val_score(voting_clf, X_test, y_test, cv = 10, scoring = \"neg_root_mean_squared_error\")\n",
        "voting_rmses.mean().round(3)"
      ],
      "metadata": {
        "colab": {
          "base_uri": "https://localhost:8080/"
        },
        "id": "RsDiXUAMx3GY",
        "outputId": "9d88c5c7-906c-481b-ae9b-5a974f75b236"
      },
      "execution_count": null,
      "outputs": [
        {
          "output_type": "execute_result",
          "data": {
            "text/plain": [
              "0.28"
            ]
          },
          "metadata": {},
          "execution_count": 58
        }
      ]
    },
    {
      "cell_type": "markdown",
      "source": [
        "###**5.10 Stacking Classifier**"
      ],
      "metadata": {
        "id": "AXWJUmOYAC_8"
      }
    },
    {
      "cell_type": "code",
      "source": [
        "from sklearn.ensemble import StackingClassifier\n",
        "stacking_clf = StackingClassifier(\n",
        "    estimators=[\n",
        "        ('Decision_tree', DecisionTreeClassifier(random_state = 11)),\n",
        "        ('Random_forest', RandomForestClassifier(n_estimators = 100, random_state = 11)),\n",
        "        ('Xgboost', XGBClassifier(n_estimators = 100, random_state = 11))], \n",
        "        final_estimator = LogisticRegression(random_state = 11), cv=5 )\n",
        "\n",
        "stacking_clf.fit(X_train, y_train)"
      ],
      "metadata": {
        "colab": {
          "base_uri": "https://localhost:8080/",
          "height": 164
        },
        "id": "6noEM_T6AVNa",
        "outputId": "1fc0f111-83de-445a-961e-661eb2142072"
      },
      "execution_count": null,
      "outputs": [
        {
          "output_type": "execute_result",
          "data": {
            "text/plain": [
              "StackingClassifier(cv=5,\n",
              "                   estimators=[('Decision_tree',\n",
              "                                DecisionTreeClassifier(random_state=11)),\n",
              "                               ('Random_forest',\n",
              "                                RandomForestClassifier(random_state=11)),\n",
              "                               ('Xgboost', XGBClassifier(random_state=11))],\n",
              "                   final_estimator=LogisticRegression(random_state=11))"
            ],
            "text/html": [
              "<style>#sk-e384fe03-3f34-4728-8b11-6f725d771f0c {color: black;background-color: white;}#sk-e384fe03-3f34-4728-8b11-6f725d771f0c pre{padding: 0;}#sk-e384fe03-3f34-4728-8b11-6f725d771f0c div.sk-toggleable {background-color: white;}#sk-e384fe03-3f34-4728-8b11-6f725d771f0c label.sk-toggleable__label {cursor: pointer;display: block;width: 100%;margin-bottom: 0;padding: 0.3em;box-sizing: border-box;text-align: center;}#sk-e384fe03-3f34-4728-8b11-6f725d771f0c label.sk-toggleable__label-arrow:before {content: \"▸\";float: left;margin-right: 0.25em;color: #696969;}#sk-e384fe03-3f34-4728-8b11-6f725d771f0c label.sk-toggleable__label-arrow:hover:before {color: black;}#sk-e384fe03-3f34-4728-8b11-6f725d771f0c div.sk-estimator:hover label.sk-toggleable__label-arrow:before {color: black;}#sk-e384fe03-3f34-4728-8b11-6f725d771f0c div.sk-toggleable__content {max-height: 0;max-width: 0;overflow: hidden;text-align: left;background-color: #f0f8ff;}#sk-e384fe03-3f34-4728-8b11-6f725d771f0c div.sk-toggleable__content pre {margin: 0.2em;color: black;border-radius: 0.25em;background-color: #f0f8ff;}#sk-e384fe03-3f34-4728-8b11-6f725d771f0c input.sk-toggleable__control:checked~div.sk-toggleable__content {max-height: 200px;max-width: 100%;overflow: auto;}#sk-e384fe03-3f34-4728-8b11-6f725d771f0c input.sk-toggleable__control:checked~label.sk-toggleable__label-arrow:before {content: \"▾\";}#sk-e384fe03-3f34-4728-8b11-6f725d771f0c div.sk-estimator input.sk-toggleable__control:checked~label.sk-toggleable__label {background-color: #d4ebff;}#sk-e384fe03-3f34-4728-8b11-6f725d771f0c div.sk-label input.sk-toggleable__control:checked~label.sk-toggleable__label {background-color: #d4ebff;}#sk-e384fe03-3f34-4728-8b11-6f725d771f0c input.sk-hidden--visually {border: 0;clip: rect(1px 1px 1px 1px);clip: rect(1px, 1px, 1px, 1px);height: 1px;margin: -1px;overflow: hidden;padding: 0;position: absolute;width: 1px;}#sk-e384fe03-3f34-4728-8b11-6f725d771f0c div.sk-estimator {font-family: monospace;background-color: #f0f8ff;border: 1px dotted black;border-radius: 0.25em;box-sizing: border-box;margin-bottom: 0.5em;}#sk-e384fe03-3f34-4728-8b11-6f725d771f0c div.sk-estimator:hover {background-color: #d4ebff;}#sk-e384fe03-3f34-4728-8b11-6f725d771f0c div.sk-parallel-item::after {content: \"\";width: 100%;border-bottom: 1px solid gray;flex-grow: 1;}#sk-e384fe03-3f34-4728-8b11-6f725d771f0c div.sk-label:hover label.sk-toggleable__label {background-color: #d4ebff;}#sk-e384fe03-3f34-4728-8b11-6f725d771f0c div.sk-serial::before {content: \"\";position: absolute;border-left: 1px solid gray;box-sizing: border-box;top: 2em;bottom: 0;left: 50%;}#sk-e384fe03-3f34-4728-8b11-6f725d771f0c div.sk-serial {display: flex;flex-direction: column;align-items: center;background-color: white;padding-right: 0.2em;padding-left: 0.2em;}#sk-e384fe03-3f34-4728-8b11-6f725d771f0c div.sk-item {z-index: 1;}#sk-e384fe03-3f34-4728-8b11-6f725d771f0c div.sk-parallel {display: flex;align-items: stretch;justify-content: center;background-color: white;}#sk-e384fe03-3f34-4728-8b11-6f725d771f0c div.sk-parallel::before {content: \"\";position: absolute;border-left: 1px solid gray;box-sizing: border-box;top: 2em;bottom: 0;left: 50%;}#sk-e384fe03-3f34-4728-8b11-6f725d771f0c div.sk-parallel-item {display: flex;flex-direction: column;position: relative;background-color: white;}#sk-e384fe03-3f34-4728-8b11-6f725d771f0c div.sk-parallel-item:first-child::after {align-self: flex-end;width: 50%;}#sk-e384fe03-3f34-4728-8b11-6f725d771f0c div.sk-parallel-item:last-child::after {align-self: flex-start;width: 50%;}#sk-e384fe03-3f34-4728-8b11-6f725d771f0c div.sk-parallel-item:only-child::after {width: 0;}#sk-e384fe03-3f34-4728-8b11-6f725d771f0c div.sk-dashed-wrapped {border: 1px dashed gray;margin: 0 0.4em 0.5em 0.4em;box-sizing: border-box;padding-bottom: 0.4em;background-color: white;position: relative;}#sk-e384fe03-3f34-4728-8b11-6f725d771f0c div.sk-label label {font-family: monospace;font-weight: bold;background-color: white;display: inline-block;line-height: 1.2em;}#sk-e384fe03-3f34-4728-8b11-6f725d771f0c div.sk-label-container {position: relative;z-index: 2;text-align: center;}#sk-e384fe03-3f34-4728-8b11-6f725d771f0c div.sk-container {/* jupyter's `normalize.less` sets `[hidden] { display: none; }` but bootstrap.min.css set `[hidden] { display: none !important; }` so we also need the `!important` here to be able to override the default hidden behavior on the sphinx rendered scikit-learn.org. See: https://github.com/scikit-learn/scikit-learn/issues/21755 */display: inline-block !important;position: relative;}#sk-e384fe03-3f34-4728-8b11-6f725d771f0c div.sk-text-repr-fallback {display: none;}</style><div id=\"sk-e384fe03-3f34-4728-8b11-6f725d771f0c\" class=\"sk-top-container\"><div class=\"sk-text-repr-fallback\"><pre>StackingClassifier(cv=5,\n",
              "                   estimators=[(&#x27;Decision_tree&#x27;,\n",
              "                                DecisionTreeClassifier(random_state=11)),\n",
              "                               (&#x27;Random_forest&#x27;,\n",
              "                                RandomForestClassifier(random_state=11)),\n",
              "                               (&#x27;Xgboost&#x27;, XGBClassifier(random_state=11))],\n",
              "                   final_estimator=LogisticRegression(random_state=11))</pre><b>Please rerun this cell to show the HTML repr or trust the notebook.</b></div><div class=\"sk-container\" hidden><div class=\"sk-item sk-dashed-wrapped\"><div class=\"sk-label-container\"><div class=\"sk-label sk-toggleable\"><input class=\"sk-toggleable__control sk-hidden--visually\" id=\"9704c831-2da0-4532-a50e-1ac5abf9df24\" type=\"checkbox\" ><label for=\"9704c831-2da0-4532-a50e-1ac5abf9df24\" class=\"sk-toggleable__label sk-toggleable__label-arrow\">StackingClassifier</label><div class=\"sk-toggleable__content\"><pre>StackingClassifier(cv=5,\n",
              "                   estimators=[(&#x27;Decision_tree&#x27;,\n",
              "                                DecisionTreeClassifier(random_state=11)),\n",
              "                               (&#x27;Random_forest&#x27;,\n",
              "                                RandomForestClassifier(random_state=11)),\n",
              "                               (&#x27;Xgboost&#x27;, XGBClassifier(random_state=11))],\n",
              "                   final_estimator=LogisticRegression(random_state=11))</pre></div></div></div><div class=\"sk-serial\"><div class=\"sk-item\"><div class=\"sk-parallel\"><div class=\"sk-parallel-item\"><div class=\"sk-item\"><div class=\"sk-label-container\"><div class=\"sk-label sk-toggleable\"><label>Decision_tree</label></div></div><div class=\"sk-serial\"><div class=\"sk-item\"><div class=\"sk-estimator sk-toggleable\"><input class=\"sk-toggleable__control sk-hidden--visually\" id=\"1dc79189-809a-4543-8973-06aad9ac30bb\" type=\"checkbox\" ><label for=\"1dc79189-809a-4543-8973-06aad9ac30bb\" class=\"sk-toggleable__label sk-toggleable__label-arrow\">DecisionTreeClassifier</label><div class=\"sk-toggleable__content\"><pre>DecisionTreeClassifier(random_state=11)</pre></div></div></div></div></div></div><div class=\"sk-parallel-item\"><div class=\"sk-item\"><div class=\"sk-label-container\"><div class=\"sk-label sk-toggleable\"><label>Random_forest</label></div></div><div class=\"sk-serial\"><div class=\"sk-item\"><div class=\"sk-estimator sk-toggleable\"><input class=\"sk-toggleable__control sk-hidden--visually\" id=\"f83080dd-e64b-4140-bd7e-8a62fbf20708\" type=\"checkbox\" ><label for=\"f83080dd-e64b-4140-bd7e-8a62fbf20708\" class=\"sk-toggleable__label sk-toggleable__label-arrow\">RandomForestClassifier</label><div class=\"sk-toggleable__content\"><pre>RandomForestClassifier(random_state=11)</pre></div></div></div></div></div></div><div class=\"sk-parallel-item\"><div class=\"sk-item\"><div class=\"sk-label-container\"><div class=\"sk-label sk-toggleable\"><label>Xgboost</label></div></div><div class=\"sk-serial\"><div class=\"sk-item\"><div class=\"sk-estimator sk-toggleable\"><input class=\"sk-toggleable__control sk-hidden--visually\" id=\"4be4d35d-03e2-4ed1-a851-cbd4e1d5551b\" type=\"checkbox\" ><label for=\"4be4d35d-03e2-4ed1-a851-cbd4e1d5551b\" class=\"sk-toggleable__label sk-toggleable__label-arrow\">XGBClassifier</label><div class=\"sk-toggleable__content\"><pre>XGBClassifier(random_state=11)</pre></div></div></div></div></div></div></div></div><div class=\"sk-item\"><div class=\"sk-parallel\"><div class=\"sk-parallel-item\"><div class=\"sk-item\"><div class=\"sk-label-container\"><div class=\"sk-label sk-toggleable\"><label>final_estimator</label></div></div><div class=\"sk-serial\"><div class=\"sk-item\"><div class=\"sk-estimator sk-toggleable\"><input class=\"sk-toggleable__control sk-hidden--visually\" id=\"ab9e11c3-91f4-4c62-aa8b-b954b5ab9d9d\" type=\"checkbox\" ><label for=\"ab9e11c3-91f4-4c62-aa8b-b954b5ab9d9d\" class=\"sk-toggleable__label sk-toggleable__label-arrow\">LogisticRegression</label><div class=\"sk-toggleable__content\"><pre>LogisticRegression(random_state=11)</pre></div></div></div></div></div></div></div></div></div></div></div></div>"
            ]
          },
          "metadata": {},
          "execution_count": 59
        }
      ]
    },
    {
      "cell_type": "code",
      "source": [
        "# Check for balanced accuracy score.\n",
        "stacking_scores = cross_val_score(stacking_clf, X_test, y_test, cv = 10, scoring = 'balanced_accuracy')\n",
        "stacking_scores.mean().round(3)"
      ],
      "metadata": {
        "colab": {
          "base_uri": "https://localhost:8080/"
        },
        "id": "iOPjm6e1A-VF",
        "outputId": "4a76cf6c-4463-4509-83e4-0f583fb02799"
      },
      "execution_count": null,
      "outputs": [
        {
          "output_type": "execute_result",
          "data": {
            "text/plain": [
              "0.856"
            ]
          },
          "metadata": {},
          "execution_count": 60
        }
      ]
    },
    {
      "cell_type": "code",
      "source": [
        "# Check for RMSE score.\n",
        "stacking_rmses = -cross_val_score(stacking_clf, X_test, y_test, cv = 10, scoring = \"neg_root_mean_squared_error\")\n",
        "stacking_rmses.mean().round(3)"
      ],
      "metadata": {
        "colab": {
          "base_uri": "https://localhost:8080/"
        },
        "id": "UxU6cT5DyKgg",
        "outputId": "cb1aef9b-3b0e-41fd-b851-45636395cf2d"
      },
      "execution_count": null,
      "outputs": [
        {
          "output_type": "execute_result",
          "data": {
            "text/plain": [
              "0.289"
            ]
          },
          "metadata": {},
          "execution_count": 61
        }
      ]
    },
    {
      "cell_type": "markdown",
      "source": [
        "###**5.11 Bagging Classifier**"
      ],
      "metadata": {
        "id": "ryEhnRkqBktx"
      }
    },
    {
      "cell_type": "code",
      "source": [
        "from sklearn.ensemble import BaggingClassifier\n",
        "bag_clf = BaggingClassifier(DecisionTreeClassifier(), \n",
        "                            n_estimators = 500, \n",
        "                            oob_score=True, \n",
        "                            n_jobs=-1, random_state = 11)\n",
        "\n",
        "bag_clf.fit(X_train, y_train)"
      ],
      "metadata": {
        "colab": {
          "base_uri": "https://localhost:8080/",
          "height": 93
        },
        "id": "p2Gh7BWgBsX8",
        "outputId": "55a6dc56-13bd-424e-f354-d21030b4b532"
      },
      "execution_count": null,
      "outputs": [
        {
          "output_type": "execute_result",
          "data": {
            "text/plain": [
              "BaggingClassifier(base_estimator=DecisionTreeClassifier(), n_estimators=500,\n",
              "                  n_jobs=-1, oob_score=True, random_state=11)"
            ],
            "text/html": [
              "<style>#sk-f9afd0a6-96a5-4425-8b97-4b4951553c84 {color: black;background-color: white;}#sk-f9afd0a6-96a5-4425-8b97-4b4951553c84 pre{padding: 0;}#sk-f9afd0a6-96a5-4425-8b97-4b4951553c84 div.sk-toggleable {background-color: white;}#sk-f9afd0a6-96a5-4425-8b97-4b4951553c84 label.sk-toggleable__label {cursor: pointer;display: block;width: 100%;margin-bottom: 0;padding: 0.3em;box-sizing: border-box;text-align: center;}#sk-f9afd0a6-96a5-4425-8b97-4b4951553c84 label.sk-toggleable__label-arrow:before {content: \"▸\";float: left;margin-right: 0.25em;color: #696969;}#sk-f9afd0a6-96a5-4425-8b97-4b4951553c84 label.sk-toggleable__label-arrow:hover:before {color: black;}#sk-f9afd0a6-96a5-4425-8b97-4b4951553c84 div.sk-estimator:hover label.sk-toggleable__label-arrow:before {color: black;}#sk-f9afd0a6-96a5-4425-8b97-4b4951553c84 div.sk-toggleable__content {max-height: 0;max-width: 0;overflow: hidden;text-align: left;background-color: #f0f8ff;}#sk-f9afd0a6-96a5-4425-8b97-4b4951553c84 div.sk-toggleable__content pre {margin: 0.2em;color: black;border-radius: 0.25em;background-color: #f0f8ff;}#sk-f9afd0a6-96a5-4425-8b97-4b4951553c84 input.sk-toggleable__control:checked~div.sk-toggleable__content {max-height: 200px;max-width: 100%;overflow: auto;}#sk-f9afd0a6-96a5-4425-8b97-4b4951553c84 input.sk-toggleable__control:checked~label.sk-toggleable__label-arrow:before {content: \"▾\";}#sk-f9afd0a6-96a5-4425-8b97-4b4951553c84 div.sk-estimator input.sk-toggleable__control:checked~label.sk-toggleable__label {background-color: #d4ebff;}#sk-f9afd0a6-96a5-4425-8b97-4b4951553c84 div.sk-label input.sk-toggleable__control:checked~label.sk-toggleable__label {background-color: #d4ebff;}#sk-f9afd0a6-96a5-4425-8b97-4b4951553c84 input.sk-hidden--visually {border: 0;clip: rect(1px 1px 1px 1px);clip: rect(1px, 1px, 1px, 1px);height: 1px;margin: -1px;overflow: hidden;padding: 0;position: absolute;width: 1px;}#sk-f9afd0a6-96a5-4425-8b97-4b4951553c84 div.sk-estimator {font-family: monospace;background-color: #f0f8ff;border: 1px dotted black;border-radius: 0.25em;box-sizing: border-box;margin-bottom: 0.5em;}#sk-f9afd0a6-96a5-4425-8b97-4b4951553c84 div.sk-estimator:hover {background-color: #d4ebff;}#sk-f9afd0a6-96a5-4425-8b97-4b4951553c84 div.sk-parallel-item::after {content: \"\";width: 100%;border-bottom: 1px solid gray;flex-grow: 1;}#sk-f9afd0a6-96a5-4425-8b97-4b4951553c84 div.sk-label:hover label.sk-toggleable__label {background-color: #d4ebff;}#sk-f9afd0a6-96a5-4425-8b97-4b4951553c84 div.sk-serial::before {content: \"\";position: absolute;border-left: 1px solid gray;box-sizing: border-box;top: 2em;bottom: 0;left: 50%;}#sk-f9afd0a6-96a5-4425-8b97-4b4951553c84 div.sk-serial {display: flex;flex-direction: column;align-items: center;background-color: white;padding-right: 0.2em;padding-left: 0.2em;}#sk-f9afd0a6-96a5-4425-8b97-4b4951553c84 div.sk-item {z-index: 1;}#sk-f9afd0a6-96a5-4425-8b97-4b4951553c84 div.sk-parallel {display: flex;align-items: stretch;justify-content: center;background-color: white;}#sk-f9afd0a6-96a5-4425-8b97-4b4951553c84 div.sk-parallel::before {content: \"\";position: absolute;border-left: 1px solid gray;box-sizing: border-box;top: 2em;bottom: 0;left: 50%;}#sk-f9afd0a6-96a5-4425-8b97-4b4951553c84 div.sk-parallel-item {display: flex;flex-direction: column;position: relative;background-color: white;}#sk-f9afd0a6-96a5-4425-8b97-4b4951553c84 div.sk-parallel-item:first-child::after {align-self: flex-end;width: 50%;}#sk-f9afd0a6-96a5-4425-8b97-4b4951553c84 div.sk-parallel-item:last-child::after {align-self: flex-start;width: 50%;}#sk-f9afd0a6-96a5-4425-8b97-4b4951553c84 div.sk-parallel-item:only-child::after {width: 0;}#sk-f9afd0a6-96a5-4425-8b97-4b4951553c84 div.sk-dashed-wrapped {border: 1px dashed gray;margin: 0 0.4em 0.5em 0.4em;box-sizing: border-box;padding-bottom: 0.4em;background-color: white;position: relative;}#sk-f9afd0a6-96a5-4425-8b97-4b4951553c84 div.sk-label label {font-family: monospace;font-weight: bold;background-color: white;display: inline-block;line-height: 1.2em;}#sk-f9afd0a6-96a5-4425-8b97-4b4951553c84 div.sk-label-container {position: relative;z-index: 2;text-align: center;}#sk-f9afd0a6-96a5-4425-8b97-4b4951553c84 div.sk-container {/* jupyter's `normalize.less` sets `[hidden] { display: none; }` but bootstrap.min.css set `[hidden] { display: none !important; }` so we also need the `!important` here to be able to override the default hidden behavior on the sphinx rendered scikit-learn.org. See: https://github.com/scikit-learn/scikit-learn/issues/21755 */display: inline-block !important;position: relative;}#sk-f9afd0a6-96a5-4425-8b97-4b4951553c84 div.sk-text-repr-fallback {display: none;}</style><div id=\"sk-f9afd0a6-96a5-4425-8b97-4b4951553c84\" class=\"sk-top-container\"><div class=\"sk-text-repr-fallback\"><pre>BaggingClassifier(base_estimator=DecisionTreeClassifier(), n_estimators=500,\n",
              "                  n_jobs=-1, oob_score=True, random_state=11)</pre><b>Please rerun this cell to show the HTML repr or trust the notebook.</b></div><div class=\"sk-container\" hidden><div class=\"sk-item sk-dashed-wrapped\"><div class=\"sk-label-container\"><div class=\"sk-label sk-toggleable\"><input class=\"sk-toggleable__control sk-hidden--visually\" id=\"3e29500f-e866-473c-abc5-f3e1ccd01fea\" type=\"checkbox\" ><label for=\"3e29500f-e866-473c-abc5-f3e1ccd01fea\" class=\"sk-toggleable__label sk-toggleable__label-arrow\">BaggingClassifier</label><div class=\"sk-toggleable__content\"><pre>BaggingClassifier(base_estimator=DecisionTreeClassifier(), n_estimators=500,\n",
              "                  n_jobs=-1, oob_score=True, random_state=11)</pre></div></div></div><div class=\"sk-parallel\"><div class=\"sk-parallel-item\"><div class=\"sk-item\"><div class=\"sk-serial\"><div class=\"sk-item\"><div class=\"sk-estimator sk-toggleable\"><input class=\"sk-toggleable__control sk-hidden--visually\" id=\"50d9e8a7-1cde-40fe-8f61-87332ed4fcf8\" type=\"checkbox\" ><label for=\"50d9e8a7-1cde-40fe-8f61-87332ed4fcf8\" class=\"sk-toggleable__label sk-toggleable__label-arrow\">DecisionTreeClassifier</label><div class=\"sk-toggleable__content\"><pre>DecisionTreeClassifier()</pre></div></div></div></div></div></div></div></div></div></div>"
            ]
          },
          "metadata": {},
          "execution_count": 62
        }
      ]
    },
    {
      "cell_type": "code",
      "source": [
        "# Check for balanced accuracy score.\n",
        "bag_scores = cross_val_score(bag_clf, X_test, y_test, cv = 10, scoring = 'balanced_accuracy')\n",
        "bag_scores.mean().round(3)"
      ],
      "metadata": {
        "colab": {
          "base_uri": "https://localhost:8080/"
        },
        "id": "mO4n0S4CB2hf",
        "outputId": "45731090-c813-4a99-ba6f-1c1a32909acd"
      },
      "execution_count": null,
      "outputs": [
        {
          "output_type": "execute_result",
          "data": {
            "text/plain": [
              "0.869"
            ]
          },
          "metadata": {},
          "execution_count": 63
        }
      ]
    },
    {
      "cell_type": "code",
      "source": [
        "# Check for RMSE score.\n",
        "bag_rmses = -cross_val_score(bag_clf, X_test, y_test, cv = 10, scoring = \"neg_root_mean_squared_error\")\n",
        "bag_rmses.mean().round(3)"
      ],
      "metadata": {
        "colab": {
          "base_uri": "https://localhost:8080/"
        },
        "id": "KF5_pUSbyY2t",
        "outputId": "3c9ccb7a-be45-479e-ef54-8748af7fc3a9"
      },
      "execution_count": null,
      "outputs": [
        {
          "output_type": "execute_result",
          "data": {
            "text/plain": [
              "0.281"
            ]
          },
          "metadata": {},
          "execution_count": 64
        }
      ]
    },
    {
      "cell_type": "markdown",
      "source": [
        "###**5.9 Compare Different Classifiers**"
      ],
      "metadata": {
        "id": "OYUB9kfRqFyd"
      }
    },
    {
      "cell_type": "code",
      "source": [
        "# Develop a dataframe with accuracy scores and rmse. \n",
        "d = {'Logistic': [logistic_scores.mean().round(3), logistic_rmses.mean().round(3)], \n",
        "    'SVC': [svc_rbf_scores.mean().round(3), svc_rbf_rmses.mean().round(3)],\n",
        "    'kNN': [knn_scores.mean().round(3), knn_rmses.mean().round(3)],\n",
        "    'DecisionTree': [tree_scores.mean().round(3), tree_rmses.mean().round(3)],\n",
        "    'RandomForest': [forest_scores.mean().round(3), forest_rmses.mean().round(3)],\n",
        "    'XGBoost': [xgb_scores.mean().round(3), xgboost_rmses.mean().round(3)],\n",
        "    'Voting': [voting_scores.mean().round(3), voting_rmses.mean().round(3)],\n",
        "    'Stacking': [stacking_scores.mean().round(3), stacking_rmses.mean().round(3)],\n",
        "    'Bagging': [bag_scores.mean().round(3), bag_rmses.mean().round(3)],   \n",
        "     }\n",
        "models = pd.DataFrame(data = d).transpose()\n",
        "models = models.rename(columns={ 0: 'Balanced_Accuracy', 1: 'RMSE'})\n",
        "models.head()"
      ],
      "metadata": {
        "colab": {
          "base_uri": "https://localhost:8080/",
          "height": 206
        },
        "id": "m3rI-Mdiytzq",
        "outputId": "eac787fc-0d5e-42e5-9dfc-7f840a3987a0"
      },
      "execution_count": null,
      "outputs": [
        {
          "output_type": "execute_result",
          "data": {
            "text/plain": [
              "              Balanced_Accuracy   RMSE\n",
              "Logistic                  0.542  0.437\n",
              "SVC                       0.505  0.430\n",
              "kNN                       0.842  0.299\n",
              "DecisionTree              0.868  0.279\n",
              "RandomForest              0.870  0.281"
            ],
            "text/html": [
              "\n",
              "  <div id=\"df-1a0f8ca3-6f59-45ba-a8b1-23e65079d016\">\n",
              "    <div class=\"colab-df-container\">\n",
              "      <div>\n",
              "<style scoped>\n",
              "    .dataframe tbody tr th:only-of-type {\n",
              "        vertical-align: middle;\n",
              "    }\n",
              "\n",
              "    .dataframe tbody tr th {\n",
              "        vertical-align: top;\n",
              "    }\n",
              "\n",
              "    .dataframe thead th {\n",
              "        text-align: right;\n",
              "    }\n",
              "</style>\n",
              "<table border=\"1\" class=\"dataframe\">\n",
              "  <thead>\n",
              "    <tr style=\"text-align: right;\">\n",
              "      <th></th>\n",
              "      <th>Balanced_Accuracy</th>\n",
              "      <th>RMSE</th>\n",
              "    </tr>\n",
              "  </thead>\n",
              "  <tbody>\n",
              "    <tr>\n",
              "      <th>Logistic</th>\n",
              "      <td>0.542</td>\n",
              "      <td>0.437</td>\n",
              "    </tr>\n",
              "    <tr>\n",
              "      <th>SVC</th>\n",
              "      <td>0.505</td>\n",
              "      <td>0.430</td>\n",
              "    </tr>\n",
              "    <tr>\n",
              "      <th>kNN</th>\n",
              "      <td>0.842</td>\n",
              "      <td>0.299</td>\n",
              "    </tr>\n",
              "    <tr>\n",
              "      <th>DecisionTree</th>\n",
              "      <td>0.868</td>\n",
              "      <td>0.279</td>\n",
              "    </tr>\n",
              "    <tr>\n",
              "      <th>RandomForest</th>\n",
              "      <td>0.870</td>\n",
              "      <td>0.281</td>\n",
              "    </tr>\n",
              "  </tbody>\n",
              "</table>\n",
              "</div>\n",
              "      <button class=\"colab-df-convert\" onclick=\"convertToInteractive('df-1a0f8ca3-6f59-45ba-a8b1-23e65079d016')\"\n",
              "              title=\"Convert this dataframe to an interactive table.\"\n",
              "              style=\"display:none;\">\n",
              "        \n",
              "  <svg xmlns=\"http://www.w3.org/2000/svg\" height=\"24px\"viewBox=\"0 0 24 24\"\n",
              "       width=\"24px\">\n",
              "    <path d=\"M0 0h24v24H0V0z\" fill=\"none\"/>\n",
              "    <path d=\"M18.56 5.44l.94 2.06.94-2.06 2.06-.94-2.06-.94-.94-2.06-.94 2.06-2.06.94zm-11 1L8.5 8.5l.94-2.06 2.06-.94-2.06-.94L8.5 2.5l-.94 2.06-2.06.94zm10 10l.94 2.06.94-2.06 2.06-.94-2.06-.94-.94-2.06-.94 2.06-2.06.94z\"/><path d=\"M17.41 7.96l-1.37-1.37c-.4-.4-.92-.59-1.43-.59-.52 0-1.04.2-1.43.59L10.3 9.45l-7.72 7.72c-.78.78-.78 2.05 0 2.83L4 21.41c.39.39.9.59 1.41.59.51 0 1.02-.2 1.41-.59l7.78-7.78 2.81-2.81c.8-.78.8-2.07 0-2.86zM5.41 20L4 18.59l7.72-7.72 1.47 1.35L5.41 20z\"/>\n",
              "  </svg>\n",
              "      </button>\n",
              "      \n",
              "  <style>\n",
              "    .colab-df-container {\n",
              "      display:flex;\n",
              "      flex-wrap:wrap;\n",
              "      gap: 12px;\n",
              "    }\n",
              "\n",
              "    .colab-df-convert {\n",
              "      background-color: #E8F0FE;\n",
              "      border: none;\n",
              "      border-radius: 50%;\n",
              "      cursor: pointer;\n",
              "      display: none;\n",
              "      fill: #1967D2;\n",
              "      height: 32px;\n",
              "      padding: 0 0 0 0;\n",
              "      width: 32px;\n",
              "    }\n",
              "\n",
              "    .colab-df-convert:hover {\n",
              "      background-color: #E2EBFA;\n",
              "      box-shadow: 0px 1px 2px rgba(60, 64, 67, 0.3), 0px 1px 3px 1px rgba(60, 64, 67, 0.15);\n",
              "      fill: #174EA6;\n",
              "    }\n",
              "\n",
              "    [theme=dark] .colab-df-convert {\n",
              "      background-color: #3B4455;\n",
              "      fill: #D2E3FC;\n",
              "    }\n",
              "\n",
              "    [theme=dark] .colab-df-convert:hover {\n",
              "      background-color: #434B5C;\n",
              "      box-shadow: 0px 1px 3px 1px rgba(0, 0, 0, 0.15);\n",
              "      filter: drop-shadow(0px 1px 2px rgba(0, 0, 0, 0.3));\n",
              "      fill: #FFFFFF;\n",
              "    }\n",
              "  </style>\n",
              "\n",
              "      <script>\n",
              "        const buttonEl =\n",
              "          document.querySelector('#df-1a0f8ca3-6f59-45ba-a8b1-23e65079d016 button.colab-df-convert');\n",
              "        buttonEl.style.display =\n",
              "          google.colab.kernel.accessAllowed ? 'block' : 'none';\n",
              "\n",
              "        async function convertToInteractive(key) {\n",
              "          const element = document.querySelector('#df-1a0f8ca3-6f59-45ba-a8b1-23e65079d016');\n",
              "          const dataTable =\n",
              "            await google.colab.kernel.invokeFunction('convertToInteractive',\n",
              "                                                     [key], {});\n",
              "          if (!dataTable) return;\n",
              "\n",
              "          const docLinkHtml = 'Like what you see? Visit the ' +\n",
              "            '<a target=\"_blank\" href=https://colab.research.google.com/notebooks/data_table.ipynb>data table notebook</a>'\n",
              "            + ' to learn more about interactive tables.';\n",
              "          element.innerHTML = '';\n",
              "          dataTable['output_type'] = 'display_data';\n",
              "          await google.colab.output.renderOutput(dataTable, element);\n",
              "          const docLink = document.createElement('div');\n",
              "          docLink.innerHTML = docLinkHtml;\n",
              "          element.appendChild(docLink);\n",
              "        }\n",
              "      </script>\n",
              "    </div>\n",
              "  </div>\n",
              "  "
            ]
          },
          "metadata": {},
          "execution_count": 65
        }
      ]
    },
    {
      "cell_type": "code",
      "source": [
        "# Graph the changes in different scores with a barplot and a lineplot\n",
        "fig=plt.figure(figsize=(15,5))\n",
        "ax1 = fig.add_subplot(111)\n",
        "ax2 = ax1.twinx()\n",
        "\n",
        "sns.barplot(x = models.index, y = models['Balanced_Accuracy'],data = models,color = '#69d',ax = ax1)\n",
        "sns.lineplot(x= models.index, y = models['RMSE'],data = models, marker = 's',color = 'orange',ax=ax2)\n",
        "\n",
        "plt.xticks()\n",
        "plt.title('Balanced Accuracy Score/RMSE Across Models')\n",
        "plt.show()"
      ],
      "metadata": {
        "colab": {
          "base_uri": "https://localhost:8080/",
          "height": 336
        },
        "id": "jr2cPzbM1od-",
        "outputId": "bdc40c14-ee35-4a72-9ced-1588d98bbe9a"
      },
      "execution_count": null,
      "outputs": [
        {
          "output_type": "display_data",
          "data": {
            "text/plain": [
              "<Figure size 1080x360 with 2 Axes>"
            ],
            "image/png": "[encoded data removed]"
          },
          "metadata": {
            "needs_background": "light"
          }
        }
      ]
    },
    {
      "cell_type": "code",
      "source": [
        "# Check which models are the more accurate. \n",
        "models.sort_values(by = 'Balanced_Accuracy')"
      ],
      "metadata": {
        "colab": {
          "base_uri": "https://localhost:8080/",
          "height": 332
        },
        "id": "SSe63Lu1Efza",
        "outputId": "7cbf209d-353c-4eff-bedf-e1e7da6580c8"
      },
      "execution_count": null,
      "outputs": [
        {
          "output_type": "execute_result",
          "data": {
            "text/plain": [
              "              Balanced_Accuracy   RMSE\n",
              "SVC                       0.505  0.430\n",
              "Logistic                  0.542  0.437\n",
              "kNN                       0.842  0.299\n",
              "XGBoost                   0.854  0.291\n",
              "Stacking                  0.856  0.289\n",
              "DecisionTree              0.868  0.279\n",
              "Voting                    0.868  0.280\n",
              "Bagging                   0.869  0.281\n",
              "RandomForest              0.870  0.281"
            ],
            "text/html": [
              "\n",
              "  <div id=\"df-87a132ec-e821-4575-bc85-5d09b846d8fd\">\n",
              "    <div class=\"colab-df-container\">\n",
              "      <div>\n",
              "<style scoped>\n",
              "    .dataframe tbody tr th:only-of-type {\n",
              "        vertical-align: middle;\n",
              "    }\n",
              "\n",
              "    .dataframe tbody tr th {\n",
              "        vertical-align: top;\n",
              "    }\n",
              "\n",
              "    .dataframe thead th {\n",
              "        text-align: right;\n",
              "    }\n",
              "</style>\n",
              "<table border=\"1\" class=\"dataframe\">\n",
              "  <thead>\n",
              "    <tr style=\"text-align: right;\">\n",
              "      <th></th>\n",
              "      <th>Balanced_Accuracy</th>\n",
              "      <th>RMSE</th>\n",
              "    </tr>\n",
              "  </thead>\n",
              "  <tbody>\n",
              "    <tr>\n",
              "      <th>SVC</th>\n",
              "      <td>0.505</td>\n",
              "      <td>0.430</td>\n",
              "    </tr>\n",
              "    <tr>\n",
              "      <th>Logistic</th>\n",
              "      <td>0.542</td>\n",
              "      <td>0.437</td>\n",
              "    </tr>\n",
              "    <tr>\n",
              "      <th>kNN</th>\n",
              "      <td>0.842</td>\n",
              "      <td>0.299</td>\n",
              "    </tr>\n",
              "    <tr>\n",
              "      <th>XGBoost</th>\n",
              "      <td>0.854</td>\n",
              "      <td>0.291</td>\n",
              "    </tr>\n",
              "    <tr>\n",
              "      <th>Stacking</th>\n",
              "      <td>0.856</td>\n",
              "      <td>0.289</td>\n",
              "    </tr>\n",
              "    <tr>\n",
              "      <th>DecisionTree</th>\n",
              "      <td>0.868</td>\n",
              "      <td>0.279</td>\n",
              "    </tr>\n",
              "    <tr>\n",
              "      <th>Voting</th>\n",
              "      <td>0.868</td>\n",
              "      <td>0.280</td>\n",
              "    </tr>\n",
              "    <tr>\n",
              "      <th>Bagging</th>\n",
              "      <td>0.869</td>\n",
              "      <td>0.281</td>\n",
              "    </tr>\n",
              "    <tr>\n",
              "      <th>RandomForest</th>\n",
              "      <td>0.870</td>\n",
              "      <td>0.281</td>\n",
              "    </tr>\n",
              "  </tbody>\n",
              "</table>\n",
              "</div>\n",
              "      <button class=\"colab-df-convert\" onclick=\"convertToInteractive('df-87a132ec-e821-4575-bc85-5d09b846d8fd')\"\n",
              "              title=\"Convert this dataframe to an interactive table.\"\n",
              "              style=\"display:none;\">\n",
              "        \n",
              "  <svg xmlns=\"http://www.w3.org/2000/svg\" height=\"24px\"viewBox=\"0 0 24 24\"\n",
              "       width=\"24px\">\n",
              "    <path d=\"M0 0h24v24H0V0z\" fill=\"none\"/>\n",
              "    <path d=\"M18.56 5.44l.94 2.06.94-2.06 2.06-.94-2.06-.94-.94-2.06-.94 2.06-2.06.94zm-11 1L8.5 8.5l.94-2.06 2.06-.94-2.06-.94L8.5 2.5l-.94 2.06-2.06.94zm10 10l.94 2.06.94-2.06 2.06-.94-2.06-.94-.94-2.06-.94 2.06-2.06.94z\"/><path d=\"M17.41 7.96l-1.37-1.37c-.4-.4-.92-.59-1.43-.59-.52 0-1.04.2-1.43.59L10.3 9.45l-7.72 7.72c-.78.78-.78 2.05 0 2.83L4 21.41c.39.39.9.59 1.41.59.51 0 1.02-.2 1.41-.59l7.78-7.78 2.81-2.81c.8-.78.8-2.07 0-2.86zM5.41 20L4 18.59l7.72-7.72 1.47 1.35L5.41 20z\"/>\n",
              "  </svg>\n",
              "      </button>\n",
              "      \n",
              "  <style>\n",
              "    .colab-df-container {\n",
              "      display:flex;\n",
              "      flex-wrap:wrap;\n",
              "      gap: 12px;\n",
              "    }\n",
              "\n",
              "    .colab-df-convert {\n",
              "      background-color: #E8F0FE;\n",
              "      border: none;\n",
              "      border-radius: 50%;\n",
              "      cursor: pointer;\n",
              "      display: none;\n",
              "      fill: #1967D2;\n",
              "      height: 32px;\n",
              "      padding: 0 0 0 0;\n",
              "      width: 32px;\n",
              "    }\n",
              "\n",
              "    .colab-df-convert:hover {\n",
              "      background-color: #E2EBFA;\n",
              "      box-shadow: 0px 1px 2px rgba(60, 64, 67, 0.3), 0px 1px 3px 1px rgba(60, 64, 67, 0.15);\n",
              "      fill: #174EA6;\n",
              "    }\n",
              "\n",
              "    [theme=dark] .colab-df-convert {\n",
              "      background-color: #3B4455;\n",
              "      fill: #D2E3FC;\n",
              "    }\n",
              "\n",
              "    [theme=dark] .colab-df-convert:hover {\n",
              "      background-color: #434B5C;\n",
              "      box-shadow: 0px 1px 3px 1px rgba(0, 0, 0, 0.15);\n",
              "      filter: drop-shadow(0px 1px 2px rgba(0, 0, 0, 0.3));\n",
              "      fill: #FFFFFF;\n",
              "    }\n",
              "  </style>\n",
              "\n",
              "      <script>\n",
              "        const buttonEl =\n",
              "          document.querySelector('#df-87a132ec-e821-4575-bc85-5d09b846d8fd button.colab-df-convert');\n",
              "        buttonEl.style.display =\n",
              "          google.colab.kernel.accessAllowed ? 'block' : 'none';\n",
              "\n",
              "        async function convertToInteractive(key) {\n",
              "          const element = document.querySelector('#df-87a132ec-e821-4575-bc85-5d09b846d8fd');\n",
              "          const dataTable =\n",
              "            await google.colab.kernel.invokeFunction('convertToInteractive',\n",
              "                                                     [key], {});\n",
              "          if (!dataTable) return;\n",
              "\n",
              "          const docLinkHtml = 'Like what you see? Visit the ' +\n",
              "            '<a target=\"_blank\" href=https://colab.research.google.com/notebooks/data_table.ipynb>data table notebook</a>'\n",
              "            + ' to learn more about interactive tables.';\n",
              "          element.innerHTML = '';\n",
              "          dataTable['output_type'] = 'display_data';\n",
              "          await google.colab.output.renderOutput(dataTable, element);\n",
              "          const docLink = document.createElement('div');\n",
              "          docLink.innerHTML = docLinkHtml;\n",
              "          element.appendChild(docLink);\n",
              "        }\n",
              "      </script>\n",
              "    </div>\n",
              "  </div>\n",
              "  "
            ]
          },
          "metadata": {},
          "execution_count": 67
        }
      ]
    },
    {
      "cell_type": "code",
      "source": [
        "import matplotlib.pyplot as plt\n",
        "# Set figure size.\n",
        "plt.figure(figsize=(14, 8))\n",
        "\n",
        "plt.plot([1] * 10, svc_rbf_scores, \".\") \n",
        "plt.plot([2] * 10, logistic_scores, \".\") \n",
        "plt.plot([3] * 10, knn_scores, \".\") \n",
        "plt.plot([4] * 10, xgb_scores, \".\") \n",
        "plt.plot([5] * 10, stacking_scores, \".\") \n",
        "plt.plot([6] * 10, tree_scores, \".\") \n",
        "plt.plot([7] * 10, voting_scores, \".\")\n",
        "plt.plot([8] * 10, bag_scores, \".\")\n",
        "plt.plot([9] * 10, forest_scores, \".\")\n",
        "\n",
        "# Construct box plot showing which model has the highest score.\n",
        "plt.boxplot([svc_rbf_scores, logistic_scores,  knn_scores, xgb_scores, \n",
        "             stacking_scores, tree_scores, voting_scores,\n",
        "             bag_scores, forest_scores ] , \n",
        "            labels=('SVM_rbf', 'LogisticRegression', 'kNN', 'XGBoost','Stacking', 'DecisionTree', \n",
        "                    'Voting', 'Baging', 'RandomForest'), \n",
        "            widths = 0.7, patch_artist = True, autorange = True, showmeans = True )\n",
        "plt.ylabel(\"Balanced Accuracy\")\n",
        "plt.title('Balanced Accuracy Score of Different Classifier (Ascending by Mean)')\n",
        "plt.show()"
      ],
      "metadata": {
        "id": "OCBqzHyj7JG3",
        "colab": {
          "base_uri": "https://localhost:8080/",
          "height": 500
        },
        "outputId": "1ed000eb-b2c8-41d1-a5db-4c940fd36944"
      },
      "execution_count": null,
      "outputs": [
        {
          "output_type": "display_data",
          "data": {
            "text/plain": [
              "<Figure size 1008x576 with 1 Axes>"
            ],
            "image/png": "[encoded data removed]"
          },
          "metadata": {
            "needs_background": "light"
          }
        }
      ]
    },
    {
      "cell_type": "markdown",
      "source": [
        "###**5.10 Evaluating Random Forest Classifier & Baging Classifier**"
      ],
      "metadata": {
        "id": "mZatzfuEZIFX"
      }
    },
    {
      "cell_type": "markdown",
      "source": [
        "####**5.10.1 Confusion Matrix**"
      ],
      "metadata": {
        "id": "fIVZg2UrNQQW"
      }
    },
    {
      "cell_type": "code",
      "source": [
        "# Evaluate models with confusion matrix. \n",
        "from sklearn.metrics import ConfusionMatrixDisplay\n",
        "\n",
        "# Display the maxtrix. \n",
        "forest_y_pred = forest_clf.predict(X_test)\n",
        "disp = ConfusionMatrixDisplay.from_predictions(y_test, forest_y_pred)\n",
        "disp.ax_.set_title('Random Forest Classifier')"
      ],
      "metadata": {
        "colab": {
          "base_uri": "https://localhost:8080/",
          "height": 313
        },
        "id": "EyjsSUkRZ03m",
        "outputId": "4e2e60ef-4bf0-4234-ae7a-f83e5be75ca9"
      },
      "execution_count": null,
      "outputs": [
        {
          "output_type": "execute_result",
          "data": {
            "text/plain": [
              "Text(0.5, 1.0, 'Random Forest Classifier')"
            ]
          },
          "metadata": {},
          "execution_count": 69
        },
        {
          "output_type": "display_data",
          "data": {
            "text/plain": [
              "<Figure size 432x288 with 2 Axes>"
            ],
            "image/png": "[encoded data removed]"
          },
          "metadata": {
            "needs_background": "light"
          }
        }
      ]
    },
    {
      "cell_type": "code",
      "source": [
        "# Build with bagging classifier. \n",
        "bag_y_pred = bag_clf.predict(X_test)\n",
        "\n",
        "# Display the maxtrix.\n",
        "disp = ConfusionMatrixDisplay.from_predictions(y_test, bag_y_pred)\n",
        "disp.ax_.set_title('Bagging Classifier')"
      ],
      "metadata": {
        "colab": {
          "base_uri": "https://localhost:8080/",
          "height": 313
        },
        "id": "6OkoZC8SJiQ1",
        "outputId": "cc146964-3ccc-4fc4-c18a-ce42e1d1190b"
      },
      "execution_count": null,
      "outputs": [
        {
          "output_type": "execute_result",
          "data": {
            "text/plain": [
              "Text(0.5, 1.0, 'Bagging Classifier')"
            ]
          },
          "metadata": {},
          "execution_count": 70
        },
        {
          "output_type": "display_data",
          "data": {
            "text/plain": [
              "<Figure size 432x288 with 2 Axes>"
            ],
            "image/png": "[encoded data removed]"
          },
          "metadata": {
            "needs_background": "light"
          }
        }
      ]
    },
    {
      "cell_type": "code",
      "source": [
        "# Build with logistic regression. \n",
        "log_y_pred = logistic.predict(X_test)\n",
        "\n",
        "# Display the maxtrix\n",
        "disp = ConfusionMatrixDisplay.from_predictions(y_test, log_y_pred)\n",
        "disp.ax_.set_title('Logistic Regression')"
      ],
      "metadata": {
        "colab": {
          "base_uri": "https://localhost:8080/",
          "height": 313
        },
        "id": "EIi2oY6wKczd",
        "outputId": "e73629f4-3d26-4add-f4dc-7334b96a66c3"
      },
      "execution_count": null,
      "outputs": [
        {
          "output_type": "execute_result",
          "data": {
            "text/plain": [
              "Text(0.5, 1.0, 'Logistic Regression')"
            ]
          },
          "metadata": {},
          "execution_count": 71
        },
        {
          "output_type": "display_data",
          "data": {
            "text/plain": [
              "<Figure size 432x288 with 2 Axes>"
            ],
            "image/png": "[encoded data removed]"
          },
          "metadata": {
            "needs_background": "light"
          }
        }
      ]
    },
    {
      "cell_type": "markdown",
      "source": [
        "####**5.10.2 ROC Curve**"
      ],
      "metadata": {
        "id": "TTLjiUYJN4Wm"
      }
    },
    {
      "cell_type": "code",
      "source": [
        "from sklearn.metrics import RocCurveDisplay\n",
        "from sklearn import metrics\n",
        "from sklearn import datasets\n",
        "\n",
        "\n",
        "from matplotlib.pyplot import figure\n",
        "# Set up plot size\n",
        "figure(figsize=(8, 6), dpi=80)\n",
        "\n",
        "# Fit logistic regression model and plot ROC curve.\n",
        "logistic.fit(X_train, y_train)\n",
        "y_pred = logistic.predict_proba(X_test)[:, 1]\n",
        "fpr, tpr, _ = metrics.roc_curve(y_test, y_pred)\n",
        "auc = round(metrics.roc_auc_score(y_test, y_pred), 4)\n",
        "plt.plot(fpr,tpr,label = 'Logistic Regression AUC = ' + str(auc))\n",
        "\n",
        "# Fit bagging classifier model and plot ROC curve.\n",
        "bag_clf.fit(X_train, y_train)\n",
        "y_pred = bag_clf.predict_proba(X_test)[:, 1]\n",
        "fpr, tpr, _ = metrics.roc_curve(y_test, y_pred)\n",
        "auc = round(metrics.roc_auc_score(y_test, y_pred), 4)\n",
        "plt.plot(fpr,tpr,label = 'Bagging Classifier AUC = ' + str(auc))\n",
        "\n",
        "# Fit random forest classifier model and plot ROC curve\n",
        "forest_clf.fit(X_train, y_train)\n",
        "y_pred = forest_clf.predict_proba(X_test)[:, 1]\n",
        "fpr, tpr, _ = metrics.roc_curve(y_test, y_pred)\n",
        "auc = round(metrics.roc_auc_score(y_test, y_pred), 4)\n",
        "plt.plot(fpr,tpr,label = 'Random Forest, AUC = ' + str(auc))\n",
        "\n",
        "#add legend\n",
        "plt.legend()\n",
        "plt.title('ROC Curve Across 3 Classifiers')\n",
        "plt.xlabel('False Positive Rate')\n",
        "plt.ylabel('True Positive Rate')"
      ],
      "metadata": {
        "colab": {
          "base_uri": "https://localhost:8080/",
          "height": 462
        },
        "id": "CcatlXsVOLPb",
        "outputId": "db6837f9-7f7c-4473-c6d0-d77f7369776a"
      },
      "execution_count": null,
      "outputs": [
        {
          "output_type": "execute_result",
          "data": {
            "text/plain": [
              "Text(0, 0.5, 'True Positive Rate')"
            ]
          },
          "metadata": {},
          "execution_count": 72
        },
        {
          "output_type": "display_data",
          "data": {
            "text/plain": [
              "<Figure size 640x480 with 1 Axes>"
            ],
            "image/png": "[encoded data removed]"
          },
          "metadata": {
            "needs_background": "light"
          }
        }
      ]
    },
    {
      "cell_type": "markdown",
      "source": [
        "##**6. Hyper Parameter Tuning**\n",
        "We will apply 3 methods on both Random Forest and XGBoost, since they are the models that enjoyed a relatively high balanced accuracy score. "
      ],
      "metadata": {
        "id": "SgZlN0KlsyVt"
      }
    },
    {
      "cell_type": "markdown",
      "source": [
        "####**6.1 Building Full Pipelines**"
      ],
      "metadata": {
        "id": "Qxtup9xmH4TE"
      }
    },
    {
      "cell_type": "code",
      "source": [
        "# Build two full pipelines: forest_pipeline and xgboost_pipeline.\n",
        "forest_pipeline = Pipeline([\n",
        "    (\"Preprocessing\", preprocess_pipeline),\n",
        "    (\"Random_forest\", RandomForestClassifier(n_estimators = 100, random_state = 11)),\n",
        "])\n",
        "\n",
        "forest_pipeline"
      ],
      "metadata": {
        "id": "DJ9WC41RH10D",
        "colab": {
          "base_uri": "https://localhost:8080/",
          "height": 328
        },
        "outputId": "3085f1ba-2c57-4677-956c-e27e9939b510"
      },
      "execution_count": null,
      "outputs": [
        {
          "output_type": "execute_result",
          "data": {
            "text/plain": [
              "Pipeline(steps=[('Preprocessing',\n",
              "                 Pipeline(steps=[('Preprocessing',\n",
              "                                  ColumnTransformer(transformers=[('Numerical',\n",
              "                                                                   Pipeline(steps=[('Imputer',\n",
              "                                                                                    SimpleImputer(strategy='median')),\n",
              "                                                                                   ('Scaler',\n",
              "                                                                                    StandardScaler())]),\n",
              "                                                                   ['Term',\n",
              "                                                                    'NoEmp',\n",
              "                                                                    'RetainedJob',\n",
              "                                                                    'SBA_Appv']),\n",
              "                                                                  ('Categorical',\n",
              "                                                                   Pipeline(steps=[('Imputer',\n",
              "                                                                                    SimpleImputer(strategy='most_frequent')),\n",
              "                                                                                   ('Cat_Encoder',\n",
              "                                                                                    OneHotEncoder(drop='first',\n",
              "                                                                                                  sparse=False))]),\n",
              "                                                                   ['UrbanRural',\n",
              "                                                                    'NewOrExist',\n",
              "                                                                    'Franchised',\n",
              "                                                                    'StateSame',\n",
              "                                                                    'FinanCrisis',\n",
              "                                                                    'FullDisbursed',\n",
              "                                                                    'RevLineCredit',\n",
              "                                                                    'LowDocP'])])),\n",
              "                                 ('Select',\n",
              "                                  SequentialFeatureSelector(estimator=LinearRegression(),\n",
              "                                                            n_features_to_select=1))])),\n",
              "                ('Random_forest', RandomForestClassifier(random_state=11))])"
            ],
            "text/html": [
              "<style>#sk-28ef2c64-e2c6-4df0-afd1-8e468ee21be4 {color: black;background-color: white;}#sk-28ef2c64-e2c6-4df0-afd1-8e468ee21be4 pre{padding: 0;}#sk-28ef2c64-e2c6-4df0-afd1-8e468ee21be4 div.sk-toggleable {background-color: white;}#sk-28ef2c64-e2c6-4df0-afd1-8e468ee21be4 label.sk-toggleable__label {cursor: pointer;display: block;width: 100%;margin-bottom: 0;padding: 0.3em;box-sizing: border-box;text-align: center;}#sk-28ef2c64-e2c6-4df0-afd1-8e468ee21be4 label.sk-toggleable__label-arrow:before {content: \"▸\";float: left;margin-right: 0.25em;color: #696969;}#sk-28ef2c64-e2c6-4df0-afd1-8e468ee21be4 label.sk-toggleable__label-arrow:hover:before {color: black;}#sk-28ef2c64-e2c6-4df0-afd1-8e468ee21be4 div.sk-estimator:hover label.sk-toggleable__label-arrow:before {color: black;}#sk-28ef2c64-e2c6-4df0-afd1-8e468ee21be4 div.sk-toggleable__content {max-height: 0;max-width: 0;overflow: hidden;text-align: left;background-color: #f0f8ff;}#sk-28ef2c64-e2c6-4df0-afd1-8e468ee21be4 div.sk-toggleable__content pre {margin: 0.2em;color: black;border-radius: 0.25em;background-color: #f0f8ff;}#sk-28ef2c64-e2c6-4df0-afd1-8e468ee21be4 input.sk-toggleable__control:checked~div.sk-toggleable__content {max-height: 200px;max-width: 100%;overflow: auto;}#sk-28ef2c64-e2c6-4df0-afd1-8e468ee21be4 input.sk-toggleable__control:checked~label.sk-toggleable__label-arrow:before {content: \"▾\";}#sk-28ef2c64-e2c6-4df0-afd1-8e468ee21be4 div.sk-estimator input.sk-toggleable__control:checked~label.sk-toggleable__label {background-color: #d4ebff;}#sk-28ef2c64-e2c6-4df0-afd1-8e468ee21be4 div.sk-label input.sk-toggleable__control:checked~label.sk-toggleable__label {background-color: #d4ebff;}#sk-28ef2c64-e2c6-4df0-afd1-8e468ee21be4 input.sk-hidden--visually {border: 0;clip: rect(1px 1px 1px 1px);clip: rect(1px, 1px, 1px, 1px);height: 1px;margin: -1px;overflow: hidden;padding: 0;position: absolute;width: 1px;}#sk-28ef2c64-e2c6-4df0-afd1-8e468ee21be4 div.sk-estimator {font-family: monospace;background-color: #f0f8ff;border: 1px dotted black;border-radius: 0.25em;box-sizing: border-box;margin-bottom: 0.5em;}#sk-28ef2c64-e2c6-4df0-afd1-8e468ee21be4 div.sk-estimator:hover {background-color: #d4ebff;}#sk-28ef2c64-e2c6-4df0-afd1-8e468ee21be4 div.sk-parallel-item::after {content: \"\";width: 100%;border-bottom: 1px solid gray;flex-grow: 1;}#sk-28ef2c64-e2c6-4df0-afd1-8e468ee21be4 div.sk-label:hover label.sk-toggleable__label {background-color: #d4ebff;}#sk-28ef2c64-e2c6-4df0-afd1-8e468ee21be4 div.sk-serial::before {content: \"\";position: absolute;border-left: 1px solid gray;box-sizing: border-box;top: 2em;bottom: 0;left: 50%;}#sk-28ef2c64-e2c6-4df0-afd1-8e468ee21be4 div.sk-serial {display: flex;flex-direction: column;align-items: center;background-color: white;padding-right: 0.2em;padding-left: 0.2em;}#sk-28ef2c64-e2c6-4df0-afd1-8e468ee21be4 div.sk-item {z-index: 1;}#sk-28ef2c64-e2c6-4df0-afd1-8e468ee21be4 div.sk-parallel {display: flex;align-items: stretch;justify-content: center;background-color: white;}#sk-28ef2c64-e2c6-4df0-afd1-8e468ee21be4 div.sk-parallel::before {content: \"\";position: absolute;border-left: 1px solid gray;box-sizing: border-box;top: 2em;bottom: 0;left: 50%;}#sk-28ef2c64-e2c6-4df0-afd1-8e468ee21be4 div.sk-parallel-item {display: flex;flex-direction: column;position: relative;background-color: white;}#sk-28ef2c64-e2c6-4df0-afd1-8e468ee21be4 div.sk-parallel-item:first-child::after {align-self: flex-end;width: 50%;}#sk-28ef2c64-e2c6-4df0-afd1-8e468ee21be4 div.sk-parallel-item:last-child::after {align-self: flex-start;width: 50%;}#sk-28ef2c64-e2c6-4df0-afd1-8e468ee21be4 div.sk-parallel-item:only-child::after {width: 0;}#sk-28ef2c64-e2c6-4df0-afd1-8e468ee21be4 div.sk-dashed-wrapped {border: 1px dashed gray;margin: 0 0.4em 0.5em 0.4em;box-sizing: border-box;padding-bottom: 0.4em;background-color: white;position: relative;}#sk-28ef2c64-e2c6-4df0-afd1-8e468ee21be4 div.sk-label label {font-family: monospace;font-weight: bold;background-color: white;display: inline-block;line-height: 1.2em;}#sk-28ef2c64-e2c6-4df0-afd1-8e468ee21be4 div.sk-label-container {position: relative;z-index: 2;text-align: center;}#sk-28ef2c64-e2c6-4df0-afd1-8e468ee21be4 div.sk-container {/* jupyter's `normalize.less` sets `[hidden] { display: none; }` but bootstrap.min.css set `[hidden] { display: none !important; }` so we also need the `!important` here to be able to override the default hidden behavior on the sphinx rendered scikit-learn.org. See: https://github.com/scikit-learn/scikit-learn/issues/21755 */display: inline-block !important;position: relative;}#sk-28ef2c64-e2c6-4df0-afd1-8e468ee21be4 div.sk-text-repr-fallback {display: none;}</style><div id=\"sk-28ef2c64-e2c6-4df0-afd1-8e468ee21be4\" class=\"sk-top-container\"><div class=\"sk-text-repr-fallback\"><pre>Pipeline(steps=[(&#x27;Preprocessing&#x27;,\n",
              "                 Pipeline(steps=[(&#x27;Preprocessing&#x27;,\n",
              "                                  ColumnTransformer(transformers=[(&#x27;Numerical&#x27;,\n",
              "                                                                   Pipeline(steps=[(&#x27;Imputer&#x27;,\n",
              "                                                                                    SimpleImputer(strategy=&#x27;median&#x27;)),\n",
              "                                                                                   (&#x27;Scaler&#x27;,\n",
              "                                                                                    StandardScaler())]),\n",
              "                                                                   [&#x27;Term&#x27;,\n",
              "                                                                    &#x27;NoEmp&#x27;,\n",
              "                                                                    &#x27;RetainedJob&#x27;,\n",
              "                                                                    &#x27;SBA_Appv&#x27;]),\n",
              "                                                                  (&#x27;Categorical&#x27;,\n",
              "                                                                   Pipeline(steps=[(&#x27;Imputer&#x27;,\n",
              "                                                                                    SimpleImputer(strategy=&#x27;most_frequent&#x27;)),\n",
              "                                                                                   (&#x27;Cat_Encoder&#x27;,\n",
              "                                                                                    OneHotEncoder(drop=&#x27;first&#x27;,\n",
              "                                                                                                  sparse=False))]),\n",
              "                                                                   [&#x27;UrbanRural&#x27;,\n",
              "                                                                    &#x27;NewOrExist&#x27;,\n",
              "                                                                    &#x27;Franchised&#x27;,\n",
              "                                                                    &#x27;StateSame&#x27;,\n",
              "                                                                    &#x27;FinanCrisis&#x27;,\n",
              "                                                                    &#x27;FullDisbursed&#x27;,\n",
              "                                                                    &#x27;RevLineCredit&#x27;,\n",
              "                                                                    &#x27;LowDocP&#x27;])])),\n",
              "                                 (&#x27;Select&#x27;,\n",
              "                                  SequentialFeatureSelector(estimator=LinearRegression(),\n",
              "                                                            n_features_to_select=1))])),\n",
              "                (&#x27;Random_forest&#x27;, RandomForestClassifier(random_state=11))])</pre><b>Please rerun this cell to show the HTML repr or trust the notebook.</b></div><div class=\"sk-container\" hidden><div class=\"sk-item sk-dashed-wrapped\"><div class=\"sk-label-container\"><div class=\"sk-label sk-toggleable\"><input class=\"sk-toggleable__control sk-hidden--visually\" id=\"8f565bb9-3002-4329-a94e-2e7a2a5bfd3b\" type=\"checkbox\" ><label for=\"8f565bb9-3002-4329-a94e-2e7a2a5bfd3b\" class=\"sk-toggleable__label sk-toggleable__label-arrow\">Pipeline</label><div class=\"sk-toggleable__content\"><pre>Pipeline(steps=[(&#x27;Preprocessing&#x27;,\n",
              "                 Pipeline(steps=[(&#x27;Preprocessing&#x27;,\n",
              "                                  ColumnTransformer(transformers=[(&#x27;Numerical&#x27;,\n",
              "                                                                   Pipeline(steps=[(&#x27;Imputer&#x27;,\n",
              "                                                                                    SimpleImputer(strategy=&#x27;median&#x27;)),\n",
              "                                                                                   (&#x27;Scaler&#x27;,\n",
              "                                                                                    StandardScaler())]),\n",
              "                                                                   [&#x27;Term&#x27;,\n",
              "                                                                    &#x27;NoEmp&#x27;,\n",
              "                                                                    &#x27;RetainedJob&#x27;,\n",
              "                                                                    &#x27;SBA_Appv&#x27;]),\n",
              "                                                                  (&#x27;Categorical&#x27;,\n",
              "                                                                   Pipeline(steps=[(&#x27;Imputer&#x27;,\n",
              "                                                                                    SimpleImputer(strategy=&#x27;most_frequent&#x27;)),\n",
              "                                                                                   (&#x27;Cat_Encoder&#x27;,\n",
              "                                                                                    OneHotEncoder(drop=&#x27;first&#x27;,\n",
              "                                                                                                  sparse=False))]),\n",
              "                                                                   [&#x27;UrbanRural&#x27;,\n",
              "                                                                    &#x27;NewOrExist&#x27;,\n",
              "                                                                    &#x27;Franchised&#x27;,\n",
              "                                                                    &#x27;StateSame&#x27;,\n",
              "                                                                    &#x27;FinanCrisis&#x27;,\n",
              "                                                                    &#x27;FullDisbursed&#x27;,\n",
              "                                                                    &#x27;RevLineCredit&#x27;,\n",
              "                                                                    &#x27;LowDocP&#x27;])])),\n",
              "                                 (&#x27;Select&#x27;,\n",
              "                                  SequentialFeatureSelector(estimator=LinearRegression(),\n",
              "                                                            n_features_to_select=1))])),\n",
              "                (&#x27;Random_forest&#x27;, RandomForestClassifier(random_state=11))])</pre></div></div></div><div class=\"sk-serial\"><div class=\"sk-item\"><div class=\"sk-label-container\"><div class=\"sk-label sk-toggleable\"><input class=\"sk-toggleable__control sk-hidden--visually\" id=\"1b1971ca-de8a-4a7d-a0da-ae313b2d9263\" type=\"checkbox\" ><label for=\"1b1971ca-de8a-4a7d-a0da-ae313b2d9263\" class=\"sk-toggleable__label sk-toggleable__label-arrow\">Preprocessing: Pipeline</label><div class=\"sk-toggleable__content\"><pre>Pipeline(steps=[(&#x27;Preprocessing&#x27;,\n",
              "                 ColumnTransformer(transformers=[(&#x27;Numerical&#x27;,\n",
              "                                                  Pipeline(steps=[(&#x27;Imputer&#x27;,\n",
              "                                                                   SimpleImputer(strategy=&#x27;median&#x27;)),\n",
              "                                                                  (&#x27;Scaler&#x27;,\n",
              "                                                                   StandardScaler())]),\n",
              "                                                  [&#x27;Term&#x27;, &#x27;NoEmp&#x27;,\n",
              "                                                   &#x27;RetainedJob&#x27;, &#x27;SBA_Appv&#x27;]),\n",
              "                                                 (&#x27;Categorical&#x27;,\n",
              "                                                  Pipeline(steps=[(&#x27;Imputer&#x27;,\n",
              "                                                                   SimpleImputer(strategy=&#x27;most_frequent&#x27;)),\n",
              "                                                                  (&#x27;Cat_Encoder&#x27;,\n",
              "                                                                   OneHotEncoder(drop=&#x27;first&#x27;,\n",
              "                                                                                 sparse=False))]),\n",
              "                                                  [&#x27;UrbanRural&#x27;, &#x27;NewOrExist&#x27;,\n",
              "                                                   &#x27;Franchised&#x27;, &#x27;StateSame&#x27;,\n",
              "                                                   &#x27;FinanCrisis&#x27;,\n",
              "                                                   &#x27;FullDisbursed&#x27;,\n",
              "                                                   &#x27;RevLineCredit&#x27;,\n",
              "                                                   &#x27;LowDocP&#x27;])])),\n",
              "                (&#x27;Select&#x27;,\n",
              "                 SequentialFeatureSelector(estimator=LinearRegression(),\n",
              "                                           n_features_to_select=1))])</pre></div></div></div><div class=\"sk-serial\"><div class=\"sk-item sk-dashed-wrapped\"><div class=\"sk-label-container\"><div class=\"sk-label sk-toggleable\"><input class=\"sk-toggleable__control sk-hidden--visually\" id=\"11a69b25-3c30-4a7e-ba3a-06f0738df10c\" type=\"checkbox\" ><label for=\"11a69b25-3c30-4a7e-ba3a-06f0738df10c\" class=\"sk-toggleable__label sk-toggleable__label-arrow\">Preprocessing: ColumnTransformer</label><div class=\"sk-toggleable__content\"><pre>ColumnTransformer(transformers=[(&#x27;Numerical&#x27;,\n",
              "                                 Pipeline(steps=[(&#x27;Imputer&#x27;,\n",
              "                                                  SimpleImputer(strategy=&#x27;median&#x27;)),\n",
              "                                                 (&#x27;Scaler&#x27;, StandardScaler())]),\n",
              "                                 [&#x27;Term&#x27;, &#x27;NoEmp&#x27;, &#x27;RetainedJob&#x27;, &#x27;SBA_Appv&#x27;]),\n",
              "                                (&#x27;Categorical&#x27;,\n",
              "                                 Pipeline(steps=[(&#x27;Imputer&#x27;,\n",
              "                                                  SimpleImputer(strategy=&#x27;most_frequent&#x27;)),\n",
              "                                                 (&#x27;Cat_Encoder&#x27;,\n",
              "                                                  OneHotEncoder(drop=&#x27;first&#x27;,\n",
              "                                                                sparse=False))]),\n",
              "                                 [&#x27;UrbanRural&#x27;, &#x27;NewOrExist&#x27;, &#x27;Franchised&#x27;,\n",
              "                                  &#x27;StateSame&#x27;, &#x27;FinanCrisis&#x27;, &#x27;FullDisbursed&#x27;,\n",
              "                                  &#x27;RevLineCredit&#x27;, &#x27;LowDocP&#x27;])])</pre></div></div></div><div class=\"sk-parallel\"><div class=\"sk-parallel-item\"><div class=\"sk-item\"><div class=\"sk-label-container\"><div class=\"sk-label sk-toggleable\"><input class=\"sk-toggleable__control sk-hidden--visually\" id=\"a3b48e2d-6e84-4100-b61e-94bfce40644e\" type=\"checkbox\" ><label for=\"a3b48e2d-6e84-4100-b61e-94bfce40644e\" class=\"sk-toggleable__label sk-toggleable__label-arrow\">Numerical</label><div class=\"sk-toggleable__content\"><pre>[&#x27;Term&#x27;, &#x27;NoEmp&#x27;, &#x27;RetainedJob&#x27;, &#x27;SBA_Appv&#x27;]</pre></div></div></div><div class=\"sk-serial\"><div class=\"sk-item\"><div class=\"sk-serial\"><div class=\"sk-item\"><div class=\"sk-estimator sk-toggleable\"><input class=\"sk-toggleable__control sk-hidden--visually\" id=\"76b1d2ac-84c7-4b14-8548-34cec949e884\" type=\"checkbox\" ><label for=\"76b1d2ac-84c7-4b14-8548-34cec949e884\" class=\"sk-toggleable__label sk-toggleable__label-arrow\">SimpleImputer</label><div class=\"sk-toggleable__content\"><pre>SimpleImputer(strategy=&#x27;median&#x27;)</pre></div></div></div><div class=\"sk-item\"><div class=\"sk-estimator sk-toggleable\"><input class=\"sk-toggleable__control sk-hidden--visually\" id=\"134c453a-aa9c-4a59-8c3d-48d7410a4821\" type=\"checkbox\" ><label for=\"134c453a-aa9c-4a59-8c3d-48d7410a4821\" class=\"sk-toggleable__label sk-toggleable__label-arrow\">StandardScaler</label><div class=\"sk-toggleable__content\"><pre>StandardScaler()</pre></div></div></div></div></div></div></div></div><div class=\"sk-parallel-item\"><div class=\"sk-item\"><div class=\"sk-label-container\"><div class=\"sk-label sk-toggleable\"><input class=\"sk-toggleable__control sk-hidden--visually\" id=\"fced43cf-1497-4b1f-b1ec-a3bfc4020355\" type=\"checkbox\" ><label for=\"fced43cf-1497-4b1f-b1ec-a3bfc4020355\" class=\"sk-toggleable__label sk-toggleable__label-arrow\">Categorical</label><div class=\"sk-toggleable__content\"><pre>[&#x27;UrbanRural&#x27;, &#x27;NewOrExist&#x27;, &#x27;Franchised&#x27;, &#x27;StateSame&#x27;, &#x27;FinanCrisis&#x27;, &#x27;FullDisbursed&#x27;, &#x27;RevLineCredit&#x27;, &#x27;LowDocP&#x27;]</pre></div></div></div><div class=\"sk-serial\"><div class=\"sk-item\"><div class=\"sk-serial\"><div class=\"sk-item\"><div class=\"sk-estimator sk-toggleable\"><input class=\"sk-toggleable__control sk-hidden--visually\" id=\"c47e9148-70ba-4c6a-a9e8-e27079bc9c1f\" type=\"checkbox\" ><label for=\"c47e9148-70ba-4c6a-a9e8-e27079bc9c1f\" class=\"sk-toggleable__label sk-toggleable__label-arrow\">SimpleImputer</label><div class=\"sk-toggleable__content\"><pre>SimpleImputer(strategy=&#x27;most_frequent&#x27;)</pre></div></div></div><div class=\"sk-item\"><div class=\"sk-estimator sk-toggleable\"><input class=\"sk-toggleable__control sk-hidden--visually\" id=\"72198e99-bc11-470d-84ca-5890f0e2d979\" type=\"checkbox\" ><label for=\"72198e99-bc11-470d-84ca-5890f0e2d979\" class=\"sk-toggleable__label sk-toggleable__label-arrow\">OneHotEncoder</label><div class=\"sk-toggleable__content\"><pre>OneHotEncoder(drop=&#x27;first&#x27;, sparse=False)</pre></div></div></div></div></div></div></div></div></div></div><div class=\"sk-item sk-dashed-wrapped\"><div class=\"sk-label-container\"><div class=\"sk-label sk-toggleable\"><input class=\"sk-toggleable__control sk-hidden--visually\" id=\"fac5f513-74b8-4307-968b-18c9dc52cc1f\" type=\"checkbox\" ><label for=\"fac5f513-74b8-4307-968b-18c9dc52cc1f\" class=\"sk-toggleable__label sk-toggleable__label-arrow\">Select: SequentialFeatureSelector</label><div class=\"sk-toggleable__content\"><pre>SequentialFeatureSelector(estimator=LinearRegression(), n_features_to_select=1)</pre></div></div></div><div class=\"sk-parallel\"><div class=\"sk-parallel-item\"><div class=\"sk-item\"><div class=\"sk-serial\"><div class=\"sk-item\"><div class=\"sk-estimator sk-toggleable\"><input class=\"sk-toggleable__control sk-hidden--visually\" id=\"9e6767fe-526c-4531-8e6f-55c5df06e5da\" type=\"checkbox\" ><label for=\"9e6767fe-526c-4531-8e6f-55c5df06e5da\" class=\"sk-toggleable__label sk-toggleable__label-arrow\">LinearRegression</label><div class=\"sk-toggleable__content\"><pre>LinearRegression()</pre></div></div></div></div></div></div></div></div></div></div><div class=\"sk-item\"><div class=\"sk-estimator sk-toggleable\"><input class=\"sk-toggleable__control sk-hidden--visually\" id=\"0d9ca8c9-5d0b-4e10-9779-895105879929\" type=\"checkbox\" ><label for=\"0d9ca8c9-5d0b-4e10-9779-895105879929\" class=\"sk-toggleable__label sk-toggleable__label-arrow\">RandomForestClassifier</label><div class=\"sk-toggleable__content\"><pre>RandomForestClassifier(random_state=11)</pre></div></div></div></div></div></div></div>"
            ]
          },
          "metadata": {},
          "execution_count": 73
        }
      ]
    },
    {
      "cell_type": "code",
      "source": [
        "xgboost_pipeline = Pipeline([\n",
        "    (\"Preprocessing\", preprocess_pipeline),\n",
        "    (\"XGBoost\", XGBClassifier(n_estimators = 100, random_state = 11)),\n",
        "])\n",
        "\n",
        "xgboost_pipeline"
      ],
      "metadata": {
        "colab": {
          "base_uri": "https://localhost:8080/",
          "height": 328
        },
        "id": "D4DbgKY-614K",
        "outputId": "d23acb6b-b53b-4166-e372-4bedb8774a2f"
      },
      "execution_count": null,
      "outputs": [
        {
          "output_type": "execute_result",
          "data": {
            "text/plain": [
              "Pipeline(steps=[('Preprocessing',\n",
              "                 Pipeline(steps=[('Preprocessing',\n",
              "                                  ColumnTransformer(transformers=[('Numerical',\n",
              "                                                                   Pipeline(steps=[('Imputer',\n",
              "                                                                                    SimpleImputer(strategy='median')),\n",
              "                                                                                   ('Scaler',\n",
              "                                                                                    StandardScaler())]),\n",
              "                                                                   ['Term',\n",
              "                                                                    'NoEmp',\n",
              "                                                                    'RetainedJob',\n",
              "                                                                    'SBA_Appv']),\n",
              "                                                                  ('Categorical',\n",
              "                                                                   Pipeline(steps=[('Imputer',\n",
              "                                                                                    SimpleImputer(strategy='most_frequent')),\n",
              "                                                                                   ('Cat_Encoder',\n",
              "                                                                                    OneHotEncoder(drop='first',\n",
              "                                                                                                  sparse=False))]),\n",
              "                                                                   ['UrbanRural',\n",
              "                                                                    'NewOrExist',\n",
              "                                                                    'Franchised',\n",
              "                                                                    'StateSame',\n",
              "                                                                    'FinanCrisis',\n",
              "                                                                    'FullDisbursed',\n",
              "                                                                    'RevLineCredit',\n",
              "                                                                    'LowDocP'])])),\n",
              "                                 ('Select',\n",
              "                                  SequentialFeatureSelector(estimator=LinearRegression(),\n",
              "                                                            n_features_to_select=1))])),\n",
              "                ('XGBoost', XGBClassifier(random_state=11))])"
            ],
            "text/html": [
              "<style>#sk-382a7570-efe6-4c4f-b3fc-3a2629d972c2 {color: black;background-color: white;}#sk-382a7570-efe6-4c4f-b3fc-3a2629d972c2 pre{padding: 0;}#sk-382a7570-efe6-4c4f-b3fc-3a2629d972c2 div.sk-toggleable {background-color: white;}#sk-382a7570-efe6-4c4f-b3fc-3a2629d972c2 label.sk-toggleable__label {cursor: pointer;display: block;width: 100%;margin-bottom: 0;padding: 0.3em;box-sizing: border-box;text-align: center;}#sk-382a7570-efe6-4c4f-b3fc-3a2629d972c2 label.sk-toggleable__label-arrow:before {content: \"▸\";float: left;margin-right: 0.25em;color: #696969;}#sk-382a7570-efe6-4c4f-b3fc-3a2629d972c2 label.sk-toggleable__label-arrow:hover:before {color: black;}#sk-382a7570-efe6-4c4f-b3fc-3a2629d972c2 div.sk-estimator:hover label.sk-toggleable__label-arrow:before {color: black;}#sk-382a7570-efe6-4c4f-b3fc-3a2629d972c2 div.sk-toggleable__content {max-height: 0;max-width: 0;overflow: hidden;text-align: left;background-color: #f0f8ff;}#sk-382a7570-efe6-4c4f-b3fc-3a2629d972c2 div.sk-toggleable__content pre {margin: 0.2em;color: black;border-radius: 0.25em;background-color: #f0f8ff;}#sk-382a7570-efe6-4c4f-b3fc-3a2629d972c2 input.sk-toggleable__control:checked~div.sk-toggleable__content {max-height: 200px;max-width: 100%;overflow: auto;}#sk-382a7570-efe6-4c4f-b3fc-3a2629d972c2 input.sk-toggleable__control:checked~label.sk-toggleable__label-arrow:before {content: \"▾\";}#sk-382a7570-efe6-4c4f-b3fc-3a2629d972c2 div.sk-estimator input.sk-toggleable__control:checked~label.sk-toggleable__label {background-color: #d4ebff;}#sk-382a7570-efe6-4c4f-b3fc-3a2629d972c2 div.sk-label input.sk-toggleable__control:checked~label.sk-toggleable__label {background-color: #d4ebff;}#sk-382a7570-efe6-4c4f-b3fc-3a2629d972c2 input.sk-hidden--visually {border: 0;clip: rect(1px 1px 1px 1px);clip: rect(1px, 1px, 1px, 1px);height: 1px;margin: -1px;overflow: hidden;padding: 0;position: absolute;width: 1px;}#sk-382a7570-efe6-4c4f-b3fc-3a2629d972c2 div.sk-estimator {font-family: monospace;background-color: #f0f8ff;border: 1px dotted black;border-radius: 0.25em;box-sizing: border-box;margin-bottom: 0.5em;}#sk-382a7570-efe6-4c4f-b3fc-3a2629d972c2 div.sk-estimator:hover {background-color: #d4ebff;}#sk-382a7570-efe6-4c4f-b3fc-3a2629d972c2 div.sk-parallel-item::after {content: \"\";width: 100%;border-bottom: 1px solid gray;flex-grow: 1;}#sk-382a7570-efe6-4c4f-b3fc-3a2629d972c2 div.sk-label:hover label.sk-toggleable__label {background-color: #d4ebff;}#sk-382a7570-efe6-4c4f-b3fc-3a2629d972c2 div.sk-serial::before {content: \"\";position: absolute;border-left: 1px solid gray;box-sizing: border-box;top: 2em;bottom: 0;left: 50%;}#sk-382a7570-efe6-4c4f-b3fc-3a2629d972c2 div.sk-serial {display: flex;flex-direction: column;align-items: center;background-color: white;padding-right: 0.2em;padding-left: 0.2em;}#sk-382a7570-efe6-4c4f-b3fc-3a2629d972c2 div.sk-item {z-index: 1;}#sk-382a7570-efe6-4c4f-b3fc-3a2629d972c2 div.sk-parallel {display: flex;align-items: stretch;justify-content: center;background-color: white;}#sk-382a7570-efe6-4c4f-b3fc-3a2629d972c2 div.sk-parallel::before {content: \"\";position: absolute;border-left: 1px solid gray;box-sizing: border-box;top: 2em;bottom: 0;left: 50%;}#sk-382a7570-efe6-4c4f-b3fc-3a2629d972c2 div.sk-parallel-item {display: flex;flex-direction: column;position: relative;background-color: white;}#sk-382a7570-efe6-4c4f-b3fc-3a2629d972c2 div.sk-parallel-item:first-child::after {align-self: flex-end;width: 50%;}#sk-382a7570-efe6-4c4f-b3fc-3a2629d972c2 div.sk-parallel-item:last-child::after {align-self: flex-start;width: 50%;}#sk-382a7570-efe6-4c4f-b3fc-3a2629d972c2 div.sk-parallel-item:only-child::after {width: 0;}#sk-382a7570-efe6-4c4f-b3fc-3a2629d972c2 div.sk-dashed-wrapped {border: 1px dashed gray;margin: 0 0.4em 0.5em 0.4em;box-sizing: border-box;padding-bottom: 0.4em;background-color: white;position: relative;}#sk-382a7570-efe6-4c4f-b3fc-3a2629d972c2 div.sk-label label {font-family: monospace;font-weight: bold;background-color: white;display: inline-block;line-height: 1.2em;}#sk-382a7570-efe6-4c4f-b3fc-3a2629d972c2 div.sk-label-container {position: relative;z-index: 2;text-align: center;}#sk-382a7570-efe6-4c4f-b3fc-3a2629d972c2 div.sk-container {/* jupyter's `normalize.less` sets `[hidden] { display: none; }` but bootstrap.min.css set `[hidden] { display: none !important; }` so we also need the `!important` here to be able to override the default hidden behavior on the sphinx rendered scikit-learn.org. See: https://github.com/scikit-learn/scikit-learn/issues/21755 */display: inline-block !important;position: relative;}#sk-382a7570-efe6-4c4f-b3fc-3a2629d972c2 div.sk-text-repr-fallback {display: none;}</style><div id=\"sk-382a7570-efe6-4c4f-b3fc-3a2629d972c2\" class=\"sk-top-container\"><div class=\"sk-text-repr-fallback\"><pre>Pipeline(steps=[(&#x27;Preprocessing&#x27;,\n",
              "                 Pipeline(steps=[(&#x27;Preprocessing&#x27;,\n",
              "                                  ColumnTransformer(transformers=[(&#x27;Numerical&#x27;,\n",
              "                                                                   Pipeline(steps=[(&#x27;Imputer&#x27;,\n",
              "                                                                                    SimpleImputer(strategy=&#x27;median&#x27;)),\n",
              "                                                                                   (&#x27;Scaler&#x27;,\n",
              "                                                                                    StandardScaler())]),\n",
              "                                                                   [&#x27;Term&#x27;,\n",
              "                                                                    &#x27;NoEmp&#x27;,\n",
              "                                                                    &#x27;RetainedJob&#x27;,\n",
              "                                                                    &#x27;SBA_Appv&#x27;]),\n",
              "                                                                  (&#x27;Categorical&#x27;,\n",
              "                                                                   Pipeline(steps=[(&#x27;Imputer&#x27;,\n",
              "                                                                                    SimpleImputer(strategy=&#x27;most_frequent&#x27;)),\n",
              "                                                                                   (&#x27;Cat_Encoder&#x27;,\n",
              "                                                                                    OneHotEncoder(drop=&#x27;first&#x27;,\n",
              "                                                                                                  sparse=False))]),\n",
              "                                                                   [&#x27;UrbanRural&#x27;,\n",
              "                                                                    &#x27;NewOrExist&#x27;,\n",
              "                                                                    &#x27;Franchised&#x27;,\n",
              "                                                                    &#x27;StateSame&#x27;,\n",
              "                                                                    &#x27;FinanCrisis&#x27;,\n",
              "                                                                    &#x27;FullDisbursed&#x27;,\n",
              "                                                                    &#x27;RevLineCredit&#x27;,\n",
              "                                                                    &#x27;LowDocP&#x27;])])),\n",
              "                                 (&#x27;Select&#x27;,\n",
              "                                  SequentialFeatureSelector(estimator=LinearRegression(),\n",
              "                                                            n_features_to_select=1))])),\n",
              "                (&#x27;XGBoost&#x27;, XGBClassifier(random_state=11))])</pre><b>Please rerun this cell to show the HTML repr or trust the notebook.</b></div><div class=\"sk-container\" hidden><div class=\"sk-item sk-dashed-wrapped\"><div class=\"sk-label-container\"><div class=\"sk-label sk-toggleable\"><input class=\"sk-toggleable__control sk-hidden--visually\" id=\"26b96544-eb11-4480-a659-1adb666789f8\" type=\"checkbox\" ><label for=\"26b96544-eb11-4480-a659-1adb666789f8\" class=\"sk-toggleable__label sk-toggleable__label-arrow\">Pipeline</label><div class=\"sk-toggleable__content\"><pre>Pipeline(steps=[(&#x27;Preprocessing&#x27;,\n",
              "                 Pipeline(steps=[(&#x27;Preprocessing&#x27;,\n",
              "                                  ColumnTransformer(transformers=[(&#x27;Numerical&#x27;,\n",
              "                                                                   Pipeline(steps=[(&#x27;Imputer&#x27;,\n",
              "                                                                                    SimpleImputer(strategy=&#x27;median&#x27;)),\n",
              "                                                                                   (&#x27;Scaler&#x27;,\n",
              "                                                                                    StandardScaler())]),\n",
              "                                                                   [&#x27;Term&#x27;,\n",
              "                                                                    &#x27;NoEmp&#x27;,\n",
              "                                                                    &#x27;RetainedJob&#x27;,\n",
              "                                                                    &#x27;SBA_Appv&#x27;]),\n",
              "                                                                  (&#x27;Categorical&#x27;,\n",
              "                                                                   Pipeline(steps=[(&#x27;Imputer&#x27;,\n",
              "                                                                                    SimpleImputer(strategy=&#x27;most_frequent&#x27;)),\n",
              "                                                                                   (&#x27;Cat_Encoder&#x27;,\n",
              "                                                                                    OneHotEncoder(drop=&#x27;first&#x27;,\n",
              "                                                                                                  sparse=False))]),\n",
              "                                                                   [&#x27;UrbanRural&#x27;,\n",
              "                                                                    &#x27;NewOrExist&#x27;,\n",
              "                                                                    &#x27;Franchised&#x27;,\n",
              "                                                                    &#x27;StateSame&#x27;,\n",
              "                                                                    &#x27;FinanCrisis&#x27;,\n",
              "                                                                    &#x27;FullDisbursed&#x27;,\n",
              "                                                                    &#x27;RevLineCredit&#x27;,\n",
              "                                                                    &#x27;LowDocP&#x27;])])),\n",
              "                                 (&#x27;Select&#x27;,\n",
              "                                  SequentialFeatureSelector(estimator=LinearRegression(),\n",
              "                                                            n_features_to_select=1))])),\n",
              "                (&#x27;XGBoost&#x27;, XGBClassifier(random_state=11))])</pre></div></div></div><div class=\"sk-serial\"><div class=\"sk-item\"><div class=\"sk-label-container\"><div class=\"sk-label sk-toggleable\"><input class=\"sk-toggleable__control sk-hidden--visually\" id=\"d7163e9a-c612-4218-84f7-d253225bcb0d\" type=\"checkbox\" ><label for=\"d7163e9a-c612-4218-84f7-d253225bcb0d\" class=\"sk-toggleable__label sk-toggleable__label-arrow\">Preprocessing: Pipeline</label><div class=\"sk-toggleable__content\"><pre>Pipeline(steps=[(&#x27;Preprocessing&#x27;,\n",
              "                 ColumnTransformer(transformers=[(&#x27;Numerical&#x27;,\n",
              "                                                  Pipeline(steps=[(&#x27;Imputer&#x27;,\n",
              "                                                                   SimpleImputer(strategy=&#x27;median&#x27;)),\n",
              "                                                                  (&#x27;Scaler&#x27;,\n",
              "                                                                   StandardScaler())]),\n",
              "                                                  [&#x27;Term&#x27;, &#x27;NoEmp&#x27;,\n",
              "                                                   &#x27;RetainedJob&#x27;, &#x27;SBA_Appv&#x27;]),\n",
              "                                                 (&#x27;Categorical&#x27;,\n",
              "                                                  Pipeline(steps=[(&#x27;Imputer&#x27;,\n",
              "                                                                   SimpleImputer(strategy=&#x27;most_frequent&#x27;)),\n",
              "                                                                  (&#x27;Cat_Encoder&#x27;,\n",
              "                                                                   OneHotEncoder(drop=&#x27;first&#x27;,\n",
              "                                                                                 sparse=False))]),\n",
              "                                                  [&#x27;UrbanRural&#x27;, &#x27;NewOrExist&#x27;,\n",
              "                                                   &#x27;Franchised&#x27;, &#x27;StateSame&#x27;,\n",
              "                                                   &#x27;FinanCrisis&#x27;,\n",
              "                                                   &#x27;FullDisbursed&#x27;,\n",
              "                                                   &#x27;RevLineCredit&#x27;,\n",
              "                                                   &#x27;LowDocP&#x27;])])),\n",
              "                (&#x27;Select&#x27;,\n",
              "                 SequentialFeatureSelector(estimator=LinearRegression(),\n",
              "                                           n_features_to_select=1))])</pre></div></div></div><div class=\"sk-serial\"><div class=\"sk-item sk-dashed-wrapped\"><div class=\"sk-label-container\"><div class=\"sk-label sk-toggleable\"><input class=\"sk-toggleable__control sk-hidden--visually\" id=\"901dc20d-c165-46e0-bc75-a448f11ac021\" type=\"checkbox\" ><label for=\"901dc20d-c165-46e0-bc75-a448f11ac021\" class=\"sk-toggleable__label sk-toggleable__label-arrow\">Preprocessing: ColumnTransformer</label><div class=\"sk-toggleable__content\"><pre>ColumnTransformer(transformers=[(&#x27;Numerical&#x27;,\n",
              "                                 Pipeline(steps=[(&#x27;Imputer&#x27;,\n",
              "                                                  SimpleImputer(strategy=&#x27;median&#x27;)),\n",
              "                                                 (&#x27;Scaler&#x27;, StandardScaler())]),\n",
              "                                 [&#x27;Term&#x27;, &#x27;NoEmp&#x27;, &#x27;RetainedJob&#x27;, &#x27;SBA_Appv&#x27;]),\n",
              "                                (&#x27;Categorical&#x27;,\n",
              "                                 Pipeline(steps=[(&#x27;Imputer&#x27;,\n",
              "                                                  SimpleImputer(strategy=&#x27;most_frequent&#x27;)),\n",
              "                                                 (&#x27;Cat_Encoder&#x27;,\n",
              "                                                  OneHotEncoder(drop=&#x27;first&#x27;,\n",
              "                                                                sparse=False))]),\n",
              "                                 [&#x27;UrbanRural&#x27;, &#x27;NewOrExist&#x27;, &#x27;Franchised&#x27;,\n",
              "                                  &#x27;StateSame&#x27;, &#x27;FinanCrisis&#x27;, &#x27;FullDisbursed&#x27;,\n",
              "                                  &#x27;RevLineCredit&#x27;, &#x27;LowDocP&#x27;])])</pre></div></div></div><div class=\"sk-parallel\"><div class=\"sk-parallel-item\"><div class=\"sk-item\"><div class=\"sk-label-container\"><div class=\"sk-label sk-toggleable\"><input class=\"sk-toggleable__control sk-hidden--visually\" id=\"d5f2b788-84c3-4f54-9669-f081d0aa1517\" type=\"checkbox\" ><label for=\"d5f2b788-84c3-4f54-9669-f081d0aa1517\" class=\"sk-toggleable__label sk-toggleable__label-arrow\">Numerical</label><div class=\"sk-toggleable__content\"><pre>[&#x27;Term&#x27;, &#x27;NoEmp&#x27;, &#x27;RetainedJob&#x27;, &#x27;SBA_Appv&#x27;]</pre></div></div></div><div class=\"sk-serial\"><div class=\"sk-item\"><div class=\"sk-serial\"><div class=\"sk-item\"><div class=\"sk-estimator sk-toggleable\"><input class=\"sk-toggleable__control sk-hidden--visually\" id=\"b9372dc4-8873-4c31-8a7a-9ad78e9ff256\" type=\"checkbox\" ><label for=\"b9372dc4-8873-4c31-8a7a-9ad78e9ff256\" class=\"sk-toggleable__label sk-toggleable__label-arrow\">SimpleImputer</label><div class=\"sk-toggleable__content\"><pre>SimpleImputer(strategy=&#x27;median&#x27;)</pre></div></div></div><div class=\"sk-item\"><div class=\"sk-estimator sk-toggleable\"><input class=\"sk-toggleable__control sk-hidden--visually\" id=\"3fba1bdc-a541-48a8-8dce-4a11f48adecf\" type=\"checkbox\" ><label for=\"3fba1bdc-a541-48a8-8dce-4a11f48adecf\" class=\"sk-toggleable__label sk-toggleable__label-arrow\">StandardScaler</label><div class=\"sk-toggleable__content\"><pre>StandardScaler()</pre></div></div></div></div></div></div></div></div><div class=\"sk-parallel-item\"><div class=\"sk-item\"><div class=\"sk-label-container\"><div class=\"sk-label sk-toggleable\"><input class=\"sk-toggleable__control sk-hidden--visually\" id=\"b29deea3-53bc-4a5c-ba67-e36778668dcb\" type=\"checkbox\" ><label for=\"b29deea3-53bc-4a5c-ba67-e36778668dcb\" class=\"sk-toggleable__label sk-toggleable__label-arrow\">Categorical</label><div class=\"sk-toggleable__content\"><pre>[&#x27;UrbanRural&#x27;, &#x27;NewOrExist&#x27;, &#x27;Franchised&#x27;, &#x27;StateSame&#x27;, &#x27;FinanCrisis&#x27;, &#x27;FullDisbursed&#x27;, &#x27;RevLineCredit&#x27;, &#x27;LowDocP&#x27;]</pre></div></div></div><div class=\"sk-serial\"><div class=\"sk-item\"><div class=\"sk-serial\"><div class=\"sk-item\"><div class=\"sk-estimator sk-toggleable\"><input class=\"sk-toggleable__control sk-hidden--visually\" id=\"13236fad-e186-4b91-a214-2bc441707547\" type=\"checkbox\" ><label for=\"13236fad-e186-4b91-a214-2bc441707547\" class=\"sk-toggleable__label sk-toggleable__label-arrow\">SimpleImputer</label><div class=\"sk-toggleable__content\"><pre>SimpleImputer(strategy=&#x27;most_frequent&#x27;)</pre></div></div></div><div class=\"sk-item\"><div class=\"sk-estimator sk-toggleable\"><input class=\"sk-toggleable__control sk-hidden--visually\" id=\"6b5197a0-4a5b-44c2-adf5-902fa0aad1a7\" type=\"checkbox\" ><label for=\"6b5197a0-4a5b-44c2-adf5-902fa0aad1a7\" class=\"sk-toggleable__label sk-toggleable__label-arrow\">OneHotEncoder</label><div class=\"sk-toggleable__content\"><pre>OneHotEncoder(drop=&#x27;first&#x27;, sparse=False)</pre></div></div></div></div></div></div></div></div></div></div><div class=\"sk-item sk-dashed-wrapped\"><div class=\"sk-label-container\"><div class=\"sk-label sk-toggleable\"><input class=\"sk-toggleable__control sk-hidden--visually\" id=\"dcb90f2a-d661-4bec-b172-ee5050af5e8c\" type=\"checkbox\" ><label for=\"dcb90f2a-d661-4bec-b172-ee5050af5e8c\" class=\"sk-toggleable__label sk-toggleable__label-arrow\">Select: SequentialFeatureSelector</label><div class=\"sk-toggleable__content\"><pre>SequentialFeatureSelector(estimator=LinearRegression(), n_features_to_select=1)</pre></div></div></div><div class=\"sk-parallel\"><div class=\"sk-parallel-item\"><div class=\"sk-item\"><div class=\"sk-serial\"><div class=\"sk-item\"><div class=\"sk-estimator sk-toggleable\"><input class=\"sk-toggleable__control sk-hidden--visually\" id=\"6c46193b-fca5-437e-8d45-4af9d5db617b\" type=\"checkbox\" ><label for=\"6c46193b-fca5-437e-8d45-4af9d5db617b\" class=\"sk-toggleable__label sk-toggleable__label-arrow\">LinearRegression</label><div class=\"sk-toggleable__content\"><pre>LinearRegression()</pre></div></div></div></div></div></div></div></div></div></div><div class=\"sk-item\"><div class=\"sk-estimator sk-toggleable\"><input class=\"sk-toggleable__control sk-hidden--visually\" id=\"412c3c0e-5d48-4a6e-8840-c6c0ddd25c1c\" type=\"checkbox\" ><label for=\"412c3c0e-5d48-4a6e-8840-c6c0ddd25c1c\" class=\"sk-toggleable__label sk-toggleable__label-arrow\">XGBClassifier</label><div class=\"sk-toggleable__content\"><pre>XGBClassifier(random_state=11)</pre></div></div></div></div></div></div></div>"
            ]
          },
          "metadata": {},
          "execution_count": 74
        }
      ]
    },
    {
      "cell_type": "code",
      "source": [
        "# Check the parameters in forest_pipeline.\n",
        "forest_pipeline.get_params().keys()"
      ],
      "metadata": {
        "colab": {
          "base_uri": "https://localhost:8080/"
        },
        "id": "k4czCcKUNuSl",
        "outputId": "2f314d5d-f062-474f-af25-73cd0b4a241f"
      },
      "execution_count": null,
      "outputs": [
        {
          "output_type": "execute_result",
          "data": {
            "text/plain": [
              "dict_keys(['memory', 'steps', 'verbose', 'Preprocessing', 'Random_forest', 'Preprocessing__memory', 'Preprocessing__steps', 'Preprocessing__verbose', 'Preprocessing__Preprocessing', 'Preprocessing__Select', 'Preprocessing__Preprocessing__n_jobs', 'Preprocessing__Preprocessing__remainder', 'Preprocessing__Preprocessing__sparse_threshold', 'Preprocessing__Preprocessing__transformer_weights', 'Preprocessing__Preprocessing__transformers', 'Preprocessing__Preprocessing__verbose', 'Preprocessing__Preprocessing__verbose_feature_names_out', 'Preprocessing__Preprocessing__Numerical', 'Preprocessing__Preprocessing__Categorical', 'Preprocessing__Preprocessing__Numerical__memory', 'Preprocessing__Preprocessing__Numerical__steps', 'Preprocessing__Preprocessing__Numerical__verbose', 'Preprocessing__Preprocessing__Numerical__Imputer', 'Preprocessing__Preprocessing__Numerical__Scaler', 'Preprocessing__Preprocessing__Numerical__Imputer__add_indicator', 'Preprocessing__Preprocessing__Numerical__Imputer__copy', 'Preprocessing__Preprocessing__Numerical__Imputer__fill_value', 'Preprocessing__Preprocessing__Numerical__Imputer__missing_values', 'Preprocessing__Preprocessing__Numerical__Imputer__strategy', 'Preprocessing__Preprocessing__Numerical__Imputer__verbose', 'Preprocessing__Preprocessing__Numerical__Scaler__copy', 'Preprocessing__Preprocessing__Numerical__Scaler__with_mean', 'Preprocessing__Preprocessing__Numerical__Scaler__with_std', 'Preprocessing__Preprocessing__Categorical__memory', 'Preprocessing__Preprocessing__Categorical__steps', 'Preprocessing__Preprocessing__Categorical__verbose', 'Preprocessing__Preprocessing__Categorical__Imputer', 'Preprocessing__Preprocessing__Categorical__Cat_Encoder', 'Preprocessing__Preprocessing__Categorical__Imputer__add_indicator', 'Preprocessing__Preprocessing__Categorical__Imputer__copy', 'Preprocessing__Preprocessing__Categorical__Imputer__fill_value', 'Preprocessing__Preprocessing__Categorical__Imputer__missing_values', 'Preprocessing__Preprocessing__Categorical__Imputer__strategy', 'Preprocessing__Preprocessing__Categorical__Imputer__verbose', 'Preprocessing__Preprocessing__Categorical__Cat_Encoder__categories', 'Preprocessing__Preprocessing__Categorical__Cat_Encoder__drop', 'Preprocessing__Preprocessing__Categorical__Cat_Encoder__dtype', 'Preprocessing__Preprocessing__Categorical__Cat_Encoder__handle_unknown', 'Preprocessing__Preprocessing__Categorical__Cat_Encoder__sparse', 'Preprocessing__Select__cv', 'Preprocessing__Select__direction', 'Preprocessing__Select__estimator__copy_X', 'Preprocessing__Select__estimator__fit_intercept', 'Preprocessing__Select__estimator__n_jobs', 'Preprocessing__Select__estimator__normalize', 'Preprocessing__Select__estimator__positive', 'Preprocessing__Select__estimator', 'Preprocessing__Select__n_features_to_select', 'Preprocessing__Select__n_jobs', 'Preprocessing__Select__scoring', 'Random_forest__bootstrap', 'Random_forest__ccp_alpha', 'Random_forest__class_weight', 'Random_forest__criterion', 'Random_forest__max_depth', 'Random_forest__max_features', 'Random_forest__max_leaf_nodes', 'Random_forest__max_samples', 'Random_forest__min_impurity_decrease', 'Random_forest__min_samples_leaf', 'Random_forest__min_samples_split', 'Random_forest__min_weight_fraction_leaf', 'Random_forest__n_estimators', 'Random_forest__n_jobs', 'Random_forest__oob_score', 'Random_forest__random_state', 'Random_forest__verbose', 'Random_forest__warm_start'])"
            ]
          },
          "metadata": {},
          "execution_count": 75
        }
      ]
    },
    {
      "cell_type": "code",
      "source": [
        "# Show all the parameters in axgboost_pipeline. \n",
        "xgboost_pipeline.get_params().keys()"
      ],
      "metadata": {
        "colab": {
          "base_uri": "https://localhost:8080/"
        },
        "id": "gCkaNourQv37",
        "outputId": "44da17b9-61ff-49cc-f44b-03851ba542ec"
      },
      "execution_count": null,
      "outputs": [
        {
          "output_type": "execute_result",
          "data": {
            "text/plain": [
              "dict_keys(['memory', 'steps', 'verbose', 'Preprocessing', 'XGBoost', 'Preprocessing__memory', 'Preprocessing__steps', 'Preprocessing__verbose', 'Preprocessing__Preprocessing', 'Preprocessing__Select', 'Preprocessing__Preprocessing__n_jobs', 'Preprocessing__Preprocessing__remainder', 'Preprocessing__Preprocessing__sparse_threshold', 'Preprocessing__Preprocessing__transformer_weights', 'Preprocessing__Preprocessing__transformers', 'Preprocessing__Preprocessing__verbose', 'Preprocessing__Preprocessing__verbose_feature_names_out', 'Preprocessing__Preprocessing__Numerical', 'Preprocessing__Preprocessing__Categorical', 'Preprocessing__Preprocessing__Numerical__memory', 'Preprocessing__Preprocessing__Numerical__steps', 'Preprocessing__Preprocessing__Numerical__verbose', 'Preprocessing__Preprocessing__Numerical__Imputer', 'Preprocessing__Preprocessing__Numerical__Scaler', 'Preprocessing__Preprocessing__Numerical__Imputer__add_indicator', 'Preprocessing__Preprocessing__Numerical__Imputer__copy', 'Preprocessing__Preprocessing__Numerical__Imputer__fill_value', 'Preprocessing__Preprocessing__Numerical__Imputer__missing_values', 'Preprocessing__Preprocessing__Numerical__Imputer__strategy', 'Preprocessing__Preprocessing__Numerical__Imputer__verbose', 'Preprocessing__Preprocessing__Numerical__Scaler__copy', 'Preprocessing__Preprocessing__Numerical__Scaler__with_mean', 'Preprocessing__Preprocessing__Numerical__Scaler__with_std', 'Preprocessing__Preprocessing__Categorical__memory', 'Preprocessing__Preprocessing__Categorical__steps', 'Preprocessing__Preprocessing__Categorical__verbose', 'Preprocessing__Preprocessing__Categorical__Imputer', 'Preprocessing__Preprocessing__Categorical__Cat_Encoder', 'Preprocessing__Preprocessing__Categorical__Imputer__add_indicator', 'Preprocessing__Preprocessing__Categorical__Imputer__copy', 'Preprocessing__Preprocessing__Categorical__Imputer__fill_value', 'Preprocessing__Preprocessing__Categorical__Imputer__missing_values', 'Preprocessing__Preprocessing__Categorical__Imputer__strategy', 'Preprocessing__Preprocessing__Categorical__Imputer__verbose', 'Preprocessing__Preprocessing__Categorical__Cat_Encoder__categories', 'Preprocessing__Preprocessing__Categorical__Cat_Encoder__drop', 'Preprocessing__Preprocessing__Categorical__Cat_Encoder__dtype', 'Preprocessing__Preprocessing__Categorical__Cat_Encoder__handle_unknown', 'Preprocessing__Preprocessing__Categorical__Cat_Encoder__sparse', 'Preprocessing__Select__cv', 'Preprocessing__Select__direction', 'Preprocessing__Select__estimator__copy_X', 'Preprocessing__Select__estimator__fit_intercept', 'Preprocessing__Select__estimator__n_jobs', 'Preprocessing__Select__estimator__normalize', 'Preprocessing__Select__estimator__positive', 'Preprocessing__Select__estimator', 'Preprocessing__Select__n_features_to_select', 'Preprocessing__Select__n_jobs', 'Preprocessing__Select__scoring', 'XGBoost__base_score', 'XGBoost__booster', 'XGBoost__colsample_bylevel', 'XGBoost__colsample_bynode', 'XGBoost__colsample_bytree', 'XGBoost__gamma', 'XGBoost__learning_rate', 'XGBoost__max_delta_step', 'XGBoost__max_depth', 'XGBoost__min_child_weight', 'XGBoost__missing', 'XGBoost__n_estimators', 'XGBoost__n_jobs', 'XGBoost__nthread', 'XGBoost__objective', 'XGBoost__random_state', 'XGBoost__reg_alpha', 'XGBoost__reg_lambda', 'XGBoost__scale_pos_weight', 'XGBoost__seed', 'XGBoost__silent', 'XGBoost__subsample', 'XGBoost__verbosity'])"
            ]
          },
          "metadata": {},
          "execution_count": 76
        }
      ]
    },
    {
      "cell_type": "markdown",
      "source": [
        "###**6.2 Grid Search**"
      ],
      "metadata": {
        "id": "lXQalZhy2KNN"
      }
    },
    {
      "cell_type": "code",
      "source": [
        "from sklearn.model_selection import GridSearchCV\n",
        "\n",
        "# Set up grid. \n",
        "forest_param_grid = [ \n",
        "    {'Random_forest__max_depth': [2, 5, 10], \n",
        "     'Random_forest__min_samples_leaf': [2, 5, 10], \n",
        "     'Random_forest__max_features': [\"sqrt\", \"log2\", None]}, \n",
        "    ]\n",
        "\n",
        "# Fit data into grid search.\n",
        "grid_search = GridSearchCV(forest_pipeline, forest_param_grid, cv = 10, scoring = 'balanced_accuracy')\n",
        "grid_search.fit(df_X, df_y)\n",
        "\n",
        "grid_search.best_estimator_\n",
        "forest_cv_res = pd.DataFrame(grid_search.cv_results_)\n",
        "forest_cv_res.sort_values(by=\"mean_test_score\", ascending = False, inplace = True)\n",
        "forest_cv_res.head()"
      ],
      "metadata": {
        "id": "FuvNA35Qqnuh",
        "colab": {
          "base_uri": "https://localhost:8080/",
          "height": 357
        },
        "outputId": "d3d9fcaf-93ad-4766-fc5a-18630171a1c1"
      },
      "execution_count": null,
      "outputs": [
        {
          "output_type": "execute_result",
          "data": {
            "text/plain": [
              "    mean_fit_time  std_fit_time  mean_score_time  std_score_time  \\\n",
              "24       0.619331      0.053325         0.031779        0.002685   \n",
              "21       0.607605      0.012884         0.031466        0.002000   \n",
              "18       0.632425      0.023400         0.032902        0.002960   \n",
              "25       0.623233      0.034876         0.032407        0.002083   \n",
              "22       0.605623      0.014135         0.033036        0.003947   \n",
              "\n",
              "   param_Random_forest__max_depth param_Random_forest__max_features  \\\n",
              "24                             10                              None   \n",
              "21                             10                              log2   \n",
              "18                             10                              sqrt   \n",
              "25                             10                              None   \n",
              "22                             10                              log2   \n",
              "\n",
              "   param_Random_forest__min_samples_leaf  \\\n",
              "24                                     2   \n",
              "21                                     2   \n",
              "18                                     2   \n",
              "25                                     5   \n",
              "22                                     5   \n",
              "\n",
              "                                               params  split0_test_score  \\\n",
              "24  {'Random_forest__max_depth': 10, 'Random_fores...           0.877932   \n",
              "21  {'Random_forest__max_depth': 10, 'Random_fores...           0.877932   \n",
              "18  {'Random_forest__max_depth': 10, 'Random_fores...           0.877932   \n",
              "25  {'Random_forest__max_depth': 10, 'Random_fores...           0.875410   \n",
              "22  {'Random_forest__max_depth': 10, 'Random_fores...           0.875410   \n",
              "\n",
              "    split1_test_score  split2_test_score  split3_test_score  \\\n",
              "24           0.868747           0.848128           0.880078   \n",
              "21           0.868747           0.848128           0.880078   \n",
              "18           0.868747           0.848128           0.880078   \n",
              "25           0.868747           0.844705           0.871699   \n",
              "22           0.868747           0.844705           0.871699   \n",
              "\n",
              "    split4_test_score  split5_test_score  split6_test_score  \\\n",
              "24           0.882960           0.875482           0.830430   \n",
              "21           0.882960           0.875482           0.830430   \n",
              "18           0.882960           0.875482           0.830430   \n",
              "25           0.880167           0.873590           0.832592   \n",
              "22           0.880167           0.873590           0.832592   \n",
              "\n",
              "    split7_test_score  split8_test_score  split9_test_score  mean_test_score  \\\n",
              "24           0.845115           0.862600           0.819256         0.859073   \n",
              "21           0.845115           0.862600           0.819256         0.859073   \n",
              "18           0.845115           0.862600           0.819256         0.859073   \n",
              "25           0.842321           0.864132           0.825474         0.857884   \n",
              "22           0.842321           0.864132           0.825474         0.857884   \n",
              "\n",
              "    std_test_score  rank_test_score  \n",
              "24        0.021126                1  \n",
              "21        0.021126                1  \n",
              "18        0.021126                1  \n",
              "25        0.018720                4  \n",
              "22        0.018720                4  "
            ],
            "text/html": [
              "\n",
              "  <div id=\"df-fddb46aa-2e00-446c-ae0a-fab9e8d6afef\">\n",
              "    <div class=\"colab-df-container\">\n",
              "      <div>\n",
              "<style scoped>\n",
              "    .dataframe tbody tr th:only-of-type {\n",
              "        vertical-align: middle;\n",
              "    }\n",
              "\n",
              "    .dataframe tbody tr th {\n",
              "        vertical-align: top;\n",
              "    }\n",
              "\n",
              "    .dataframe thead th {\n",
              "        text-align: right;\n",
              "    }\n",
              "</style>\n",
              "<table border=\"1\" class=\"dataframe\">\n",
              "  <thead>\n",
              "    <tr style=\"text-align: right;\">\n",
              "      <th></th>\n",
              "      <th>mean_fit_time</th>\n",
              "      <th>std_fit_time</th>\n",
              "      <th>mean_score_time</th>\n",
              "      <th>std_score_time</th>\n",
              "      <th>param_Random_forest__max_depth</th>\n",
              "      <th>param_Random_forest__max_features</th>\n",
              "      <th>param_Random_forest__min_samples_leaf</th>\n",
              "      <th>params</th>\n",
              "      <th>split0_test_score</th>\n",
              "      <th>split1_test_score</th>\n",
              "      <th>split2_test_score</th>\n",
              "      <th>split3_test_score</th>\n",
              "      <th>split4_test_score</th>\n",
              "      <th>split5_test_score</th>\n",
              "      <th>split6_test_score</th>\n",
              "      <th>split7_test_score</th>\n",
              "      <th>split8_test_score</th>\n",
              "      <th>split9_test_score</th>\n",
              "      <th>mean_test_score</th>\n",
              "      <th>std_test_score</th>\n",
              "      <th>rank_test_score</th>\n",
              "    </tr>\n",
              "  </thead>\n",
              "  <tbody>\n",
              "    <tr>\n",
              "      <th>24</th>\n",
              "      <td>0.619331</td>\n",
              "      <td>0.053325</td>\n",
              "      <td>0.031779</td>\n",
              "      <td>0.002685</td>\n",
              "      <td>10</td>\n",
              "      <td>None</td>\n",
              "      <td>2</td>\n",
              "      <td>{'Random_forest__max_depth': 10, 'Random_fores...</td>\n",
              "      <td>0.877932</td>\n",
              "      <td>0.868747</td>\n",
              "      <td>0.848128</td>\n",
              "      <td>0.880078</td>\n",
              "      <td>0.882960</td>\n",
              "      <td>0.875482</td>\n",
              "      <td>0.830430</td>\n",
              "      <td>0.845115</td>\n",
              "      <td>0.862600</td>\n",
              "      <td>0.819256</td>\n",
              "      <td>0.859073</td>\n",
              "      <td>0.021126</td>\n",
              "      <td>1</td>\n",
              "    </tr>\n",
              "    <tr>\n",
              "      <th>21</th>\n",
              "      <td>0.607605</td>\n",
              "      <td>0.012884</td>\n",
              "      <td>0.031466</td>\n",
              "      <td>0.002000</td>\n",
              "      <td>10</td>\n",
              "      <td>log2</td>\n",
              "      <td>2</td>\n",
              "      <td>{'Random_forest__max_depth': 10, 'Random_fores...</td>\n",
              "      <td>0.877932</td>\n",
              "      <td>0.868747</td>\n",
              "      <td>0.848128</td>\n",
              "      <td>0.880078</td>\n",
              "      <td>0.882960</td>\n",
              "      <td>0.875482</td>\n",
              "      <td>0.830430</td>\n",
              "      <td>0.845115</td>\n",
              "      <td>0.862600</td>\n",
              "      <td>0.819256</td>\n",
              "      <td>0.859073</td>\n",
              "      <td>0.021126</td>\n",
              "      <td>1</td>\n",
              "    </tr>\n",
              "    <tr>\n",
              "      <th>18</th>\n",
              "      <td>0.632425</td>\n",
              "      <td>0.023400</td>\n",
              "      <td>0.032902</td>\n",
              "      <td>0.002960</td>\n",
              "      <td>10</td>\n",
              "      <td>sqrt</td>\n",
              "      <td>2</td>\n",
              "      <td>{'Random_forest__max_depth': 10, 'Random_fores...</td>\n",
              "      <td>0.877932</td>\n",
              "      <td>0.868747</td>\n",
              "      <td>0.848128</td>\n",
              "      <td>0.880078</td>\n",
              "      <td>0.882960</td>\n",
              "      <td>0.875482</td>\n",
              "      <td>0.830430</td>\n",
              "      <td>0.845115</td>\n",
              "      <td>0.862600</td>\n",
              "      <td>0.819256</td>\n",
              "      <td>0.859073</td>\n",
              "      <td>0.021126</td>\n",
              "      <td>1</td>\n",
              "    </tr>\n",
              "    <tr>\n",
              "      <th>25</th>\n",
              "      <td>0.623233</td>\n",
              "      <td>0.034876</td>\n",
              "      <td>0.032407</td>\n",
              "      <td>0.002083</td>\n",
              "      <td>10</td>\n",
              "      <td>None</td>\n",
              "      <td>5</td>\n",
              "      <td>{'Random_forest__max_depth': 10, 'Random_fores...</td>\n",
              "      <td>0.875410</td>\n",
              "      <td>0.868747</td>\n",
              "      <td>0.844705</td>\n",
              "      <td>0.871699</td>\n",
              "      <td>0.880167</td>\n",
              "      <td>0.873590</td>\n",
              "      <td>0.832592</td>\n",
              "      <td>0.842321</td>\n",
              "      <td>0.864132</td>\n",
              "      <td>0.825474</td>\n",
              "      <td>0.857884</td>\n",
              "      <td>0.018720</td>\n",
              "      <td>4</td>\n",
              "    </tr>\n",
              "    <tr>\n",
              "      <th>22</th>\n",
              "      <td>0.605623</td>\n",
              "      <td>0.014135</td>\n",
              "      <td>0.033036</td>\n",
              "      <td>0.003947</td>\n",
              "      <td>10</td>\n",
              "      <td>log2</td>\n",
              "      <td>5</td>\n",
              "      <td>{'Random_forest__max_depth': 10, 'Random_fores...</td>\n",
              "      <td>0.875410</td>\n",
              "      <td>0.868747</td>\n",
              "      <td>0.844705</td>\n",
              "      <td>0.871699</td>\n",
              "      <td>0.880167</td>\n",
              "      <td>0.873590</td>\n",
              "      <td>0.832592</td>\n",
              "      <td>0.842321</td>\n",
              "      <td>0.864132</td>\n",
              "      <td>0.825474</td>\n",
              "      <td>0.857884</td>\n",
              "      <td>0.018720</td>\n",
              "      <td>4</td>\n",
              "    </tr>\n",
              "  </tbody>\n",
              "</table>\n",
              "</div>\n",
              "      <button class=\"colab-df-convert\" onclick=\"convertToInteractive('df-fddb46aa-2e00-446c-ae0a-fab9e8d6afef')\"\n",
              "              title=\"Convert this dataframe to an interactive table.\"\n",
              "              style=\"display:none;\">\n",
              "        \n",
              "  <svg xmlns=\"http://www.w3.org/2000/svg\" height=\"24px\"viewBox=\"0 0 24 24\"\n",
              "       width=\"24px\">\n",
              "    <path d=\"M0 0h24v24H0V0z\" fill=\"none\"/>\n",
              "    <path d=\"M18.56 5.44l.94 2.06.94-2.06 2.06-.94-2.06-.94-.94-2.06-.94 2.06-2.06.94zm-11 1L8.5 8.5l.94-2.06 2.06-.94-2.06-.94L8.5 2.5l-.94 2.06-2.06.94zm10 10l.94 2.06.94-2.06 2.06-.94-2.06-.94-.94-2.06-.94 2.06-2.06.94z\"/><path d=\"M17.41 7.96l-1.37-1.37c-.4-.4-.92-.59-1.43-.59-.52 0-1.04.2-1.43.59L10.3 9.45l-7.72 7.72c-.78.78-.78 2.05 0 2.83L4 21.41c.39.39.9.59 1.41.59.51 0 1.02-.2 1.41-.59l7.78-7.78 2.81-2.81c.8-.78.8-2.07 0-2.86zM5.41 20L4 18.59l7.72-7.72 1.47 1.35L5.41 20z\"/>\n",
              "  </svg>\n",
              "      </button>\n",
              "      \n",
              "  <style>\n",
              "    .colab-df-container {\n",
              "      display:flex;\n",
              "      flex-wrap:wrap;\n",
              "      gap: 12px;\n",
              "    }\n",
              "\n",
              "    .colab-df-convert {\n",
              "      background-color: #E8F0FE;\n",
              "      border: none;\n",
              "      border-radius: 50%;\n",
              "      cursor: pointer;\n",
              "      display: none;\n",
              "      fill: #1967D2;\n",
              "      height: 32px;\n",
              "      padding: 0 0 0 0;\n",
              "      width: 32px;\n",
              "    }\n",
              "\n",
              "    .colab-df-convert:hover {\n",
              "      background-color: #E2EBFA;\n",
              "      box-shadow: 0px 1px 2px rgba(60, 64, 67, 0.3), 0px 1px 3px 1px rgba(60, 64, 67, 0.15);\n",
              "      fill: #174EA6;\n",
              "    }\n",
              "\n",
              "    [theme=dark] .colab-df-convert {\n",
              "      background-color: #3B4455;\n",
              "      fill: #D2E3FC;\n",
              "    }\n",
              "\n",
              "    [theme=dark] .colab-df-convert:hover {\n",
              "      background-color: #434B5C;\n",
              "      box-shadow: 0px 1px 3px 1px rgba(0, 0, 0, 0.15);\n",
              "      filter: drop-shadow(0px 1px 2px rgba(0, 0, 0, 0.3));\n",
              "      fill: #FFFFFF;\n",
              "    }\n",
              "  </style>\n",
              "\n",
              "      <script>\n",
              "        const buttonEl =\n",
              "          document.querySelector('#df-fddb46aa-2e00-446c-ae0a-fab9e8d6afef button.colab-df-convert');\n",
              "        buttonEl.style.display =\n",
              "          google.colab.kernel.accessAllowed ? 'block' : 'none';\n",
              "\n",
              "        async function convertToInteractive(key) {\n",
              "          const element = document.querySelector('#df-fddb46aa-2e00-446c-ae0a-fab9e8d6afef');\n",
              "          const dataTable =\n",
              "            await google.colab.kernel.invokeFunction('convertToInteractive',\n",
              "                                                     [key], {});\n",
              "          if (!dataTable) return;\n",
              "\n",
              "          const docLinkHtml = 'Like what you see? Visit the ' +\n",
              "            '<a target=\"_blank\" href=https://colab.research.google.com/notebooks/data_table.ipynb>data table notebook</a>'\n",
              "            + ' to learn more about interactive tables.';\n",
              "          element.innerHTML = '';\n",
              "          dataTable['output_type'] = 'display_data';\n",
              "          await google.colab.output.renderOutput(dataTable, element);\n",
              "          const docLink = document.createElement('div');\n",
              "          docLink.innerHTML = docLinkHtml;\n",
              "          element.appendChild(docLink);\n",
              "        }\n",
              "      </script>\n",
              "    </div>\n",
              "  </div>\n",
              "  "
            ]
          },
          "metadata": {},
          "execution_count": 77
        }
      ]
    },
    {
      "cell_type": "code",
      "source": [
        "# Set up Grid.\n",
        "xgboost_param_grid = [ \n",
        "    {'XGBoost__max_depth': [2, 5, 10], \n",
        "     'XGBoost__max_leaf_nodes': [2, 5, 10], \n",
        "     'XGBoost__max_features': [\"sqrt\", \"log2\", None]}, \n",
        "    ]\n",
        "\n",
        "grid_search = GridSearchCV(xgboost_pipeline, xgboost_param_grid, cv = 10, scoring = 'balanced_accuracy')\n",
        "grid_search.fit(df_X, df_y)\n",
        "\n",
        "grid_search.best_estimator_\n",
        "xgboost_cv_res = pd.DataFrame(grid_search.cv_results_)\n",
        "xgboost_cv_res.sort_values(by=\"mean_test_score\", ascending = False, inplace = True)\n",
        "xgboost_cv_res.head()"
      ],
      "metadata": {
        "id": "Ow6mYQL8sfU2",
        "colab": {
          "base_uri": "https://localhost:8080/",
          "height": 444
        },
        "outputId": "48858e1f-e9fb-440c-fb8d-bafbaa89f0e3"
      },
      "execution_count": null,
      "outputs": [
        {
          "output_type": "execute_result",
          "data": {
            "text/plain": [
              "    mean_fit_time  std_fit_time  mean_score_time  std_score_time  \\\n",
              "13       0.524620      0.116333         0.014929        0.002623   \n",
              "17       0.535634      0.064831         0.015352        0.002469   \n",
              "15       0.441791      0.006103         0.013007        0.000403   \n",
              "14       0.535181      0.127141         0.014899        0.002540   \n",
              "12       0.449522      0.016231         0.014415        0.002093   \n",
              "\n",
              "   param_XGBoost__max_depth param_XGBoost__max_features  \\\n",
              "13                        5                        log2   \n",
              "17                        5                        None   \n",
              "15                        5                        None   \n",
              "14                        5                        log2   \n",
              "12                        5                        log2   \n",
              "\n",
              "   param_XGBoost__max_leaf_nodes  \\\n",
              "13                             5   \n",
              "17                            10   \n",
              "15                             2   \n",
              "14                            10   \n",
              "12                             2   \n",
              "\n",
              "                                               params  split0_test_score  \\\n",
              "13  {'XGBoost__max_depth': 5, 'XGBoost__max_featur...           0.868712   \n",
              "17  {'XGBoost__max_depth': 5, 'XGBoost__max_featur...           0.868712   \n",
              "15  {'XGBoost__max_depth': 5, 'XGBoost__max_featur...           0.868712   \n",
              "14  {'XGBoost__max_depth': 5, 'XGBoost__max_featur...           0.868712   \n",
              "12  {'XGBoost__max_depth': 5, 'XGBoost__max_featur...           0.868712   \n",
              "\n",
              "    split1_test_score  split2_test_score  split3_test_score  \\\n",
              "13           0.873704           0.849032           0.871427   \n",
              "17           0.873704           0.849032           0.871427   \n",
              "15           0.873704           0.849032           0.871427   \n",
              "14           0.873704           0.849032           0.871427   \n",
              "12           0.873704           0.849032           0.871427   \n",
              "\n",
              "    split4_test_score  split5_test_score  split6_test_score  \\\n",
              "13           0.872417           0.867732            0.84683   \n",
              "17           0.872417           0.867732            0.84683   \n",
              "15           0.872417           0.867732            0.84683   \n",
              "14           0.872417           0.867732            0.84683   \n",
              "12           0.872417           0.867732            0.84683   \n",
              "\n",
              "    split7_test_score  split8_test_score  split9_test_score  mean_test_score  \\\n",
              "13           0.845115           0.860437           0.844396          0.85998   \n",
              "17           0.845115           0.860437           0.844396          0.85998   \n",
              "15           0.845115           0.860437           0.844396          0.85998   \n",
              "14           0.845115           0.860437           0.844396          0.85998   \n",
              "12           0.845115           0.860437           0.844396          0.85998   \n",
              "\n",
              "    std_test_score  rank_test_score  \n",
              "13        0.011693                1  \n",
              "17        0.011693                1  \n",
              "15        0.011693                1  \n",
              "14        0.011693                1  \n",
              "12        0.011693                1  "
            ],
            "text/html": [
              "\n",
              "  <div id=\"df-b22e9cba-223e-4772-ade1-2da4eb769d23\">\n",
              "    <div class=\"colab-df-container\">\n",
              "      <div>\n",
              "<style scoped>\n",
              "    .dataframe tbody tr th:only-of-type {\n",
              "        vertical-align: middle;\n",
              "    }\n",
              "\n",
              "    .dataframe tbody tr th {\n",
              "        vertical-align: top;\n",
              "    }\n",
              "\n",
              "    .dataframe thead th {\n",
              "        text-align: right;\n",
              "    }\n",
              "</style>\n",
              "<table border=\"1\" class=\"dataframe\">\n",
              "  <thead>\n",
              "    <tr style=\"text-align: right;\">\n",
              "      <th></th>\n",
              "      <th>mean_fit_time</th>\n",
              "      <th>std_fit_time</th>\n",
              "      <th>mean_score_time</th>\n",
              "      <th>std_score_time</th>\n",
              "      <th>param_XGBoost__max_depth</th>\n",
              "      <th>param_XGBoost__max_features</th>\n",
              "      <th>param_XGBoost__max_leaf_nodes</th>\n",
              "      <th>params</th>\n",
              "      <th>split0_test_score</th>\n",
              "      <th>split1_test_score</th>\n",
              "      <th>split2_test_score</th>\n",
              "      <th>split3_test_score</th>\n",
              "      <th>split4_test_score</th>\n",
              "      <th>split5_test_score</th>\n",
              "      <th>split6_test_score</th>\n",
              "      <th>split7_test_score</th>\n",
              "      <th>split8_test_score</th>\n",
              "      <th>split9_test_score</th>\n",
              "      <th>mean_test_score</th>\n",
              "      <th>std_test_score</th>\n",
              "      <th>rank_test_score</th>\n",
              "    </tr>\n",
              "  </thead>\n",
              "  <tbody>\n",
              "    <tr>\n",
              "      <th>13</th>\n",
              "      <td>0.524620</td>\n",
              "      <td>0.116333</td>\n",
              "      <td>0.014929</td>\n",
              "      <td>0.002623</td>\n",
              "      <td>5</td>\n",
              "      <td>log2</td>\n",
              "      <td>5</td>\n",
              "      <td>{'XGBoost__max_depth': 5, 'XGBoost__max_featur...</td>\n",
              "      <td>0.868712</td>\n",
              "      <td>0.873704</td>\n",
              "      <td>0.849032</td>\n",
              "      <td>0.871427</td>\n",
              "      <td>0.872417</td>\n",
              "      <td>0.867732</td>\n",
              "      <td>0.84683</td>\n",
              "      <td>0.845115</td>\n",
              "      <td>0.860437</td>\n",
              "      <td>0.844396</td>\n",
              "      <td>0.85998</td>\n",
              "      <td>0.011693</td>\n",
              "      <td>1</td>\n",
              "    </tr>\n",
              "    <tr>\n",
              "      <th>17</th>\n",
              "      <td>0.535634</td>\n",
              "      <td>0.064831</td>\n",
              "      <td>0.015352</td>\n",
              "      <td>0.002469</td>\n",
              "      <td>5</td>\n",
              "      <td>None</td>\n",
              "      <td>10</td>\n",
              "      <td>{'XGBoost__max_depth': 5, 'XGBoost__max_featur...</td>\n",
              "      <td>0.868712</td>\n",
              "      <td>0.873704</td>\n",
              "      <td>0.849032</td>\n",
              "      <td>0.871427</td>\n",
              "      <td>0.872417</td>\n",
              "      <td>0.867732</td>\n",
              "      <td>0.84683</td>\n",
              "      <td>0.845115</td>\n",
              "      <td>0.860437</td>\n",
              "      <td>0.844396</td>\n",
              "      <td>0.85998</td>\n",
              "      <td>0.011693</td>\n",
              "      <td>1</td>\n",
              "    </tr>\n",
              "    <tr>\n",
              "      <th>15</th>\n",
              "      <td>0.441791</td>\n",
              "      <td>0.006103</td>\n",
              "      <td>0.013007</td>\n",
              "      <td>0.000403</td>\n",
              "      <td>5</td>\n",
              "      <td>None</td>\n",
              "      <td>2</td>\n",
              "      <td>{'XGBoost__max_depth': 5, 'XGBoost__max_featur...</td>\n",
              "      <td>0.868712</td>\n",
              "      <td>0.873704</td>\n",
              "      <td>0.849032</td>\n",
              "      <td>0.871427</td>\n",
              "      <td>0.872417</td>\n",
              "      <td>0.867732</td>\n",
              "      <td>0.84683</td>\n",
              "      <td>0.845115</td>\n",
              "      <td>0.860437</td>\n",
              "      <td>0.844396</td>\n",
              "      <td>0.85998</td>\n",
              "      <td>0.011693</td>\n",
              "      <td>1</td>\n",
              "    </tr>\n",
              "    <tr>\n",
              "      <th>14</th>\n",
              "      <td>0.535181</td>\n",
              "      <td>0.127141</td>\n",
              "      <td>0.014899</td>\n",
              "      <td>0.002540</td>\n",
              "      <td>5</td>\n",
              "      <td>log2</td>\n",
              "      <td>10</td>\n",
              "      <td>{'XGBoost__max_depth': 5, 'XGBoost__max_featur...</td>\n",
              "      <td>0.868712</td>\n",
              "      <td>0.873704</td>\n",
              "      <td>0.849032</td>\n",
              "      <td>0.871427</td>\n",
              "      <td>0.872417</td>\n",
              "      <td>0.867732</td>\n",
              "      <td>0.84683</td>\n",
              "      <td>0.845115</td>\n",
              "      <td>0.860437</td>\n",
              "      <td>0.844396</td>\n",
              "      <td>0.85998</td>\n",
              "      <td>0.011693</td>\n",
              "      <td>1</td>\n",
              "    </tr>\n",
              "    <tr>\n",
              "      <th>12</th>\n",
              "      <td>0.449522</td>\n",
              "      <td>0.016231</td>\n",
              "      <td>0.014415</td>\n",
              "      <td>0.002093</td>\n",
              "      <td>5</td>\n",
              "      <td>log2</td>\n",
              "      <td>2</td>\n",
              "      <td>{'XGBoost__max_depth': 5, 'XGBoost__max_featur...</td>\n",
              "      <td>0.868712</td>\n",
              "      <td>0.873704</td>\n",
              "      <td>0.849032</td>\n",
              "      <td>0.871427</td>\n",
              "      <td>0.872417</td>\n",
              "      <td>0.867732</td>\n",
              "      <td>0.84683</td>\n",
              "      <td>0.845115</td>\n",
              "      <td>0.860437</td>\n",
              "      <td>0.844396</td>\n",
              "      <td>0.85998</td>\n",
              "      <td>0.011693</td>\n",
              "      <td>1</td>\n",
              "    </tr>\n",
              "  </tbody>\n",
              "</table>\n",
              "</div>\n",
              "      <button class=\"colab-df-convert\" onclick=\"convertToInteractive('df-b22e9cba-223e-4772-ade1-2da4eb769d23')\"\n",
              "              title=\"Convert this dataframe to an interactive table.\"\n",
              "              style=\"display:none;\">\n",
              "        \n",
              "  <svg xmlns=\"http://www.w3.org/2000/svg\" height=\"24px\"viewBox=\"0 0 24 24\"\n",
              "       width=\"24px\">\n",
              "    <path d=\"M0 0h24v24H0V0z\" fill=\"none\"/>\n",
              "    <path d=\"M18.56 5.44l.94 2.06.94-2.06 2.06-.94-2.06-.94-.94-2.06-.94 2.06-2.06.94zm-11 1L8.5 8.5l.94-2.06 2.06-.94-2.06-.94L8.5 2.5l-.94 2.06-2.06.94zm10 10l.94 2.06.94-2.06 2.06-.94-2.06-.94-.94-2.06-.94 2.06-2.06.94z\"/><path d=\"M17.41 7.96l-1.37-1.37c-.4-.4-.92-.59-1.43-.59-.52 0-1.04.2-1.43.59L10.3 9.45l-7.72 7.72c-.78.78-.78 2.05 0 2.83L4 21.41c.39.39.9.59 1.41.59.51 0 1.02-.2 1.41-.59l7.78-7.78 2.81-2.81c.8-.78.8-2.07 0-2.86zM5.41 20L4 18.59l7.72-7.72 1.47 1.35L5.41 20z\"/>\n",
              "  </svg>\n",
              "      </button>\n",
              "      \n",
              "  <style>\n",
              "    .colab-df-container {\n",
              "      display:flex;\n",
              "      flex-wrap:wrap;\n",
              "      gap: 12px;\n",
              "    }\n",
              "\n",
              "    .colab-df-convert {\n",
              "      background-color: #E8F0FE;\n",
              "      border: none;\n",
              "      border-radius: 50%;\n",
              "      cursor: pointer;\n",
              "      display: none;\n",
              "      fill: #1967D2;\n",
              "      height: 32px;\n",
              "      padding: 0 0 0 0;\n",
              "      width: 32px;\n",
              "    }\n",
              "\n",
              "    .colab-df-convert:hover {\n",
              "      background-color: #E2EBFA;\n",
              "      box-shadow: 0px 1px 2px rgba(60, 64, 67, 0.3), 0px 1px 3px 1px rgba(60, 64, 67, 0.15);\n",
              "      fill: #174EA6;\n",
              "    }\n",
              "\n",
              "    [theme=dark] .colab-df-convert {\n",
              "      background-color: #3B4455;\n",
              "      fill: #D2E3FC;\n",
              "    }\n",
              "\n",
              "    [theme=dark] .colab-df-convert:hover {\n",
              "      background-color: #434B5C;\n",
              "      box-shadow: 0px 1px 3px 1px rgba(0, 0, 0, 0.15);\n",
              "      filter: drop-shadow(0px 1px 2px rgba(0, 0, 0, 0.3));\n",
              "      fill: #FFFFFF;\n",
              "    }\n",
              "  </style>\n",
              "\n",
              "      <script>\n",
              "        const buttonEl =\n",
              "          document.querySelector('#df-b22e9cba-223e-4772-ade1-2da4eb769d23 button.colab-df-convert');\n",
              "        buttonEl.style.display =\n",
              "          google.colab.kernel.accessAllowed ? 'block' : 'none';\n",
              "\n",
              "        async function convertToInteractive(key) {\n",
              "          const element = document.querySelector('#df-b22e9cba-223e-4772-ade1-2da4eb769d23');\n",
              "          const dataTable =\n",
              "            await google.colab.kernel.invokeFunction('convertToInteractive',\n",
              "                                                     [key], {});\n",
              "          if (!dataTable) return;\n",
              "\n",
              "          const docLinkHtml = 'Like what you see? Visit the ' +\n",
              "            '<a target=\"_blank\" href=https://colab.research.google.com/notebooks/data_table.ipynb>data table notebook</a>'\n",
              "            + ' to learn more about interactive tables.';\n",
              "          element.innerHTML = '';\n",
              "          dataTable['output_type'] = 'display_data';\n",
              "          await google.colab.output.renderOutput(dataTable, element);\n",
              "          const docLink = document.createElement('div');\n",
              "          docLink.innerHTML = docLinkHtml;\n",
              "          element.appendChild(docLink);\n",
              "        }\n",
              "      </script>\n",
              "    </div>\n",
              "  </div>\n",
              "  "
            ]
          },
          "metadata": {},
          "execution_count": 78
        }
      ]
    },
    {
      "cell_type": "code",
      "source": [
        "gs_forest = forest_cv_res[['params', 'mean_test_score']].head(3)\n",
        "gs_xgboost = xgboost_cv_res[['params', 'mean_test_score']].head(3)\n",
        "frames = [gs_forest, gs_xgboost]\n",
        "grid_search_result = pd.concat(frames)\n",
        "grid_search_result"
      ],
      "metadata": {
        "colab": {
          "base_uri": "https://localhost:8080/",
          "height": 238
        },
        "id": "CcgLg1JAR2hA",
        "outputId": "2e184420-31c6-40d1-d4b1-4452ac813536"
      },
      "execution_count": null,
      "outputs": [
        {
          "output_type": "execute_result",
          "data": {
            "text/plain": [
              "                                               params  mean_test_score\n",
              "24  {'Random_forest__max_depth': 10, 'Random_fores...         0.859073\n",
              "21  {'Random_forest__max_depth': 10, 'Random_fores...         0.859073\n",
              "18  {'Random_forest__max_depth': 10, 'Random_fores...         0.859073\n",
              "13  {'XGBoost__max_depth': 5, 'XGBoost__max_featur...         0.859980\n",
              "17  {'XGBoost__max_depth': 5, 'XGBoost__max_featur...         0.859980\n",
              "15  {'XGBoost__max_depth': 5, 'XGBoost__max_featur...         0.859980"
            ],
            "text/html": [
              "\n",
              "  <div id=\"df-00d031f7-6fc2-4313-a6ee-f403dacc1460\">\n",
              "    <div class=\"colab-df-container\">\n",
              "      <div>\n",
              "<style scoped>\n",
              "    .dataframe tbody tr th:only-of-type {\n",
              "        vertical-align: middle;\n",
              "    }\n",
              "\n",
              "    .dataframe tbody tr th {\n",
              "        vertical-align: top;\n",
              "    }\n",
              "\n",
              "    .dataframe thead th {\n",
              "        text-align: right;\n",
              "    }\n",
              "</style>\n",
              "<table border=\"1\" class=\"dataframe\">\n",
              "  <thead>\n",
              "    <tr style=\"text-align: right;\">\n",
              "      <th></th>\n",
              "      <th>params</th>\n",
              "      <th>mean_test_score</th>\n",
              "    </tr>\n",
              "  </thead>\n",
              "  <tbody>\n",
              "    <tr>\n",
              "      <th>24</th>\n",
              "      <td>{'Random_forest__max_depth': 10, 'Random_fores...</td>\n",
              "      <td>0.859073</td>\n",
              "    </tr>\n",
              "    <tr>\n",
              "      <th>21</th>\n",
              "      <td>{'Random_forest__max_depth': 10, 'Random_fores...</td>\n",
              "      <td>0.859073</td>\n",
              "    </tr>\n",
              "    <tr>\n",
              "      <th>18</th>\n",
              "      <td>{'Random_forest__max_depth': 10, 'Random_fores...</td>\n",
              "      <td>0.859073</td>\n",
              "    </tr>\n",
              "    <tr>\n",
              "      <th>13</th>\n",
              "      <td>{'XGBoost__max_depth': 5, 'XGBoost__max_featur...</td>\n",
              "      <td>0.859980</td>\n",
              "    </tr>\n",
              "    <tr>\n",
              "      <th>17</th>\n",
              "      <td>{'XGBoost__max_depth': 5, 'XGBoost__max_featur...</td>\n",
              "      <td>0.859980</td>\n",
              "    </tr>\n",
              "    <tr>\n",
              "      <th>15</th>\n",
              "      <td>{'XGBoost__max_depth': 5, 'XGBoost__max_featur...</td>\n",
              "      <td>0.859980</td>\n",
              "    </tr>\n",
              "  </tbody>\n",
              "</table>\n",
              "</div>\n",
              "      <button class=\"colab-df-convert\" onclick=\"convertToInteractive('df-00d031f7-6fc2-4313-a6ee-f403dacc1460')\"\n",
              "              title=\"Convert this dataframe to an interactive table.\"\n",
              "              style=\"display:none;\">\n",
              "        \n",
              "  <svg xmlns=\"http://www.w3.org/2000/svg\" height=\"24px\"viewBox=\"0 0 24 24\"\n",
              "       width=\"24px\">\n",
              "    <path d=\"M0 0h24v24H0V0z\" fill=\"none\"/>\n",
              "    <path d=\"M18.56 5.44l.94 2.06.94-2.06 2.06-.94-2.06-.94-.94-2.06-.94 2.06-2.06.94zm-11 1L8.5 8.5l.94-2.06 2.06-.94-2.06-.94L8.5 2.5l-.94 2.06-2.06.94zm10 10l.94 2.06.94-2.06 2.06-.94-2.06-.94-.94-2.06-.94 2.06-2.06.94z\"/><path d=\"M17.41 7.96l-1.37-1.37c-.4-.4-.92-.59-1.43-.59-.52 0-1.04.2-1.43.59L10.3 9.45l-7.72 7.72c-.78.78-.78 2.05 0 2.83L4 21.41c.39.39.9.59 1.41.59.51 0 1.02-.2 1.41-.59l7.78-7.78 2.81-2.81c.8-.78.8-2.07 0-2.86zM5.41 20L4 18.59l7.72-7.72 1.47 1.35L5.41 20z\"/>\n",
              "  </svg>\n",
              "      </button>\n",
              "      \n",
              "  <style>\n",
              "    .colab-df-container {\n",
              "      display:flex;\n",
              "      flex-wrap:wrap;\n",
              "      gap: 12px;\n",
              "    }\n",
              "\n",
              "    .colab-df-convert {\n",
              "      background-color: #E8F0FE;\n",
              "      border: none;\n",
              "      border-radius: 50%;\n",
              "      cursor: pointer;\n",
              "      display: none;\n",
              "      fill: #1967D2;\n",
              "      height: 32px;\n",
              "      padding: 0 0 0 0;\n",
              "      width: 32px;\n",
              "    }\n",
              "\n",
              "    .colab-df-convert:hover {\n",
              "      background-color: #E2EBFA;\n",
              "      box-shadow: 0px 1px 2px rgba(60, 64, 67, 0.3), 0px 1px 3px 1px rgba(60, 64, 67, 0.15);\n",
              "      fill: #174EA6;\n",
              "    }\n",
              "\n",
              "    [theme=dark] .colab-df-convert {\n",
              "      background-color: #3B4455;\n",
              "      fill: #D2E3FC;\n",
              "    }\n",
              "\n",
              "    [theme=dark] .colab-df-convert:hover {\n",
              "      background-color: #434B5C;\n",
              "      box-shadow: 0px 1px 3px 1px rgba(0, 0, 0, 0.15);\n",
              "      filter: drop-shadow(0px 1px 2px rgba(0, 0, 0, 0.3));\n",
              "      fill: #FFFFFF;\n",
              "    }\n",
              "  </style>\n",
              "\n",
              "      <script>\n",
              "        const buttonEl =\n",
              "          document.querySelector('#df-00d031f7-6fc2-4313-a6ee-f403dacc1460 button.colab-df-convert');\n",
              "        buttonEl.style.display =\n",
              "          google.colab.kernel.accessAllowed ? 'block' : 'none';\n",
              "\n",
              "        async function convertToInteractive(key) {\n",
              "          const element = document.querySelector('#df-00d031f7-6fc2-4313-a6ee-f403dacc1460');\n",
              "          const dataTable =\n",
              "            await google.colab.kernel.invokeFunction('convertToInteractive',\n",
              "                                                     [key], {});\n",
              "          if (!dataTable) return;\n",
              "\n",
              "          const docLinkHtml = 'Like what you see? Visit the ' +\n",
              "            '<a target=\"_blank\" href=https://colab.research.google.com/notebooks/data_table.ipynb>data table notebook</a>'\n",
              "            + ' to learn more about interactive tables.';\n",
              "          element.innerHTML = '';\n",
              "          dataTable['output_type'] = 'display_data';\n",
              "          await google.colab.output.renderOutput(dataTable, element);\n",
              "          const docLink = document.createElement('div');\n",
              "          docLink.innerHTML = docLinkHtml;\n",
              "          element.appendChild(docLink);\n",
              "        }\n",
              "      </script>\n",
              "    </div>\n",
              "  </div>\n",
              "  "
            ]
          },
          "metadata": {},
          "execution_count": 79
        }
      ]
    },
    {
      "cell_type": "markdown",
      "source": [
        "###**6.3 Random Search**"
      ],
      "metadata": {
        "id": "QgkETdfJar-l"
      }
    },
    {
      "cell_type": "code",
      "source": [
        "from sklearn.model_selection import RandomizedSearchCV\n",
        "from scipy.stats import randint\n",
        "from scipy.stats import loguniform\n",
        "\n",
        "# Setting the parameter grid for random search\n",
        "\n",
        "forest_param_distribs = {'Random_forest__max_depth': randint(low=3, high=50),\n",
        "                  'Random_forest__min_samples_leaf': randint(low=2, high=20)}\n",
        "\n",
        "# Setting up the random search strategy\n",
        "forest_rnd_search = RandomizedSearchCV(\n",
        "    forest_pipeline, param_distributions = forest_param_distribs, n_iter = 10, cv = 3,\n",
        "    scoring='balanced_accuracy', random_state = 11)\n",
        "\n",
        "# Fitting the model with X, y \n",
        "forest_rnd_search.fit(df_X, df_y)\n",
        "print('The best parameters are ', forest_rnd_search.best_params_)\n",
        "\n",
        "# Finding out the mean test score\n",
        "forest_rnd_cv_res = pd.DataFrame(forest_rnd_search.cv_results_)\n",
        "forest_rnd_cv_res.sort_values(by = \"mean_test_score\", ascending = False, inplace = True)\n",
        "forest_rnd_cv_res.head()"
      ],
      "metadata": {
        "colab": {
          "base_uri": "https://localhost:8080/",
          "height": 375
        },
        "id": "xTe4E0s3WQUK",
        "outputId": "427273aa-8b37-40d6-fa94-784582d05d24"
      },
      "execution_count": null,
      "outputs": [
        {
          "output_type": "stream",
          "name": "stdout",
          "text": [
            "The best parameters are  {'Random_forest__max_depth': 47, 'Random_forest__min_samples_leaf': 6}\n"
          ]
        },
        {
          "output_type": "execute_result",
          "data": {
            "text/plain": [
              "   mean_fit_time  std_fit_time  mean_score_time  std_score_time  \\\n",
              "7       0.476734      0.008408         0.058260        0.002524   \n",
              "3       0.473580      0.008330         0.058679        0.001117   \n",
              "0       0.492809      0.019789         0.056593        0.002190   \n",
              "1       0.482642      0.013616         0.055628        0.002602   \n",
              "5       0.468060      0.004841         0.053286        0.000161   \n",
              "\n",
              "  param_Random_forest__max_depth param_Random_forest__min_samples_leaf  \\\n",
              "7                             47                                     6   \n",
              "3                             36                                     9   \n",
              "0                             28                                    18   \n",
              "1                             30                                    19   \n",
              "5                             31                                    18   \n",
              "\n",
              "                                              params  split0_test_score  \\\n",
              "7  {'Random_forest__max_depth': 47, 'Random_fores...           0.863107   \n",
              "3  {'Random_forest__max_depth': 36, 'Random_fores...           0.862837   \n",
              "0  {'Random_forest__max_depth': 28, 'Random_fores...           0.859487   \n",
              "1  {'Random_forest__max_depth': 30, 'Random_fores...           0.859487   \n",
              "5  {'Random_forest__max_depth': 31, 'Random_fores...           0.859487   \n",
              "\n",
              "   split1_test_score  split2_test_score  mean_test_score  std_test_score  \\\n",
              "7           0.867430           0.852166         0.860901        0.006424   \n",
              "3           0.865674           0.851247         0.859919        0.006241   \n",
              "0           0.868078           0.847897         0.858487        0.008269   \n",
              "1           0.868078           0.847897         0.858487        0.008269   \n",
              "5           0.868078           0.847897         0.858487        0.008269   \n",
              "\n",
              "   rank_test_score  \n",
              "7                1  \n",
              "3                2  \n",
              "0                3  \n",
              "1                3  \n",
              "5                3  "
            ],
            "text/html": [
              "\n",
              "  <div id=\"df-614ecf63-5708-4ee3-89fb-1d57034dbda3\">\n",
              "    <div class=\"colab-df-container\">\n",
              "      <div>\n",
              "<style scoped>\n",
              "    .dataframe tbody tr th:only-of-type {\n",
              "        vertical-align: middle;\n",
              "    }\n",
              "\n",
              "    .dataframe tbody tr th {\n",
              "        vertical-align: top;\n",
              "    }\n",
              "\n",
              "    .dataframe thead th {\n",
              "        text-align: right;\n",
              "    }\n",
              "</style>\n",
              "<table border=\"1\" class=\"dataframe\">\n",
              "  <thead>\n",
              "    <tr style=\"text-align: right;\">\n",
              "      <th></th>\n",
              "      <th>mean_fit_time</th>\n",
              "      <th>std_fit_time</th>\n",
              "      <th>mean_score_time</th>\n",
              "      <th>std_score_time</th>\n",
              "      <th>param_Random_forest__max_depth</th>\n",
              "      <th>param_Random_forest__min_samples_leaf</th>\n",
              "      <th>params</th>\n",
              "      <th>split0_test_score</th>\n",
              "      <th>split1_test_score</th>\n",
              "      <th>split2_test_score</th>\n",
              "      <th>mean_test_score</th>\n",
              "      <th>std_test_score</th>\n",
              "      <th>rank_test_score</th>\n",
              "    </tr>\n",
              "  </thead>\n",
              "  <tbody>\n",
              "    <tr>\n",
              "      <th>7</th>\n",
              "      <td>0.476734</td>\n",
              "      <td>0.008408</td>\n",
              "      <td>0.058260</td>\n",
              "      <td>0.002524</td>\n",
              "      <td>47</td>\n",
              "      <td>6</td>\n",
              "      <td>{'Random_forest__max_depth': 47, 'Random_fores...</td>\n",
              "      <td>0.863107</td>\n",
              "      <td>0.867430</td>\n",
              "      <td>0.852166</td>\n",
              "      <td>0.860901</td>\n",
              "      <td>0.006424</td>\n",
              "      <td>1</td>\n",
              "    </tr>\n",
              "    <tr>\n",
              "      <th>3</th>\n",
              "      <td>0.473580</td>\n",
              "      <td>0.008330</td>\n",
              "      <td>0.058679</td>\n",
              "      <td>0.001117</td>\n",
              "      <td>36</td>\n",
              "      <td>9</td>\n",
              "      <td>{'Random_forest__max_depth': 36, 'Random_fores...</td>\n",
              "      <td>0.862837</td>\n",
              "      <td>0.865674</td>\n",
              "      <td>0.851247</td>\n",
              "      <td>0.859919</td>\n",
              "      <td>0.006241</td>\n",
              "      <td>2</td>\n",
              "    </tr>\n",
              "    <tr>\n",
              "      <th>0</th>\n",
              "      <td>0.492809</td>\n",
              "      <td>0.019789</td>\n",
              "      <td>0.056593</td>\n",
              "      <td>0.002190</td>\n",
              "      <td>28</td>\n",
              "      <td>18</td>\n",
              "      <td>{'Random_forest__max_depth': 28, 'Random_fores...</td>\n",
              "      <td>0.859487</td>\n",
              "      <td>0.868078</td>\n",
              "      <td>0.847897</td>\n",
              "      <td>0.858487</td>\n",
              "      <td>0.008269</td>\n",
              "      <td>3</td>\n",
              "    </tr>\n",
              "    <tr>\n",
              "      <th>1</th>\n",
              "      <td>0.482642</td>\n",
              "      <td>0.013616</td>\n",
              "      <td>0.055628</td>\n",
              "      <td>0.002602</td>\n",
              "      <td>30</td>\n",
              "      <td>19</td>\n",
              "      <td>{'Random_forest__max_depth': 30, 'Random_fores...</td>\n",
              "      <td>0.859487</td>\n",
              "      <td>0.868078</td>\n",
              "      <td>0.847897</td>\n",
              "      <td>0.858487</td>\n",
              "      <td>0.008269</td>\n",
              "      <td>3</td>\n",
              "    </tr>\n",
              "    <tr>\n",
              "      <th>5</th>\n",
              "      <td>0.468060</td>\n",
              "      <td>0.004841</td>\n",
              "      <td>0.053286</td>\n",
              "      <td>0.000161</td>\n",
              "      <td>31</td>\n",
              "      <td>18</td>\n",
              "      <td>{'Random_forest__max_depth': 31, 'Random_fores...</td>\n",
              "      <td>0.859487</td>\n",
              "      <td>0.868078</td>\n",
              "      <td>0.847897</td>\n",
              "      <td>0.858487</td>\n",
              "      <td>0.008269</td>\n",
              "      <td>3</td>\n",
              "    </tr>\n",
              "  </tbody>\n",
              "</table>\n",
              "</div>\n",
              "      <button class=\"colab-df-convert\" onclick=\"convertToInteractive('df-614ecf63-5708-4ee3-89fb-1d57034dbda3')\"\n",
              "              title=\"Convert this dataframe to an interactive table.\"\n",
              "              style=\"display:none;\">\n",
              "        \n",
              "  <svg xmlns=\"http://www.w3.org/2000/svg\" height=\"24px\"viewBox=\"0 0 24 24\"\n",
              "       width=\"24px\">\n",
              "    <path d=\"M0 0h24v24H0V0z\" fill=\"none\"/>\n",
              "    <path d=\"M18.56 5.44l.94 2.06.94-2.06 2.06-.94-2.06-.94-.94-2.06-.94 2.06-2.06.94zm-11 1L8.5 8.5l.94-2.06 2.06-.94-2.06-.94L8.5 2.5l-.94 2.06-2.06.94zm10 10l.94 2.06.94-2.06 2.06-.94-2.06-.94-.94-2.06-.94 2.06-2.06.94z\"/><path d=\"M17.41 7.96l-1.37-1.37c-.4-.4-.92-.59-1.43-.59-.52 0-1.04.2-1.43.59L10.3 9.45l-7.72 7.72c-.78.78-.78 2.05 0 2.83L4 21.41c.39.39.9.59 1.41.59.51 0 1.02-.2 1.41-.59l7.78-7.78 2.81-2.81c.8-.78.8-2.07 0-2.86zM5.41 20L4 18.59l7.72-7.72 1.47 1.35L5.41 20z\"/>\n",
              "  </svg>\n",
              "      </button>\n",
              "      \n",
              "  <style>\n",
              "    .colab-df-container {\n",
              "      display:flex;\n",
              "      flex-wrap:wrap;\n",
              "      gap: 12px;\n",
              "    }\n",
              "\n",
              "    .colab-df-convert {\n",
              "      background-color: #E8F0FE;\n",
              "      border: none;\n",
              "      border-radius: 50%;\n",
              "      cursor: pointer;\n",
              "      display: none;\n",
              "      fill: #1967D2;\n",
              "      height: 32px;\n",
              "      padding: 0 0 0 0;\n",
              "      width: 32px;\n",
              "    }\n",
              "\n",
              "    .colab-df-convert:hover {\n",
              "      background-color: #E2EBFA;\n",
              "      box-shadow: 0px 1px 2px rgba(60, 64, 67, 0.3), 0px 1px 3px 1px rgba(60, 64, 67, 0.15);\n",
              "      fill: #174EA6;\n",
              "    }\n",
              "\n",
              "    [theme=dark] .colab-df-convert {\n",
              "      background-color: #3B4455;\n",
              "      fill: #D2E3FC;\n",
              "    }\n",
              "\n",
              "    [theme=dark] .colab-df-convert:hover {\n",
              "      background-color: #434B5C;\n",
              "      box-shadow: 0px 1px 3px 1px rgba(0, 0, 0, 0.15);\n",
              "      filter: drop-shadow(0px 1px 2px rgba(0, 0, 0, 0.3));\n",
              "      fill: #FFFFFF;\n",
              "    }\n",
              "  </style>\n",
              "\n",
              "      <script>\n",
              "        const buttonEl =\n",
              "          document.querySelector('#df-614ecf63-5708-4ee3-89fb-1d57034dbda3 button.colab-df-convert');\n",
              "        buttonEl.style.display =\n",
              "          google.colab.kernel.accessAllowed ? 'block' : 'none';\n",
              "\n",
              "        async function convertToInteractive(key) {\n",
              "          const element = document.querySelector('#df-614ecf63-5708-4ee3-89fb-1d57034dbda3');\n",
              "          const dataTable =\n",
              "            await google.colab.kernel.invokeFunction('convertToInteractive',\n",
              "                                                     [key], {});\n",
              "          if (!dataTable) return;\n",
              "\n",
              "          const docLinkHtml = 'Like what you see? Visit the ' +\n",
              "            '<a target=\"_blank\" href=https://colab.research.google.com/notebooks/data_table.ipynb>data table notebook</a>'\n",
              "            + ' to learn more about interactive tables.';\n",
              "          element.innerHTML = '';\n",
              "          dataTable['output_type'] = 'display_data';\n",
              "          await google.colab.output.renderOutput(dataTable, element);\n",
              "          const docLink = document.createElement('div');\n",
              "          docLink.innerHTML = docLinkHtml;\n",
              "          element.appendChild(docLink);\n",
              "        }\n",
              "      </script>\n",
              "    </div>\n",
              "  </div>\n",
              "  "
            ]
          },
          "metadata": {},
          "execution_count": 80
        }
      ]
    },
    {
      "cell_type": "code",
      "source": [
        "# Setting the parameter grid for random search\n",
        "\n",
        "xgboost_param_distribs = {'XGBoost__max_depth': randint(low=3, high=50),\n",
        "                  'XGBoost__max_leaf_nodes': randint(low=2, high=20)}\n",
        "\n",
        "# Setting up the random search strategy\n",
        "xgboost_rnd_search = RandomizedSearchCV(\n",
        "    xgboost_pipeline, param_distributions = xgboost_param_distribs, n_iter = 10, cv = 3,\n",
        "    scoring='balanced_accuracy', random_state = 11)\n",
        "\n",
        "# Fitting the model with X, y \n",
        "xgboost_rnd_search.fit(df_X, df_y)\n",
        "\n",
        "# Finding best score\n",
        "xgboost_rnd_search_rmse = -xgboost_rnd_search.best_score_\n",
        "\n",
        "# Finding best parameter\n",
        "print('The best parameters are ', xgboost_rnd_search.best_params_)\n",
        "\n",
        "# Finding out the mean test score\n",
        "xgboost_rnd_cv_res = pd.DataFrame(xgboost_rnd_search.cv_results_)\n",
        "xgboost_rnd_cv_res.sort_values(by = \"mean_test_score\", ascending = False, inplace = True)\n",
        "xgboost_rnd_cv_res.head()"
      ],
      "metadata": {
        "colab": {
          "base_uri": "https://localhost:8080/",
          "height": 462
        },
        "id": "5OHMscfqai0q",
        "outputId": "bc88b94c-531b-49d0-ef2f-66c70fcdf5b6"
      },
      "execution_count": null,
      "outputs": [
        {
          "output_type": "stream",
          "name": "stdout",
          "text": [
            "The best parameters are  {'XGBoost__max_depth': 21, 'XGBoost__max_leaf_nodes': 15}\n"
          ]
        },
        {
          "output_type": "execute_result",
          "data": {
            "text/plain": [
              "   mean_fit_time  std_fit_time  mean_score_time  std_score_time  \\\n",
              "4       0.600264      0.025083         0.036194        0.000804   \n",
              "0       0.639908      0.020559         0.039638        0.000616   \n",
              "1       0.652865      0.002228         0.044074        0.000895   \n",
              "3       0.683989      0.003199         0.043617        0.000884   \n",
              "5       0.657849      0.025307         0.043779        0.002908   \n",
              "\n",
              "  param_XGBoost__max_depth param_XGBoost__max_leaf_nodes  \\\n",
              "4                       21                            15   \n",
              "0                       28                            18   \n",
              "1                       30                            19   \n",
              "3                       36                             9   \n",
              "5                       31                            18   \n",
              "\n",
              "                                              params  split0_test_score  \\\n",
              "4  {'XGBoost__max_depth': 21, 'XGBoost__max_leaf_...           0.865431   \n",
              "0  {'XGBoost__max_depth': 28, 'XGBoost__max_leaf_...           0.865431   \n",
              "1  {'XGBoost__max_depth': 30, 'XGBoost__max_leaf_...           0.865431   \n",
              "3  {'XGBoost__max_depth': 36, 'XGBoost__max_leaf_...           0.865431   \n",
              "5  {'XGBoost__max_depth': 31, 'XGBoost__max_leaf_...           0.865431   \n",
              "\n",
              "   split1_test_score  split2_test_score  mean_test_score  std_test_score  \\\n",
              "4           0.869753           0.847627         0.860937        0.009576   \n",
              "0           0.869564           0.847627         0.860874        0.009518   \n",
              "1           0.869564           0.847627         0.860874        0.009518   \n",
              "3           0.869564           0.847627         0.860874        0.009518   \n",
              "5           0.869564           0.847627         0.860874        0.009518   \n",
              "\n",
              "   rank_test_score  \n",
              "4                1  \n",
              "0                2  \n",
              "1                2  \n",
              "3                2  \n",
              "5                2  "
            ],
            "text/html": [
              "\n",
              "  <div id=\"df-72ef08fb-982a-43bc-ba9f-a2055b70f8eb\">\n",
              "    <div class=\"colab-df-container\">\n",
              "      <div>\n",
              "<style scoped>\n",
              "    .dataframe tbody tr th:only-of-type {\n",
              "        vertical-align: middle;\n",
              "    }\n",
              "\n",
              "    .dataframe tbody tr th {\n",
              "        vertical-align: top;\n",
              "    }\n",
              "\n",
              "    .dataframe thead th {\n",
              "        text-align: right;\n",
              "    }\n",
              "</style>\n",
              "<table border=\"1\" class=\"dataframe\">\n",
              "  <thead>\n",
              "    <tr style=\"text-align: right;\">\n",
              "      <th></th>\n",
              "      <th>mean_fit_time</th>\n",
              "      <th>std_fit_time</th>\n",
              "      <th>mean_score_time</th>\n",
              "      <th>std_score_time</th>\n",
              "      <th>param_XGBoost__max_depth</th>\n",
              "      <th>param_XGBoost__max_leaf_nodes</th>\n",
              "      <th>params</th>\n",
              "      <th>split0_test_score</th>\n",
              "      <th>split1_test_score</th>\n",
              "      <th>split2_test_score</th>\n",
              "      <th>mean_test_score</th>\n",
              "      <th>std_test_score</th>\n",
              "      <th>rank_test_score</th>\n",
              "    </tr>\n",
              "  </thead>\n",
              "  <tbody>\n",
              "    <tr>\n",
              "      <th>4</th>\n",
              "      <td>0.600264</td>\n",
              "      <td>0.025083</td>\n",
              "      <td>0.036194</td>\n",
              "      <td>0.000804</td>\n",
              "      <td>21</td>\n",
              "      <td>15</td>\n",
              "      <td>{'XGBoost__max_depth': 21, 'XGBoost__max_leaf_...</td>\n",
              "      <td>0.865431</td>\n",
              "      <td>0.869753</td>\n",
              "      <td>0.847627</td>\n",
              "      <td>0.860937</td>\n",
              "      <td>0.009576</td>\n",
              "      <td>1</td>\n",
              "    </tr>\n",
              "    <tr>\n",
              "      <th>0</th>\n",
              "      <td>0.639908</td>\n",
              "      <td>0.020559</td>\n",
              "      <td>0.039638</td>\n",
              "      <td>0.000616</td>\n",
              "      <td>28</td>\n",
              "      <td>18</td>\n",
              "      <td>{'XGBoost__max_depth': 28, 'XGBoost__max_leaf_...</td>\n",
              "      <td>0.865431</td>\n",
              "      <td>0.869564</td>\n",
              "      <td>0.847627</td>\n",
              "      <td>0.860874</td>\n",
              "      <td>0.009518</td>\n",
              "      <td>2</td>\n",
              "    </tr>\n",
              "    <tr>\n",
              "      <th>1</th>\n",
              "      <td>0.652865</td>\n",
              "      <td>0.002228</td>\n",
              "      <td>0.044074</td>\n",
              "      <td>0.000895</td>\n",
              "      <td>30</td>\n",
              "      <td>19</td>\n",
              "      <td>{'XGBoost__max_depth': 30, 'XGBoost__max_leaf_...</td>\n",
              "      <td>0.865431</td>\n",
              "      <td>0.869564</td>\n",
              "      <td>0.847627</td>\n",
              "      <td>0.860874</td>\n",
              "      <td>0.009518</td>\n",
              "      <td>2</td>\n",
              "    </tr>\n",
              "    <tr>\n",
              "      <th>3</th>\n",
              "      <td>0.683989</td>\n",
              "      <td>0.003199</td>\n",
              "      <td>0.043617</td>\n",
              "      <td>0.000884</td>\n",
              "      <td>36</td>\n",
              "      <td>9</td>\n",
              "      <td>{'XGBoost__max_depth': 36, 'XGBoost__max_leaf_...</td>\n",
              "      <td>0.865431</td>\n",
              "      <td>0.869564</td>\n",
              "      <td>0.847627</td>\n",
              "      <td>0.860874</td>\n",
              "      <td>0.009518</td>\n",
              "      <td>2</td>\n",
              "    </tr>\n",
              "    <tr>\n",
              "      <th>5</th>\n",
              "      <td>0.657849</td>\n",
              "      <td>0.025307</td>\n",
              "      <td>0.043779</td>\n",
              "      <td>0.002908</td>\n",
              "      <td>31</td>\n",
              "      <td>18</td>\n",
              "      <td>{'XGBoost__max_depth': 31, 'XGBoost__max_leaf_...</td>\n",
              "      <td>0.865431</td>\n",
              "      <td>0.869564</td>\n",
              "      <td>0.847627</td>\n",
              "      <td>0.860874</td>\n",
              "      <td>0.009518</td>\n",
              "      <td>2</td>\n",
              "    </tr>\n",
              "  </tbody>\n",
              "</table>\n",
              "</div>\n",
              "      <button class=\"colab-df-convert\" onclick=\"convertToInteractive('df-72ef08fb-982a-43bc-ba9f-a2055b70f8eb')\"\n",
              "              title=\"Convert this dataframe to an interactive table.\"\n",
              "              style=\"display:none;\">\n",
              "        \n",
              "  <svg xmlns=\"http://www.w3.org/2000/svg\" height=\"24px\"viewBox=\"0 0 24 24\"\n",
              "       width=\"24px\">\n",
              "    <path d=\"M0 0h24v24H0V0z\" fill=\"none\"/>\n",
              "    <path d=\"M18.56 5.44l.94 2.06.94-2.06 2.06-.94-2.06-.94-.94-2.06-.94 2.06-2.06.94zm-11 1L8.5 8.5l.94-2.06 2.06-.94-2.06-.94L8.5 2.5l-.94 2.06-2.06.94zm10 10l.94 2.06.94-2.06 2.06-.94-2.06-.94-.94-2.06-.94 2.06-2.06.94z\"/><path d=\"M17.41 7.96l-1.37-1.37c-.4-.4-.92-.59-1.43-.59-.52 0-1.04.2-1.43.59L10.3 9.45l-7.72 7.72c-.78.78-.78 2.05 0 2.83L4 21.41c.39.39.9.59 1.41.59.51 0 1.02-.2 1.41-.59l7.78-7.78 2.81-2.81c.8-.78.8-2.07 0-2.86zM5.41 20L4 18.59l7.72-7.72 1.47 1.35L5.41 20z\"/>\n",
              "  </svg>\n",
              "      </button>\n",
              "      \n",
              "  <style>\n",
              "    .colab-df-container {\n",
              "      display:flex;\n",
              "      flex-wrap:wrap;\n",
              "      gap: 12px;\n",
              "    }\n",
              "\n",
              "    .colab-df-convert {\n",
              "      background-color: #E8F0FE;\n",
              "      border: none;\n",
              "      border-radius: 50%;\n",
              "      cursor: pointer;\n",
              "      display: none;\n",
              "      fill: #1967D2;\n",
              "      height: 32px;\n",
              "      padding: 0 0 0 0;\n",
              "      width: 32px;\n",
              "    }\n",
              "\n",
              "    .colab-df-convert:hover {\n",
              "      background-color: #E2EBFA;\n",
              "      box-shadow: 0px 1px 2px rgba(60, 64, 67, 0.3), 0px 1px 3px 1px rgba(60, 64, 67, 0.15);\n",
              "      fill: #174EA6;\n",
              "    }\n",
              "\n",
              "    [theme=dark] .colab-df-convert {\n",
              "      background-color: #3B4455;\n",
              "      fill: #D2E3FC;\n",
              "    }\n",
              "\n",
              "    [theme=dark] .colab-df-convert:hover {\n",
              "      background-color: #434B5C;\n",
              "      box-shadow: 0px 1px 3px 1px rgba(0, 0, 0, 0.15);\n",
              "      filter: drop-shadow(0px 1px 2px rgba(0, 0, 0, 0.3));\n",
              "      fill: #FFFFFF;\n",
              "    }\n",
              "  </style>\n",
              "\n",
              "      <script>\n",
              "        const buttonEl =\n",
              "          document.querySelector('#df-72ef08fb-982a-43bc-ba9f-a2055b70f8eb button.colab-df-convert');\n",
              "        buttonEl.style.display =\n",
              "          google.colab.kernel.accessAllowed ? 'block' : 'none';\n",
              "\n",
              "        async function convertToInteractive(key) {\n",
              "          const element = document.querySelector('#df-72ef08fb-982a-43bc-ba9f-a2055b70f8eb');\n",
              "          const dataTable =\n",
              "            await google.colab.kernel.invokeFunction('convertToInteractive',\n",
              "                                                     [key], {});\n",
              "          if (!dataTable) return;\n",
              "\n",
              "          const docLinkHtml = 'Like what you see? Visit the ' +\n",
              "            '<a target=\"_blank\" href=https://colab.research.google.com/notebooks/data_table.ipynb>data table notebook</a>'\n",
              "            + ' to learn more about interactive tables.';\n",
              "          element.innerHTML = '';\n",
              "          dataTable['output_type'] = 'display_data';\n",
              "          await google.colab.output.renderOutput(dataTable, element);\n",
              "          const docLink = document.createElement('div');\n",
              "          docLink.innerHTML = docLinkHtml;\n",
              "          element.appendChild(docLink);\n",
              "        }\n",
              "      </script>\n",
              "    </div>\n",
              "  </div>\n",
              "  "
            ]
          },
          "metadata": {},
          "execution_count": 81
        }
      ]
    },
    {
      "cell_type": "code",
      "source": [
        "rnd_forest = forest_rnd_cv_res[['params', 'mean_test_score']].head(3)\n",
        "rnd_xgboost = xgboost_rnd_cv_res[['params', 'mean_test_score']].head(3)\n",
        "frames = [rnd_forest, rnd_xgboost]\n",
        "random_search_result = pd.concat(frames)\n",
        "random_search_result"
      ],
      "metadata": {
        "colab": {
          "base_uri": "https://localhost:8080/",
          "height": 238
        },
        "id": "5PLzrKazdHMy",
        "outputId": "0149603c-419e-409b-a16e-2fdd1943e7cb"
      },
      "execution_count": null,
      "outputs": [
        {
          "output_type": "execute_result",
          "data": {
            "text/plain": [
              "                                              params  mean_test_score\n",
              "7  {'Random_forest__max_depth': 47, 'Random_fores...         0.860901\n",
              "3  {'Random_forest__max_depth': 36, 'Random_fores...         0.859919\n",
              "0  {'Random_forest__max_depth': 28, 'Random_fores...         0.858487\n",
              "4  {'XGBoost__max_depth': 21, 'XGBoost__max_leaf_...         0.860937\n",
              "0  {'XGBoost__max_depth': 28, 'XGBoost__max_leaf_...         0.860874\n",
              "1  {'XGBoost__max_depth': 30, 'XGBoost__max_leaf_...         0.860874"
            ],
            "text/html": [
              "\n",
              "  <div id=\"df-24f51ed2-154d-4fa0-8100-0935e9ec5690\">\n",
              "    <div class=\"colab-df-container\">\n",
              "      <div>\n",
              "<style scoped>\n",
              "    .dataframe tbody tr th:only-of-type {\n",
              "        vertical-align: middle;\n",
              "    }\n",
              "\n",
              "    .dataframe tbody tr th {\n",
              "        vertical-align: top;\n",
              "    }\n",
              "\n",
              "    .dataframe thead th {\n",
              "        text-align: right;\n",
              "    }\n",
              "</style>\n",
              "<table border=\"1\" class=\"dataframe\">\n",
              "  <thead>\n",
              "    <tr style=\"text-align: right;\">\n",
              "      <th></th>\n",
              "      <th>params</th>\n",
              "      <th>mean_test_score</th>\n",
              "    </tr>\n",
              "  </thead>\n",
              "  <tbody>\n",
              "    <tr>\n",
              "      <th>7</th>\n",
              "      <td>{'Random_forest__max_depth': 47, 'Random_fores...</td>\n",
              "      <td>0.860901</td>\n",
              "    </tr>\n",
              "    <tr>\n",
              "      <th>3</th>\n",
              "      <td>{'Random_forest__max_depth': 36, 'Random_fores...</td>\n",
              "      <td>0.859919</td>\n",
              "    </tr>\n",
              "    <tr>\n",
              "      <th>0</th>\n",
              "      <td>{'Random_forest__max_depth': 28, 'Random_fores...</td>\n",
              "      <td>0.858487</td>\n",
              "    </tr>\n",
              "    <tr>\n",
              "      <th>4</th>\n",
              "      <td>{'XGBoost__max_depth': 21, 'XGBoost__max_leaf_...</td>\n",
              "      <td>0.860937</td>\n",
              "    </tr>\n",
              "    <tr>\n",
              "      <th>0</th>\n",
              "      <td>{'XGBoost__max_depth': 28, 'XGBoost__max_leaf_...</td>\n",
              "      <td>0.860874</td>\n",
              "    </tr>\n",
              "    <tr>\n",
              "      <th>1</th>\n",
              "      <td>{'XGBoost__max_depth': 30, 'XGBoost__max_leaf_...</td>\n",
              "      <td>0.860874</td>\n",
              "    </tr>\n",
              "  </tbody>\n",
              "</table>\n",
              "</div>\n",
              "      <button class=\"colab-df-convert\" onclick=\"convertToInteractive('df-24f51ed2-154d-4fa0-8100-0935e9ec5690')\"\n",
              "              title=\"Convert this dataframe to an interactive table.\"\n",
              "              style=\"display:none;\">\n",
              "        \n",
              "  <svg xmlns=\"http://www.w3.org/2000/svg\" height=\"24px\"viewBox=\"0 0 24 24\"\n",
              "       width=\"24px\">\n",
              "    <path d=\"M0 0h24v24H0V0z\" fill=\"none\"/>\n",
              "    <path d=\"M18.56 5.44l.94 2.06.94-2.06 2.06-.94-2.06-.94-.94-2.06-.94 2.06-2.06.94zm-11 1L8.5 8.5l.94-2.06 2.06-.94-2.06-.94L8.5 2.5l-.94 2.06-2.06.94zm10 10l.94 2.06.94-2.06 2.06-.94-2.06-.94-.94-2.06-.94 2.06-2.06.94z\"/><path d=\"M17.41 7.96l-1.37-1.37c-.4-.4-.92-.59-1.43-.59-.52 0-1.04.2-1.43.59L10.3 9.45l-7.72 7.72c-.78.78-.78 2.05 0 2.83L4 21.41c.39.39.9.59 1.41.59.51 0 1.02-.2 1.41-.59l7.78-7.78 2.81-2.81c.8-.78.8-2.07 0-2.86zM5.41 20L4 18.59l7.72-7.72 1.47 1.35L5.41 20z\"/>\n",
              "  </svg>\n",
              "      </button>\n",
              "      \n",
              "  <style>\n",
              "    .colab-df-container {\n",
              "      display:flex;\n",
              "      flex-wrap:wrap;\n",
              "      gap: 12px;\n",
              "    }\n",
              "\n",
              "    .colab-df-convert {\n",
              "      background-color: #E8F0FE;\n",
              "      border: none;\n",
              "      border-radius: 50%;\n",
              "      cursor: pointer;\n",
              "      display: none;\n",
              "      fill: #1967D2;\n",
              "      height: 32px;\n",
              "      padding: 0 0 0 0;\n",
              "      width: 32px;\n",
              "    }\n",
              "\n",
              "    .colab-df-convert:hover {\n",
              "      background-color: #E2EBFA;\n",
              "      box-shadow: 0px 1px 2px rgba(60, 64, 67, 0.3), 0px 1px 3px 1px rgba(60, 64, 67, 0.15);\n",
              "      fill: #174EA6;\n",
              "    }\n",
              "\n",
              "    [theme=dark] .colab-df-convert {\n",
              "      background-color: #3B4455;\n",
              "      fill: #D2E3FC;\n",
              "    }\n",
              "\n",
              "    [theme=dark] .colab-df-convert:hover {\n",
              "      background-color: #434B5C;\n",
              "      box-shadow: 0px 1px 3px 1px rgba(0, 0, 0, 0.15);\n",
              "      filter: drop-shadow(0px 1px 2px rgba(0, 0, 0, 0.3));\n",
              "      fill: #FFFFFF;\n",
              "    }\n",
              "  </style>\n",
              "\n",
              "      <script>\n",
              "        const buttonEl =\n",
              "          document.querySelector('#df-24f51ed2-154d-4fa0-8100-0935e9ec5690 button.colab-df-convert');\n",
              "        buttonEl.style.display =\n",
              "          google.colab.kernel.accessAllowed ? 'block' : 'none';\n",
              "\n",
              "        async function convertToInteractive(key) {\n",
              "          const element = document.querySelector('#df-24f51ed2-154d-4fa0-8100-0935e9ec5690');\n",
              "          const dataTable =\n",
              "            await google.colab.kernel.invokeFunction('convertToInteractive',\n",
              "                                                     [key], {});\n",
              "          if (!dataTable) return;\n",
              "\n",
              "          const docLinkHtml = 'Like what you see? Visit the ' +\n",
              "            '<a target=\"_blank\" href=https://colab.research.google.com/notebooks/data_table.ipynb>data table notebook</a>'\n",
              "            + ' to learn more about interactive tables.';\n",
              "          element.innerHTML = '';\n",
              "          dataTable['output_type'] = 'display_data';\n",
              "          await google.colab.output.renderOutput(dataTable, element);\n",
              "          const docLink = document.createElement('div');\n",
              "          docLink.innerHTML = docLinkHtml;\n",
              "          element.appendChild(docLink);\n",
              "        }\n",
              "      </script>\n",
              "    </div>\n",
              "  </div>\n",
              "  "
            ]
          },
          "metadata": {},
          "execution_count": 82
        }
      ]
    },
    {
      "cell_type": "markdown",
      "source": [
        "###**6.4 Having Grid Search**"
      ],
      "metadata": {
        "id": "6raO-2Nbd33i"
      }
    },
    {
      "cell_type": "code",
      "source": [
        "from sklearn.experimental import enable_halving_search_cv\n",
        "from sklearn.model_selection import HalvingGridSearchCV\n",
        "\n",
        "# Setting the parameter grid for Havling Grid Search\n",
        "forest_param_grid = [\n",
        "    {'Random_forest__max_depth': [10, 15],\n",
        "     'Random_forest__min_samples_leaf': [6, 8, 10]},\n",
        "]\n",
        "\n",
        "\n",
        "# Setting up the halving strategy \n",
        "forest_halving_grid_search = HalvingGridSearchCV(forest_pipeline, forest_param_grid, cv = 3, \n",
        "                                    min_resources = 'exhaust', \n",
        "                                    scoring='balanced_accuracy')\n",
        "\n",
        "# Fitting the model with X, y \n",
        "forest_halving_grid_search.fit(df_X, df_y)\n",
        "print('The best parameters are ', forest_halving_grid_search.best_params_)\n",
        "\n",
        "# Finding out the mean test score\n",
        "forest_halving_grid_cv_res = pd.DataFrame(forest_halving_grid_search.cv_results_) \n",
        "forest_halving_grid_cv_res.sort_values(by=['iter', 'mean_test_score'], ascending=False, inplace=True)\n",
        "forest_halving_grid_cv_res.head()"
      ],
      "metadata": {
        "colab": {
          "base_uri": "https://localhost:8080/",
          "height": 375
        },
        "id": "ZdvqGKPwdvpH",
        "outputId": "1e6681cc-038d-4678-b6fd-6874b8058f5c"
      },
      "execution_count": null,
      "outputs": [
        {
          "output_type": "stream",
          "name": "stdout",
          "text": [
            "The best parameters are  {'Random_forest__max_depth': 10, 'Random_forest__min_samples_leaf': 8}\n"
          ]
        },
        {
          "output_type": "execute_result",
          "data": {
            "text/plain": [
              "   iter  n_resources  mean_fit_time  std_fit_time  mean_score_time  \\\n",
              "6     1         9723       0.590845      0.015543         0.067603   \n",
              "7     1         9723       0.598504      0.014408         0.074311   \n",
              "1     0         3241       0.343210      0.001459         0.030994   \n",
              "4     0         3241       0.334872      0.008695         0.030140   \n",
              "0     0         3241       0.345368      0.019414         0.030352   \n",
              "\n",
              "   std_score_time param_Random_forest__max_depth  \\\n",
              "6        0.003158                             10   \n",
              "7        0.007841                             15   \n",
              "1        0.000126                             10   \n",
              "4        0.001123                             15   \n",
              "0        0.001114                             10   \n",
              "\n",
              "  param_Random_forest__min_samples_leaf  \\\n",
              "6                                     8   \n",
              "7                                     8   \n",
              "1                                     8   \n",
              "4                                     8   \n",
              "0                                     6   \n",
              "\n",
              "                                              params  split0_test_score  \\\n",
              "6  {'Random_forest__max_depth': 10, 'Random_fores...           0.860324   \n",
              "7  {'Random_forest__max_depth': 15, 'Random_fores...           0.860324   \n",
              "1  {'Random_forest__max_depth': 10, 'Random_fores...           0.859896   \n",
              "4  {'Random_forest__max_depth': 15, 'Random_fores...           0.859896   \n",
              "0  {'Random_forest__max_depth': 10, 'Random_fores...           0.858577   \n",
              "\n",
              "   split1_test_score  split2_test_score  mean_test_score  std_test_score  \\\n",
              "6           0.870321           0.850139         0.860261        0.008239   \n",
              "7           0.870321           0.850139         0.860261        0.008239   \n",
              "1           0.877273           0.810130         0.849100        0.028454   \n",
              "4           0.877273           0.810130         0.849100        0.028454   \n",
              "0           0.877273           0.807592         0.847814        0.029447   \n",
              "\n",
              "   rank_test_score  split0_train_score  split1_train_score  \\\n",
              "6                1            0.864350            0.868335   \n",
              "7                1            0.864350            0.868335   \n",
              "1                3            0.861145            0.890638   \n",
              "4                3            0.861145            0.890638   \n",
              "0                5            0.866512            0.890638   \n",
              "\n",
              "   split2_train_score  mean_train_score  std_train_score  \n",
              "6            0.865322          0.866002         0.001696  \n",
              "7            0.865322          0.866002         0.001696  \n",
              "1            0.857495          0.869759         0.014839  \n",
              "4            0.857495          0.869759         0.014839  \n",
              "0            0.862511          0.873220         0.012424  "
            ],
            "text/html": [
              "\n",
              "  <div id=\"df-63740a02-8891-4dda-95fb-fdf7d90cbfc6\">\n",
              "    <div class=\"colab-df-container\">\n",
              "      <div>\n",
              "<style scoped>\n",
              "    .dataframe tbody tr th:only-of-type {\n",
              "        vertical-align: middle;\n",
              "    }\n",
              "\n",
              "    .dataframe tbody tr th {\n",
              "        vertical-align: top;\n",
              "    }\n",
              "\n",
              "    .dataframe thead th {\n",
              "        text-align: right;\n",
              "    }\n",
              "</style>\n",
              "<table border=\"1\" class=\"dataframe\">\n",
              "  <thead>\n",
              "    <tr style=\"text-align: right;\">\n",
              "      <th></th>\n",
              "      <th>iter</th>\n",
              "      <th>n_resources</th>\n",
              "      <th>mean_fit_time</th>\n",
              "      <th>std_fit_time</th>\n",
              "      <th>mean_score_time</th>\n",
              "      <th>std_score_time</th>\n",
              "      <th>param_Random_forest__max_depth</th>\n",
              "      <th>param_Random_forest__min_samples_leaf</th>\n",
              "      <th>params</th>\n",
              "      <th>split0_test_score</th>\n",
              "      <th>split1_test_score</th>\n",
              "      <th>split2_test_score</th>\n",
              "      <th>mean_test_score</th>\n",
              "      <th>std_test_score</th>\n",
              "      <th>rank_test_score</th>\n",
              "      <th>split0_train_score</th>\n",
              "      <th>split1_train_score</th>\n",
              "      <th>split2_train_score</th>\n",
              "      <th>mean_train_score</th>\n",
              "      <th>std_train_score</th>\n",
              "    </tr>\n",
              "  </thead>\n",
              "  <tbody>\n",
              "    <tr>\n",
              "      <th>6</th>\n",
              "      <td>1</td>\n",
              "      <td>9723</td>\n",
              "      <td>0.590845</td>\n",
              "      <td>0.015543</td>\n",
              "      <td>0.067603</td>\n",
              "      <td>0.003158</td>\n",
              "      <td>10</td>\n",
              "      <td>8</td>\n",
              "      <td>{'Random_forest__max_depth': 10, 'Random_fores...</td>\n",
              "      <td>0.860324</td>\n",
              "      <td>0.870321</td>\n",
              "      <td>0.850139</td>\n",
              "      <td>0.860261</td>\n",
              "      <td>0.008239</td>\n",
              "      <td>1</td>\n",
              "      <td>0.864350</td>\n",
              "      <td>0.868335</td>\n",
              "      <td>0.865322</td>\n",
              "      <td>0.866002</td>\n",
              "      <td>0.001696</td>\n",
              "    </tr>\n",
              "    <tr>\n",
              "      <th>7</th>\n",
              "      <td>1</td>\n",
              "      <td>9723</td>\n",
              "      <td>0.598504</td>\n",
              "      <td>0.014408</td>\n",
              "      <td>0.074311</td>\n",
              "      <td>0.007841</td>\n",
              "      <td>15</td>\n",
              "      <td>8</td>\n",
              "      <td>{'Random_forest__max_depth': 15, 'Random_fores...</td>\n",
              "      <td>0.860324</td>\n",
              "      <td>0.870321</td>\n",
              "      <td>0.850139</td>\n",
              "      <td>0.860261</td>\n",
              "      <td>0.008239</td>\n",
              "      <td>1</td>\n",
              "      <td>0.864350</td>\n",
              "      <td>0.868335</td>\n",
              "      <td>0.865322</td>\n",
              "      <td>0.866002</td>\n",
              "      <td>0.001696</td>\n",
              "    </tr>\n",
              "    <tr>\n",
              "      <th>1</th>\n",
              "      <td>0</td>\n",
              "      <td>3241</td>\n",
              "      <td>0.343210</td>\n",
              "      <td>0.001459</td>\n",
              "      <td>0.030994</td>\n",
              "      <td>0.000126</td>\n",
              "      <td>10</td>\n",
              "      <td>8</td>\n",
              "      <td>{'Random_forest__max_depth': 10, 'Random_fores...</td>\n",
              "      <td>0.859896</td>\n",
              "      <td>0.877273</td>\n",
              "      <td>0.810130</td>\n",
              "      <td>0.849100</td>\n",
              "      <td>0.028454</td>\n",
              "      <td>3</td>\n",
              "      <td>0.861145</td>\n",
              "      <td>0.890638</td>\n",
              "      <td>0.857495</td>\n",
              "      <td>0.869759</td>\n",
              "      <td>0.014839</td>\n",
              "    </tr>\n",
              "    <tr>\n",
              "      <th>4</th>\n",
              "      <td>0</td>\n",
              "      <td>3241</td>\n",
              "      <td>0.334872</td>\n",
              "      <td>0.008695</td>\n",
              "      <td>0.030140</td>\n",
              "      <td>0.001123</td>\n",
              "      <td>15</td>\n",
              "      <td>8</td>\n",
              "      <td>{'Random_forest__max_depth': 15, 'Random_fores...</td>\n",
              "      <td>0.859896</td>\n",
              "      <td>0.877273</td>\n",
              "      <td>0.810130</td>\n",
              "      <td>0.849100</td>\n",
              "      <td>0.028454</td>\n",
              "      <td>3</td>\n",
              "      <td>0.861145</td>\n",
              "      <td>0.890638</td>\n",
              "      <td>0.857495</td>\n",
              "      <td>0.869759</td>\n",
              "      <td>0.014839</td>\n",
              "    </tr>\n",
              "    <tr>\n",
              "      <th>0</th>\n",
              "      <td>0</td>\n",
              "      <td>3241</td>\n",
              "      <td>0.345368</td>\n",
              "      <td>0.019414</td>\n",
              "      <td>0.030352</td>\n",
              "      <td>0.001114</td>\n",
              "      <td>10</td>\n",
              "      <td>6</td>\n",
              "      <td>{'Random_forest__max_depth': 10, 'Random_fores...</td>\n",
              "      <td>0.858577</td>\n",
              "      <td>0.877273</td>\n",
              "      <td>0.807592</td>\n",
              "      <td>0.847814</td>\n",
              "      <td>0.029447</td>\n",
              "      <td>5</td>\n",
              "      <td>0.866512</td>\n",
              "      <td>0.890638</td>\n",
              "      <td>0.862511</td>\n",
              "      <td>0.873220</td>\n",
              "      <td>0.012424</td>\n",
              "    </tr>\n",
              "  </tbody>\n",
              "</table>\n",
              "</div>\n",
              "      <button class=\"colab-df-convert\" onclick=\"convertToInteractive('df-63740a02-8891-4dda-95fb-fdf7d90cbfc6')\"\n",
              "              title=\"Convert this dataframe to an interactive table.\"\n",
              "              style=\"display:none;\">\n",
              "        \n",
              "  <svg xmlns=\"http://www.w3.org/2000/svg\" height=\"24px\"viewBox=\"0 0 24 24\"\n",
              "       width=\"24px\">\n",
              "    <path d=\"M0 0h24v24H0V0z\" fill=\"none\"/>\n",
              "    <path d=\"M18.56 5.44l.94 2.06.94-2.06 2.06-.94-2.06-.94-.94-2.06-.94 2.06-2.06.94zm-11 1L8.5 8.5l.94-2.06 2.06-.94-2.06-.94L8.5 2.5l-.94 2.06-2.06.94zm10 10l.94 2.06.94-2.06 2.06-.94-2.06-.94-.94-2.06-.94 2.06-2.06.94z\"/><path d=\"M17.41 7.96l-1.37-1.37c-.4-.4-.92-.59-1.43-.59-.52 0-1.04.2-1.43.59L10.3 9.45l-7.72 7.72c-.78.78-.78 2.05 0 2.83L4 21.41c.39.39.9.59 1.41.59.51 0 1.02-.2 1.41-.59l7.78-7.78 2.81-2.81c.8-.78.8-2.07 0-2.86zM5.41 20L4 18.59l7.72-7.72 1.47 1.35L5.41 20z\"/>\n",
              "  </svg>\n",
              "      </button>\n",
              "      \n",
              "  <style>\n",
              "    .colab-df-container {\n",
              "      display:flex;\n",
              "      flex-wrap:wrap;\n",
              "      gap: 12px;\n",
              "    }\n",
              "\n",
              "    .colab-df-convert {\n",
              "      background-color: #E8F0FE;\n",
              "      border: none;\n",
              "      border-radius: 50%;\n",
              "      cursor: pointer;\n",
              "      display: none;\n",
              "      fill: #1967D2;\n",
              "      height: 32px;\n",
              "      padding: 0 0 0 0;\n",
              "      width: 32px;\n",
              "    }\n",
              "\n",
              "    .colab-df-convert:hover {\n",
              "      background-color: #E2EBFA;\n",
              "      box-shadow: 0px 1px 2px rgba(60, 64, 67, 0.3), 0px 1px 3px 1px rgba(60, 64, 67, 0.15);\n",
              "      fill: #174EA6;\n",
              "    }\n",
              "\n",
              "    [theme=dark] .colab-df-convert {\n",
              "      background-color: #3B4455;\n",
              "      fill: #D2E3FC;\n",
              "    }\n",
              "\n",
              "    [theme=dark] .colab-df-convert:hover {\n",
              "      background-color: #434B5C;\n",
              "      box-shadow: 0px 1px 3px 1px rgba(0, 0, 0, 0.15);\n",
              "      filter: drop-shadow(0px 1px 2px rgba(0, 0, 0, 0.3));\n",
              "      fill: #FFFFFF;\n",
              "    }\n",
              "  </style>\n",
              "\n",
              "      <script>\n",
              "        const buttonEl =\n",
              "          document.querySelector('#df-63740a02-8891-4dda-95fb-fdf7d90cbfc6 button.colab-df-convert');\n",
              "        buttonEl.style.display =\n",
              "          google.colab.kernel.accessAllowed ? 'block' : 'none';\n",
              "\n",
              "        async function convertToInteractive(key) {\n",
              "          const element = document.querySelector('#df-63740a02-8891-4dda-95fb-fdf7d90cbfc6');\n",
              "          const dataTable =\n",
              "            await google.colab.kernel.invokeFunction('convertToInteractive',\n",
              "                                                     [key], {});\n",
              "          if (!dataTable) return;\n",
              "\n",
              "          const docLinkHtml = 'Like what you see? Visit the ' +\n",
              "            '<a target=\"_blank\" href=https://colab.research.google.com/notebooks/data_table.ipynb>data table notebook</a>'\n",
              "            + ' to learn more about interactive tables.';\n",
              "          element.innerHTML = '';\n",
              "          dataTable['output_type'] = 'display_data';\n",
              "          await google.colab.output.renderOutput(dataTable, element);\n",
              "          const docLink = document.createElement('div');\n",
              "          docLink.innerHTML = docLinkHtml;\n",
              "          element.appendChild(docLink);\n",
              "        }\n",
              "      </script>\n",
              "    </div>\n",
              "  </div>\n",
              "  "
            ]
          },
          "metadata": {},
          "execution_count": 83
        }
      ]
    },
    {
      "cell_type": "code",
      "source": [
        "# Setting the parameter grid for Havling Grid Search\n",
        "xgboost_param_grid = [\n",
        "    {'XGBoost__max_depth': [10, 15],\n",
        "     'XGBoost__max_leaf_nodes': [6, 8, 10]}]\n",
        "\n",
        "# Setting up the halving strategy \n",
        "xgboost_halving_grid_search = HalvingGridSearchCV(xgboost_pipeline, xgboost_param_grid, cv=3, \n",
        "                                    min_resources='exhaust', \n",
        "                                    scoring='balanced_accuracy')\n",
        "\n",
        "# Fitting the model with X, y \n",
        "xgboost_halving_grid_search.fit(df_X, df_y)\n",
        "print('The best parameters are ', xgboost_halving_grid_search.best_params_)\n",
        "\n",
        "# Finding out the mean test score\n",
        "xgboost_halving_grid_cv_res = pd.DataFrame(xgboost_halving_grid_search.cv_results_) \n",
        "xgboost_halving_grid_cv_res.sort_values(by=['iter', 'mean_test_score'], ascending=False, inplace=True)\n",
        "xgboost_halving_grid_cv_res.head()"
      ],
      "metadata": {
        "colab": {
          "base_uri": "https://localhost:8080/",
          "height": 462
        },
        "id": "10C7Z1ybpGs8",
        "outputId": "22fbd341-c6a2-4c4d-e1b7-39aca50825d7"
      },
      "execution_count": null,
      "outputs": [
        {
          "output_type": "stream",
          "name": "stdout",
          "text": [
            "The best parameters are  {'XGBoost__max_depth': 10, 'XGBoost__max_leaf_nodes': 8}\n"
          ]
        },
        {
          "output_type": "execute_result",
          "data": {
            "text/plain": [
              "   iter  n_resources  mean_fit_time  std_fit_time  mean_score_time  \\\n",
              "6     1         9723       0.523487      0.019728         0.033668   \n",
              "7     1         9723       0.483074      0.002412         0.028568   \n",
              "0     0         3241       0.428793      0.016115         0.022566   \n",
              "1     0         3241       0.245079      0.008578         0.015212   \n",
              "2     0         3241       0.251195      0.008044         0.016420   \n",
              "\n",
              "   std_score_time param_XGBoost__max_depth param_XGBoost__max_leaf_nodes  \\\n",
              "6        0.003154                       10                             8   \n",
              "7        0.000421                       10                            10   \n",
              "0        0.001207                       10                             6   \n",
              "1        0.000954                       10                             8   \n",
              "2        0.002620                       10                            10   \n",
              "\n",
              "                                              params  split0_test_score  \\\n",
              "6  {'XGBoost__max_depth': 10, 'XGBoost__max_leaf_...           0.859784   \n",
              "7  {'XGBoost__max_depth': 10, 'XGBoost__max_leaf_...           0.859784   \n",
              "0  {'XGBoost__max_depth': 10, 'XGBoost__max_leaf_...           0.815623   \n",
              "1  {'XGBoost__max_depth': 10, 'XGBoost__max_leaf_...           0.815623   \n",
              "2  {'XGBoost__max_depth': 10, 'XGBoost__max_leaf_...           0.815623   \n",
              "\n",
              "   split1_test_score  split2_test_score  mean_test_score  std_test_score  \\\n",
              "6           0.868186           0.847627         0.858532        0.008440   \n",
              "7           0.868186           0.847627         0.858532        0.008440   \n",
              "0           0.827033           0.847455         0.830037        0.013168   \n",
              "1           0.827033           0.847455         0.830037        0.013168   \n",
              "2           0.827033           0.847455         0.830037        0.013168   \n",
              "\n",
              "   rank_test_score  split0_train_score  split1_train_score  \\\n",
              "6                1            0.862337            0.872955   \n",
              "7                1            0.862337            0.872955   \n",
              "0                3            0.871550            0.864933   \n",
              "1                3            0.871550            0.864933   \n",
              "2                3            0.871550            0.864933   \n",
              "\n",
              "   split2_train_score  mean_train_score  std_train_score  \n",
              "6            0.873846          0.869713         0.005228  \n",
              "7            0.873846          0.869713         0.005228  \n",
              "0            0.872978          0.869820         0.003505  \n",
              "1            0.872978          0.869820         0.003505  \n",
              "2            0.872978          0.869820         0.003505  "
            ],
            "text/html": [
              "\n",
              "  <div id=\"df-062bd270-78dd-4435-857a-ce09b272933f\">\n",
              "    <div class=\"colab-df-container\">\n",
              "      <div>\n",
              "<style scoped>\n",
              "    .dataframe tbody tr th:only-of-type {\n",
              "        vertical-align: middle;\n",
              "    }\n",
              "\n",
              "    .dataframe tbody tr th {\n",
              "        vertical-align: top;\n",
              "    }\n",
              "\n",
              "    .dataframe thead th {\n",
              "        text-align: right;\n",
              "    }\n",
              "</style>\n",
              "<table border=\"1\" class=\"dataframe\">\n",
              "  <thead>\n",
              "    <tr style=\"text-align: right;\">\n",
              "      <th></th>\n",
              "      <th>iter</th>\n",
              "      <th>n_resources</th>\n",
              "      <th>mean_fit_time</th>\n",
              "      <th>std_fit_time</th>\n",
              "      <th>mean_score_time</th>\n",
              "      <th>std_score_time</th>\n",
              "      <th>param_XGBoost__max_depth</th>\n",
              "      <th>param_XGBoost__max_leaf_nodes</th>\n",
              "      <th>params</th>\n",
              "      <th>split0_test_score</th>\n",
              "      <th>split1_test_score</th>\n",
              "      <th>split2_test_score</th>\n",
              "      <th>mean_test_score</th>\n",
              "      <th>std_test_score</th>\n",
              "      <th>rank_test_score</th>\n",
              "      <th>split0_train_score</th>\n",
              "      <th>split1_train_score</th>\n",
              "      <th>split2_train_score</th>\n",
              "      <th>mean_train_score</th>\n",
              "      <th>std_train_score</th>\n",
              "    </tr>\n",
              "  </thead>\n",
              "  <tbody>\n",
              "    <tr>\n",
              "      <th>6</th>\n",
              "      <td>1</td>\n",
              "      <td>9723</td>\n",
              "      <td>0.523487</td>\n",
              "      <td>0.019728</td>\n",
              "      <td>0.033668</td>\n",
              "      <td>0.003154</td>\n",
              "      <td>10</td>\n",
              "      <td>8</td>\n",
              "      <td>{'XGBoost__max_depth': 10, 'XGBoost__max_leaf_...</td>\n",
              "      <td>0.859784</td>\n",
              "      <td>0.868186</td>\n",
              "      <td>0.847627</td>\n",
              "      <td>0.858532</td>\n",
              "      <td>0.008440</td>\n",
              "      <td>1</td>\n",
              "      <td>0.862337</td>\n",
              "      <td>0.872955</td>\n",
              "      <td>0.873846</td>\n",
              "      <td>0.869713</td>\n",
              "      <td>0.005228</td>\n",
              "    </tr>\n",
              "    <tr>\n",
              "      <th>7</th>\n",
              "      <td>1</td>\n",
              "      <td>9723</td>\n",
              "      <td>0.483074</td>\n",
              "      <td>0.002412</td>\n",
              "      <td>0.028568</td>\n",
              "      <td>0.000421</td>\n",
              "      <td>10</td>\n",
              "      <td>10</td>\n",
              "      <td>{'XGBoost__max_depth': 10, 'XGBoost__max_leaf_...</td>\n",
              "      <td>0.859784</td>\n",
              "      <td>0.868186</td>\n",
              "      <td>0.847627</td>\n",
              "      <td>0.858532</td>\n",
              "      <td>0.008440</td>\n",
              "      <td>1</td>\n",
              "      <td>0.862337</td>\n",
              "      <td>0.872955</td>\n",
              "      <td>0.873846</td>\n",
              "      <td>0.869713</td>\n",
              "      <td>0.005228</td>\n",
              "    </tr>\n",
              "    <tr>\n",
              "      <th>0</th>\n",
              "      <td>0</td>\n",
              "      <td>3241</td>\n",
              "      <td>0.428793</td>\n",
              "      <td>0.016115</td>\n",
              "      <td>0.022566</td>\n",
              "      <td>0.001207</td>\n",
              "      <td>10</td>\n",
              "      <td>6</td>\n",
              "      <td>{'XGBoost__max_depth': 10, 'XGBoost__max_leaf_...</td>\n",
              "      <td>0.815623</td>\n",
              "      <td>0.827033</td>\n",
              "      <td>0.847455</td>\n",
              "      <td>0.830037</td>\n",
              "      <td>0.013168</td>\n",
              "      <td>3</td>\n",
              "      <td>0.871550</td>\n",
              "      <td>0.864933</td>\n",
              "      <td>0.872978</td>\n",
              "      <td>0.869820</td>\n",
              "      <td>0.003505</td>\n",
              "    </tr>\n",
              "    <tr>\n",
              "      <th>1</th>\n",
              "      <td>0</td>\n",
              "      <td>3241</td>\n",
              "      <td>0.245079</td>\n",
              "      <td>0.008578</td>\n",
              "      <td>0.015212</td>\n",
              "      <td>0.000954</td>\n",
              "      <td>10</td>\n",
              "      <td>8</td>\n",
              "      <td>{'XGBoost__max_depth': 10, 'XGBoost__max_leaf_...</td>\n",
              "      <td>0.815623</td>\n",
              "      <td>0.827033</td>\n",
              "      <td>0.847455</td>\n",
              "      <td>0.830037</td>\n",
              "      <td>0.013168</td>\n",
              "      <td>3</td>\n",
              "      <td>0.871550</td>\n",
              "      <td>0.864933</td>\n",
              "      <td>0.872978</td>\n",
              "      <td>0.869820</td>\n",
              "      <td>0.003505</td>\n",
              "    </tr>\n",
              "    <tr>\n",
              "      <th>2</th>\n",
              "      <td>0</td>\n",
              "      <td>3241</td>\n",
              "      <td>0.251195</td>\n",
              "      <td>0.008044</td>\n",
              "      <td>0.016420</td>\n",
              "      <td>0.002620</td>\n",
              "      <td>10</td>\n",
              "      <td>10</td>\n",
              "      <td>{'XGBoost__max_depth': 10, 'XGBoost__max_leaf_...</td>\n",
              "      <td>0.815623</td>\n",
              "      <td>0.827033</td>\n",
              "      <td>0.847455</td>\n",
              "      <td>0.830037</td>\n",
              "      <td>0.013168</td>\n",
              "      <td>3</td>\n",
              "      <td>0.871550</td>\n",
              "      <td>0.864933</td>\n",
              "      <td>0.872978</td>\n",
              "      <td>0.869820</td>\n",
              "      <td>0.003505</td>\n",
              "    </tr>\n",
              "  </tbody>\n",
              "</table>\n",
              "</div>\n",
              "      <button class=\"colab-df-convert\" onclick=\"convertToInteractive('df-062bd270-78dd-4435-857a-ce09b272933f')\"\n",
              "              title=\"Convert this dataframe to an interactive table.\"\n",
              "              style=\"display:none;\">\n",
              "        \n",
              "  <svg xmlns=\"http://www.w3.org/2000/svg\" height=\"24px\"viewBox=\"0 0 24 24\"\n",
              "       width=\"24px\">\n",
              "    <path d=\"M0 0h24v24H0V0z\" fill=\"none\"/>\n",
              "    <path d=\"M18.56 5.44l.94 2.06.94-2.06 2.06-.94-2.06-.94-.94-2.06-.94 2.06-2.06.94zm-11 1L8.5 8.5l.94-2.06 2.06-.94-2.06-.94L8.5 2.5l-.94 2.06-2.06.94zm10 10l.94 2.06.94-2.06 2.06-.94-2.06-.94-.94-2.06-.94 2.06-2.06.94z\"/><path d=\"M17.41 7.96l-1.37-1.37c-.4-.4-.92-.59-1.43-.59-.52 0-1.04.2-1.43.59L10.3 9.45l-7.72 7.72c-.78.78-.78 2.05 0 2.83L4 21.41c.39.39.9.59 1.41.59.51 0 1.02-.2 1.41-.59l7.78-7.78 2.81-2.81c.8-.78.8-2.07 0-2.86zM5.41 20L4 18.59l7.72-7.72 1.47 1.35L5.41 20z\"/>\n",
              "  </svg>\n",
              "      </button>\n",
              "      \n",
              "  <style>\n",
              "    .colab-df-container {\n",
              "      display:flex;\n",
              "      flex-wrap:wrap;\n",
              "      gap: 12px;\n",
              "    }\n",
              "\n",
              "    .colab-df-convert {\n",
              "      background-color: #E8F0FE;\n",
              "      border: none;\n",
              "      border-radius: 50%;\n",
              "      cursor: pointer;\n",
              "      display: none;\n",
              "      fill: #1967D2;\n",
              "      height: 32px;\n",
              "      padding: 0 0 0 0;\n",
              "      width: 32px;\n",
              "    }\n",
              "\n",
              "    .colab-df-convert:hover {\n",
              "      background-color: #E2EBFA;\n",
              "      box-shadow: 0px 1px 2px rgba(60, 64, 67, 0.3), 0px 1px 3px 1px rgba(60, 64, 67, 0.15);\n",
              "      fill: #174EA6;\n",
              "    }\n",
              "\n",
              "    [theme=dark] .colab-df-convert {\n",
              "      background-color: #3B4455;\n",
              "      fill: #D2E3FC;\n",
              "    }\n",
              "\n",
              "    [theme=dark] .colab-df-convert:hover {\n",
              "      background-color: #434B5C;\n",
              "      box-shadow: 0px 1px 3px 1px rgba(0, 0, 0, 0.15);\n",
              "      filter: drop-shadow(0px 1px 2px rgba(0, 0, 0, 0.3));\n",
              "      fill: #FFFFFF;\n",
              "    }\n",
              "  </style>\n",
              "\n",
              "      <script>\n",
              "        const buttonEl =\n",
              "          document.querySelector('#df-062bd270-78dd-4435-857a-ce09b272933f button.colab-df-convert');\n",
              "        buttonEl.style.display =\n",
              "          google.colab.kernel.accessAllowed ? 'block' : 'none';\n",
              "\n",
              "        async function convertToInteractive(key) {\n",
              "          const element = document.querySelector('#df-062bd270-78dd-4435-857a-ce09b272933f');\n",
              "          const dataTable =\n",
              "            await google.colab.kernel.invokeFunction('convertToInteractive',\n",
              "                                                     [key], {});\n",
              "          if (!dataTable) return;\n",
              "\n",
              "          const docLinkHtml = 'Like what you see? Visit the ' +\n",
              "            '<a target=\"_blank\" href=https://colab.research.google.com/notebooks/data_table.ipynb>data table notebook</a>'\n",
              "            + ' to learn more about interactive tables.';\n",
              "          element.innerHTML = '';\n",
              "          dataTable['output_type'] = 'display_data';\n",
              "          await google.colab.output.renderOutput(dataTable, element);\n",
              "          const docLink = document.createElement('div');\n",
              "          docLink.innerHTML = docLinkHtml;\n",
              "          element.appendChild(docLink);\n",
              "        }\n",
              "      </script>\n",
              "    </div>\n",
              "  </div>\n",
              "  "
            ]
          },
          "metadata": {},
          "execution_count": 84
        }
      ]
    },
    {
      "cell_type": "code",
      "source": [
        "halving_forest = forest_halving_grid_cv_res[['params', 'mean_test_score']].head(3)\n",
        "halving_xgboost = xgboost_halving_grid_cv_res[['params', 'mean_test_score']].head(3)\n",
        "frames = [halving_forest, halving_xgboost]\n",
        "halving_grid_search_result = pd.concat(frames)\n",
        "halving_grid_search_result"
      ],
      "metadata": {
        "colab": {
          "base_uri": "https://localhost:8080/",
          "height": 238
        },
        "id": "BbomOtHXptDu",
        "outputId": "613eb143-95b9-4289-adca-1070ad05c54a"
      },
      "execution_count": null,
      "outputs": [
        {
          "output_type": "execute_result",
          "data": {
            "text/plain": [
              "                                              params  mean_test_score\n",
              "6  {'Random_forest__max_depth': 10, 'Random_fores...         0.860261\n",
              "7  {'Random_forest__max_depth': 15, 'Random_fores...         0.860261\n",
              "1  {'Random_forest__max_depth': 10, 'Random_fores...         0.849100\n",
              "6  {'XGBoost__max_depth': 10, 'XGBoost__max_leaf_...         0.858532\n",
              "7  {'XGBoost__max_depth': 10, 'XGBoost__max_leaf_...         0.858532\n",
              "0  {'XGBoost__max_depth': 10, 'XGBoost__max_leaf_...         0.830037"
            ],
            "text/html": [
              "\n",
              "  <div id=\"df-7229cc5f-dce6-41c7-9fe9-bf0d3c6bf3b2\">\n",
              "    <div class=\"colab-df-container\">\n",
              "      <div>\n",
              "<style scoped>\n",
              "    .dataframe tbody tr th:only-of-type {\n",
              "        vertical-align: middle;\n",
              "    }\n",
              "\n",
              "    .dataframe tbody tr th {\n",
              "        vertical-align: top;\n",
              "    }\n",
              "\n",
              "    .dataframe thead th {\n",
              "        text-align: right;\n",
              "    }\n",
              "</style>\n",
              "<table border=\"1\" class=\"dataframe\">\n",
              "  <thead>\n",
              "    <tr style=\"text-align: right;\">\n",
              "      <th></th>\n",
              "      <th>params</th>\n",
              "      <th>mean_test_score</th>\n",
              "    </tr>\n",
              "  </thead>\n",
              "  <tbody>\n",
              "    <tr>\n",
              "      <th>6</th>\n",
              "      <td>{'Random_forest__max_depth': 10, 'Random_fores...</td>\n",
              "      <td>0.860261</td>\n",
              "    </tr>\n",
              "    <tr>\n",
              "      <th>7</th>\n",
              "      <td>{'Random_forest__max_depth': 15, 'Random_fores...</td>\n",
              "      <td>0.860261</td>\n",
              "    </tr>\n",
              "    <tr>\n",
              "      <th>1</th>\n",
              "      <td>{'Random_forest__max_depth': 10, 'Random_fores...</td>\n",
              "      <td>0.849100</td>\n",
              "    </tr>\n",
              "    <tr>\n",
              "      <th>6</th>\n",
              "      <td>{'XGBoost__max_depth': 10, 'XGBoost__max_leaf_...</td>\n",
              "      <td>0.858532</td>\n",
              "    </tr>\n",
              "    <tr>\n",
              "      <th>7</th>\n",
              "      <td>{'XGBoost__max_depth': 10, 'XGBoost__max_leaf_...</td>\n",
              "      <td>0.858532</td>\n",
              "    </tr>\n",
              "    <tr>\n",
              "      <th>0</th>\n",
              "      <td>{'XGBoost__max_depth': 10, 'XGBoost__max_leaf_...</td>\n",
              "      <td>0.830037</td>\n",
              "    </tr>\n",
              "  </tbody>\n",
              "</table>\n",
              "</div>\n",
              "      <button class=\"colab-df-convert\" onclick=\"convertToInteractive('df-7229cc5f-dce6-41c7-9fe9-bf0d3c6bf3b2')\"\n",
              "              title=\"Convert this dataframe to an interactive table.\"\n",
              "              style=\"display:none;\">\n",
              "        \n",
              "  <svg xmlns=\"http://www.w3.org/2000/svg\" height=\"24px\"viewBox=\"0 0 24 24\"\n",
              "       width=\"24px\">\n",
              "    <path d=\"M0 0h24v24H0V0z\" fill=\"none\"/>\n",
              "    <path d=\"M18.56 5.44l.94 2.06.94-2.06 2.06-.94-2.06-.94-.94-2.06-.94 2.06-2.06.94zm-11 1L8.5 8.5l.94-2.06 2.06-.94-2.06-.94L8.5 2.5l-.94 2.06-2.06.94zm10 10l.94 2.06.94-2.06 2.06-.94-2.06-.94-.94-2.06-.94 2.06-2.06.94z\"/><path d=\"M17.41 7.96l-1.37-1.37c-.4-.4-.92-.59-1.43-.59-.52 0-1.04.2-1.43.59L10.3 9.45l-7.72 7.72c-.78.78-.78 2.05 0 2.83L4 21.41c.39.39.9.59 1.41.59.51 0 1.02-.2 1.41-.59l7.78-7.78 2.81-2.81c.8-.78.8-2.07 0-2.86zM5.41 20L4 18.59l7.72-7.72 1.47 1.35L5.41 20z\"/>\n",
              "  </svg>\n",
              "      </button>\n",
              "      \n",
              "  <style>\n",
              "    .colab-df-container {\n",
              "      display:flex;\n",
              "      flex-wrap:wrap;\n",
              "      gap: 12px;\n",
              "    }\n",
              "\n",
              "    .colab-df-convert {\n",
              "      background-color: #E8F0FE;\n",
              "      border: none;\n",
              "      border-radius: 50%;\n",
              "      cursor: pointer;\n",
              "      display: none;\n",
              "      fill: #1967D2;\n",
              "      height: 32px;\n",
              "      padding: 0 0 0 0;\n",
              "      width: 32px;\n",
              "    }\n",
              "\n",
              "    .colab-df-convert:hover {\n",
              "      background-color: #E2EBFA;\n",
              "      box-shadow: 0px 1px 2px rgba(60, 64, 67, 0.3), 0px 1px 3px 1px rgba(60, 64, 67, 0.15);\n",
              "      fill: #174EA6;\n",
              "    }\n",
              "\n",
              "    [theme=dark] .colab-df-convert {\n",
              "      background-color: #3B4455;\n",
              "      fill: #D2E3FC;\n",
              "    }\n",
              "\n",
              "    [theme=dark] .colab-df-convert:hover {\n",
              "      background-color: #434B5C;\n",
              "      box-shadow: 0px 1px 3px 1px rgba(0, 0, 0, 0.15);\n",
              "      filter: drop-shadow(0px 1px 2px rgba(0, 0, 0, 0.3));\n",
              "      fill: #FFFFFF;\n",
              "    }\n",
              "  </style>\n",
              "\n",
              "      <script>\n",
              "        const buttonEl =\n",
              "          document.querySelector('#df-7229cc5f-dce6-41c7-9fe9-bf0d3c6bf3b2 button.colab-df-convert');\n",
              "        buttonEl.style.display =\n",
              "          google.colab.kernel.accessAllowed ? 'block' : 'none';\n",
              "\n",
              "        async function convertToInteractive(key) {\n",
              "          const element = document.querySelector('#df-7229cc5f-dce6-41c7-9fe9-bf0d3c6bf3b2');\n",
              "          const dataTable =\n",
              "            await google.colab.kernel.invokeFunction('convertToInteractive',\n",
              "                                                     [key], {});\n",
              "          if (!dataTable) return;\n",
              "\n",
              "          const docLinkHtml = 'Like what you see? Visit the ' +\n",
              "            '<a target=\"_blank\" href=https://colab.research.google.com/notebooks/data_table.ipynb>data table notebook</a>'\n",
              "            + ' to learn more about interactive tables.';\n",
              "          element.innerHTML = '';\n",
              "          dataTable['output_type'] = 'display_data';\n",
              "          await google.colab.output.renderOutput(dataTable, element);\n",
              "          const docLink = document.createElement('div');\n",
              "          docLink.innerHTML = docLinkHtml;\n",
              "          element.appendChild(docLink);\n",
              "        }\n",
              "      </script>\n",
              "    </div>\n",
              "  </div>\n",
              "  "
            ]
          },
          "metadata": {},
          "execution_count": 85
        }
      ]
    },
    {
      "cell_type": "code",
      "source": [
        "# 6.1 - 6.4 Finding\n",
        "print('Based on the mean_test_score, the more effective strategy for XGBoost is Random Search', end ='.') \n",
        "print(\"The best parameters are\", xgboost_rnd_search.best_params_)\n",
        "print(\"The accuracy at the best parameter is\", xgboost_rnd_search.score(df_X, df_y).round(3))"
      ],
      "metadata": {
        "colab": {
          "base_uri": "https://localhost:8080/"
        },
        "id": "265_ovrz7L5f",
        "outputId": "6996d901-31cb-4009-e032-3cbd4afb0ea0"
      },
      "execution_count": null,
      "outputs": [
        {
          "output_type": "stream",
          "name": "stdout",
          "text": [
            "Based on the mean_test_score, the more effective strategy for XGBoost is Random Search.The best parameters are {'XGBoost__max_depth': 21, 'XGBoost__max_leaf_nodes': 15}\n",
            "The accuracy at the best parameter is 0.866\n"
          ]
        }
      ]
    },
    {
      "cell_type": "code",
      "source": [
        "print('Based on the mean_test_score, the more effective strategies for RandomForest are Random Search & Halving Grid', end ='.')\n",
        "print(\"The best parameters in halving grid search are\", forest_halving_grid_search.best_params_)\n",
        "print(\"The accuracy at the best parameter in halving grid search is\", forest_halving_grid_search.score(df_X, df_y).round(3))\n",
        "print(\"The best parameters in random search are\", forest_rnd_search.best_params_)\n",
        "print(\"The accuracy at the best parameter in random search is\", forest_rnd_search.score(df_X, df_y).round(3))"
      ],
      "metadata": {
        "colab": {
          "base_uri": "https://localhost:8080/"
        },
        "id": "BWs8MMlHEbwU",
        "outputId": "46f36c2c-5910-40de-d893-bd9a3a497041"
      },
      "execution_count": null,
      "outputs": [
        {
          "output_type": "stream",
          "name": "stdout",
          "text": [
            "Based on the mean_test_score, the more effective strategies for RandomForest are Random Search & Halving Grid.The best parameters in halving grid search are {'Random_forest__max_depth': 10, 'Random_forest__min_samples_leaf': 8}\n",
            "The accuracy at the best parameter in halving grid search is 0.866\n",
            "The best parameters in random search are {'Random_forest__max_depth': 47, 'Random_forest__min_samples_leaf': 6}\n",
            "The accuracy at the best parameter in random search is 0.869\n"
          ]
        }
      ]
    },
    {
      "cell_type": "markdown",
      "source": [
        "##**7. Cost Matrix Application**"
      ],
      "metadata": {
        "id": "O30EaQFYCjOK"
      }
    },
    {
      "cell_type": "code",
      "source": [
        "# Apply cost matrix (5 times more costly to predict a false positive than false negative.)\n",
        "# Explore in Random Forest classifier. \n",
        "# Include random search first. \n",
        "from sklearn.metrics import make_scorer, confusion_matrix\n",
        "def default_cost(y_true, y_pred): \n",
        "  cm = confusion_matrix(y_true, y_pred)\n",
        "  return cm[1,0] * 5 + cm[0,1] * 1\n",
        "\n",
        "cost_scorer = make_scorer(default_cost, greater_is_better = False)\n",
        "\n",
        "forest_costs = cross_val_score(forest_clf, X_train, y_train, cv = 10, scoring=cost_scorer)\n",
        "\n",
        "cm_forest_rnd_search = RandomizedSearchCV(\n",
        "    forest_pipeline, param_distributions = forest_param_distribs, n_iter = 10, cv = 3,\n",
        "    scoring='balanced_accuracy', random_state = 11)\n",
        "\n",
        "cm_forest_rnd_search.fit(df_X, df_y)\n",
        "\n",
        "cv_res = pd.DataFrame(cm_forest_rnd_search.cv_results_)\n",
        "cv_res.sort_values(by=\"mean_test_score\", ascending=False, inplace=True)\n",
        "cv_res.head()"
      ],
      "metadata": {
        "colab": {
          "base_uri": "https://localhost:8080/",
          "height": 357
        },
        "id": "Un-gH5gahnD_",
        "outputId": "9e78b673-f452-4f2b-a21d-6249ea678618"
      },
      "execution_count": null,
      "outputs": [
        {
          "output_type": "execute_result",
          "data": {
            "text/plain": [
              "   mean_fit_time  std_fit_time  mean_score_time  std_score_time  \\\n",
              "7       0.496399      0.008124         0.059413        0.003283   \n",
              "3       0.489671      0.002946         0.058578        0.004595   \n",
              "0       0.483208      0.003693         0.054018        0.000278   \n",
              "1       0.470487      0.003965         0.055505        0.003211   \n",
              "5       0.488076      0.013576         0.054915        0.001725   \n",
              "\n",
              "  param_Random_forest__max_depth param_Random_forest__min_samples_leaf  \\\n",
              "7                             47                                     6   \n",
              "3                             36                                     9   \n",
              "0                             28                                    18   \n",
              "1                             30                                    19   \n",
              "5                             31                                    18   \n",
              "\n",
              "                                              params  split0_test_score  \\\n",
              "7  {'Random_forest__max_depth': 47, 'Random_fores...           0.863107   \n",
              "3  {'Random_forest__max_depth': 36, 'Random_fores...           0.862837   \n",
              "0  {'Random_forest__max_depth': 28, 'Random_fores...           0.859487   \n",
              "1  {'Random_forest__max_depth': 30, 'Random_fores...           0.859487   \n",
              "5  {'Random_forest__max_depth': 31, 'Random_fores...           0.859487   \n",
              "\n",
              "   split1_test_score  split2_test_score  mean_test_score  std_test_score  \\\n",
              "7           0.867430           0.852166         0.860901        0.006424   \n",
              "3           0.865674           0.851247         0.859919        0.006241   \n",
              "0           0.868078           0.847897         0.858487        0.008269   \n",
              "1           0.868078           0.847897         0.858487        0.008269   \n",
              "5           0.868078           0.847897         0.858487        0.008269   \n",
              "\n",
              "   rank_test_score  \n",
              "7                1  \n",
              "3                2  \n",
              "0                3  \n",
              "1                3  \n",
              "5                3  "
            ],
            "text/html": [
              "\n",
              "  <div id=\"df-aa04a6ac-ea74-48b2-8c51-1eb9298c60f4\">\n",
              "    <div class=\"colab-df-container\">\n",
              "      <div>\n",
              "<style scoped>\n",
              "    .dataframe tbody tr th:only-of-type {\n",
              "        vertical-align: middle;\n",
              "    }\n",
              "\n",
              "    .dataframe tbody tr th {\n",
              "        vertical-align: top;\n",
              "    }\n",
              "\n",
              "    .dataframe thead th {\n",
              "        text-align: right;\n",
              "    }\n",
              "</style>\n",
              "<table border=\"1\" class=\"dataframe\">\n",
              "  <thead>\n",
              "    <tr style=\"text-align: right;\">\n",
              "      <th></th>\n",
              "      <th>mean_fit_time</th>\n",
              "      <th>std_fit_time</th>\n",
              "      <th>mean_score_time</th>\n",
              "      <th>std_score_time</th>\n",
              "      <th>param_Random_forest__max_depth</th>\n",
              "      <th>param_Random_forest__min_samples_leaf</th>\n",
              "      <th>params</th>\n",
              "      <th>split0_test_score</th>\n",
              "      <th>split1_test_score</th>\n",
              "      <th>split2_test_score</th>\n",
              "      <th>mean_test_score</th>\n",
              "      <th>std_test_score</th>\n",
              "      <th>rank_test_score</th>\n",
              "    </tr>\n",
              "  </thead>\n",
              "  <tbody>\n",
              "    <tr>\n",
              "      <th>7</th>\n",
              "      <td>0.496399</td>\n",
              "      <td>0.008124</td>\n",
              "      <td>0.059413</td>\n",
              "      <td>0.003283</td>\n",
              "      <td>47</td>\n",
              "      <td>6</td>\n",
              "      <td>{'Random_forest__max_depth': 47, 'Random_fores...</td>\n",
              "      <td>0.863107</td>\n",
              "      <td>0.867430</td>\n",
              "      <td>0.852166</td>\n",
              "      <td>0.860901</td>\n",
              "      <td>0.006424</td>\n",
              "      <td>1</td>\n",
              "    </tr>\n",
              "    <tr>\n",
              "      <th>3</th>\n",
              "      <td>0.489671</td>\n",
              "      <td>0.002946</td>\n",
              "      <td>0.058578</td>\n",
              "      <td>0.004595</td>\n",
              "      <td>36</td>\n",
              "      <td>9</td>\n",
              "      <td>{'Random_forest__max_depth': 36, 'Random_fores...</td>\n",
              "      <td>0.862837</td>\n",
              "      <td>0.865674</td>\n",
              "      <td>0.851247</td>\n",
              "      <td>0.859919</td>\n",
              "      <td>0.006241</td>\n",
              "      <td>2</td>\n",
              "    </tr>\n",
              "    <tr>\n",
              "      <th>0</th>\n",
              "      <td>0.483208</td>\n",
              "      <td>0.003693</td>\n",
              "      <td>0.054018</td>\n",
              "      <td>0.000278</td>\n",
              "      <td>28</td>\n",
              "      <td>18</td>\n",
              "      <td>{'Random_forest__max_depth': 28, 'Random_fores...</td>\n",
              "      <td>0.859487</td>\n",
              "      <td>0.868078</td>\n",
              "      <td>0.847897</td>\n",
              "      <td>0.858487</td>\n",
              "      <td>0.008269</td>\n",
              "      <td>3</td>\n",
              "    </tr>\n",
              "    <tr>\n",
              "      <th>1</th>\n",
              "      <td>0.470487</td>\n",
              "      <td>0.003965</td>\n",
              "      <td>0.055505</td>\n",
              "      <td>0.003211</td>\n",
              "      <td>30</td>\n",
              "      <td>19</td>\n",
              "      <td>{'Random_forest__max_depth': 30, 'Random_fores...</td>\n",
              "      <td>0.859487</td>\n",
              "      <td>0.868078</td>\n",
              "      <td>0.847897</td>\n",
              "      <td>0.858487</td>\n",
              "      <td>0.008269</td>\n",
              "      <td>3</td>\n",
              "    </tr>\n",
              "    <tr>\n",
              "      <th>5</th>\n",
              "      <td>0.488076</td>\n",
              "      <td>0.013576</td>\n",
              "      <td>0.054915</td>\n",
              "      <td>0.001725</td>\n",
              "      <td>31</td>\n",
              "      <td>18</td>\n",
              "      <td>{'Random_forest__max_depth': 31, 'Random_fores...</td>\n",
              "      <td>0.859487</td>\n",
              "      <td>0.868078</td>\n",
              "      <td>0.847897</td>\n",
              "      <td>0.858487</td>\n",
              "      <td>0.008269</td>\n",
              "      <td>3</td>\n",
              "    </tr>\n",
              "  </tbody>\n",
              "</table>\n",
              "</div>\n",
              "      <button class=\"colab-df-convert\" onclick=\"convertToInteractive('df-aa04a6ac-ea74-48b2-8c51-1eb9298c60f4')\"\n",
              "              title=\"Convert this dataframe to an interactive table.\"\n",
              "              style=\"display:none;\">\n",
              "        \n",
              "  <svg xmlns=\"http://www.w3.org/2000/svg\" height=\"24px\"viewBox=\"0 0 24 24\"\n",
              "       width=\"24px\">\n",
              "    <path d=\"M0 0h24v24H0V0z\" fill=\"none\"/>\n",
              "    <path d=\"M18.56 5.44l.94 2.06.94-2.06 2.06-.94-2.06-.94-.94-2.06-.94 2.06-2.06.94zm-11 1L8.5 8.5l.94-2.06 2.06-.94-2.06-.94L8.5 2.5l-.94 2.06-2.06.94zm10 10l.94 2.06.94-2.06 2.06-.94-2.06-.94-.94-2.06-.94 2.06-2.06.94z\"/><path d=\"M17.41 7.96l-1.37-1.37c-.4-.4-.92-.59-1.43-.59-.52 0-1.04.2-1.43.59L10.3 9.45l-7.72 7.72c-.78.78-.78 2.05 0 2.83L4 21.41c.39.39.9.59 1.41.59.51 0 1.02-.2 1.41-.59l7.78-7.78 2.81-2.81c.8-.78.8-2.07 0-2.86zM5.41 20L4 18.59l7.72-7.72 1.47 1.35L5.41 20z\"/>\n",
              "  </svg>\n",
              "      </button>\n",
              "      \n",
              "  <style>\n",
              "    .colab-df-container {\n",
              "      display:flex;\n",
              "      flex-wrap:wrap;\n",
              "      gap: 12px;\n",
              "    }\n",
              "\n",
              "    .colab-df-convert {\n",
              "      background-color: #E8F0FE;\n",
              "      border: none;\n",
              "      border-radius: 50%;\n",
              "      cursor: pointer;\n",
              "      display: none;\n",
              "      fill: #1967D2;\n",
              "      height: 32px;\n",
              "      padding: 0 0 0 0;\n",
              "      width: 32px;\n",
              "    }\n",
              "\n",
              "    .colab-df-convert:hover {\n",
              "      background-color: #E2EBFA;\n",
              "      box-shadow: 0px 1px 2px rgba(60, 64, 67, 0.3), 0px 1px 3px 1px rgba(60, 64, 67, 0.15);\n",
              "      fill: #174EA6;\n",
              "    }\n",
              "\n",
              "    [theme=dark] .colab-df-convert {\n",
              "      background-color: #3B4455;\n",
              "      fill: #D2E3FC;\n",
              "    }\n",
              "\n",
              "    [theme=dark] .colab-df-convert:hover {\n",
              "      background-color: #434B5C;\n",
              "      box-shadow: 0px 1px 3px 1px rgba(0, 0, 0, 0.15);\n",
              "      filter: drop-shadow(0px 1px 2px rgba(0, 0, 0, 0.3));\n",
              "      fill: #FFFFFF;\n",
              "    }\n",
              "  </style>\n",
              "\n",
              "      <script>\n",
              "        const buttonEl =\n",
              "          document.querySelector('#df-aa04a6ac-ea74-48b2-8c51-1eb9298c60f4 button.colab-df-convert');\n",
              "        buttonEl.style.display =\n",
              "          google.colab.kernel.accessAllowed ? 'block' : 'none';\n",
              "\n",
              "        async function convertToInteractive(key) {\n",
              "          const element = document.querySelector('#df-aa04a6ac-ea74-48b2-8c51-1eb9298c60f4');\n",
              "          const dataTable =\n",
              "            await google.colab.kernel.invokeFunction('convertToInteractive',\n",
              "                                                     [key], {});\n",
              "          if (!dataTable) return;\n",
              "\n",
              "          const docLinkHtml = 'Like what you see? Visit the ' +\n",
              "            '<a target=\"_blank\" href=https://colab.research.google.com/notebooks/data_table.ipynb>data table notebook</a>'\n",
              "            + ' to learn more about interactive tables.';\n",
              "          element.innerHTML = '';\n",
              "          dataTable['output_type'] = 'display_data';\n",
              "          await google.colab.output.renderOutput(dataTable, element);\n",
              "          const docLink = document.createElement('div');\n",
              "          docLink.innerHTML = docLinkHtml;\n",
              "          element.appendChild(docLink);\n",
              "        }\n",
              "      </script>\n",
              "    </div>\n",
              "  </div>\n",
              "  "
            ]
          },
          "metadata": {},
          "execution_count": 88
        }
      ]
    },
    {
      "cell_type": "code",
      "source": [
        "print(\"The best parameters are\", cm_forest_rnd_search.best_params_)\n",
        "print(\"The accuracy at the best parameter is\", cm_forest_rnd_search.score(df_X, df_y).round(3))"
      ],
      "metadata": {
        "colab": {
          "base_uri": "https://localhost:8080/"
        },
        "id": "icY2eAUNjHcu",
        "outputId": "8c097f57-eb42-42d6-ab7c-9da616e057bf"
      },
      "execution_count": null,
      "outputs": [
        {
          "output_type": "stream",
          "name": "stdout",
          "text": [
            "The best parameters are {'Random_forest__max_depth': 47, 'Random_forest__min_samples_leaf': 6}\n",
            "The accuracy at the best parameter is 0.869\n"
          ]
        }
      ]
    },
    {
      "cell_type": "code",
      "source": [
        "# We now look at halving grid search strategy.\n",
        "cm_forest_halving_grid_search = HalvingGridSearchCV(forest_pipeline, forest_param_grid, cv = 3, \n",
        "                                    min_resources = 'exhaust', \n",
        "                                    scoring='balanced_accuracy')\n",
        "\n",
        "cm_forest_halving_grid_search.fit(df_X, df_y)\n",
        "\n",
        "cv_res = pd.DataFrame(cm_forest_halving_grid_search.cv_results_)\n",
        "cv_res.sort_values(by=\"mean_test_score\", ascending=False, inplace=True)\n",
        "cv_res.head()"
      ],
      "metadata": {
        "colab": {
          "base_uri": "https://localhost:8080/",
          "height": 357
        },
        "id": "pX7UHWY5NP58",
        "outputId": "0aa31f6e-bf89-4aae-d5b4-772387cbb351"
      },
      "execution_count": null,
      "outputs": [
        {
          "output_type": "execute_result",
          "data": {
            "text/plain": [
              "   iter  n_resources  mean_fit_time  std_fit_time  mean_score_time  \\\n",
              "6     1         9723       0.508271      0.024631         0.059690   \n",
              "7     1         9723       0.505744      0.011608         0.058070   \n",
              "2     0         3241       0.358113      0.007050         0.034512   \n",
              "5     0         3241       0.365207      0.011352         0.033677   \n",
              "1     0         3241       0.350370      0.031644         0.033911   \n",
              "\n",
              "   std_score_time param_Random_forest__max_depth  \\\n",
              "6        0.005101                             15   \n",
              "7        0.001472                             10   \n",
              "2        0.002750                             10   \n",
              "5        0.001858                             15   \n",
              "1        0.004406                             10   \n",
              "\n",
              "  param_Random_forest__min_samples_leaf  \\\n",
              "6                                    10   \n",
              "7                                    10   \n",
              "2                                    10   \n",
              "5                                    10   \n",
              "1                                     8   \n",
              "\n",
              "                                              params  split0_test_score  \\\n",
              "6  {'Random_forest__max_depth': 15, 'Random_fores...           0.854948   \n",
              "7  {'Random_forest__max_depth': 10, 'Random_fores...           0.854948   \n",
              "2  {'Random_forest__max_depth': 10, 'Random_fores...           0.855351   \n",
              "5  {'Random_forest__max_depth': 15, 'Random_fores...           0.855351   \n",
              "1  {'Random_forest__max_depth': 10, 'Random_fores...           0.856471   \n",
              "\n",
              "   split1_test_score  split2_test_score  mean_test_score  std_test_score  \\\n",
              "6           0.860027           0.850869         0.855281        0.003746   \n",
              "7           0.860027           0.850869         0.855281        0.003746   \n",
              "2           0.870359           0.820814         0.848842        0.020744   \n",
              "5           0.870359           0.816007         0.847239        0.022919   \n",
              "1           0.867946           0.809832         0.844750        0.025131   \n",
              "\n",
              "   rank_test_score  split0_train_score  split1_train_score  \\\n",
              "6                1            0.859203            0.859203   \n",
              "7                1            0.859203            0.859203   \n",
              "2                3            0.858883            0.859739   \n",
              "5                4            0.858883            0.859739   \n",
              "1                5            0.857789            0.855659   \n",
              "\n",
              "   split2_train_score  mean_train_score  std_train_score  \n",
              "6            0.867308          0.861905         0.003821  \n",
              "7            0.867308          0.861905         0.003821  \n",
              "2            0.844828          0.854483         0.006837  \n",
              "5            0.843924          0.854182         0.007262  \n",
              "1            0.841667          0.851705         0.007151  "
            ],
            "text/html": [
              "\n",
              "  <div id=\"df-c0c7fa41-7759-428d-950b-a6e95f25f48d\">\n",
              "    <div class=\"colab-df-container\">\n",
              "      <div>\n",
              "<style scoped>\n",
              "    .dataframe tbody tr th:only-of-type {\n",
              "        vertical-align: middle;\n",
              "    }\n",
              "\n",
              "    .dataframe tbody tr th {\n",
              "        vertical-align: top;\n",
              "    }\n",
              "\n",
              "    .dataframe thead th {\n",
              "        text-align: right;\n",
              "    }\n",
              "</style>\n",
              "<table border=\"1\" class=\"dataframe\">\n",
              "  <thead>\n",
              "    <tr style=\"text-align: right;\">\n",
              "      <th></th>\n",
              "      <th>iter</th>\n",
              "      <th>n_resources</th>\n",
              "      <th>mean_fit_time</th>\n",
              "      <th>std_fit_time</th>\n",
              "      <th>mean_score_time</th>\n",
              "      <th>std_score_time</th>\n",
              "      <th>param_Random_forest__max_depth</th>\n",
              "      <th>param_Random_forest__min_samples_leaf</th>\n",
              "      <th>params</th>\n",
              "      <th>split0_test_score</th>\n",
              "      <th>split1_test_score</th>\n",
              "      <th>split2_test_score</th>\n",
              "      <th>mean_test_score</th>\n",
              "      <th>std_test_score</th>\n",
              "      <th>rank_test_score</th>\n",
              "      <th>split0_train_score</th>\n",
              "      <th>split1_train_score</th>\n",
              "      <th>split2_train_score</th>\n",
              "      <th>mean_train_score</th>\n",
              "      <th>std_train_score</th>\n",
              "    </tr>\n",
              "  </thead>\n",
              "  <tbody>\n",
              "    <tr>\n",
              "      <th>6</th>\n",
              "      <td>1</td>\n",
              "      <td>9723</td>\n",
              "      <td>0.508271</td>\n",
              "      <td>0.024631</td>\n",
              "      <td>0.059690</td>\n",
              "      <td>0.005101</td>\n",
              "      <td>15</td>\n",
              "      <td>10</td>\n",
              "      <td>{'Random_forest__max_depth': 15, 'Random_fores...</td>\n",
              "      <td>0.854948</td>\n",
              "      <td>0.860027</td>\n",
              "      <td>0.850869</td>\n",
              "      <td>0.855281</td>\n",
              "      <td>0.003746</td>\n",
              "      <td>1</td>\n",
              "      <td>0.859203</td>\n",
              "      <td>0.859203</td>\n",
              "      <td>0.867308</td>\n",
              "      <td>0.861905</td>\n",
              "      <td>0.003821</td>\n",
              "    </tr>\n",
              "    <tr>\n",
              "      <th>7</th>\n",
              "      <td>1</td>\n",
              "      <td>9723</td>\n",
              "      <td>0.505744</td>\n",
              "      <td>0.011608</td>\n",
              "      <td>0.058070</td>\n",
              "      <td>0.001472</td>\n",
              "      <td>10</td>\n",
              "      <td>10</td>\n",
              "      <td>{'Random_forest__max_depth': 10, 'Random_fores...</td>\n",
              "      <td>0.854948</td>\n",
              "      <td>0.860027</td>\n",
              "      <td>0.850869</td>\n",
              "      <td>0.855281</td>\n",
              "      <td>0.003746</td>\n",
              "      <td>1</td>\n",
              "      <td>0.859203</td>\n",
              "      <td>0.859203</td>\n",
              "      <td>0.867308</td>\n",
              "      <td>0.861905</td>\n",
              "      <td>0.003821</td>\n",
              "    </tr>\n",
              "    <tr>\n",
              "      <th>2</th>\n",
              "      <td>0</td>\n",
              "      <td>3241</td>\n",
              "      <td>0.358113</td>\n",
              "      <td>0.007050</td>\n",
              "      <td>0.034512</td>\n",
              "      <td>0.002750</td>\n",
              "      <td>10</td>\n",
              "      <td>10</td>\n",
              "      <td>{'Random_forest__max_depth': 10, 'Random_fores...</td>\n",
              "      <td>0.855351</td>\n",
              "      <td>0.870359</td>\n",
              "      <td>0.820814</td>\n",
              "      <td>0.848842</td>\n",
              "      <td>0.020744</td>\n",
              "      <td>3</td>\n",
              "      <td>0.858883</td>\n",
              "      <td>0.859739</td>\n",
              "      <td>0.844828</td>\n",
              "      <td>0.854483</td>\n",
              "      <td>0.006837</td>\n",
              "    </tr>\n",
              "    <tr>\n",
              "      <th>5</th>\n",
              "      <td>0</td>\n",
              "      <td>3241</td>\n",
              "      <td>0.365207</td>\n",
              "      <td>0.011352</td>\n",
              "      <td>0.033677</td>\n",
              "      <td>0.001858</td>\n",
              "      <td>15</td>\n",
              "      <td>10</td>\n",
              "      <td>{'Random_forest__max_depth': 15, 'Random_fores...</td>\n",
              "      <td>0.855351</td>\n",
              "      <td>0.870359</td>\n",
              "      <td>0.816007</td>\n",
              "      <td>0.847239</td>\n",
              "      <td>0.022919</td>\n",
              "      <td>4</td>\n",
              "      <td>0.858883</td>\n",
              "      <td>0.859739</td>\n",
              "      <td>0.843924</td>\n",
              "      <td>0.854182</td>\n",
              "      <td>0.007262</td>\n",
              "    </tr>\n",
              "    <tr>\n",
              "      <th>1</th>\n",
              "      <td>0</td>\n",
              "      <td>3241</td>\n",
              "      <td>0.350370</td>\n",
              "      <td>0.031644</td>\n",
              "      <td>0.033911</td>\n",
              "      <td>0.004406</td>\n",
              "      <td>10</td>\n",
              "      <td>8</td>\n",
              "      <td>{'Random_forest__max_depth': 10, 'Random_fores...</td>\n",
              "      <td>0.856471</td>\n",
              "      <td>0.867946</td>\n",
              "      <td>0.809832</td>\n",
              "      <td>0.844750</td>\n",
              "      <td>0.025131</td>\n",
              "      <td>5</td>\n",
              "      <td>0.857789</td>\n",
              "      <td>0.855659</td>\n",
              "      <td>0.841667</td>\n",
              "      <td>0.851705</td>\n",
              "      <td>0.007151</td>\n",
              "    </tr>\n",
              "  </tbody>\n",
              "</table>\n",
              "</div>\n",
              "      <button class=\"colab-df-convert\" onclick=\"convertToInteractive('df-c0c7fa41-7759-428d-950b-a6e95f25f48d')\"\n",
              "              title=\"Convert this dataframe to an interactive table.\"\n",
              "              style=\"display:none;\">\n",
              "        \n",
              "  <svg xmlns=\"http://www.w3.org/2000/svg\" height=\"24px\"viewBox=\"0 0 24 24\"\n",
              "       width=\"24px\">\n",
              "    <path d=\"M0 0h24v24H0V0z\" fill=\"none\"/>\n",
              "    <path d=\"M18.56 5.44l.94 2.06.94-2.06 2.06-.94-2.06-.94-.94-2.06-.94 2.06-2.06.94zm-11 1L8.5 8.5l.94-2.06 2.06-.94-2.06-.94L8.5 2.5l-.94 2.06-2.06.94zm10 10l.94 2.06.94-2.06 2.06-.94-2.06-.94-.94-2.06-.94 2.06-2.06.94z\"/><path d=\"M17.41 7.96l-1.37-1.37c-.4-.4-.92-.59-1.43-.59-.52 0-1.04.2-1.43.59L10.3 9.45l-7.72 7.72c-.78.78-.78 2.05 0 2.83L4 21.41c.39.39.9.59 1.41.59.51 0 1.02-.2 1.41-.59l7.78-7.78 2.81-2.81c.8-.78.8-2.07 0-2.86zM5.41 20L4 18.59l7.72-7.72 1.47 1.35L5.41 20z\"/>\n",
              "  </svg>\n",
              "      </button>\n",
              "      \n",
              "  <style>\n",
              "    .colab-df-container {\n",
              "      display:flex;\n",
              "      flex-wrap:wrap;\n",
              "      gap: 12px;\n",
              "    }\n",
              "\n",
              "    .colab-df-convert {\n",
              "      background-color: #E8F0FE;\n",
              "      border: none;\n",
              "      border-radius: 50%;\n",
              "      cursor: pointer;\n",
              "      display: none;\n",
              "      fill: #1967D2;\n",
              "      height: 32px;\n",
              "      padding: 0 0 0 0;\n",
              "      width: 32px;\n",
              "    }\n",
              "\n",
              "    .colab-df-convert:hover {\n",
              "      background-color: #E2EBFA;\n",
              "      box-shadow: 0px 1px 2px rgba(60, 64, 67, 0.3), 0px 1px 3px 1px rgba(60, 64, 67, 0.15);\n",
              "      fill: #174EA6;\n",
              "    }\n",
              "\n",
              "    [theme=dark] .colab-df-convert {\n",
              "      background-color: #3B4455;\n",
              "      fill: #D2E3FC;\n",
              "    }\n",
              "\n",
              "    [theme=dark] .colab-df-convert:hover {\n",
              "      background-color: #434B5C;\n",
              "      box-shadow: 0px 1px 3px 1px rgba(0, 0, 0, 0.15);\n",
              "      filter: drop-shadow(0px 1px 2px rgba(0, 0, 0, 0.3));\n",
              "      fill: #FFFFFF;\n",
              "    }\n",
              "  </style>\n",
              "\n",
              "      <script>\n",
              "        const buttonEl =\n",
              "          document.querySelector('#df-c0c7fa41-7759-428d-950b-a6e95f25f48d button.colab-df-convert');\n",
              "        buttonEl.style.display =\n",
              "          google.colab.kernel.accessAllowed ? 'block' : 'none';\n",
              "\n",
              "        async function convertToInteractive(key) {\n",
              "          const element = document.querySelector('#df-c0c7fa41-7759-428d-950b-a6e95f25f48d');\n",
              "          const dataTable =\n",
              "            await google.colab.kernel.invokeFunction('convertToInteractive',\n",
              "                                                     [key], {});\n",
              "          if (!dataTable) return;\n",
              "\n",
              "          const docLinkHtml = 'Like what you see? Visit the ' +\n",
              "            '<a target=\"_blank\" href=https://colab.research.google.com/notebooks/data_table.ipynb>data table notebook</a>'\n",
              "            + ' to learn more about interactive tables.';\n",
              "          element.innerHTML = '';\n",
              "          dataTable['output_type'] = 'display_data';\n",
              "          await google.colab.output.renderOutput(dataTable, element);\n",
              "          const docLink = document.createElement('div');\n",
              "          docLink.innerHTML = docLinkHtml;\n",
              "          element.appendChild(docLink);\n",
              "        }\n",
              "      </script>\n",
              "    </div>\n",
              "  </div>\n",
              "  "
            ]
          },
          "metadata": {},
          "execution_count": 90
        }
      ]
    },
    {
      "cell_type": "code",
      "source": [
        "print(\"The best parameters are\", cm_forest_halving_grid_search.best_params_)\n",
        "print(\"The accuracy at the best parameter is\", cm_forest_halving_grid_search.score(df_X, df_y).round(3))"
      ],
      "metadata": {
        "colab": {
          "base_uri": "https://localhost:8080/"
        },
        "id": "qLscDNjeN31K",
        "outputId": "40466dc8-0d6a-4864-b262-03a54b582763"
      },
      "execution_count": null,
      "outputs": [
        {
          "output_type": "stream",
          "name": "stdout",
          "text": [
            "The best parameters are {'Random_forest__max_depth': 15, 'Random_forest__min_samples_leaf': 10}\n",
            "The accuracy at the best parameter is 0.864\n"
          ]
        }
      ]
    },
    {
      "cell_type": "code",
      "source": [
        "# XGBoost Model\n",
        "cm_xgboost_rnd_search = RandomizedSearchCV(\n",
        "    xgboost_pipeline, param_distributions = xgboost_param_distribs, n_iter = 10, cv = 3,\n",
        "    scoring='balanced_accuracy', random_state = 11)\n",
        "\n",
        "cm_xgboost_rnd_search.fit(df_X, df_y)\n",
        "\n",
        "cv_res = pd.DataFrame(cm_xgboost_rnd_search.cv_results_)\n",
        "cv_res.sort_values(by=\"mean_test_score\", ascending=False, inplace=True)\n",
        "cv_res.head()"
      ],
      "metadata": {
        "colab": {
          "base_uri": "https://localhost:8080/",
          "height": 444
        },
        "id": "zYGgqisLTAcK",
        "outputId": "a7dd2f87-66fc-4561-9c0d-59e3cb659555"
      },
      "execution_count": null,
      "outputs": [
        {
          "output_type": "execute_result",
          "data": {
            "text/plain": [
              "   mean_fit_time  std_fit_time  mean_score_time  std_score_time  \\\n",
              "4       0.650934      0.019329         0.044603        0.009612   \n",
              "0       0.673103      0.018677         0.042127        0.000433   \n",
              "1       0.651586      0.019324         0.041972        0.001225   \n",
              "3       0.671750      0.019110         0.043995        0.000873   \n",
              "5       0.671287      0.015288         0.043001        0.002160   \n",
              "\n",
              "  param_XGBoost__max_depth param_XGBoost__max_leaf_nodes  \\\n",
              "4                       21                            15   \n",
              "0                       28                            18   \n",
              "1                       30                            19   \n",
              "3                       36                             9   \n",
              "5                       31                            18   \n",
              "\n",
              "                                              params  split0_test_score  \\\n",
              "4  {'XGBoost__max_depth': 21, 'XGBoost__max_leaf_...           0.865431   \n",
              "0  {'XGBoost__max_depth': 28, 'XGBoost__max_leaf_...           0.865431   \n",
              "1  {'XGBoost__max_depth': 30, 'XGBoost__max_leaf_...           0.865431   \n",
              "3  {'XGBoost__max_depth': 36, 'XGBoost__max_leaf_...           0.865431   \n",
              "5  {'XGBoost__max_depth': 31, 'XGBoost__max_leaf_...           0.865431   \n",
              "\n",
              "   split1_test_score  split2_test_score  mean_test_score  std_test_score  \\\n",
              "4           0.869753           0.847627         0.860937        0.009576   \n",
              "0           0.869564           0.847627         0.860874        0.009518   \n",
              "1           0.869564           0.847627         0.860874        0.009518   \n",
              "3           0.869564           0.847627         0.860874        0.009518   \n",
              "5           0.869564           0.847627         0.860874        0.009518   \n",
              "\n",
              "   rank_test_score  \n",
              "4                1  \n",
              "0                2  \n",
              "1                2  \n",
              "3                2  \n",
              "5                2  "
            ],
            "text/html": [
              "\n",
              "  <div id=\"df-453a00f3-21f9-4525-a4f9-69d479111518\">\n",
              "    <div class=\"colab-df-container\">\n",
              "      <div>\n",
              "<style scoped>\n",
              "    .dataframe tbody tr th:only-of-type {\n",
              "        vertical-align: middle;\n",
              "    }\n",
              "\n",
              "    .dataframe tbody tr th {\n",
              "        vertical-align: top;\n",
              "    }\n",
              "\n",
              "    .dataframe thead th {\n",
              "        text-align: right;\n",
              "    }\n",
              "</style>\n",
              "<table border=\"1\" class=\"dataframe\">\n",
              "  <thead>\n",
              "    <tr style=\"text-align: right;\">\n",
              "      <th></th>\n",
              "      <th>mean_fit_time</th>\n",
              "      <th>std_fit_time</th>\n",
              "      <th>mean_score_time</th>\n",
              "      <th>std_score_time</th>\n",
              "      <th>param_XGBoost__max_depth</th>\n",
              "      <th>param_XGBoost__max_leaf_nodes</th>\n",
              "      <th>params</th>\n",
              "      <th>split0_test_score</th>\n",
              "      <th>split1_test_score</th>\n",
              "      <th>split2_test_score</th>\n",
              "      <th>mean_test_score</th>\n",
              "      <th>std_test_score</th>\n",
              "      <th>rank_test_score</th>\n",
              "    </tr>\n",
              "  </thead>\n",
              "  <tbody>\n",
              "    <tr>\n",
              "      <th>4</th>\n",
              "      <td>0.650934</td>\n",
              "      <td>0.019329</td>\n",
              "      <td>0.044603</td>\n",
              "      <td>0.009612</td>\n",
              "      <td>21</td>\n",
              "      <td>15</td>\n",
              "      <td>{'XGBoost__max_depth': 21, 'XGBoost__max_leaf_...</td>\n",
              "      <td>0.865431</td>\n",
              "      <td>0.869753</td>\n",
              "      <td>0.847627</td>\n",
              "      <td>0.860937</td>\n",
              "      <td>0.009576</td>\n",
              "      <td>1</td>\n",
              "    </tr>\n",
              "    <tr>\n",
              "      <th>0</th>\n",
              "      <td>0.673103</td>\n",
              "      <td>0.018677</td>\n",
              "      <td>0.042127</td>\n",
              "      <td>0.000433</td>\n",
              "      <td>28</td>\n",
              "      <td>18</td>\n",
              "      <td>{'XGBoost__max_depth': 28, 'XGBoost__max_leaf_...</td>\n",
              "      <td>0.865431</td>\n",
              "      <td>0.869564</td>\n",
              "      <td>0.847627</td>\n",
              "      <td>0.860874</td>\n",
              "      <td>0.009518</td>\n",
              "      <td>2</td>\n",
              "    </tr>\n",
              "    <tr>\n",
              "      <th>1</th>\n",
              "      <td>0.651586</td>\n",
              "      <td>0.019324</td>\n",
              "      <td>0.041972</td>\n",
              "      <td>0.001225</td>\n",
              "      <td>30</td>\n",
              "      <td>19</td>\n",
              "      <td>{'XGBoost__max_depth': 30, 'XGBoost__max_leaf_...</td>\n",
              "      <td>0.865431</td>\n",
              "      <td>0.869564</td>\n",
              "      <td>0.847627</td>\n",
              "      <td>0.860874</td>\n",
              "      <td>0.009518</td>\n",
              "      <td>2</td>\n",
              "    </tr>\n",
              "    <tr>\n",
              "      <th>3</th>\n",
              "      <td>0.671750</td>\n",
              "      <td>0.019110</td>\n",
              "      <td>0.043995</td>\n",
              "      <td>0.000873</td>\n",
              "      <td>36</td>\n",
              "      <td>9</td>\n",
              "      <td>{'XGBoost__max_depth': 36, 'XGBoost__max_leaf_...</td>\n",
              "      <td>0.865431</td>\n",
              "      <td>0.869564</td>\n",
              "      <td>0.847627</td>\n",
              "      <td>0.860874</td>\n",
              "      <td>0.009518</td>\n",
              "      <td>2</td>\n",
              "    </tr>\n",
              "    <tr>\n",
              "      <th>5</th>\n",
              "      <td>0.671287</td>\n",
              "      <td>0.015288</td>\n",
              "      <td>0.043001</td>\n",
              "      <td>0.002160</td>\n",
              "      <td>31</td>\n",
              "      <td>18</td>\n",
              "      <td>{'XGBoost__max_depth': 31, 'XGBoost__max_leaf_...</td>\n",
              "      <td>0.865431</td>\n",
              "      <td>0.869564</td>\n",
              "      <td>0.847627</td>\n",
              "      <td>0.860874</td>\n",
              "      <td>0.009518</td>\n",
              "      <td>2</td>\n",
              "    </tr>\n",
              "  </tbody>\n",
              "</table>\n",
              "</div>\n",
              "      <button class=\"colab-df-convert\" onclick=\"convertToInteractive('df-453a00f3-21f9-4525-a4f9-69d479111518')\"\n",
              "              title=\"Convert this dataframe to an interactive table.\"\n",
              "              style=\"display:none;\">\n",
              "        \n",
              "  <svg xmlns=\"http://www.w3.org/2000/svg\" height=\"24px\"viewBox=\"0 0 24 24\"\n",
              "       width=\"24px\">\n",
              "    <path d=\"M0 0h24v24H0V0z\" fill=\"none\"/>\n",
              "    <path d=\"M18.56 5.44l.94 2.06.94-2.06 2.06-.94-2.06-.94-.94-2.06-.94 2.06-2.06.94zm-11 1L8.5 8.5l.94-2.06 2.06-.94-2.06-.94L8.5 2.5l-.94 2.06-2.06.94zm10 10l.94 2.06.94-2.06 2.06-.94-2.06-.94-.94-2.06-.94 2.06-2.06.94z\"/><path d=\"M17.41 7.96l-1.37-1.37c-.4-.4-.92-.59-1.43-.59-.52 0-1.04.2-1.43.59L10.3 9.45l-7.72 7.72c-.78.78-.78 2.05 0 2.83L4 21.41c.39.39.9.59 1.41.59.51 0 1.02-.2 1.41-.59l7.78-7.78 2.81-2.81c.8-.78.8-2.07 0-2.86zM5.41 20L4 18.59l7.72-7.72 1.47 1.35L5.41 20z\"/>\n",
              "  </svg>\n",
              "      </button>\n",
              "      \n",
              "  <style>\n",
              "    .colab-df-container {\n",
              "      display:flex;\n",
              "      flex-wrap:wrap;\n",
              "      gap: 12px;\n",
              "    }\n",
              "\n",
              "    .colab-df-convert {\n",
              "      background-color: #E8F0FE;\n",
              "      border: none;\n",
              "      border-radius: 50%;\n",
              "      cursor: pointer;\n",
              "      display: none;\n",
              "      fill: #1967D2;\n",
              "      height: 32px;\n",
              "      padding: 0 0 0 0;\n",
              "      width: 32px;\n",
              "    }\n",
              "\n",
              "    .colab-df-convert:hover {\n",
              "      background-color: #E2EBFA;\n",
              "      box-shadow: 0px 1px 2px rgba(60, 64, 67, 0.3), 0px 1px 3px 1px rgba(60, 64, 67, 0.15);\n",
              "      fill: #174EA6;\n",
              "    }\n",
              "\n",
              "    [theme=dark] .colab-df-convert {\n",
              "      background-color: #3B4455;\n",
              "      fill: #D2E3FC;\n",
              "    }\n",
              "\n",
              "    [theme=dark] .colab-df-convert:hover {\n",
              "      background-color: #434B5C;\n",
              "      box-shadow: 0px 1px 3px 1px rgba(0, 0, 0, 0.15);\n",
              "      filter: drop-shadow(0px 1px 2px rgba(0, 0, 0, 0.3));\n",
              "      fill: #FFFFFF;\n",
              "    }\n",
              "  </style>\n",
              "\n",
              "      <script>\n",
              "        const buttonEl =\n",
              "          document.querySelector('#df-453a00f3-21f9-4525-a4f9-69d479111518 button.colab-df-convert');\n",
              "        buttonEl.style.display =\n",
              "          google.colab.kernel.accessAllowed ? 'block' : 'none';\n",
              "\n",
              "        async function convertToInteractive(key) {\n",
              "          const element = document.querySelector('#df-453a00f3-21f9-4525-a4f9-69d479111518');\n",
              "          const dataTable =\n",
              "            await google.colab.kernel.invokeFunction('convertToInteractive',\n",
              "                                                     [key], {});\n",
              "          if (!dataTable) return;\n",
              "\n",
              "          const docLinkHtml = 'Like what you see? Visit the ' +\n",
              "            '<a target=\"_blank\" href=https://colab.research.google.com/notebooks/data_table.ipynb>data table notebook</a>'\n",
              "            + ' to learn more about interactive tables.';\n",
              "          element.innerHTML = '';\n",
              "          dataTable['output_type'] = 'display_data';\n",
              "          await google.colab.output.renderOutput(dataTable, element);\n",
              "          const docLink = document.createElement('div');\n",
              "          docLink.innerHTML = docLinkHtml;\n",
              "          element.appendChild(docLink);\n",
              "        }\n",
              "      </script>\n",
              "    </div>\n",
              "  </div>\n",
              "  "
            ]
          },
          "metadata": {},
          "execution_count": 92
        }
      ]
    },
    {
      "cell_type": "code",
      "source": [
        "print(\"The best parameters are\", cm_xgboost_rnd_search.best_params_)\n",
        "print(\"The accuracy at the best parameter is\", cm_xgboost_rnd_search.score(df_X, df_y).round(3))"
      ],
      "metadata": {
        "colab": {
          "base_uri": "https://localhost:8080/"
        },
        "id": "o9iho8S_TyuW",
        "outputId": "b7fdf968-89e3-41fd-88d5-1ae2dfeddddc"
      },
      "execution_count": null,
      "outputs": [
        {
          "output_type": "stream",
          "name": "stdout",
          "text": [
            "The best parameters are {'XGBoost__max_depth': 21, 'XGBoost__max_leaf_nodes': 15}\n",
            "The accuracy at the best parameter is 0.866\n"
          ]
        }
      ]
    },
    {
      "cell_type": "markdown",
      "source": [
        "##**8. Threshold Tuning**"
      ],
      "metadata": {
        "id": "wi3u0kVyLNTd"
      }
    },
    {
      "cell_type": "code",
      "source": [
        "# Obtain the best strategy so far.\n",
        "model = forest_rnd_search.best_estimator_\n",
        "\n",
        "# Predict the Cost. \n",
        "print('The cost under standard prediction strategy is %d.' % default_cost(y_test, model.predict(test_data)))"
      ],
      "metadata": {
        "colab": {
          "base_uri": "https://localhost:8080/"
        },
        "id": "NeWEBTs9jhf7",
        "outputId": "ef2ac418-6f07-40f9-e126-109cfc12a769"
      },
      "execution_count": null,
      "outputs": [
        {
          "output_type": "stream",
          "name": "stdout",
          "text": [
            "The cost under standard prediction strategy is 859.\n"
          ]
        }
      ]
    },
    {
      "cell_type": "code",
      "source": [
        "# Define a function that take a threshold and return a function. \n",
        "\n",
        "def predict_labels(pos_probs, threshold):\n",
        "\treturn np.where(pos_probs >= threshold, 1, 0)\n",
        "\n",
        "class_probabilities = model.predict_proba(test_data)\t\n",
        "\n",
        "probs = class_probabilities[:, 1]\n",
        "\n",
        "thresholds = np.arange(0, 1, 0.001)\n",
        "\n",
        "scores = [default_cost(y_test, predict_labels(probs, t)) for t in thresholds]\n",
        "\n",
        "ix = np.argmin(scores)\n",
        "\n",
        "print('After optimization, threshold should be set at %.3f, \\\n",
        "\twhich will lead to cost of misclassification of %d.' % (thresholds[ix], scores[ix]))"
      ],
      "metadata": {
        "colab": {
          "base_uri": "https://localhost:8080/"
        },
        "id": "rXYpcVyWjoh1",
        "outputId": "829ab843-62f0-427a-93ab-ab642c9c22c1"
      },
      "execution_count": null,
      "outputs": [
        {
          "output_type": "stream",
          "name": "stdout",
          "text": [
            "After optimization, threshold should be set at 0.199, \twhich will lead to cost of misclassification of 644.\n"
          ]
        }
      ]
    },
    {
      "cell_type": "code",
      "source": [
        "# We look at the second best strategy (halving search) as well. \n",
        "model = forest_halving_grid_search.best_estimator_\n",
        "\n",
        "# Predict the Cost. \n",
        "print('The cost under standard prediction strategy is %d.' % default_cost(y_test, model.predict(test_data)))"
      ],
      "metadata": {
        "colab": {
          "base_uri": "https://localhost:8080/"
        },
        "id": "LFpPSgYwONVP",
        "outputId": "c05b736e-558c-4560-fe5c-c9718d0ba7e7"
      },
      "execution_count": null,
      "outputs": [
        {
          "output_type": "stream",
          "name": "stdout",
          "text": [
            "The cost under standard prediction strategy is 862.\n"
          ]
        }
      ]
    },
    {
      "cell_type": "code",
      "source": [
        "# Define a function that take a threshold and return a function. \n",
        "\n",
        "def predict_labels(pos_probs, threshold):\n",
        "\treturn np.where(pos_probs >= threshold, 1, 0)\n",
        "\n",
        "class_probabilities = model.predict_proba(test_data)\t\n",
        "\n",
        "probs = class_probabilities[:, 1]\n",
        "\n",
        "thresholds = np.arange(0, 1, 0.001)\n",
        "\n",
        "scores = [default_cost(y_test, predict_labels(probs, t)) for t in thresholds]\n",
        "\n",
        "ix = np.argmin(scores)\n",
        "\n",
        "print('After optimization, threshold should be set at %.3f, \\\n",
        "\twhich will lead to cost of misclassification of %d.' % (thresholds[ix], scores[ix]))"
      ],
      "metadata": {
        "colab": {
          "base_uri": "https://localhost:8080/"
        },
        "id": "p4HGzytSOcW8",
        "outputId": "1bc1c052-2064-4cdd-c0c9-cd1c833859f2"
      },
      "execution_count": null,
      "outputs": [
        {
          "output_type": "stream",
          "name": "stdout",
          "text": [
            "After optimization, threshold should be set at 0.240, \twhich will lead to cost of misclassification of 650.\n"
          ]
        }
      ]
    },
    {
      "cell_type": "code",
      "source": [
        "# We look at XGBoost Mode.\n",
        "model = xgboost_rnd_search.best_estimator_\n",
        "\n",
        "# Predict the Cost. \n",
        "print('The cost under standard prediction strategy is %d.' % default_cost(y_test, model.predict(test_data)))"
      ],
      "metadata": {
        "colab": {
          "base_uri": "https://localhost:8080/"
        },
        "id": "9FwF5EVUUNn0",
        "outputId": "d41f26f1-9350-47a9-c902-9302e28e2080"
      },
      "execution_count": null,
      "outputs": [
        {
          "output_type": "stream",
          "name": "stdout",
          "text": [
            "The cost under standard prediction strategy is 913.\n"
          ]
        }
      ]
    },
    {
      "cell_type": "code",
      "source": [
        "# Define a function that take a threshold and return a function. \n",
        "\n",
        "def predict_labels(pos_probs, threshold):\n",
        "\treturn np.where(pos_probs >= threshold, 1, 0)\n",
        "\n",
        "class_probabilities = model.predict_proba(test_data)\t\n",
        "\n",
        "probs = class_probabilities[:, 1]\n",
        "\n",
        "thresholds = np.arange(0, 1, 0.001)\n",
        "\n",
        "scores = [default_cost(y_test, predict_labels(probs, t)) for t in thresholds]\n",
        "\n",
        "ix = np.argmin(scores)\n",
        "\n",
        "print('After optimization, threshold should be set at %.3f, \\\n",
        "\twhich will lead to cost of misclassification of %d.' % (thresholds[ix], scores[ix]))"
      ],
      "metadata": {
        "colab": {
          "base_uri": "https://localhost:8080/"
        },
        "id": "lifCSidMUZLY",
        "outputId": "189ca4ce-955f-4656-b2f9-84a8ba0b1147"
      },
      "execution_count": null,
      "outputs": [
        {
          "output_type": "stream",
          "name": "stdout",
          "text": [
            "After optimization, threshold should be set at 0.169, \twhich will lead to cost of misclassification of 648.\n"
          ]
        }
      ]
    },
    {
      "cell_type": "code",
      "source": [
        "# Develop a dataframe with accuracy scores and rmse. \n",
        "d = {'Best Parameters': [forest_halving_grid_search.best_params_, forest_rnd_search.best_params_, \n",
        "                         xgboost_rnd_search.best_params_], \n",
        "    'Score': [forest_halving_grid_search.score(df_X, df_y).round(3), forest_rnd_search.score(df_X, df_y).round(3),\n",
        "              xgboost_rnd_search.score(df_X, df_y).round(3)],\n",
        "     'CM-Best Parameters': [cm_forest_halving_grid_search.best_params_,  cm_forest_rnd_search.best_params_, \n",
        "                            cm_xgboost_rnd_search.best_params_],\n",
        "    'CM-Score': [cm_forest_halving_grid_search.score(df_X, df_y).round(3), \n",
        "                 cm_forest_rnd_search.score(df_X, df_y).round(3), \n",
        "                  cm_xgboost_rnd_search.score(df_X, df_y).round(3)],\n",
        "    'Threshold': [0.240, 0.199, 0.169],\n",
        "    'Cost Before': [862, 859, 913],\n",
        "    'Cost After': [650, 644, 648]\n",
        "     }\n",
        "finaltable = pd.DataFrame(data = d)\n",
        "finaltable = finaltable.rename(index={0: 'Random Forest with Halving Grid Search', \n",
        "                                        1: 'Random Forest with Random Search', \n",
        "                                        2: 'XGBoost with Random Search'})\n",
        "finaltable.head()"
      ],
      "metadata": {
        "colab": {
          "base_uri": "https://localhost:8080/",
          "height": 257
        },
        "id": "lrIH12UeNFOS",
        "outputId": "50b067ea-3f4b-4371-a880-108e4385eaa4"
      },
      "execution_count": null,
      "outputs": [
        {
          "output_type": "execute_result",
          "data": {
            "text/plain": [
              "                                                                          Best Parameters  \\\n",
              "Random Forest with Halving Grid Search  {'Random_forest__max_depth': 10, 'Random_fores...   \n",
              "Random Forest with Random Search        {'Random_forest__max_depth': 47, 'Random_fores...   \n",
              "XGBoost with Random Search              {'XGBoost__max_depth': 21, 'XGBoost__max_leaf_...   \n",
              "\n",
              "                                        Score  \\\n",
              "Random Forest with Halving Grid Search  0.866   \n",
              "Random Forest with Random Search        0.869   \n",
              "XGBoost with Random Search              0.866   \n",
              "\n",
              "                                                                       CM-Best Parameters  \\\n",
              "Random Forest with Halving Grid Search  {'Random_forest__max_depth': 15, 'Random_fores...   \n",
              "Random Forest with Random Search        {'Random_forest__max_depth': 47, 'Random_fores...   \n",
              "XGBoost with Random Search              {'XGBoost__max_depth': 21, 'XGBoost__max_leaf_...   \n",
              "\n",
              "                                        CM-Score  Threshold  Cost Before  \\\n",
              "Random Forest with Halving Grid Search     0.864      0.240          862   \n",
              "Random Forest with Random Search           0.869      0.199          859   \n",
              "XGBoost with Random Search                 0.866      0.169          913   \n",
              "\n",
              "                                        Cost After  \n",
              "Random Forest with Halving Grid Search         650  \n",
              "Random Forest with Random Search               644  \n",
              "XGBoost with Random Search                     648  "
            ],
            "text/html": [
              "\n",
              "  <div id=\"df-f91693c1-77f2-4176-b286-dd4144542705\">\n",
              "    <div class=\"colab-df-container\">\n",
              "      <div>\n",
              "<style scoped>\n",
              "    .dataframe tbody tr th:only-of-type {\n",
              "        vertical-align: middle;\n",
              "    }\n",
              "\n",
              "    .dataframe tbody tr th {\n",
              "        vertical-align: top;\n",
              "    }\n",
              "\n",
              "    .dataframe thead th {\n",
              "        text-align: right;\n",
              "    }\n",
              "</style>\n",
              "<table border=\"1\" class=\"dataframe\">\n",
              "  <thead>\n",
              "    <tr style=\"text-align: right;\">\n",
              "      <th></th>\n",
              "      <th>Best Parameters</th>\n",
              "      <th>Score</th>\n",
              "      <th>CM-Best Parameters</th>\n",
              "      <th>CM-Score</th>\n",
              "      <th>Threshold</th>\n",
              "      <th>Cost Before</th>\n",
              "      <th>Cost After</th>\n",
              "    </tr>\n",
              "  </thead>\n",
              "  <tbody>\n",
              "    <tr>\n",
              "      <th>Random Forest with Halving Grid Search</th>\n",
              "      <td>{'Random_forest__max_depth': 10, 'Random_fores...</td>\n",
              "      <td>0.866</td>\n",
              "      <td>{'Random_forest__max_depth': 15, 'Random_fores...</td>\n",
              "      <td>0.864</td>\n",
              "      <td>0.240</td>\n",
              "      <td>862</td>\n",
              "      <td>650</td>\n",
              "    </tr>\n",
              "    <tr>\n",
              "      <th>Random Forest with Random Search</th>\n",
              "      <td>{'Random_forest__max_depth': 47, 'Random_fores...</td>\n",
              "      <td>0.869</td>\n",
              "      <td>{'Random_forest__max_depth': 47, 'Random_fores...</td>\n",
              "      <td>0.869</td>\n",
              "      <td>0.199</td>\n",
              "      <td>859</td>\n",
              "      <td>644</td>\n",
              "    </tr>\n",
              "    <tr>\n",
              "      <th>XGBoost with Random Search</th>\n",
              "      <td>{'XGBoost__max_depth': 21, 'XGBoost__max_leaf_...</td>\n",
              "      <td>0.866</td>\n",
              "      <td>{'XGBoost__max_depth': 21, 'XGBoost__max_leaf_...</td>\n",
              "      <td>0.866</td>\n",
              "      <td>0.169</td>\n",
              "      <td>913</td>\n",
              "      <td>648</td>\n",
              "    </tr>\n",
              "  </tbody>\n",
              "</table>\n",
              "</div>\n",
              "      <button class=\"colab-df-convert\" onclick=\"convertToInteractive('df-f91693c1-77f2-4176-b286-dd4144542705')\"\n",
              "              title=\"Convert this dataframe to an interactive table.\"\n",
              "              style=\"display:none;\">\n",
              "        \n",
              "  <svg xmlns=\"http://www.w3.org/2000/svg\" height=\"24px\"viewBox=\"0 0 24 24\"\n",
              "       width=\"24px\">\n",
              "    <path d=\"M0 0h24v24H0V0z\" fill=\"none\"/>\n",
              "    <path d=\"M18.56 5.44l.94 2.06.94-2.06 2.06-.94-2.06-.94-.94-2.06-.94 2.06-2.06.94zm-11 1L8.5 8.5l.94-2.06 2.06-.94-2.06-.94L8.5 2.5l-.94 2.06-2.06.94zm10 10l.94 2.06.94-2.06 2.06-.94-2.06-.94-.94-2.06-.94 2.06-2.06.94z\"/><path d=\"M17.41 7.96l-1.37-1.37c-.4-.4-.92-.59-1.43-.59-.52 0-1.04.2-1.43.59L10.3 9.45l-7.72 7.72c-.78.78-.78 2.05 0 2.83L4 21.41c.39.39.9.59 1.41.59.51 0 1.02-.2 1.41-.59l7.78-7.78 2.81-2.81c.8-.78.8-2.07 0-2.86zM5.41 20L4 18.59l7.72-7.72 1.47 1.35L5.41 20z\"/>\n",
              "  </svg>\n",
              "      </button>\n",
              "      \n",
              "  <style>\n",
              "    .colab-df-container {\n",
              "      display:flex;\n",
              "      flex-wrap:wrap;\n",
              "      gap: 12px;\n",
              "    }\n",
              "\n",
              "    .colab-df-convert {\n",
              "      background-color: #E8F0FE;\n",
              "      border: none;\n",
              "      border-radius: 50%;\n",
              "      cursor: pointer;\n",
              "      display: none;\n",
              "      fill: #1967D2;\n",
              "      height: 32px;\n",
              "      padding: 0 0 0 0;\n",
              "      width: 32px;\n",
              "    }\n",
              "\n",
              "    .colab-df-convert:hover {\n",
              "      background-color: #E2EBFA;\n",
              "      box-shadow: 0px 1px 2px rgba(60, 64, 67, 0.3), 0px 1px 3px 1px rgba(60, 64, 67, 0.15);\n",
              "      fill: #174EA6;\n",
              "    }\n",
              "\n",
              "    [theme=dark] .colab-df-convert {\n",
              "      background-color: #3B4455;\n",
              "      fill: #D2E3FC;\n",
              "    }\n",
              "\n",
              "    [theme=dark] .colab-df-convert:hover {\n",
              "      background-color: #434B5C;\n",
              "      box-shadow: 0px 1px 3px 1px rgba(0, 0, 0, 0.15);\n",
              "      filter: drop-shadow(0px 1px 2px rgba(0, 0, 0, 0.3));\n",
              "      fill: #FFFFFF;\n",
              "    }\n",
              "  </style>\n",
              "\n",
              "      <script>\n",
              "        const buttonEl =\n",
              "          document.querySelector('#df-f91693c1-77f2-4176-b286-dd4144542705 button.colab-df-convert');\n",
              "        buttonEl.style.display =\n",
              "          google.colab.kernel.accessAllowed ? 'block' : 'none';\n",
              "\n",
              "        async function convertToInteractive(key) {\n",
              "          const element = document.querySelector('#df-f91693c1-77f2-4176-b286-dd4144542705');\n",
              "          const dataTable =\n",
              "            await google.colab.kernel.invokeFunction('convertToInteractive',\n",
              "                                                     [key], {});\n",
              "          if (!dataTable) return;\n",
              "\n",
              "          const docLinkHtml = 'Like what you see? Visit the ' +\n",
              "            '<a target=\"_blank\" href=https://colab.research.google.com/notebooks/data_table.ipynb>data table notebook</a>'\n",
              "            + ' to learn more about interactive tables.';\n",
              "          element.innerHTML = '';\n",
              "          dataTable['output_type'] = 'display_data';\n",
              "          await google.colab.output.renderOutput(dataTable, element);\n",
              "          const docLink = document.createElement('div');\n",
              "          docLink.innerHTML = docLinkHtml;\n",
              "          element.appendChild(docLink);\n",
              "        }\n",
              "      </script>\n",
              "    </div>\n",
              "  </div>\n",
              "  "
            ]
          },
          "metadata": {},
          "execution_count": 100
        }
      ]
    },
    {
      "cell_type": "markdown",
      "source": [
        "|index|Best Parameters|Score|CM-Best Parameters|CM-Score|Threshold|Cost Before|Cost After|\n",
        "|---|---|---|---|---|---|---|---|\n",
        "|Random Forest with Halving Grid Search|\\{'Random\\_forest\\_\\_max\\_depth': 10, 'Random\\_forest\\_\\_min\\_samples\\_leaf': 8\\}|0\\.866|\\{'Random\\_forest\\_\\_max\\_depth': 10, 'Random\\_forest\\_\\_min\\_samples\\_leaf': 6\\}|0\\.868|0\\.24|862|650|\n",
        "|Random Forest with Random Search|\\{'Random\\_forest\\_\\_max\\_depth': 47, 'Random\\_forest\\_\\_min\\_samples\\_leaf': 6\\}|0\\.869|\\{'Random\\_forest\\_\\_max\\_depth': 47, 'Random\\_forest\\_\\_min\\_samples\\_leaf': 6\\}|0\\.869|0\\.199|859|644|\n",
        "|XGBoost with Random Search|\\{'XGBoost\\_\\_max\\_depth': 21, 'XGBoost\\_\\_max\\_leaf\\_nodes': 15\\}|0\\.866|\\{'XGBoost\\_\\_max\\_depth': 21, 'XGBoost\\_\\_max\\_leaf\\_nodes': 15\\}|0\\.866|0\\.169|913|648|"
      ],
      "metadata": {
        "id": "qcZnsTKqrh6O"
      }
    },
    {
      "cell_type": "markdown",
      "source": [
        "##**9. Conclusion**"
      ],
      "metadata": {
        "id": "yY5LKhE1YBRE"
      }
    },
    {
      "cell_type": "markdown",
      "source": [
        "We would make the following suggestions to SBA:\n",
        "<br> \n",
        "1. After model comparison,  we have located that **Decision Tree, Voting, Stacking, and Random Forest** have been the best classifiers that achieve ***roughly the same*** balanced accuracy score in charge-off prediction.\n",
        "2. If we need to pick one for any lending entity, we would choose **Random Forest Classifier** for producing the highest score **(0.87)**.\n",
        "3. When locating the best hyper-parameters for the random forest, the result is {'max_depth': 47, 'min_samples_leaf': 6}, although it did not improve the accuracy score too much **(0.869)**.  \n",
        "4. When applying cost matrix, the accuracy score did not change either, we would recommend banks to focus on how to **balance false positives and false negatives** for a better result. \n",
        "5. In threshold tuning, it is noticeable that the thresholds are around **0.20**, it might suggest that banks should be **less tolerant** of any “red flags” when it comes to borrowers defaulting on their loans. "
      ],
      "metadata": {
        "id": "fgxBnO22FfN2"
      }
    },
    {
      "cell_type": "markdown",
      "source": [
        "##**10. Ending Note**"
      ],
      "metadata": {
        "id": "2tf40Wi0GqA2"
      }
    },
    {
      "cell_type": "markdown",
      "source": [
        "###**10.1 Unselected Model**\n",
        "\n",
        "1. Linear Regression: Ideally we could have done a linear regression analysis on Charge-off Amount, however, since we are doing a classification analysis in this project, linear regression could be done at another time.\n",
        "2. Class balancing Strategies: The the number of 1 values in our y variable, compared to values of 0, is sufficient, so different balancing strategies were not applied."
      ],
      "metadata": {
        "id": "N9S_62CNHF3c"
      }
    },
    {
      "cell_type": "markdown",
      "source": [
        "###**10.2 Citations**\n",
        "\n",
        "Here are some citations for information included in the notebook.\n",
        "\n",
        "1. United States Census Bureau Annnual Report: https://www.census.gov/library/stories/2022/05/how-small-businesses-impact-economy.html#:~:text=Based%20on%20the%20SBA%20definition,according%20to%20County%20Business%20Patterns.\n",
        "\n",
        "2. NerdWallet Article: https://www.nerdwallet.com/article/small-business/study-1-in-6-sba-small-business-administration-loans-fail\n",
        "\n",
        "3. Federal Reserve: https://www.fedsmallbusiness.org/\n"
      ],
      "metadata": {
        "id": "DfD4pPm1IfHX"
      }
    },
    {
      "cell_type": "code",
      "source": [],
      "metadata": {
        "id": "VSDi1dN4HJej"
      },
      "execution_count": null,
      "outputs": []
    }
  ]
}